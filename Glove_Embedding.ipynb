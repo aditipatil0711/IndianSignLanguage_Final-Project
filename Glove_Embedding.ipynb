{
  "nbformat": 4,
  "nbformat_minor": 0,
  "metadata": {
    "colab": {
      "name": "Glove_Embedding.ipynb",
      "provenance": []
    },
    "kernelspec": {
      "name": "python3",
      "display_name": "Python 3"
    }
  },
  "cells": [
    {
      "cell_type": "code",
      "metadata": {
        "id": "lid1doBzJyui",
        "colab": {
          "base_uri": "https://localhost:8080/"
        },
        "outputId": "c085d874-bfc4-4b01-fe51-8ff80cf8b832"
      },
      "source": [
        "!pip install nlglib\n",
        "import nlglib\n",
        "from nlglib.realisation.simplenlg.realisation import Realiser\n",
        "from nlglib.microplanning import *\n",
        "realise_en = Realiser(host='nlg.kutlak.info', port=40000)\n",
        "\n",
        "p = Clause(NP('jackets'), VP('achieve','highest sales'))\n",
        "p['TENSE'] = 'PAST'\n",
        "q = Clause(NP('sweaters'), VP('exhibit','lowest sales'))\n",
        "q['TENSE'] = 'PAST'\n",
        "print(realise_en(p))\n",
        "print(realise_en(q))\n",
        "r=Clause(realise_en(p)[:-1],'while',realise_en(q))\n",
        "print(r)\n",
        "\n",
        "\n"
      ],
      "execution_count": null,
      "outputs": [
        {
          "output_type": "stream",
          "text": [
            "Collecting nlglib\n",
            "\u001b[?25l  Downloading https://files.pythonhosted.org/packages/d2/bd/e3572164a3aaa806019c6f51c53d036d256b7c8fc03a880d3a2e073675cd/nlglib-0.2.1-py3-none-any.whl (3.3MB)\n",
            "\u001b[K     |████████████████████████████████| 3.3MB 5.8MB/s \n",
            "\u001b[?25hRequirement already satisfied: nltk in /usr/local/lib/python3.7/dist-packages (from nlglib) (3.2.5)\n",
            "Requirement already satisfied: six in /usr/local/lib/python3.7/dist-packages (from nltk->nlglib) (1.15.0)\n",
            "Installing collected packages: nlglib\n",
            "Successfully installed nlglib-0.2.1\n",
            "Jackets achieved highest sales.\n",
            "Sweaters exhibited lowest sales.\n",
            "Jackets achieved highest sales while Sweaters exhibited lowest sales.\n"
          ],
          "name": "stdout"
        }
      ]
    },
    {
      "cell_type": "code",
      "metadata": {
        "id": "W0OxMuImmDEY",
        "colab": {
          "base_uri": "https://localhost:8080/"
        },
        "outputId": "fec0944c-7d2e-4269-8fa2-0025f6712207"
      },
      "source": [
        "!pip install spacy\r\n",
        "import spacy\r\n",
        "nlp = spacy.load('en')\r\n",
        "sent = \"He went to hospital\"\r\n",
        "doc=nlp(sent)\r\n",
        "\r\n",
        "sub_toks = [tok for tok in doc if (tok.dep_ == \"nsubj\") ]\r\n",
        "\r\n",
        "print(sub_toks) "
      ],
      "execution_count": null,
      "outputs": [
        {
          "output_type": "stream",
          "text": [
            "Requirement already satisfied: spacy in /usr/local/lib/python3.7/dist-packages (2.2.4)\n",
            "Requirement already satisfied: numpy>=1.15.0 in /usr/local/lib/python3.7/dist-packages (from spacy) (1.19.5)\n",
            "Requirement already satisfied: srsly<1.1.0,>=1.0.2 in /usr/local/lib/python3.7/dist-packages (from spacy) (1.0.5)\n",
            "Requirement already satisfied: blis<0.5.0,>=0.4.0 in /usr/local/lib/python3.7/dist-packages (from spacy) (0.4.1)\n",
            "Requirement already satisfied: preshed<3.1.0,>=3.0.2 in /usr/local/lib/python3.7/dist-packages (from spacy) (3.0.5)\n",
            "Requirement already satisfied: setuptools in /usr/local/lib/python3.7/dist-packages (from spacy) (54.0.0)\n",
            "Requirement already satisfied: murmurhash<1.1.0,>=0.28.0 in /usr/local/lib/python3.7/dist-packages (from spacy) (1.0.5)\n",
            "Requirement already satisfied: thinc==7.4.0 in /usr/local/lib/python3.7/dist-packages (from spacy) (7.4.0)\n",
            "Requirement already satisfied: cymem<2.1.0,>=2.0.2 in /usr/local/lib/python3.7/dist-packages (from spacy) (2.0.5)\n",
            "Requirement already satisfied: catalogue<1.1.0,>=0.0.7 in /usr/local/lib/python3.7/dist-packages (from spacy) (1.0.0)\n",
            "Requirement already satisfied: tqdm<5.0.0,>=4.38.0 in /usr/local/lib/python3.7/dist-packages (from spacy) (4.41.1)\n",
            "Requirement already satisfied: plac<1.2.0,>=0.9.6 in /usr/local/lib/python3.7/dist-packages (from spacy) (1.1.3)\n",
            "Requirement already satisfied: wasabi<1.1.0,>=0.4.0 in /usr/local/lib/python3.7/dist-packages (from spacy) (0.8.2)\n",
            "Requirement already satisfied: requests<3.0.0,>=2.13.0 in /usr/local/lib/python3.7/dist-packages (from spacy) (2.23.0)\n",
            "Requirement already satisfied: importlib-metadata>=0.20; python_version < \"3.8\" in /usr/local/lib/python3.7/dist-packages (from catalogue<1.1.0,>=0.0.7->spacy) (3.7.0)\n",
            "Requirement already satisfied: certifi>=2017.4.17 in /usr/local/lib/python3.7/dist-packages (from requests<3.0.0,>=2.13.0->spacy) (2020.12.5)\n",
            "Requirement already satisfied: chardet<4,>=3.0.2 in /usr/local/lib/python3.7/dist-packages (from requests<3.0.0,>=2.13.0->spacy) (3.0.4)\n",
            "Requirement already satisfied: idna<3,>=2.5 in /usr/local/lib/python3.7/dist-packages (from requests<3.0.0,>=2.13.0->spacy) (2.10)\n",
            "Requirement already satisfied: urllib3!=1.25.0,!=1.25.1,<1.26,>=1.21.1 in /usr/local/lib/python3.7/dist-packages (from requests<3.0.0,>=2.13.0->spacy) (1.24.3)\n",
            "Requirement already satisfied: zipp>=0.5 in /usr/local/lib/python3.7/dist-packages (from importlib-metadata>=0.20; python_version < \"3.8\"->catalogue<1.1.0,>=0.0.7->spacy) (3.4.1)\n",
            "Requirement already satisfied: typing-extensions>=3.6.4; python_version < \"3.8\" in /usr/local/lib/python3.7/dist-packages (from importlib-metadata>=0.20; python_version < \"3.8\"->catalogue<1.1.0,>=0.0.7->spacy) (3.7.4.3)\n",
            "[He]\n"
          ],
          "name": "stdout"
        }
      ]
    },
    {
      "cell_type": "code",
      "metadata": {
        "colab": {
          "base_uri": "https://localhost:8080/"
        },
        "id": "3IpSDtK0sAtm",
        "outputId": "7cccbfa0-087d-46ac-d19d-1ea84064bb66"
      },
      "source": [
        "!pip install glove_python\r\n",
        "import nltk \r\n",
        "nltk.download('stopwords')\r\n",
        "nltk.download ('punkt')\r\n",
        "nltk.download('wordnet')"
      ],
      "execution_count": null,
      "outputs": [
        {
          "output_type": "stream",
          "text": [
            "Collecting glove_python\n",
            "\u001b[?25l  Downloading https://files.pythonhosted.org/packages/3e/79/7e7e548dd9dcb741935d031117f4bed133276c2a047aadad42f1552d1771/glove_python-0.1.0.tar.gz (263kB)\n",
            "\r\u001b[K     |█▎                              | 10kB 17.5MB/s eta 0:00:01\r\u001b[K     |██▌                             | 20kB 16.8MB/s eta 0:00:01\r\u001b[K     |███▊                            | 30kB 10.6MB/s eta 0:00:01\r\u001b[K     |█████                           | 40kB 9.0MB/s eta 0:00:01\r\u001b[K     |██████▎                         | 51kB 8.0MB/s eta 0:00:01\r\u001b[K     |███████▌                        | 61kB 7.1MB/s eta 0:00:01\r\u001b[K     |████████▊                       | 71kB 7.6MB/s eta 0:00:01\r\u001b[K     |██████████                      | 81kB 8.0MB/s eta 0:00:01\r\u001b[K     |███████████▏                    | 92kB 7.9MB/s eta 0:00:01\r\u001b[K     |████████████▌                   | 102kB 7.5MB/s eta 0:00:01\r\u001b[K     |█████████████▊                  | 112kB 7.5MB/s eta 0:00:01\r\u001b[K     |███████████████                 | 122kB 7.5MB/s eta 0:00:01\r\u001b[K     |████████████████▏               | 133kB 7.5MB/s eta 0:00:01\r\u001b[K     |█████████████████▍              | 143kB 7.5MB/s eta 0:00:01\r\u001b[K     |██████████████████▊             | 153kB 7.5MB/s eta 0:00:01\r\u001b[K     |████████████████████            | 163kB 7.5MB/s eta 0:00:01\r\u001b[K     |█████████████████████▏          | 174kB 7.5MB/s eta 0:00:01\r\u001b[K     |██████████████████████▍         | 184kB 7.5MB/s eta 0:00:01\r\u001b[K     |███████████████████████▋        | 194kB 7.5MB/s eta 0:00:01\r\u001b[K     |█████████████████████████       | 204kB 7.5MB/s eta 0:00:01\r\u001b[K     |██████████████████████████▏     | 215kB 7.5MB/s eta 0:00:01\r\u001b[K     |███████████████████████████▍    | 225kB 7.5MB/s eta 0:00:01\r\u001b[K     |████████████████████████████▋   | 235kB 7.5MB/s eta 0:00:01\r\u001b[K     |█████████████████████████████▉  | 245kB 7.5MB/s eta 0:00:01\r\u001b[K     |███████████████████████████████▏| 256kB 7.5MB/s eta 0:00:01\r\u001b[K     |████████████████████████████████| 266kB 7.5MB/s \n",
            "\u001b[?25hRequirement already satisfied: numpy in /usr/local/lib/python3.7/dist-packages (from glove_python) (1.19.5)\n",
            "Requirement already satisfied: scipy in /usr/local/lib/python3.7/dist-packages (from glove_python) (1.4.1)\n",
            "Building wheels for collected packages: glove-python\n",
            "  Building wheel for glove-python (setup.py) ... \u001b[?25lerror\n",
            "\u001b[31m  ERROR: Failed building wheel for glove-python\u001b[0m\n",
            "\u001b[?25h  Running setup.py clean for glove-python\n",
            "\u001b[31m  ERROR: Failed cleaning build dir for glove-python\u001b[0m\n",
            "Failed to build glove-python\n",
            "Installing collected packages: glove-python\n",
            "    Running setup.py install for glove-python ... \u001b[?25l\u001b[?25herror\n",
            "\u001b[31mERROR: Command errored out with exit status 1: /usr/bin/python3 -u -c 'import sys, setuptools, tokenize; sys.argv[0] = '\"'\"'/tmp/pip-install-yoppoafz/glove-python/setup.py'\"'\"'; __file__='\"'\"'/tmp/pip-install-yoppoafz/glove-python/setup.py'\"'\"';f=getattr(tokenize, '\"'\"'open'\"'\"', open)(__file__);code=f.read().replace('\"'\"'\\r\\n'\"'\"', '\"'\"'\\n'\"'\"');f.close();exec(compile(code, __file__, '\"'\"'exec'\"'\"'))' install --record /tmp/pip-record-bepyb8lb/install-record.txt --single-version-externally-managed --compile Check the logs for full command output.\u001b[0m\n",
            "[nltk_data] Downloading package stopwords to /root/nltk_data...\n",
            "[nltk_data]   Unzipping corpora/stopwords.zip.\n",
            "[nltk_data] Downloading package punkt to /root/nltk_data...\n",
            "[nltk_data]   Unzipping tokenizers/punkt.zip.\n",
            "[nltk_data] Downloading package wordnet to /root/nltk_data...\n",
            "[nltk_data]   Unzipping corpora/wordnet.zip.\n"
          ],
          "name": "stdout"
        },
        {
          "output_type": "execute_result",
          "data": {
            "text/plain": [
              "True"
            ]
          },
          "metadata": {
            "tags": []
          },
          "execution_count": 2
        }
      ]
    },
    {
      "cell_type": "code",
      "metadata": {
        "id": "PGSrpt8QsU6-"
      },
      "source": [
        "lines=  [\"Hello this is a tutorial to convert word to integer\" , \"It is a beautiful day\" , \"Jack is going to office\"]"
      ],
      "execution_count": null,
      "outputs": []
    },
    {
      "cell_type": "code",
      "metadata": {
        "colab": {
          "base_uri": "https://localhost:8080/"
        },
        "id": "zwFMYPpusW2u",
        "outputId": "b532bcbc-4189-459f-e8a1-eeb097709c56"
      },
      "source": [
        "from nltk.tokenize import sent_tokenize, word_tokenize\r\n",
        "word_tokens=[]\r\n",
        "i=0\r\n",
        "for line in lines:\r\n",
        " words = word_tokenize(line)\r\n",
        " word_tokens.insert(i,words)\r\n",
        " i=i+1\r\n",
        "print (word_tokens)"
      ],
      "execution_count": null,
      "outputs": [
        {
          "output_type": "stream",
          "text": [
            "[['Hello', 'this', 'is', 'a', 'tutorial', 'to', 'convert', 'word', 'to', 'integer'], ['It', 'is', 'a', 'beautiful', 'day'], ['Jack', 'is', 'going', 'to', 'office']]\n"
          ],
          "name": "stdout"
        }
      ]
    },
    {
      "cell_type": "code",
      "metadata": {
        "colab": {
          "base_uri": "https://localhost:8080/"
        },
        "id": "jqVOKr1nscfE",
        "outputId": "ba8c9f67-f78b-4dfd-dd65-1e9fbb432463"
      },
      "source": [
        "from nltk.corpus import stopwords \r\n",
        "stop_words=stopwords.words('english') \r\n",
        "lines_without_stopwords=[] \r\n",
        "for line in lines: \r\n",
        "  stop_removed=[] \r\n",
        "for line in word_tokens:\r\n",
        "  for word in line: \r\n",
        "    if word not in stop_words: \r\n",
        "      stop_removed.append(word) \r\n",
        "print (stop_removed)"
      ],
      "execution_count": null,
      "outputs": [
        {
          "output_type": "stream",
          "text": [
            "['Hello', 'tutorial', 'convert', 'word', 'integer', 'It', 'beautiful', 'day', 'Jack', 'going', 'office']\n"
          ],
          "name": "stdout"
        }
      ]
    },
    {
      "cell_type": "code",
      "metadata": {
        "colab": {
          "base_uri": "https://localhost:8080/"
        },
        "id": "ADiP9OCCskj_",
        "outputId": "34bbbfc0-bd02-4cd2-8368-19cbc476920b"
      },
      "source": [
        "from nltk import WordNetLemmatizer  \r\n",
        "from nltk.stem import WordNetLemmatizer\r\n",
        "wordnet_lemmatizer = WordNetLemmatizer() \r\n",
        "lines_with_lemmas=[] #stop words contain the set of stop words \r\n",
        "for line in lines: \r\n",
        "  lem_line=[] \r\n",
        "for word in stop_removed: \r\n",
        "  lem_line.append(wordnet_lemmatizer.lemmatize(word)) \r\n",
        "string='' \r\n",
        "new_lines=','.join([str(i) for i in lem_line])\r\n",
        "c=[['Hello', 'tutorial', 'convert', 'word', 'integer', 'It', 'beautiful', 'day', 'Jack', 'going', 'office']]\r\n",
        "print (lem_line)\r\n",
        "print (new_lines)"
      ],
      "execution_count": null,
      "outputs": [
        {
          "output_type": "stream",
          "text": [
            "['Hello', 'tutorial', 'convert', 'word', 'integer', 'It', 'beautiful', 'day', 'Jack', 'going', 'office']\n",
            "Hello,tutorial,convert,word,integer,It,beautiful,day,Jack,going,office\n"
          ],
          "name": "stdout"
        }
      ]
    },
    {
      "cell_type": "code",
      "metadata": {
        "colab": {
          "base_uri": "https://localhost:8080/"
        },
        "id": "O-EhwFRWtKpF",
        "outputId": "aab05774-329b-4964-e775-5564a17c9ee8"
      },
      "source": [
        "#!pip install -U mittens\r\n",
        "!pip install glove-python-binary"
      ],
      "execution_count": null,
      "outputs": [
        {
          "output_type": "stream",
          "text": [
            "Collecting glove-python-binary\n",
            "\u001b[?25l  Downloading https://files.pythonhosted.org/packages/cc/11/d8510a80110f736822856db566341dd2e1e7c3af536f77e409a6c09e0c22/glove_python_binary-0.2.0-cp37-cp37m-manylinux1_x86_64.whl (948kB)\n",
            "\r\u001b[K     |▍                               | 10kB 17.3MB/s eta 0:00:01\r\u001b[K     |▊                               | 20kB 20.5MB/s eta 0:00:01\r\u001b[K     |█                               | 30kB 11.2MB/s eta 0:00:01\r\u001b[K     |█▍                              | 40kB 9.0MB/s eta 0:00:01\r\u001b[K     |█▊                              | 51kB 7.6MB/s eta 0:00:01\r\u001b[K     |██                              | 61kB 7.8MB/s eta 0:00:01\r\u001b[K     |██▍                             | 71kB 7.7MB/s eta 0:00:01\r\u001b[K     |██▊                             | 81kB 8.5MB/s eta 0:00:01\r\u001b[K     |███                             | 92kB 7.8MB/s eta 0:00:01\r\u001b[K     |███▌                            | 102kB 7.4MB/s eta 0:00:01\r\u001b[K     |███▉                            | 112kB 7.4MB/s eta 0:00:01\r\u001b[K     |████▏                           | 122kB 7.4MB/s eta 0:00:01\r\u001b[K     |████▌                           | 133kB 7.4MB/s eta 0:00:01\r\u001b[K     |████▉                           | 143kB 7.4MB/s eta 0:00:01\r\u001b[K     |█████▏                          | 153kB 7.4MB/s eta 0:00:01\r\u001b[K     |█████▌                          | 163kB 7.4MB/s eta 0:00:01\r\u001b[K     |█████▉                          | 174kB 7.4MB/s eta 0:00:01\r\u001b[K     |██████▏                         | 184kB 7.4MB/s eta 0:00:01\r\u001b[K     |██████▋                         | 194kB 7.4MB/s eta 0:00:01\r\u001b[K     |███████                         | 204kB 7.4MB/s eta 0:00:01\r\u001b[K     |███████▎                        | 215kB 7.4MB/s eta 0:00:01\r\u001b[K     |███████▋                        | 225kB 7.4MB/s eta 0:00:01\r\u001b[K     |████████                        | 235kB 7.4MB/s eta 0:00:01\r\u001b[K     |████████▎                       | 245kB 7.4MB/s eta 0:00:01\r\u001b[K     |████████▋                       | 256kB 7.4MB/s eta 0:00:01\r\u001b[K     |█████████                       | 266kB 7.4MB/s eta 0:00:01\r\u001b[K     |█████████▎                      | 276kB 7.4MB/s eta 0:00:01\r\u001b[K     |█████████▊                      | 286kB 7.4MB/s eta 0:00:01\r\u001b[K     |██████████                      | 296kB 7.4MB/s eta 0:00:01\r\u001b[K     |██████████▍                     | 307kB 7.4MB/s eta 0:00:01\r\u001b[K     |██████████▊                     | 317kB 7.4MB/s eta 0:00:01\r\u001b[K     |███████████                     | 327kB 7.4MB/s eta 0:00:01\r\u001b[K     |███████████▍                    | 337kB 7.4MB/s eta 0:00:01\r\u001b[K     |███████████▊                    | 348kB 7.4MB/s eta 0:00:01\r\u001b[K     |████████████                    | 358kB 7.4MB/s eta 0:00:01\r\u001b[K     |████████████▍                   | 368kB 7.4MB/s eta 0:00:01\r\u001b[K     |████████████▊                   | 378kB 7.4MB/s eta 0:00:01\r\u001b[K     |█████████████▏                  | 389kB 7.4MB/s eta 0:00:01\r\u001b[K     |█████████████▌                  | 399kB 7.4MB/s eta 0:00:01\r\u001b[K     |█████████████▉                  | 409kB 7.4MB/s eta 0:00:01\r\u001b[K     |██████████████▏                 | 419kB 7.4MB/s eta 0:00:01\r\u001b[K     |██████████████▌                 | 430kB 7.4MB/s eta 0:00:01\r\u001b[K     |██████████████▉                 | 440kB 7.4MB/s eta 0:00:01\r\u001b[K     |███████████████▏                | 450kB 7.4MB/s eta 0:00:01\r\u001b[K     |███████████████▌                | 460kB 7.4MB/s eta 0:00:01\r\u001b[K     |███████████████▉                | 471kB 7.4MB/s eta 0:00:01\r\u001b[K     |████████████████▎               | 481kB 7.4MB/s eta 0:00:01\r\u001b[K     |████████████████▋               | 491kB 7.4MB/s eta 0:00:01\r\u001b[K     |█████████████████               | 501kB 7.4MB/s eta 0:00:01\r\u001b[K     |█████████████████▎              | 512kB 7.4MB/s eta 0:00:01\r\u001b[K     |█████████████████▋              | 522kB 7.4MB/s eta 0:00:01\r\u001b[K     |██████████████████              | 532kB 7.4MB/s eta 0:00:01\r\u001b[K     |██████████████████▎             | 542kB 7.4MB/s eta 0:00:01\r\u001b[K     |██████████████████▋             | 552kB 7.4MB/s eta 0:00:01\r\u001b[K     |███████████████████             | 563kB 7.4MB/s eta 0:00:01\r\u001b[K     |███████████████████▍            | 573kB 7.4MB/s eta 0:00:01\r\u001b[K     |███████████████████▊            | 583kB 7.4MB/s eta 0:00:01\r\u001b[K     |████████████████████            | 593kB 7.4MB/s eta 0:00:01\r\u001b[K     |████████████████████▍           | 604kB 7.4MB/s eta 0:00:01\r\u001b[K     |████████████████████▊           | 614kB 7.4MB/s eta 0:00:01\r\u001b[K     |█████████████████████           | 624kB 7.4MB/s eta 0:00:01\r\u001b[K     |█████████████████████▍          | 634kB 7.4MB/s eta 0:00:01\r\u001b[K     |█████████████████████▊          | 645kB 7.4MB/s eta 0:00:01\r\u001b[K     |██████████████████████          | 655kB 7.4MB/s eta 0:00:01\r\u001b[K     |██████████████████████▌         | 665kB 7.4MB/s eta 0:00:01\r\u001b[K     |██████████████████████▉         | 675kB 7.4MB/s eta 0:00:01\r\u001b[K     |███████████████████████▏        | 686kB 7.4MB/s eta 0:00:01\r\u001b[K     |███████████████████████▌        | 696kB 7.4MB/s eta 0:00:01\r\u001b[K     |███████████████████████▉        | 706kB 7.4MB/s eta 0:00:01\r\u001b[K     |████████████████████████▏       | 716kB 7.4MB/s eta 0:00:01\r\u001b[K     |████████████████████████▌       | 727kB 7.4MB/s eta 0:00:01\r\u001b[K     |████████████████████████▉       | 737kB 7.4MB/s eta 0:00:01\r\u001b[K     |█████████████████████████▏      | 747kB 7.4MB/s eta 0:00:01\r\u001b[K     |█████████████████████████▌      | 757kB 7.4MB/s eta 0:00:01\r\u001b[K     |██████████████████████████      | 768kB 7.4MB/s eta 0:00:01\r\u001b[K     |██████████████████████████▎     | 778kB 7.4MB/s eta 0:00:01\r\u001b[K     |██████████████████████████▋     | 788kB 7.4MB/s eta 0:00:01\r\u001b[K     |███████████████████████████     | 798kB 7.4MB/s eta 0:00:01\r\u001b[K     |███████████████████████████▎    | 808kB 7.4MB/s eta 0:00:01\r\u001b[K     |███████████████████████████▋    | 819kB 7.4MB/s eta 0:00:01\r\u001b[K     |████████████████████████████    | 829kB 7.4MB/s eta 0:00:01\r\u001b[K     |████████████████████████████▎   | 839kB 7.4MB/s eta 0:00:01\r\u001b[K     |████████████████████████████▋   | 849kB 7.4MB/s eta 0:00:01\r\u001b[K     |█████████████████████████████   | 860kB 7.4MB/s eta 0:00:01\r\u001b[K     |█████████████████████████████▍  | 870kB 7.4MB/s eta 0:00:01\r\u001b[K     |█████████████████████████████▊  | 880kB 7.4MB/s eta 0:00:01\r\u001b[K     |██████████████████████████████  | 890kB 7.4MB/s eta 0:00:01\r\u001b[K     |██████████████████████████████▍ | 901kB 7.4MB/s eta 0:00:01\r\u001b[K     |██████████████████████████████▊ | 911kB 7.4MB/s eta 0:00:01\r\u001b[K     |███████████████████████████████ | 921kB 7.4MB/s eta 0:00:01\r\u001b[K     |███████████████████████████████▍| 931kB 7.4MB/s eta 0:00:01\r\u001b[K     |███████████████████████████████▊| 942kB 7.4MB/s eta 0:00:01\r\u001b[K     |████████████████████████████████| 952kB 7.4MB/s \n",
            "\u001b[?25hRequirement already satisfied: scipy in /usr/local/lib/python3.7/dist-packages (from glove-python-binary) (1.4.1)\n",
            "Requirement already satisfied: numpy in /usr/local/lib/python3.7/dist-packages (from glove-python-binary) (1.19.5)\n",
            "Installing collected packages: glove-python-binary\n",
            "Successfully installed glove-python-binary-0.2.0\n"
          ],
          "name": "stdout"
        }
      ]
    },
    {
      "cell_type": "code",
      "metadata": {
        "id": "ou9G1IxMtPff"
      },
      "source": [
        "#from mittens import GloVe"
      ],
      "execution_count": null,
      "outputs": []
    },
    {
      "cell_type": "code",
      "metadata": {
        "colab": {
          "base_uri": "https://localhost:8080/"
        },
        "id": "oKB27VwNsnxf",
        "outputId": "4ba7da41-5c98-4818-e351-eb7403dfd3b5"
      },
      "source": [
        "from glove import Corpus, Glove\r\n",
        "# creating a corpus object\r\n",
        "corpus = Corpus() \r\n",
        "#training the corpus to generate the co occurence matrix which is used in GloVe\r\n",
        "corpus.fit(c, window=10)\r\n",
        "#creating a Glove object which will use the matrix created in the above lines to create embeddings\r\n",
        "#We can set the learning rate as it uses Gradient Descent and number of components\r\n",
        "glove = Glove(no_components=5, learning_rate=0.05)\r\n",
        " \r\n",
        "glove.fit(corpus.matrix, epochs=30, no_threads=4, verbose=True)\r\n",
        "glove.add_dictionary(corpus.dictionary)\r\n",
        "glove.save('glove.model')"
      ],
      "execution_count": null,
      "outputs": [
        {
          "output_type": "stream",
          "text": [
            "Performing 30 training epochs with 4 threads\n",
            "Epoch 0\n",
            "Epoch 1\n",
            "Epoch 2\n",
            "Epoch 3\n",
            "Epoch 4\n",
            "Epoch 5\n",
            "Epoch 6\n",
            "Epoch 7\n",
            "Epoch 8\n",
            "Epoch 9\n",
            "Epoch 10\n",
            "Epoch 11\n",
            "Epoch 12\n",
            "Epoch 13\n",
            "Epoch 14\n",
            "Epoch 15\n",
            "Epoch 16\n",
            "Epoch 17\n",
            "Epoch 18\n",
            "Epoch 19\n",
            "Epoch 20\n",
            "Epoch 21\n",
            "Epoch 22\n",
            "Epoch 23\n",
            "Epoch 24\n",
            "Epoch 25\n",
            "Epoch 26\n",
            "Epoch 27\n",
            "Epoch 28\n",
            "Epoch 29\n"
          ],
          "name": "stdout"
        }
      ]
    },
    {
      "cell_type": "code",
      "metadata": {
        "colab": {
          "base_uri": "https://localhost:8080/"
        },
        "id": "vR4mc_umwbQj",
        "outputId": "b69e6bfc-5753-46c1-8c5a-67e9ff503f4c"
      },
      "source": [
        "print (glove.word_vectors[glove.dictionary['Hello']])"
      ],
      "execution_count": null,
      "outputs": [
        {
          "output_type": "stream",
          "text": [
            "[0.06052241 0.01320568 0.07916807 0.07600492 0.05946829]\n"
          ],
          "name": "stdout"
        }
      ]
    },
    {
      "cell_type": "markdown",
      "metadata": {
        "id": "PVKmbWfjmDps"
      },
      "source": [
        ""
      ]
    }
  ]
}