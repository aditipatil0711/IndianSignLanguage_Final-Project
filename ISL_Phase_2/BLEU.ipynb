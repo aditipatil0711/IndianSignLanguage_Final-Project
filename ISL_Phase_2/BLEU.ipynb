{
 "cells": [
  {
   "cell_type": "code",
   "execution_count": 1,
   "metadata": {},
   "outputs": [
    {
     "name": "stderr",
     "output_type": "stream",
     "text": [
      "[nltk_data] Downloading package punkt to\n",
      "[nltk_data]     C:\\Users\\prala\\AppData\\Roaming\\nltk_data...\n",
      "[nltk_data]   Package punkt is already up-to-date!\n",
      "ERROR: Invalid requirement: \"'sacrebleu'\"\n"
     ]
    }
   ],
   "source": [
    "import numpy as np                  # import numpy to make numerical computations.\n",
    "import nltk                         # import NLTK to handle simple NL tasks like tokenization.\n",
    "nltk.download(\"punkt\")\n",
    "from nltk.util import ngrams\n",
    "from collections import Counter     # import the Counter module.\n",
    "!pip3 install 'sacrebleu'           # install the sacrebleu package.\n",
    "import sacrebleu                    # import sacrebleu in order compute the BLEU score.\n",
    "import matplotlib.pyplot as plt     # import pyplot in order to make some illustrations."
   ]
  },
  {
   "cell_type": "code",
   "execution_count": 2,
   "metadata": {},
   "outputs": [
    {
     "data": {
      "image/png": "[encoded data removed]",
      "text/plain": [
       "<Figure size 432x288 with 1 Axes>"
      ]
     },
     "metadata": {
      "needs_background": "light"
     },
     "output_type": "display_data"
    }
   ],
   "source": [
    "ref_length = np.ones(100)\n",
    "can_length = np.linspace(1.5, 0.5, 100)\n",
    "x = ref_length / can_length\n",
    "y = 1 - x\n",
    "y = np.exp(y)\n",
    "y = np.minimum(np.ones(y.shape), y)\n",
    "\n",
    "# Code for in order to make the plot\n",
    "fig, ax = plt.subplots(1)\n",
    "lines = ax.plot(x, y)\n",
    "ax.set(\n",
    "    xlabel=\"Ratio of the length of the reference to the candidate text\",\n",
    "    ylabel=\"Brevity Penalty\",\n",
    ")\n",
    "plt.show()\n"
   ]
  },
  {
   "cell_type": "code",
   "execution_count": 3,
   "metadata": {},
   "outputs": [],
   "source": [
    "def brevity_penalty(reference, candidate):\n",
    "    ref_length = len(reference)\n",
    "    can_length = len(candidate)\n",
    "\n",
    "    # Brevity Penalty\n",
    "    if ref_length > can_length:\n",
    "        BP = 1\n",
    "    else:\n",
    "        penalty = 1 - (ref_length / can_length)\n",
    "        BP = np.exp(penalty)\n",
    "\n",
    "    return BP\n"
   ]
  },
  {
   "cell_type": "code",
   "execution_count": 4,
   "metadata": {},
   "outputs": [],
   "source": [
    "def clipped_precision(reference, candidate):\n",
    "    \"\"\"\n",
    "    Bleu score function given a original and a machine translated sentences\n",
    "    \"\"\"\n",
    "\n",
    "    clipped_precision_score = []\n",
    "\n",
    "    for i in range(1, 5):\n",
    "        candidate_n_gram = Counter(\n",
    "            ngrams(candidate, i)\n",
    "        )  # counts of n-gram n=1...4 tokens for the candidate\n",
    "        reference_n_gram = Counter(\n",
    "            ngrams(reference, i)\n",
    "        )  # counts of n-gram n=1...4 tokens for the reference\n",
    "\n",
    "        c = sum(\n",
    "            reference_n_gram.values()\n",
    "        )  # sum of the values of the reference the denominator in the precision formula\n",
    "\n",
    "        for j in reference_n_gram:  # for every n_gram token in the reference\n",
    "            if j in candidate_n_gram:  # check if it is in the candidate n-gram\n",
    "\n",
    "                if (\n",
    "                    reference_n_gram[j] > candidate_n_gram[j]\n",
    "                ):  # if the count of the reference n-gram is bigger\n",
    "                    # than the corresponding count in the candidate n-gram\n",
    "                    reference_n_gram[j] = candidate_n_gram[\n",
    "                        j\n",
    "                    ]  # then set the count of the reference n-gram to be equal\n",
    "                    # to the count of the candidate n-gram\n",
    "            else:\n",
    "\n",
    "                reference_n_gram[j] = 0  # else reference n-gram = 0\n",
    "\n",
    "        clipped_precision_score.append(sum(reference_n_gram.values()) / c)\n",
    "\n",
    "    weights = [0.25] * 4\n",
    "\n",
    "    s = (w_i * np.log(p_i) for w_i, p_i in zip(weights, clipped_precision_score))\n",
    "    s = np.exp(np.sum(s))\n",
    "    return s"
   ]
  },
  {
   "cell_type": "code",
   "execution_count": 5,
   "metadata": {},
   "outputs": [],
   "source": [
    "def bleu_score(reference, candidate):\n",
    "    BP = brevity_penalty(reference, candidate)\n",
    "    precision = clipped_precision(reference, candidate)\n",
    "    return BP * precision"
   ]
  },
  {
   "cell_type": "code",
   "execution_count": 6,
   "metadata": {},
   "outputs": [
    {
     "name": "stderr",
     "output_type": "stream",
     "text": [
      "<ipython-input-6-6a52a265018c>:2: DeprecationWarning: 'U' mode is deprecated\n",
      "  wmt19news_src = open(\"src.txt\", \"rU\")\n",
      "<ipython-input-6-6a52a265018c>:5: DeprecationWarning: 'U' mode is deprecated\n",
      "  wmt19news_ref = open(\"ref.txt\", \"rU\")\n",
      "<ipython-input-6-6a52a265018c>:8: DeprecationWarning: 'U' mode is deprecated\n",
      "  wmt19news_can = open(\"predict.txt\", \"rU\")\n"
     ]
    }
   ],
   "source": [
    "# Loading the raw data\n",
    "wmt19news_src = open(\"src.txt\", \"rU\")\n",
    "wmt19news_src_1 = wmt19news_src.read()\n",
    "wmt19news_src.close()\n",
    "wmt19news_ref = open(\"ref.txt\", \"rU\")\n",
    "wmt19news_ref_1 = wmt19news_ref.read()\n",
    "wmt19news_ref.close()\n",
    "wmt19news_can = open(\"predict.txt\", \"rU\")\n",
    "wmt19news_can_1 = wmt19news_can.read()\n",
    "wmt19news_can.close()\n",
    "\n",
    "# Tokenizing the raw data\n",
    "tokenized_corpus_src = nltk.word_tokenize(wmt19news_src_1.lower())\n",
    "tokenized_corpus_ref = nltk.word_tokenize(wmt19news_ref_1.lower())\n",
    "tokenized_corpus_cand = nltk.word_tokenize(wmt19news_can_1.lower())"
   ]
  },
  {
   "cell_type": "code",
   "execution_count": 10,
   "metadata": {},
   "outputs": [
    {
     "name": "stdout",
     "output_type": "stream",
     "text": [
      "ISL source text:\n",
      "\n",
      "\n",
      "good morning\n",
      "bank where\n",
      "i sing look me\n",
      "nine morning\n",
      "Food want\n",
      "Food want\n",
      "I understand\n",
      "I understand before\n",
      "I understand not\n",
      "you go day now where\n",
      "iphone seven zero thousand\n",
      " -> ['good', 'morning', 'bank', 'where', 'i', 'sing', 'look', 'me', 'nine', 'morning', 'food', 'want', 'food', 'want', 'i', 'understand', 'i', 'understand', 'before', 'i', 'understand', 'not', 'you', 'go', 'day', 'now', 'where', 'iphone', 'seven', 'zero']\n",
      "\n",
      "\n",
      "English reference translation:\n",
      "\n",
      "\n",
      "Good morning\n",
      "Where is the bank? \n",
      "Look at me singing!\n",
      "It is 9 in the morning.\n",
      "I want food.\n",
      "I am hungry.\n",
      "I am understanding.\n",
      "I understood.\n",
      "I am not understanding.\n",
      "where are you going today?\n",
      "This iphone costs seventy thous -> ['good', 'morning', 'where', 'is', 'the', 'bank', '?', 'look', 'at', 'me', 'singing', '!', 'it', 'is', '9', 'in', 'the', 'morning', '.', 'i', 'want', 'food', '.', 'i', 'am', 'hungry', '.', 'i', 'am', 'understanding', '.', 'i', 'understood', '.', 'i']\n",
      "\n",
      "\n",
      "English machine translation:\n",
      "\n",
      "\n",
      "it is in the afternoon\n",
      "where is the bank\n",
      "look at me singing !\n",
      "i am hurt\n",
      "i want food\n",
      "i want food\n",
      "i understand\n",
      "i do not understand\n",
      "i was painter\n",
      "where are you going today?\n",
      "i like blue\n",
      "i am really worie -> ['it', 'is', 'in', 'the', 'afternoon', 'where', 'is', 'the', 'bank', 'look', 'at', 'me', 'singing', '!', 'i', 'am', 'hurt', 'i', 'want', 'food', 'i', 'want', 'food', 'i', 'understand', 'i', 'do', 'not', 'understand']\n"
     ]
    }
   ],
   "source": [
    "print(\"ISL source text:\")\n",
    "print(\"\\n\")\n",
    "print(f\"{wmt19news_src_1[0:170]} -> {tokenized_corpus_src[0:30]}\")\n",
    "print(\"\\n\")\n",
    "print(\"English reference translation:\")\n",
    "print(\"\\n\")\n",
    "print(f\"{wmt19news_ref_1[0:219]} -> {tokenized_corpus_ref[0:35]}\")\n",
    "print(\"\\n\")\n",
    "print(\"English machine translation:\")\n",
    "print(\"\\n\")\n",
    "print(f\"{wmt19news_can_1[0:199]} -> {tokenized_corpus_cand[0:29]}\")"
   ]
  },
  {
   "cell_type": "code",
   "execution_count": 11,
   "metadata": {},
   "outputs": [
    {
     "name": "stdout",
     "output_type": "stream",
     "text": [
      "Results reference versus candidate 1 our own BLEU implementation:  31.5\n"
     ]
    },
    {
     "name": "stderr",
     "output_type": "stream",
     "text": [
      "<ipython-input-4-e8e9ddf8de19>:40: DeprecationWarning: Calling np.sum(generator) is deprecated, and in the future will give a different result. Use np.sum(np.fromiter(generator)) or the python sum builtin instead.\n",
      "  s = np.exp(np.sum(s))\n"
     ]
    }
   ],
   "source": [
    "print(\n",
    "    \"Results reference versus candidate 1 our own BLEU implementation: \",\n",
    "    round(bleu_score(tokenized_corpus_ref, tokenized_corpus_cand) * 100, 1),\n",
    ")"
   ]
  },
  {
   "cell_type": "code",
   "execution_count": 12,
   "metadata": {},
   "outputs": [
    {
     "name": "stdout",
     "output_type": "stream",
     "text": [
      "Results reference versus candidate 1 sacrebleu library BLEU:  20.6\n"
     ]
    }
   ],
   "source": [
    "print(\n",
    "    \"Results reference versus candidate 1 sacrebleu library BLEU: \",\n",
    "    round(sacrebleu.corpus_bleu(wmt19news_ref_1, wmt19news_can_1).score, 1),\n",
    ")"
   ]
  },
  {
   "cell_type": "code",
   "execution_count": null,
   "metadata": {},
   "outputs": [],
   "source": []
  }
 ],
 "metadata": {
  "kernelspec": {
   "display_name": "Python 3",
   "language": "python",
   "name": "python3"
  },
  "language_info": {
   "codemirror_mode": {
    "name": "ipython",
    "version": 3
   },
   "file_extension": ".py",
   "mimetype": "text/x-python",
   "name": "python",
   "nbconvert_exporter": "python",
   "pygments_lexer": "ipython3",
   "version": "3.8.5"
  }
 },
 "nbformat": 4,
 "nbformat_minor": 4
}
