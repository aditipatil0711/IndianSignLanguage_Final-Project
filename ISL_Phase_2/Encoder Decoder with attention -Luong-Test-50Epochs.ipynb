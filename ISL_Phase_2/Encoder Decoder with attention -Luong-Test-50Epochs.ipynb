{
 "cells": [
  {
   "cell_type": "markdown",
   "metadata": {},
   "source": [
    "Import Libraries"
   ]
  },
  {
   "cell_type": "code",
   "execution_count": 1,
   "metadata": {},
   "outputs": [],
   "source": [
    "from __future__ import absolute_import, division, print_function, unicode_literals\n",
    "\n",
    "try:\n",
    "  # %tensorflow_version only exists in Colab.\n",
    "  %tensorflow_version 2.x\n",
    "except Exception:\n",
    "    pass\n",
    "import tensorflow as tf\n",
    "\n",
    "import matplotlib.pyplot as plt\n",
    "import matplotlib.ticker as ticker\n",
    "from sklearn.model_selection import train_test_split\n",
    "import pandas as pd\n",
    "import unicodedata\n",
    "import re\n",
    "import numpy as np\n",
    "import os\n",
    "import io\n",
    "import time\n",
    "from string import digits"
   ]
  },
  {
   "cell_type": "markdown",
   "metadata": {},
   "source": [
    "Load Dataset into data_path variable"
   ]
  },
  {
   "cell_type": "code",
   "execution_count": 2,
   "metadata": {},
   "outputs": [],
   "source": [
    "data_path = \"islcorpus5.csv\""
   ]
  },
  {
   "cell_type": "markdown",
   "metadata": {},
   "source": [
    "Read lines"
   ]
  },
  {
   "cell_type": "code",
   "execution_count": 3,
   "metadata": {},
   "outputs": [
    {
     "data": {
      "text/html": [
       "<div>\n",
       "<style scoped>\n",
       "    .dataframe tbody tr th:only-of-type {\n",
       "        vertical-align: middle;\n",
       "    }\n",
       "\n",
       "    .dataframe tbody tr th {\n",
       "        vertical-align: top;\n",
       "    }\n",
       "\n",
       "    .dataframe thead th {\n",
       "        text-align: right;\n",
       "    }\n",
       "</style>\n",
       "<table border=\"1\" class=\"dataframe\">\n",
       "  <thead>\n",
       "    <tr style=\"text-align: right;\">\n",
       "      <th></th>\n",
       "      <th>Input</th>\n",
       "      <th>Output</th>\n",
       "    </tr>\n",
       "  </thead>\n",
       "  <tbody>\n",
       "    <tr>\n",
       "      <th>222</th>\n",
       "      <td>you fine</td>\n",
       "      <td>Are you fine?</td>\n",
       "    </tr>\n",
       "    <tr>\n",
       "      <th>66</th>\n",
       "      <td>Ornament 5 lakh</td>\n",
       "      <td>This ornament is of 5 lakhs</td>\n",
       "    </tr>\n",
       "    <tr>\n",
       "      <th>317</th>\n",
       "      <td>Today date what</td>\n",
       "      <td>What is today's date ?</td>\n",
       "    </tr>\n",
       "    <tr>\n",
       "      <th>226</th>\n",
       "      <td>I go school before</td>\n",
       "      <td>I went to school</td>\n",
       "    </tr>\n",
       "    <tr>\n",
       "      <th>8</th>\n",
       "      <td>flower beautiful</td>\n",
       "      <td>This flower is beautiful</td>\n",
       "    </tr>\n",
       "  </tbody>\n",
       "</table>\n",
       "</div>"
      ],
      "text/plain": [
       "                  Input                       Output\n",
       "222            you fine                Are you fine?\n",
       "66      Ornament 5 lakh  This ornament is of 5 lakhs\n",
       "317     Today date what       What is today's date ?\n",
       "226  I go school before             I went to school\n",
       "8      flower beautiful     This flower is beautiful"
      ]
     },
     "execution_count": 3,
     "metadata": {},
     "output_type": "execute_result"
    }
   ],
   "source": [
    "lines_raw = pd.read_csv(data_path, header = 0)\n",
    "lines_raw.sample(5)"
   ]
  },
  {
   "cell_type": "markdown",
   "metadata": {},
   "source": [
    "Preprocessing inputs"
   ]
  },
  {
   "cell_type": "code",
   "execution_count": 4,
   "metadata": {},
   "outputs": [],
   "source": [
    "def preprocess_sentence(sentence):\n",
    "#sentence = unicode_to_ascii(sentence.lower().strip())\n",
    "    num_digits= str.maketrans('','', digits)\n",
    "    \n",
    "    sentence= sentence.lower()\n",
    "    sentence= re.sub(\" +\", \" \", sentence)\n",
    "    sentence= re.sub(\"'\", '', sentence)\n",
    "    sentence= sentence.translate(num_digits)\n",
    "    sentence= sentence.strip()\n",
    "    sentence= re.sub(r\"([?.!,¿])\", r\" \\1 \", sentence)\n",
    "    sentence = sentence.rstrip().strip()\n",
    "    sentence=  'start_ ' + sentence + ' _end'\n",
    "    \n",
    "    return sentence"
   ]
  },
  {
   "cell_type": "markdown",
   "metadata": {},
   "source": [
    "Adding start and end tag"
   ]
  },
  {
   "cell_type": "code",
   "execution_count": 62,
   "metadata": {},
   "outputs": [
    {
     "name": "stdout",
     "output_type": "stream",
     "text": [
      "start_ i see car _end\n",
      "b'start_ i see the car _end'\n"
     ]
    }
   ],
   "source": [
    "isl_sentence = u\"I see car\"\n",
    "eng_sentence = u\"i see the car\"\n",
    "print(preprocess_sentence(isl_sentence))\n",
    "print(preprocess_sentence(eng_sentence).encode('utf-8'))"
   ]
  },
  {
   "cell_type": "markdown",
   "metadata": {},
   "source": [
    "Create dataset function"
   ]
  },
  {
   "cell_type": "code",
   "execution_count": 6,
   "metadata": {},
   "outputs": [],
   "source": [
    "def create_dataset(path, num_examples):\n",
    "    lines = io.open(path,encoding = 'UTF-8').read().strip().split('\\n')\n",
    "    word_pairs = [[preprocess_sentence(w) for w in l.split(',')]for l in lines[:num_examples]]\n",
    "    print(path)\n",
    "    return zip(*word_pairs)"
   ]
  },
  {
   "cell_type": "code",
   "execution_count": 7,
   "metadata": {},
   "outputs": [
    {
     "name": "stdout",
     "output_type": "stream",
     "text": [
      "islcorpus5.csv\n",
      "start_ i eat wait _end\n",
      "start_ please wait i am having dinner _end\n"
     ]
    },
    {
     "data": {
      "text/plain": [
       "tuple"
      ]
     },
     "execution_count": 7,
     "metadata": {},
     "output_type": "execute_result"
    }
   ],
   "source": [
    "sample_size= 379\n",
    "source, target = create_dataset(data_path, sample_size)\n",
    "print(source[-1])\n",
    "print(target[-1])\n",
    "type(target)"
   ]
  },
  {
   "cell_type": "code",
   "execution_count": 8,
   "metadata": {},
   "outputs": [],
   "source": [
    "def max_length(tensor):\n",
    "    return max(len(t) for t in tensor)"
   ]
  },
  {
   "cell_type": "code",
   "execution_count": 9,
   "metadata": {},
   "outputs": [],
   "source": [
    "source_sentence_tokenizer = tf.keras.preprocessing.text.Tokenizer(filters = '')\n",
    "source_sentence_tokenizer.fit_on_texts(source)\n",
    "source_tensor = source_sentence_tokenizer.texts_to_sequences(source)\n",
    "source_tensor= tf.keras.preprocessing.sequence.pad_sequences(source_tensor,padding='post' )"
   ]
  },
  {
   "cell_type": "code",
   "execution_count": 10,
   "metadata": {},
   "outputs": [
    {
     "name": "stdout",
     "output_type": "stream",
     "text": [
      "14\n"
     ]
    }
   ],
   "source": [
    "target_sentence_tokenizer = tf.keras.preprocessing.text.Tokenizer(filters='')\n",
    "target_sentence_tokenizer.fit_on_texts(target)\n",
    "target_tensor = target_sentence_tokenizer.texts_to_sequences(target)\n",
    "target_tensor = tf.keras.preprocessing.sequence.pad_sequences(target_tensor, padding = 'post')\n",
    "print(len(target_tensor[0]))"
   ]
  },
  {
   "cell_type": "code",
   "execution_count": 11,
   "metadata": {},
   "outputs": [
    {
     "name": "stdout",
     "output_type": "stream",
     "text": [
      "14\n",
      "12\n"
     ]
    }
   ],
   "source": [
    "max_target_length= max(len(t) for t in  target_tensor)\n",
    "print(max_target_length)\n",
    "max_source_length= max(len(t) for t in  source_tensor)\n",
    "print(max_source_length)"
   ]
  },
  {
   "cell_type": "code",
   "execution_count": 12,
   "metadata": {},
   "outputs": [
    {
     "name": "stdout",
     "output_type": "stream",
     "text": [
      "303 76 303 76\n"
     ]
    }
   ],
   "source": [
    "source_train_tensor, source_test_tensor, target_train_tensor, target_test_tensor= train_test_split(source_tensor, target_tensor,test_size=0.2)\n",
    "print(len(source_train_tensor), len(source_test_tensor), len(target_train_tensor), len(target_test_tensor))"
   ]
  },
  {
   "cell_type": "code",
   "execution_count": 13,
   "metadata": {},
   "outputs": [
    {
     "name": "stdout",
     "output_type": "stream",
     "text": [
      "341 341 38 38\n"
     ]
    }
   ],
   "source": [
    "input_tensor_train, input_tensor_val, target_tensor_train, target_tensor_val = train_test_split(source_tensor, target_tensor, test_size=0.1)\n",
    "\n",
    "# Show length\n",
    "print(len(input_tensor_train), len(target_tensor_train), len(input_tensor_val), len(target_tensor_val))"
   ]
  },
  {
   "cell_type": "code",
   "execution_count": 14,
   "metadata": {},
   "outputs": [
    {
     "data": {
      "text/plain": [
       "numpy.ndarray"
      ]
     },
     "execution_count": 14,
     "metadata": {},
     "output_type": "execute_result"
    }
   ],
   "source": [
    "type(input_tensor_train)"
   ]
  },
  {
   "cell_type": "code",
   "execution_count": 15,
   "metadata": {},
   "outputs": [],
   "source": [
    "def convert(lang, tensor):\n",
    "    for t in tensor:\n",
    "        if t!=0:\n",
    "            print (\"%d ----> %s\" % (t, lang.index_word[t]))"
   ]
  },
  {
   "cell_type": "code",
   "execution_count": 16,
   "metadata": {},
   "outputs": [
    {
     "name": "stdout",
     "output_type": "stream",
     "text": [
      "Input Language; index to word mapping\n",
      "1 ----> start_\n",
      "83 ----> night\n",
      "2 ----> _end\n",
      "\n",
      "Target Language; index to word mapping\n",
      "1 ----> start_\n",
      "19 ----> it\n",
      "4 ----> is\n",
      "41 ----> at\n",
      "90 ----> night\n",
      "2 ----> _end\n"
     ]
    },
    {
     "data": {
      "text/plain": [
       "numpy.ndarray"
      ]
     },
     "execution_count": 16,
     "metadata": {},
     "output_type": "execute_result"
    }
   ],
   "source": [
    "print (\"Input Language; index to word mapping\")\n",
    "convert(source_sentence_tokenizer, source_train_tensor[0])\n",
    "print ()\n",
    "\n",
    "print (\"Target Language; index to word mapping\")\n",
    "convert( target_sentence_tokenizer, target_train_tensor[0])\n",
    "type(source_train_tensor)\n",
    "type(target_train_tensor)"
   ]
  },
  {
   "cell_type": "code",
   "execution_count": 17,
   "metadata": {},
   "outputs": [
    {
     "name": "stdout",
     "output_type": "stream",
     "text": [
      "330\n",
      "<BatchDataset shapes: ((16, 12), (16, 14)), types: (tf.int32, tf.int32)>\n",
      "<BatchDataset shapes: ((16, 12), (16, 14)), types: (tf.int32, tf.int32)>\n"
     ]
    }
   ],
   "source": [
    "BUFFER_SIZE = len(source_train_tensor)\n",
    "BATCH_SIZE = 16\n",
    "steps_per_epoch = len(source_train_tensor)//BATCH_SIZE\n",
    "embedding_dim = 256\n",
    "units = 1024\n",
    "vocab_inp_size = len(source_sentence_tokenizer.word_index)+1\n",
    "print(vocab_inp_size)\n",
    "vocab_tar_size = len(target_sentence_tokenizer.word_index)+1\n",
    "\n",
    "dataset = tf.data.Dataset.from_tensor_slices((source_train_tensor, target_train_tensor)).shuffle(BUFFER_SIZE)\n",
    "dataset = dataset.batch(BATCH_SIZE, drop_remainder=True)\n",
    "type(dataset)\n",
    "test_dataset = tf.data.Dataset.from_tensor_slices((source_test_tensor, target_test_tensor))\n",
    "test_dataset = test_dataset.batch(BATCH_SIZE, drop_remainder=True)\n",
    "print(test_dataset)\n",
    "print(dataset)"
   ]
  },
  {
   "cell_type": "code",
   "execution_count": 18,
   "metadata": {},
   "outputs": [
    {
     "data": {
      "text/plain": [
       "(TensorShape([16, 12]), TensorShape([16, 14]))"
      ]
     },
     "execution_count": 18,
     "metadata": {},
     "output_type": "execute_result"
    }
   ],
   "source": [
    "example_input_batch, example_target_batch = next(iter(dataset))\n",
    "example_input_batch.shape, example_target_batch.shape"
   ]
  },
  {
   "cell_type": "code",
   "execution_count": 19,
   "metadata": {},
   "outputs": [],
   "source": [
    "class Encoder(tf.keras.Model):\n",
    "    def __init__(self, vocab_size, embedding_dim, enc_units, batch_sz):\n",
    "        super(Encoder, self).__init__()\n",
    "        self.batch_sz = batch_sz\n",
    "        self.enc_units = enc_units\n",
    "        self.embedding = tf.keras.layers.Embedding(vocab_size, embedding_dim)\n",
    "        self.gru = tf.keras.layers.GRU(self.enc_units,\n",
    "                                       return_sequences=True,\n",
    "                                       return_state=True,\n",
    "                                       recurrent_initializer='glorot_uniform')\n",
    "\n",
    "    def call(self, x, hidden):\n",
    "        x = self.embedding(x)\n",
    "        output, state = self.gru(x, initial_state = hidden)\n",
    "        return output, state\n",
    "\n",
    "    def initialize_hidden_state(self):\n",
    "        return tf.zeros((self.batch_sz, self.enc_units))\n",
    "    "
   ]
  },
  {
   "cell_type": "code",
   "execution_count": 20,
   "metadata": {},
   "outputs": [
    {
     "name": "stdout",
     "output_type": "stream",
     "text": [
      "Encoder output shape: (batch size, sequence length, units) (16, 12, 1024)\n",
      "Encoder Hidden state shape: (batch size, units) (16, 1024)\n"
     ]
    }
   ],
   "source": [
    "encoder = Encoder(vocab_inp_size, embedding_dim, units, BATCH_SIZE)\n",
    "#encoder.build(vocab_inp_size)\n",
    "#encoder.summary()\n",
    "# sample input\n",
    "sample_hidden = encoder.initialize_hidden_state()\n",
    "sample_output, sample_hidden = encoder(example_input_batch, sample_hidden)\n",
    "print ('Encoder output shape: (batch size, sequence length, units) {}'.format(sample_output.shape))\n",
    "print ('Encoder Hidden state shape: (batch size, units) {}'.format(sample_hidden.shape))"
   ]
  },
  {
   "cell_type": "code",
   "execution_count": 21,
   "metadata": {},
   "outputs": [],
   "source": [
    "class LuongAttention(tf.keras.layers.Layer):\n",
    "    def __init__(self, units):\n",
    "        super(LuongAttention, self).__init__()\n",
    "        self.W1 = tf.keras.layers.Dense(units)\n",
    "        self.W2 = tf.keras.layers.Dense(units)\n",
    "        self.V = tf.keras.layers.Dense(1)\n",
    "        \n",
    "    def call(self, query, values):\n",
    "        print('\\n******* Luong Attention  STARTS******')\n",
    "        print('query (decoder hidden state): (batch_size, hidden size) ', query.shape)\n",
    "        print('values (encoder all hidden state): (batch_size, max_len, hidden size) ', values.shape)\n",
    "\n",
    "        # query hidden state shape == (batch_size, hidden size)\n",
    "        # query_with_time_axis shape == (batch_size, 1, hidden size)\n",
    "        # values shape == (batch_size, max_len, hidden size)\n",
    "        # we are doing this to broadcast addition along the time axis to calculate the score\n",
    "        query_with_time_axis = tf.expand_dims(query, 1)\n",
    "    \n",
    "        print('query_with_time_axis:(batch_size, 1, hidden size) ', query_with_time_axis.shape)\n",
    "\n",
    "\n",
    "        values_transposed = tf.transpose(values, perm=[0, 2, 1])\n",
    "        print('values_transposed:(batch_size, hidden size, max_len) ', values_transposed.shape)\n",
    "\n",
    "        # score shape == (batch_size, max_length, 1)\n",
    "        # we get 1 at the last axis because we are applying score to self.V\n",
    "        # the shape of the tensor before applying self.V is (batch_size, max_length, units)\n",
    "        #BAHDANAU ADDITIVE:\n",
    "        #score = self.V(tf.nn.tanh(\n",
    "        #    self.W1(query_with_time_axis) + self.W2(values)))\n",
    "    \n",
    "        #LUONGH Dot-product\n",
    "        score = tf.transpose(tf.matmul(query_with_time_axis, values_transposed) , perm=[0, 2, 1])\n",
    "\n",
    "        print('score: (batch_size, max_length, 1) ',score.shape)\n",
    "        # attention_weights shape == (batch_size, max_length, 1)\n",
    "        attention_weights = tf.nn.softmax(score, axis=1)\n",
    "        print('attention_weights: (batch_size, max_length, 1) ',attention_weights.shape)\n",
    "        # context_vector shape after sum == (batch_size, hidden_size)\n",
    "        context_vector = attention_weights * values\n",
    "        print('context_vector before reduce_sum: (batch_size, max_length, hidden_size) ',context_vector.shape)\n",
    "        context_vector = tf.reduce_sum(context_vector, axis=1)\n",
    "        print('context_vector after reduce_sum: (batch_size, hidden_size) ',context_vector.shape)\n",
    "\n",
    "\n",
    "        print('\\n******* Luong Attention ENDS******')\n",
    "        return context_vector, attention_weights"
   ]
  },
  {
   "cell_type": "code",
   "execution_count": 22,
   "metadata": {},
   "outputs": [
    {
     "name": "stdout",
     "output_type": "stream",
     "text": [
      "\n",
      "******* Luong Attention  STARTS******\n",
      "query (decoder hidden state): (batch_size, hidden size)  (16, 1024)\n",
      "values (encoder all hidden state): (batch_size, max_len, hidden size)  (16, 12, 1024)\n",
      "query_with_time_axis:(batch_size, 1, hidden size)  (16, 1, 1024)\n",
      "values_transposed:(batch_size, hidden size, max_len)  (16, 1024, 12)\n",
      "score: (batch_size, max_length, 1)  (16, 12, 1)\n",
      "attention_weights: (batch_size, max_length, 1)  (16, 12, 1)\n",
      "context_vector before reduce_sum: (batch_size, max_length, hidden_size)  (16, 12, 1024)\n",
      "context_vector after reduce_sum: (batch_size, hidden_size)  (16, 1024)\n",
      "\n",
      "******* Luong Attention ENDS******\n",
      "Attention result shape: (batch size, units) (16, 1024)\n",
      "Attention weights shape: (batch_size, sequence_length, 1) (16, 12, 1)\n"
     ]
    }
   ],
   "source": [
    "attention_layer = LuongAttention(10)\n",
    "attention_result, attention_weights = attention_layer(sample_hidden, sample_output)\n",
    "\n",
    "print(\"Attention result shape: (batch size, units) {}\".format(attention_result.shape))\n",
    "print(\"Attention weights shape: (batch_size, sequence_length, 1) {}\".format(attention_weights.shape))"
   ]
  },
  {
   "cell_type": "code",
   "execution_count": 23,
   "metadata": {},
   "outputs": [],
   "source": [
    "class Decoder(tf.keras.Model):\n",
    "    def __init__(self, vocab_size, embedding_dim, dec_units, batch_sz):\n",
    "        super(Decoder, self).__init__()\n",
    "        self.batch_sz = batch_sz\n",
    "        self.dec_units = dec_units\n",
    "        self.embedding = tf.keras.layers.Embedding(vocab_size, embedding_dim)\n",
    "        self.gru = tf.keras.layers.GRU(self.dec_units,\n",
    "                                   return_sequences=True,\n",
    "                                   return_state=True,\n",
    "                                   recurrent_initializer='glorot_uniform')\n",
    "        self.fc = tf.keras.layers.Dense(vocab_size)\n",
    "\n",
    "    # used for attention\n",
    "        self.attention = LuongAttention(self.dec_units)\n",
    "\n",
    "    def call(self, x, hidden, enc_output):\n",
    "\n",
    "    # enc_output shape == (batch_size, max_length, hidden_size)\n",
    "        context_vector, attention_weights = self.attention(hidden, enc_output)\n",
    "\n",
    "    # x shape after passing through embedding == (batch_size, 1, embedding_dim)\n",
    "        x = self.embedding(x)\n",
    "\n",
    "    # x shape after concatenation == (batch_size, 1, embedding_dim + hidden_size)\n",
    "        x = tf.concat([tf.expand_dims(context_vector, 1), x], axis=-1)\n",
    "\n",
    "    # passing the concatenated vector to the GRU\n",
    "        output, state = self.gru(x)\n",
    "\n",
    "    # output shape == (batch_size * 1, hidden_size)\n",
    "        output = tf.reshape(output, (-1, output.shape[2]))\n",
    "\n",
    "    # output shape == (batch_size, vocab)\n",
    "        x = self.fc(output)\n",
    "\n",
    "        return x, state, attention_weights"
   ]
  },
  {
   "cell_type": "code",
   "execution_count": 24,
   "metadata": {},
   "outputs": [
    {
     "name": "stdout",
     "output_type": "stream",
     "text": [
      "\n",
      "******* Luong Attention  STARTS******\n",
      "query (decoder hidden state): (batch_size, hidden size)  (16, 1024)\n",
      "values (encoder all hidden state): (batch_size, max_len, hidden size)  (16, 12, 1024)\n",
      "query_with_time_axis:(batch_size, 1, hidden size)  (16, 1, 1024)\n",
      "values_transposed:(batch_size, hidden size, max_len)  (16, 1024, 12)\n",
      "score: (batch_size, max_length, 1)  (16, 12, 1)\n",
      "attention_weights: (batch_size, max_length, 1)  (16, 12, 1)\n",
      "context_vector before reduce_sum: (batch_size, max_length, hidden_size)  (16, 12, 1024)\n",
      "context_vector after reduce_sum: (batch_size, hidden_size)  (16, 1024)\n",
      "\n",
      "******* Luong Attention ENDS******\n",
      "Decoder output shape: (batch_size, vocab size) (16, 400)\n"
     ]
    }
   ],
   "source": [
    "decoder = Decoder(vocab_tar_size, embedding_dim, units, BATCH_SIZE)\n",
    "\n",
    "sample_decoder_output, _, _ = decoder(tf.random.uniform((BATCH_SIZE, 1)),\n",
    "                                      sample_hidden, sample_output)\n",
    "\n",
    "print ('Decoder output shape: (batch_size, vocab size) {}'.format(sample_decoder_output.shape))"
   ]
  },
  {
   "cell_type": "code",
   "execution_count": 25,
   "metadata": {},
   "outputs": [],
   "source": [
    "from tensorflow.keras import backend as K\n",
    "optimizer = tf.keras.optimizers.Adam()\n",
    "loss_object = tf.keras.losses.SparseCategoricalCrossentropy(\n",
    "    from_logits=True, reduction='none')\n",
    "\n",
    "def loss_function(real, pred):\n",
    "    mask = tf.math.logical_not(tf.math.equal(real, 0))\n",
    "    loss_ = loss_object(real, pred)\n",
    "    \n",
    "    mask = tf.cast(mask, dtype=loss_.dtype)\n",
    "    loss_ *= mask\n",
    "\n",
    "    return tf.reduce_mean(loss_)\n",
    "\n",
    "def accuracy_function(real, pred):\n",
    "    pred_values = K.cast(K.argmax(pred, axis=-1), dtype='int32')\n",
    "    correct = K.cast(K.equal(real, pred_values), dtype='float32')\n",
    "\n",
    "    # 0 is padding, don't include those\n",
    "    mask = K.cast(K.greater(real, 0), dtype='float32')\n",
    "    n_correct = K.sum(mask * correct)\n",
    "    n_total = K.sum(mask)\n",
    "  \n",
    "    return n_correct / n_total"
   ]
  },
  {
   "cell_type": "code",
   "execution_count": 26,
   "metadata": {},
   "outputs": [],
   "source": [
    "checkpoint_dir = 'training_checkpoints'\n",
    "checkpoint_prefix = os.path.join(checkpoint_dir, \"ckpt\")\n",
    "checkpoint = tf.train.Checkpoint(optimizer=optimizer,\n",
    "                                 encoder=encoder,\n",
    "                                 decoder=decoder)"
   ]
  },
  {
   "cell_type": "code",
   "execution_count": 27,
   "metadata": {},
   "outputs": [],
   "source": [
    "@tf.function\n",
    "def train_step(inp, targ, enc_hidden):\n",
    "    loss = 0\n",
    "    accuracy = 0\n",
    "    \n",
    "\n",
    "    \n",
    "    with tf.GradientTape() as tape:\n",
    "        enc_output, enc_hidden = encoder(inp, enc_hidden)\n",
    "\n",
    "        dec_hidden = enc_hidden\n",
    "        dec_input = tf.expand_dims([target_sentence_tokenizer.word_index['start_']] * BATCH_SIZE, 1)\n",
    "\n",
    "    # Teacher forcing - feeding the target as the next input\n",
    "        for t in range(1, targ.shape[1]):\n",
    "      # passing enc_output to the decoder\n",
    "            predictions, dec_hidden, _ = decoder(dec_input, dec_hidden, enc_output)\n",
    "            \n",
    "            loss += loss_function(targ[:, t], predictions)\n",
    "                      \n",
    "            \n",
    "            accuracy += accuracy_function(targ[:,t],predictions)\n",
    "            \n",
    "            \n",
    "            \n",
    "            # using teacher forcing\n",
    "            dec_input = tf.expand_dims(targ[:, t], 1)\n",
    "            \n",
    "            \n",
    "    batch_loss = (loss / int(targ.shape[1]))\n",
    "    batch_accuracy = (accuracy/int(targ.shape[1]))\n",
    "\n",
    "    variables = encoder.trainable_variables + decoder.trainable_variables\n",
    "\n",
    "    gradients = tape.gradient(loss, variables)\n",
    "\n",
    "    optimizer.apply_gradients(zip(gradients, variables))\n",
    "\n",
    "    return batch_loss, batch_accuracy"
   ]
  },
  {
   "cell_type": "code",
   "execution_count": 28,
   "metadata": {},
   "outputs": [],
   "source": [
    "@tf.function\n",
    "def test_step(inp, targ, enc_hidden):\n",
    "    loss = 0\n",
    "    accuracy = 0\n",
    "    \n",
    "    enc_output, enc_hidden = encoder(inp, enc_hidden)\n",
    "    dec_hidden = enc_hidden\n",
    "    dec_input = tf.expand_dims([target_sentence_tokenizer.word_index['start_']] * BATCH_SIZE, 1)\n",
    "    for t in range(1, targ.shape[1]):\n",
    "        predictions, dec_hidden, _ = decoder(dec_input, dec_hidden, enc_output)\n",
    "        loss += loss_function(targ[:, t], predictions)\n",
    "        accuracy += accuracy_function(targ[:,t],predictions)\n",
    "        \n",
    "        predicted_id = tf.argmax(predictions[0])\n",
    "        dec_input = tf.expand_dims([predicted_id]*BATCH_SIZE, 1)\n",
    "    \n",
    "    total_loss = (loss / int(targ.shape[1]))\n",
    "    total_accuracy = (accuracy/int(targ.shape[1]))\n",
    "    return total_loss, total_accuracy"
   ]
  },
  {
   "cell_type": "code",
   "execution_count": 29,
   "metadata": {},
   "outputs": [
    {
     "data": {
      "text/plain": [
       "18"
      ]
     },
     "execution_count": 29,
     "metadata": {},
     "output_type": "execute_result"
    }
   ],
   "source": [
    "steps_per_epoch"
   ]
  },
  {
   "cell_type": "code",
   "execution_count": 30,
   "metadata": {},
   "outputs": [
    {
     "name": "stdout",
     "output_type": "stream",
     "text": [
      "\n",
      "******* Luong Attention  STARTS******\n",
      "query (decoder hidden state): (batch_size, hidden size)  (16, 1024)\n",
      "values (encoder all hidden state): (batch_size, max_len, hidden size)  (16, 12, 1024)\n",
      "query_with_time_axis:(batch_size, 1, hidden size)  (16, 1, 1024)\n",
      "values_transposed:(batch_size, hidden size, max_len)  (16, 1024, 12)\n",
      "score: (batch_size, max_length, 1)  (16, 12, 1)\n",
      "attention_weights: (batch_size, max_length, 1)  (16, 12, 1)\n",
      "context_vector before reduce_sum: (batch_size, max_length, hidden_size)  (16, 12, 1024)\n",
      "context_vector after reduce_sum: (batch_size, hidden_size)  (16, 1024)\n",
      "\n",
      "******* Luong Attention ENDS******\n",
      "\n",
      "******* Luong Attention  STARTS******\n",
      "query (decoder hidden state): (batch_size, hidden size)  (16, 1024)\n",
      "values (encoder all hidden state): (batch_size, max_len, hidden size)  (16, 12, 1024)\n",
      "query_with_time_axis:(batch_size, 1, hidden size)  (16, 1, 1024)\n",
      "values_transposed:(batch_size, hidden size, max_len)  (16, 1024, 12)\n",
      "score: (batch_size, max_length, 1)  (16, 12, 1)\n",
      "attention_weights: (batch_size, max_length, 1)  (16, 12, 1)\n",
      "context_vector before reduce_sum: (batch_size, max_length, hidden_size)  (16, 12, 1024)\n",
      "context_vector after reduce_sum: (batch_size, hidden_size)  (16, 1024)\n",
      "\n",
      "******* Luong Attention ENDS******\n",
      "\n",
      "******* Luong Attention  STARTS******\n",
      "query (decoder hidden state): (batch_size, hidden size)  (16, 1024)\n",
      "values (encoder all hidden state): (batch_size, max_len, hidden size)  (16, 12, 1024)\n",
      "query_with_time_axis:(batch_size, 1, hidden size)  (16, 1, 1024)\n",
      "values_transposed:(batch_size, hidden size, max_len)  (16, 1024, 12)\n",
      "score: (batch_size, max_length, 1)  (16, 12, 1)\n",
      "attention_weights: (batch_size, max_length, 1)  (16, 12, 1)\n",
      "context_vector before reduce_sum: (batch_size, max_length, hidden_size)  (16, 12, 1024)\n",
      "context_vector after reduce_sum: (batch_size, hidden_size)  (16, 1024)\n",
      "\n",
      "******* Luong Attention ENDS******\n",
      "\n",
      "******* Luong Attention  STARTS******\n",
      "query (decoder hidden state): (batch_size, hidden size)  (16, 1024)\n",
      "values (encoder all hidden state): (batch_size, max_len, hidden size)  (16, 12, 1024)\n",
      "query_with_time_axis:(batch_size, 1, hidden size)  (16, 1, 1024)\n",
      "values_transposed:(batch_size, hidden size, max_len)  (16, 1024, 12)\n",
      "score: (batch_size, max_length, 1)  (16, 12, 1)\n",
      "attention_weights: (batch_size, max_length, 1)  (16, 12, 1)\n",
      "context_vector before reduce_sum: (batch_size, max_length, hidden_size)  (16, 12, 1024)\n",
      "context_vector after reduce_sum: (batch_size, hidden_size)  (16, 1024)\n",
      "\n",
      "******* Luong Attention ENDS******\n",
      "\n",
      "******* Luong Attention  STARTS******\n",
      "query (decoder hidden state): (batch_size, hidden size)  (16, 1024)\n",
      "values (encoder all hidden state): (batch_size, max_len, hidden size)  (16, 12, 1024)\n",
      "query_with_time_axis:(batch_size, 1, hidden size)  (16, 1, 1024)\n",
      "values_transposed:(batch_size, hidden size, max_len)  (16, 1024, 12)\n",
      "score: (batch_size, max_length, 1)  (16, 12, 1)\n",
      "attention_weights: (batch_size, max_length, 1)  (16, 12, 1)\n",
      "context_vector before reduce_sum: (batch_size, max_length, hidden_size)  (16, 12, 1024)\n",
      "context_vector after reduce_sum: (batch_size, hidden_size)  (16, 1024)\n",
      "\n",
      "******* Luong Attention ENDS******\n",
      "\n",
      "******* Luong Attention  STARTS******\n",
      "query (decoder hidden state): (batch_size, hidden size)  (16, 1024)\n",
      "values (encoder all hidden state): (batch_size, max_len, hidden size)  (16, 12, 1024)\n",
      "query_with_time_axis:(batch_size, 1, hidden size)  (16, 1, 1024)\n",
      "values_transposed:(batch_size, hidden size, max_len)  (16, 1024, 12)\n",
      "score: (batch_size, max_length, 1)  (16, 12, 1)\n",
      "attention_weights: (batch_size, max_length, 1)  (16, 12, 1)\n",
      "context_vector before reduce_sum: (batch_size, max_length, hidden_size)  (16, 12, 1024)\n",
      "context_vector after reduce_sum: (batch_size, hidden_size)  (16, 1024)\n",
      "\n",
      "******* Luong Attention ENDS******\n",
      "\n",
      "******* Luong Attention  STARTS******\n",
      "query (decoder hidden state): (batch_size, hidden size)  (16, 1024)\n",
      "values (encoder all hidden state): (batch_size, max_len, hidden size)  (16, 12, 1024)\n",
      "query_with_time_axis:(batch_size, 1, hidden size)  (16, 1, 1024)\n",
      "values_transposed:(batch_size, hidden size, max_len)  (16, 1024, 12)\n",
      "score: (batch_size, max_length, 1)  (16, 12, 1)\n",
      "attention_weights: (batch_size, max_length, 1)  (16, 12, 1)\n",
      "context_vector before reduce_sum: (batch_size, max_length, hidden_size)  (16, 12, 1024)\n",
      "context_vector after reduce_sum: (batch_size, hidden_size)  (16, 1024)\n",
      "\n",
      "******* Luong Attention ENDS******\n",
      "\n",
      "******* Luong Attention  STARTS******\n",
      "query (decoder hidden state): (batch_size, hidden size)  (16, 1024)\n",
      "values (encoder all hidden state): (batch_size, max_len, hidden size)  (16, 12, 1024)\n",
      "query_with_time_axis:(batch_size, 1, hidden size)  (16, 1, 1024)\n",
      "values_transposed:(batch_size, hidden size, max_len)  (16, 1024, 12)\n",
      "score: (batch_size, max_length, 1)  (16, 12, 1)\n",
      "attention_weights: (batch_size, max_length, 1)  (16, 12, 1)\n",
      "context_vector before reduce_sum: (batch_size, max_length, hidden_size)  (16, 12, 1024)\n",
      "context_vector after reduce_sum: (batch_size, hidden_size)  (16, 1024)\n",
      "\n",
      "******* Luong Attention ENDS******\n",
      "\n",
      "******* Luong Attention  STARTS******\n",
      "query (decoder hidden state): (batch_size, hidden size)  (16, 1024)\n",
      "values (encoder all hidden state): (batch_size, max_len, hidden size)  (16, 12, 1024)\n",
      "query_with_time_axis:(batch_size, 1, hidden size)  (16, 1, 1024)\n",
      "values_transposed:(batch_size, hidden size, max_len)  (16, 1024, 12)\n",
      "score: (batch_size, max_length, 1)  (16, 12, 1)\n",
      "attention_weights: (batch_size, max_length, 1)  (16, 12, 1)\n",
      "context_vector before reduce_sum: (batch_size, max_length, hidden_size)  (16, 12, 1024)\n",
      "context_vector after reduce_sum: (batch_size, hidden_size)  (16, 1024)\n",
      "\n",
      "******* Luong Attention ENDS******\n",
      "\n",
      "******* Luong Attention  STARTS******\n",
      "query (decoder hidden state): (batch_size, hidden size)  (16, 1024)\n",
      "values (encoder all hidden state): (batch_size, max_len, hidden size)  (16, 12, 1024)\n",
      "query_with_time_axis:(batch_size, 1, hidden size)  (16, 1, 1024)\n",
      "values_transposed:(batch_size, hidden size, max_len)  (16, 1024, 12)\n",
      "score: (batch_size, max_length, 1)  (16, 12, 1)\n",
      "attention_weights: (batch_size, max_length, 1)  (16, 12, 1)\n",
      "context_vector before reduce_sum: (batch_size, max_length, hidden_size)  (16, 12, 1024)\n",
      "context_vector after reduce_sum: (batch_size, hidden_size)  (16, 1024)\n",
      "\n",
      "******* Luong Attention ENDS******\n",
      "\n",
      "******* Luong Attention  STARTS******\n",
      "query (decoder hidden state): (batch_size, hidden size)  (16, 1024)\n",
      "values (encoder all hidden state): (batch_size, max_len, hidden size)  (16, 12, 1024)\n",
      "query_with_time_axis:(batch_size, 1, hidden size)  (16, 1, 1024)\n",
      "values_transposed:(batch_size, hidden size, max_len)  (16, 1024, 12)\n",
      "score: (batch_size, max_length, 1)  (16, 12, 1)\n",
      "attention_weights: (batch_size, max_length, 1)  (16, 12, 1)\n",
      "context_vector before reduce_sum: (batch_size, max_length, hidden_size)  (16, 12, 1024)\n",
      "context_vector after reduce_sum: (batch_size, hidden_size)  (16, 1024)\n",
      "\n",
      "******* Luong Attention ENDS******\n",
      "\n",
      "******* Luong Attention  STARTS******\n",
      "query (decoder hidden state): (batch_size, hidden size)  (16, 1024)\n",
      "values (encoder all hidden state): (batch_size, max_len, hidden size)  (16, 12, 1024)\n",
      "query_with_time_axis:(batch_size, 1, hidden size)  (16, 1, 1024)\n",
      "values_transposed:(batch_size, hidden size, max_len)  (16, 1024, 12)\n",
      "score: (batch_size, max_length, 1)  (16, 12, 1)\n",
      "attention_weights: (batch_size, max_length, 1)  (16, 12, 1)\n",
      "context_vector before reduce_sum: (batch_size, max_length, hidden_size)  (16, 12, 1024)\n",
      "context_vector after reduce_sum: (batch_size, hidden_size)  (16, 1024)\n",
      "\n",
      "******* Luong Attention ENDS******\n",
      "\n",
      "******* Luong Attention  STARTS******\n",
      "query (decoder hidden state): (batch_size, hidden size)  (16, 1024)\n",
      "values (encoder all hidden state): (batch_size, max_len, hidden size)  (16, 12, 1024)\n",
      "query_with_time_axis:(batch_size, 1, hidden size)  (16, 1, 1024)\n",
      "values_transposed:(batch_size, hidden size, max_len)  (16, 1024, 12)\n",
      "score: (batch_size, max_length, 1)  (16, 12, 1)\n",
      "attention_weights: (batch_size, max_length, 1)  (16, 12, 1)\n",
      "context_vector before reduce_sum: (batch_size, max_length, hidden_size)  (16, 12, 1024)\n",
      "context_vector after reduce_sum: (batch_size, hidden_size)  (16, 1024)\n",
      "\n",
      "******* Luong Attention ENDS******\n",
      "\n",
      "******* Luong Attention  STARTS******\n",
      "query (decoder hidden state): (batch_size, hidden size)  (16, 1024)\n",
      "values (encoder all hidden state): (batch_size, max_len, hidden size)  (16, 12, 1024)\n",
      "query_with_time_axis:(batch_size, 1, hidden size)  (16, 1, 1024)\n",
      "values_transposed:(batch_size, hidden size, max_len)  (16, 1024, 12)\n",
      "score: (batch_size, max_length, 1)  (16, 12, 1)\n",
      "attention_weights: (batch_size, max_length, 1)  (16, 12, 1)\n",
      "context_vector before reduce_sum: (batch_size, max_length, hidden_size)  (16, 12, 1024)\n",
      "context_vector after reduce_sum: (batch_size, hidden_size)  (16, 1024)\n",
      "\n",
      "******* Luong Attention ENDS******\n"
     ]
    },
    {
     "name": "stdout",
     "output_type": "stream",
     "text": [
      "\n",
      "******* Luong Attention  STARTS******\n",
      "query (decoder hidden state): (batch_size, hidden size)  (16, 1024)\n",
      "values (encoder all hidden state): (batch_size, max_len, hidden size)  (16, 12, 1024)\n",
      "query_with_time_axis:(batch_size, 1, hidden size)  (16, 1, 1024)\n",
      "values_transposed:(batch_size, hidden size, max_len)  (16, 1024, 12)\n",
      "score: (batch_size, max_length, 1)  (16, 12, 1)\n",
      "attention_weights: (batch_size, max_length, 1)  (16, 12, 1)\n",
      "context_vector before reduce_sum: (batch_size, max_length, hidden_size)  (16, 12, 1024)\n",
      "context_vector after reduce_sum: (batch_size, hidden_size)  (16, 1024)\n",
      "\n",
      "******* Luong Attention ENDS******\n",
      "\n",
      "******* Luong Attention  STARTS******\n",
      "query (decoder hidden state): (batch_size, hidden size)  (16, 1024)\n",
      "values (encoder all hidden state): (batch_size, max_len, hidden size)  (16, 12, 1024)\n",
      "query_with_time_axis:(batch_size, 1, hidden size)  (16, 1, 1024)\n",
      "values_transposed:(batch_size, hidden size, max_len)  (16, 1024, 12)\n",
      "score: (batch_size, max_length, 1)  (16, 12, 1)\n",
      "attention_weights: (batch_size, max_length, 1)  (16, 12, 1)\n",
      "context_vector before reduce_sum: (batch_size, max_length, hidden_size)  (16, 12, 1024)\n",
      "context_vector after reduce_sum: (batch_size, hidden_size)  (16, 1024)\n",
      "\n",
      "******* Luong Attention ENDS******\n",
      "\n",
      "******* Luong Attention  STARTS******\n",
      "query (decoder hidden state): (batch_size, hidden size)  (16, 1024)\n",
      "values (encoder all hidden state): (batch_size, max_len, hidden size)  (16, 12, 1024)\n",
      "query_with_time_axis:(batch_size, 1, hidden size)  (16, 1, 1024)\n",
      "values_transposed:(batch_size, hidden size, max_len)  (16, 1024, 12)\n",
      "score: (batch_size, max_length, 1)  (16, 12, 1)\n",
      "attention_weights: (batch_size, max_length, 1)  (16, 12, 1)\n",
      "context_vector before reduce_sum: (batch_size, max_length, hidden_size)  (16, 12, 1024)\n",
      "context_vector after reduce_sum: (batch_size, hidden_size)  (16, 1024)\n",
      "\n",
      "******* Luong Attention ENDS******\n",
      "\n",
      "******* Luong Attention  STARTS******\n",
      "query (decoder hidden state): (batch_size, hidden size)  (16, 1024)\n",
      "values (encoder all hidden state): (batch_size, max_len, hidden size)  (16, 12, 1024)\n",
      "query_with_time_axis:(batch_size, 1, hidden size)  (16, 1, 1024)\n",
      "values_transposed:(batch_size, hidden size, max_len)  (16, 1024, 12)\n",
      "score: (batch_size, max_length, 1)  (16, 12, 1)\n",
      "attention_weights: (batch_size, max_length, 1)  (16, 12, 1)\n",
      "context_vector before reduce_sum: (batch_size, max_length, hidden_size)  (16, 12, 1024)\n",
      "context_vector after reduce_sum: (batch_size, hidden_size)  (16, 1024)\n",
      "\n",
      "******* Luong Attention ENDS******\n",
      "\n",
      "******* Luong Attention  STARTS******\n",
      "query (decoder hidden state): (batch_size, hidden size)  (16, 1024)\n",
      "values (encoder all hidden state): (batch_size, max_len, hidden size)  (16, 12, 1024)\n",
      "query_with_time_axis:(batch_size, 1, hidden size)  (16, 1, 1024)\n",
      "values_transposed:(batch_size, hidden size, max_len)  (16, 1024, 12)\n",
      "score: (batch_size, max_length, 1)  (16, 12, 1)\n",
      "attention_weights: (batch_size, max_length, 1)  (16, 12, 1)\n",
      "context_vector before reduce_sum: (batch_size, max_length, hidden_size)  (16, 12, 1024)\n",
      "context_vector after reduce_sum: (batch_size, hidden_size)  (16, 1024)\n",
      "\n",
      "******* Luong Attention ENDS******\n",
      "\n",
      "******* Luong Attention  STARTS******\n",
      "query (decoder hidden state): (batch_size, hidden size)  (16, 1024)\n",
      "values (encoder all hidden state): (batch_size, max_len, hidden size)  (16, 12, 1024)\n",
      "query_with_time_axis:(batch_size, 1, hidden size)  (16, 1, 1024)\n",
      "values_transposed:(batch_size, hidden size, max_len)  (16, 1024, 12)\n",
      "score: (batch_size, max_length, 1)  (16, 12, 1)\n",
      "attention_weights: (batch_size, max_length, 1)  (16, 12, 1)\n",
      "context_vector before reduce_sum: (batch_size, max_length, hidden_size)  (16, 12, 1024)\n",
      "context_vector after reduce_sum: (batch_size, hidden_size)  (16, 1024)\n",
      "\n",
      "******* Luong Attention ENDS******\n",
      "\n",
      "******* Luong Attention  STARTS******\n",
      "query (decoder hidden state): (batch_size, hidden size)  (16, 1024)\n",
      "values (encoder all hidden state): (batch_size, max_len, hidden size)  (16, 12, 1024)\n",
      "query_with_time_axis:(batch_size, 1, hidden size)  (16, 1, 1024)\n",
      "values_transposed:(batch_size, hidden size, max_len)  (16, 1024, 12)\n",
      "score: (batch_size, max_length, 1)  (16, 12, 1)\n",
      "attention_weights: (batch_size, max_length, 1)  (16, 12, 1)\n",
      "context_vector before reduce_sum: (batch_size, max_length, hidden_size)  (16, 12, 1024)\n",
      "context_vector after reduce_sum: (batch_size, hidden_size)  (16, 1024)\n",
      "\n",
      "******* Luong Attention ENDS******\n",
      "\n",
      "******* Luong Attention  STARTS******\n",
      "query (decoder hidden state): (batch_size, hidden size)  (16, 1024)\n",
      "values (encoder all hidden state): (batch_size, max_len, hidden size)  (16, 12, 1024)\n",
      "query_with_time_axis:(batch_size, 1, hidden size)  (16, 1, 1024)\n",
      "values_transposed:(batch_size, hidden size, max_len)  (16, 1024, 12)\n",
      "score: (batch_size, max_length, 1)  (16, 12, 1)\n",
      "attention_weights: (batch_size, max_length, 1)  (16, 12, 1)\n",
      "context_vector before reduce_sum: (batch_size, max_length, hidden_size)  (16, 12, 1024)\n",
      "context_vector after reduce_sum: (batch_size, hidden_size)  (16, 1024)\n",
      "\n",
      "******* Luong Attention ENDS******\n",
      "\n",
      "******* Luong Attention  STARTS******\n",
      "query (decoder hidden state): (batch_size, hidden size)  (16, 1024)\n",
      "values (encoder all hidden state): (batch_size, max_len, hidden size)  (16, 12, 1024)\n",
      "query_with_time_axis:(batch_size, 1, hidden size)  (16, 1, 1024)\n",
      "values_transposed:(batch_size, hidden size, max_len)  (16, 1024, 12)\n",
      "score: (batch_size, max_length, 1)  (16, 12, 1)\n",
      "attention_weights: (batch_size, max_length, 1)  (16, 12, 1)\n",
      "context_vector before reduce_sum: (batch_size, max_length, hidden_size)  (16, 12, 1024)\n",
      "context_vector after reduce_sum: (batch_size, hidden_size)  (16, 1024)\n",
      "\n",
      "******* Luong Attention ENDS******\n",
      "\n",
      "******* Luong Attention  STARTS******\n",
      "query (decoder hidden state): (batch_size, hidden size)  (16, 1024)\n",
      "values (encoder all hidden state): (batch_size, max_len, hidden size)  (16, 12, 1024)\n",
      "query_with_time_axis:(batch_size, 1, hidden size)  (16, 1, 1024)\n",
      "values_transposed:(batch_size, hidden size, max_len)  (16, 1024, 12)\n",
      "score: (batch_size, max_length, 1)  (16, 12, 1)\n",
      "attention_weights: (batch_size, max_length, 1)  (16, 12, 1)\n",
      "context_vector before reduce_sum: (batch_size, max_length, hidden_size)  (16, 12, 1024)\n",
      "context_vector after reduce_sum: (batch_size, hidden_size)  (16, 1024)\n",
      "\n",
      "******* Luong Attention ENDS******\n",
      "\n",
      "******* Luong Attention  STARTS******\n",
      "query (decoder hidden state): (batch_size, hidden size)  (16, 1024)\n",
      "values (encoder all hidden state): (batch_size, max_len, hidden size)  (16, 12, 1024)\n",
      "query_with_time_axis:(batch_size, 1, hidden size)  (16, 1, 1024)\n",
      "values_transposed:(batch_size, hidden size, max_len)  (16, 1024, 12)\n",
      "score: (batch_size, max_length, 1)  (16, 12, 1)\n",
      "attention_weights: (batch_size, max_length, 1)  (16, 12, 1)\n",
      "context_vector before reduce_sum: (batch_size, max_length, hidden_size)  (16, 12, 1024)\n",
      "context_vector after reduce_sum: (batch_size, hidden_size)  (16, 1024)\n",
      "\n",
      "******* Luong Attention ENDS******\n",
      "\n",
      "******* Luong Attention  STARTS******\n",
      "query (decoder hidden state): (batch_size, hidden size)  (16, 1024)\n",
      "values (encoder all hidden state): (batch_size, max_len, hidden size)  (16, 12, 1024)\n",
      "query_with_time_axis:(batch_size, 1, hidden size)  (16, 1, 1024)\n",
      "values_transposed:(batch_size, hidden size, max_len)  (16, 1024, 12)\n",
      "score: (batch_size, max_length, 1)  (16, 12, 1)\n",
      "attention_weights: (batch_size, max_length, 1)  (16, 12, 1)\n",
      "context_vector before reduce_sum: (batch_size, max_length, hidden_size)  (16, 12, 1024)\n",
      "context_vector after reduce_sum: (batch_size, hidden_size)  (16, 1024)\n",
      "\n",
      "******* Luong Attention ENDS******\n",
      "Epoch 1 Batch 0 Loss 2.3542 Acc nan\n",
      "Epoch 1 Batch 17 Loss 2.0602\n",
      "Time taken for 1 epoch 50.87861776351929 sec\n",
      "\n",
      "Epoch 2 Batch 0 Loss 1.7394 Acc nan\n",
      "Epoch 2 Batch 17 Loss 1.6911\n",
      "Time taken for 1 epoch 20.432955026626587 sec\n",
      "\n",
      "Epoch 3 Batch 0 Loss 1.4707 Acc nan\n",
      "Epoch 3 Batch 17 Loss 1.5361\n",
      "Time taken for 1 epoch 21.426595449447632 sec\n",
      "\n",
      "Epoch 4 Batch 0 Loss 1.5519 Acc nan\n",
      "Epoch 4 Batch 17 Loss 1.4038\n",
      "Time taken for 1 epoch 18.90241026878357 sec\n",
      "\n",
      "Epoch 5 Batch 0 Loss 1.3440 Acc nan\n",
      "Epoch 5 Batch 17 Loss 1.2928\n",
      "Time taken for 1 epoch 17.392863512039185 sec\n",
      "\n",
      "Epoch 6 Batch 0 Loss 1.3415 Acc 0.3030\n",
      "Epoch 6 Batch 17 Loss 1.2030\n",
      "Time taken for 1 epoch 18.076027631759644 sec\n",
      "\n"
     ]
    },
    {
     "name": "stdout",
     "output_type": "stream",
     "text": [
      "Epoch 7 Batch 0 Loss 1.1321 Acc nan\n",
      "Epoch 7 Batch 17 Loss 1.1072\n",
      "Time taken for 1 epoch 17.501245975494385 sec\n",
      "\n",
      "Epoch 8 Batch 0 Loss 0.9676 Acc nan\n",
      "Epoch 8 Batch 17 Loss 1.0481\n",
      "Time taken for 1 epoch 17.828599214553833 sec\n",
      "\n",
      "Epoch 9 Batch 0 Loss 1.0251 Acc 0.3144\n",
      "Epoch 9 Batch 17 Loss 0.9743\n",
      "Time taken for 1 epoch 16.275941371917725 sec\n",
      "\n",
      "Epoch 10 Batch 0 Loss 0.8061 Acc nan\n",
      "Epoch 10 Batch 17 Loss 0.9129\n",
      "Time taken for 1 epoch 17.752201080322266 sec\n",
      "\n",
      "Epoch 11 Batch 0 Loss 0.8268 Acc nan\n",
      "Epoch 11 Batch 17 Loss 0.8233\n",
      "Time taken for 1 epoch 16.490007638931274 sec\n",
      "\n",
      "Epoch 12 Batch 0 Loss 0.6622 Acc nan\n",
      "Epoch 12 Batch 17 Loss 0.7520\n",
      "Time taken for 1 epoch 16.587630033493042 sec\n",
      "\n",
      "Epoch 13 Batch 0 Loss 0.7800 Acc nan\n",
      "Epoch 13 Batch 17 Loss 0.6828\n",
      "Time taken for 1 epoch 16.111066102981567 sec\n",
      "\n",
      "Epoch 14 Batch 0 Loss 0.6709 Acc nan\n",
      "Epoch 14 Batch 17 Loss 0.6234\n",
      "Time taken for 1 epoch 17.18657684326172 sec\n",
      "\n",
      "Epoch 15 Batch 0 Loss 0.3383 Acc nan\n",
      "Epoch 15 Batch 17 Loss 0.5653\n",
      "Time taken for 1 epoch 16.353049993515015 sec\n",
      "\n",
      "Epoch 16 Batch 0 Loss 0.5588 Acc nan\n",
      "Epoch 16 Batch 17 Loss 0.5004\n",
      "Time taken for 1 epoch 18.258659601211548 sec\n",
      "\n",
      "Epoch 17 Batch 0 Loss 0.3884 Acc nan\n",
      "Epoch 17 Batch 17 Loss 0.4387\n",
      "Time taken for 1 epoch 20.91730761528015 sec\n",
      "\n",
      "Epoch 18 Batch 0 Loss 0.3291 Acc nan\n",
      "Epoch 18 Batch 17 Loss 0.3927\n",
      "Time taken for 1 epoch 19.811931848526 sec\n",
      "\n",
      "Epoch 19 Batch 0 Loss 0.3670 Acc nan\n",
      "Epoch 19 Batch 17 Loss 0.3475\n",
      "Time taken for 1 epoch 16.457226514816284 sec\n",
      "\n",
      "Epoch 20 Batch 0 Loss 0.2606 Acc nan\n",
      "Epoch 20 Batch 17 Loss 0.3127\n",
      "Time taken for 1 epoch 16.60100221633911 sec\n",
      "\n",
      "Epoch 21 Batch 0 Loss 0.2287 Acc 0.8827\n",
      "Epoch 21 Batch 17 Loss 0.2581\n",
      "Time taken for 1 epoch 17.059776782989502 sec\n",
      "\n",
      "Epoch 22 Batch 0 Loss 0.1743 Acc nan\n",
      "Epoch 22 Batch 17 Loss 0.2111\n",
      "Time taken for 1 epoch 17.553934574127197 sec\n",
      "\n",
      "Epoch 23 Batch 0 Loss 0.1209 Acc nan\n",
      "Epoch 23 Batch 17 Loss 0.1993\n",
      "Time taken for 1 epoch 16.9842312335968 sec\n",
      "\n",
      "Epoch 24 Batch 0 Loss 0.1253 Acc nan\n",
      "Epoch 24 Batch 17 Loss 0.1798\n",
      "Time taken for 1 epoch 16.779292345046997 sec\n",
      "\n",
      "Epoch 25 Batch 0 Loss 0.1266 Acc nan\n",
      "Epoch 25 Batch 17 Loss 0.1530\n",
      "Time taken for 1 epoch 16.706084728240967 sec\n",
      "\n",
      "Epoch 26 Batch 0 Loss 0.0989 Acc nan\n",
      "Epoch 26 Batch 17 Loss 0.1453\n",
      "Time taken for 1 epoch 16.987717628479004 sec\n",
      "\n",
      "Epoch 27 Batch 0 Loss 0.0965 Acc nan\n",
      "Epoch 27 Batch 17 Loss 0.1637\n",
      "Time taken for 1 epoch 18.504844903945923 sec\n",
      "\n",
      "Epoch 28 Batch 0 Loss 0.0811 Acc nan\n",
      "Epoch 28 Batch 17 Loss 0.1388\n",
      "Time taken for 1 epoch 17.898332118988037 sec\n",
      "\n",
      "Epoch 29 Batch 0 Loss 0.0688 Acc nan\n",
      "Epoch 29 Batch 17 Loss 0.1136\n",
      "Time taken for 1 epoch 16.92406725883484 sec\n",
      "\n",
      "Epoch 30 Batch 0 Loss 0.0587 Acc nan\n",
      "Epoch 30 Batch 17 Loss 0.1160\n",
      "Time taken for 1 epoch 16.505147218704224 sec\n",
      "\n",
      "Epoch 31 Batch 0 Loss 0.1537 Acc nan\n",
      "Epoch 31 Batch 17 Loss 0.1144\n",
      "Time taken for 1 epoch 16.351139068603516 sec\n",
      "\n",
      "Epoch 32 Batch 0 Loss 0.0826 Acc nan\n",
      "Epoch 32 Batch 17 Loss 0.1019\n",
      "Time taken for 1 epoch 17.1337890625 sec\n",
      "\n",
      "Epoch 33 Batch 0 Loss 0.1058 Acc nan\n",
      "Epoch 33 Batch 17 Loss 0.0866\n",
      "Time taken for 1 epoch 16.263338088989258 sec\n",
      "\n",
      "Epoch 34 Batch 0 Loss 0.0547 Acc nan\n",
      "Epoch 34 Batch 17 Loss 0.0691\n",
      "Time taken for 1 epoch 16.62621808052063 sec\n",
      "\n",
      "Epoch 35 Batch 0 Loss 0.0437 Acc nan\n",
      "Epoch 35 Batch 17 Loss 0.0749\n",
      "Time taken for 1 epoch 16.599823236465454 sec\n",
      "\n",
      "Epoch 36 Batch 0 Loss 0.0499 Acc nan\n",
      "Epoch 36 Batch 17 Loss 0.0821\n",
      "Time taken for 1 epoch 16.458669424057007 sec\n",
      "\n",
      "Epoch 37 Batch 0 Loss 0.0749 Acc nan\n",
      "Epoch 37 Batch 17 Loss 0.0751\n",
      "Time taken for 1 epoch 16.022202491760254 sec\n",
      "\n",
      "Epoch 38 Batch 0 Loss 0.0308 Acc nan\n",
      "Epoch 38 Batch 17 Loss 0.0593\n",
      "Time taken for 1 epoch 16.29850697517395 sec\n",
      "\n",
      "Epoch 39 Batch 0 Loss 0.0250 Acc nan\n",
      "Epoch 39 Batch 17 Loss 0.0538\n",
      "Time taken for 1 epoch 15.994257926940918 sec\n",
      "\n",
      "Epoch 40 Batch 0 Loss 0.0353 Acc nan\n",
      "Epoch 40 Batch 17 Loss 0.0511\n",
      "Time taken for 1 epoch 16.52513575553894 sec\n",
      "\n",
      "Epoch 41 Batch 0 Loss 0.0207 Acc nan\n",
      "Epoch 41 Batch 17 Loss 0.0454\n",
      "Time taken for 1 epoch 16.718076944351196 sec\n",
      "\n",
      "Epoch 42 Batch 0 Loss 0.0448 Acc nan\n",
      "Epoch 42 Batch 17 Loss 0.0469\n",
      "Time taken for 1 epoch 16.308533191680908 sec\n",
      "\n",
      "Epoch 43 Batch 0 Loss 0.0375 Acc nan\n",
      "Epoch 43 Batch 17 Loss 0.0439\n",
      "Time taken for 1 epoch 16.700765371322632 sec\n",
      "\n",
      "Epoch 44 Batch 0 Loss 0.0210 Acc nan\n",
      "Epoch 44 Batch 17 Loss 0.0390\n",
      "Time taken for 1 epoch 17.01206374168396 sec\n",
      "\n",
      "Epoch 45 Batch 0 Loss 0.0405 Acc nan\n",
      "Epoch 45 Batch 17 Loss 0.0360\n",
      "Time taken for 1 epoch 16.01691460609436 sec\n",
      "\n",
      "Epoch 46 Batch 0 Loss 0.0396 Acc nan\n",
      "Epoch 46 Batch 17 Loss 0.0360\n",
      "Time taken for 1 epoch 17.144684314727783 sec\n",
      "\n",
      "Epoch 47 Batch 0 Loss 0.0393 Acc nan\n",
      "Epoch 47 Batch 17 Loss 0.0303\n",
      "Time taken for 1 epoch 16.031209468841553 sec\n",
      "\n",
      "Epoch 48 Batch 0 Loss 0.0137 Acc nan\n",
      "Epoch 48 Batch 17 Loss 0.0321\n",
      "Time taken for 1 epoch 16.488773345947266 sec\n",
      "\n",
      "Epoch 49 Batch 0 Loss 0.0331 Acc nan\n",
      "Epoch 49 Batch 17 Loss 0.0319\n",
      "Time taken for 1 epoch 15.988844394683838 sec\n",
      "\n",
      "Epoch 50 Batch 0 Loss 0.0137 Acc nan\n",
      "Epoch 50 Batch 17 Loss 0.0371\n",
      "Time taken for 1 epoch 16.411079168319702 sec\n",
      "\n"
     ]
    }
   ],
   "source": [
    "EPOCHS = 50\n",
    "total_accuracy = 0\n",
    "for epoch in range(EPOCHS):\n",
    "    start = time.time()\n",
    "\n",
    "    enc_hidden = encoder.initialize_hidden_state()\n",
    "    total_loss = 0\n",
    "    for (batch, (inp, targ)) in enumerate(dataset.take(steps_per_epoch)):\n",
    "        batch_loss, batch_accuracy = train_step(inp, targ, enc_hidden)\n",
    "        total_loss += batch_loss\n",
    "        total_accuracy += batch_accuracy\n",
    "        if batch % 100 == 0:\n",
    "            print('Epoch {} Batch {} Loss {:.4f} Acc {:.4f}'.format(epoch + 1,batch, batch_loss.numpy(),batch_accuracy.numpy()))\n",
    "   \n",
    "      \n",
    "  # saving (checkpoint) the model every 2 epochs\n",
    "    if (epoch + 1) % 2 == 0:\n",
    "        checkpoint.save(file_prefix = checkpoint_prefix)\n",
    "        \n",
    "    print('Epoch {} Batch {} Loss {:.4f}'.format(epoch + 1,batch,\n",
    "                                      total_loss / steps_per_epoch))\n",
    "    print('Time taken for 1 epoch {} sec\\n'.format(time.time() - start))"
   ]
  },
  {
   "cell_type": "code",
   "execution_count": 32,
   "metadata": {},
   "outputs": [
    {
     "name": "stdout",
     "output_type": "stream",
     "text": [
      "nan\n"
     ]
    },
    {
     "data": {
      "text/plain": [
       "\"\\nfor epoch in range(EPOCHS):\\n    start = time.time()\\n    enc_hidden = encoder.initialize_hidden_state()\\n    for (batch, (inp, targ)) in enumerate(test_dataset):\\n        batch_loss, batch_accuracy = test_step(inp, targ, enc_hidden)\\n        if batch % 100 == 0:\\n            print('Batch {} Loss {:.4f} Acc:{:.4f}'.format(batch, batch_loss.numpy(),batch_accuracy.numpy()))\\n\""
      ]
     },
     "execution_count": 32,
     "metadata": {},
     "output_type": "execute_result"
    }
   ],
   "source": [
    "print(batch_accuracy.numpy())\n",
    "'''\n",
    "for epoch in range(EPOCHS):\n",
    "    start = time.time()\n",
    "    enc_hidden = encoder.initialize_hidden_state()\n",
    "    for (batch, (inp, targ)) in enumerate(test_dataset):\n",
    "        batch_loss, batch_accuracy = test_step(inp, targ, enc_hidden)\n",
    "        if batch % 100 == 0:\n",
    "            print('Batch {} Loss {:.4f} Acc:{:.4f}'.format(batch, batch_loss.numpy(),batch_accuracy.numpy()))\n",
    "'''"
   ]
  },
  {
   "cell_type": "code",
   "execution_count": 33,
   "metadata": {},
   "outputs": [
    {
     "name": "stdout",
     "output_type": "stream",
     "text": [
      "Model: \"encoder\"\n",
      "_________________________________________________________________\n",
      "Layer (type)                 Output Shape              Param #   \n",
      "=================================================================\n",
      "embedding (Embedding)        multiple                  84480     \n",
      "_________________________________________________________________\n",
      "gru (GRU)                    multiple                  3938304   \n",
      "=================================================================\n",
      "Total params: 4,022,784\n",
      "Trainable params: 4,022,784\n",
      "Non-trainable params: 0\n",
      "_________________________________________________________________\n",
      "Model: \"decoder\"\n",
      "_________________________________________________________________\n",
      "Layer (type)                 Output Shape              Param #   \n",
      "=================================================================\n",
      "embedding_1 (Embedding)      multiple                  102400    \n",
      "_________________________________________________________________\n",
      "gru_1 (GRU)                  multiple                  7084032   \n",
      "_________________________________________________________________\n",
      "dense_3 (Dense)              multiple                  410000    \n",
      "_________________________________________________________________\n",
      "luong_attention_1 (LuongAtte multiple                  0         \n",
      "=================================================================\n",
      "Total params: 7,596,432\n",
      "Trainable params: 7,596,432\n",
      "Non-trainable params: 0\n",
      "_________________________________________________________________\n"
     ]
    },
    {
     "data": {
      "text/plain": [
       "'\\nenc_hidden = encoder.initialize_hidden_state()\\nfor (batch, (inp, targ)) in enumerate(test_dataset):\\n    if len(inp) != BATCH_SIZE:\\n        enc_hidden = encoder.initialize_hidden_state()\\n        # make prediction\\n    if batch == 0:\\n        predictions, attention_weights = test_step(inp,targ,enc_hidden)\\n        predictions, attention_weights = predictions.numpy(), attention_weights.numpy()\\n        print(predictions)\\n    else:\\n        _predictions, _attention_weights = test_step(inp, targ,enc_hidden)\\n        _predictions, _attention_weights = _predictions.numpy(), _attention_weights.numpy()\\n        print(_predictions)\\n        predictions = np.concatenate((predictions, _predictions))\\n        attention_weights = np.concatenate((attention_weights, _attention_weights))\\n    \\npredictions = np.squeeze(predictions)\\nattention_weights = np.squeeze(attention_weights)\\npredictions[np.where(predictions < 0.5)] = 0\\npredictions[np.where(predictions >= 0.5)] = 1\\n    #return predictions, attention_weights\\n    \\n'"
      ]
     },
     "execution_count": 33,
     "metadata": {},
     "output_type": "execute_result"
    }
   ],
   "source": [
    "tf.keras.Model.summary(encoder)\n",
    "#tf.keras.Layers.layers.summary(attention_layer)\n",
    "tf.keras.Model.summary(decoder)\n",
    "\n",
    "'''\n",
    "enc_hidden = encoder.initialize_hidden_state()\n",
    "for (batch, (inp, targ)) in enumerate(test_dataset):\n",
    "    if len(inp) != BATCH_SIZE:\n",
    "        enc_hidden = encoder.initialize_hidden_state()\n",
    "        # make prediction\n",
    "    if batch == 0:\n",
    "        predictions, attention_weights = test_step(inp,targ,enc_hidden)\n",
    "        predictions, attention_weights = predictions.numpy(), attention_weights.numpy()\n",
    "        print(predictions)\n",
    "    else:\n",
    "        _predictions, _attention_weights = test_step(inp, targ,enc_hidden)\n",
    "        _predictions, _attention_weights = _predictions.numpy(), _attention_weights.numpy()\n",
    "        print(_predictions)\n",
    "        predictions = np.concatenate((predictions, _predictions))\n",
    "        attention_weights = np.concatenate((attention_weights, _attention_weights))\n",
    "    \n",
    "predictions = np.squeeze(predictions)\n",
    "attention_weights = np.squeeze(attention_weights)\n",
    "predictions[np.where(predictions < 0.5)] = 0\n",
    "predictions[np.where(predictions >= 0.5)] = 1\n",
    "    #return predictions, attention_weights\n",
    "    \n",
    "'''"
   ]
  },
  {
   "cell_type": "code",
   "execution_count": 34,
   "metadata": {},
   "outputs": [
    {
     "ename": "NameError",
     "evalue": "name 'predictions' is not defined",
     "output_type": "error",
     "traceback": [
      "\u001b[1;31m---------------------------------------------------------------------------\u001b[0m",
      "\u001b[1;31mNameError\u001b[0m                                 Traceback (most recent call last)",
      "\u001b[1;32m<ipython-input-34-dae56888a377>\u001b[0m in \u001b[0;36m<module>\u001b[1;34m\u001b[0m\n\u001b[1;32m----> 1\u001b[1;33m \u001b[0mprint\u001b[0m\u001b[1;33m(\u001b[0m\u001b[1;34m'Accuracy: '\u001b[0m\u001b[1;33m,\u001b[0m \u001b[1;33m(\u001b[0m\u001b[0mpredictions\u001b[0m \u001b[1;33m==\u001b[0m \u001b[0mtarget_test_tensor\u001b[0m\u001b[1;33m)\u001b[0m\u001b[1;33m.\u001b[0m\u001b[0msum\u001b[0m\u001b[1;33m(\u001b[0m\u001b[1;33m)\u001b[0m \u001b[1;33m/\u001b[0m \u001b[0mlen\u001b[0m\u001b[1;33m(\u001b[0m\u001b[0mtarget_test_tensor\u001b[0m\u001b[1;33m)\u001b[0m\u001b[1;33m)\u001b[0m\u001b[1;33m\u001b[0m\u001b[1;33m\u001b[0m\u001b[0m\n\u001b[0m",
      "\u001b[1;31mNameError\u001b[0m: name 'predictions' is not defined"
     ]
    }
   ],
   "source": [
    "print('Accuracy: ', (predictions == target_test_tensor).sum() / len(target_test_tensor))"
   ]
  },
  {
   "cell_type": "code",
   "execution_count": 35,
   "metadata": {},
   "outputs": [],
   "source": [
    "def evaluate(sentence):\n",
    "    attention_plot = np.zeros((max_target_length, max_source_length))\n",
    "\n",
    "    sentence = preprocess_sentence(sentence)\n",
    "    #print(sentence)\n",
    "    #print(source_sentence_tokenizer.word_index)\n",
    "\n",
    "    inputs = [source_sentence_tokenizer.word_index[i] for i in sentence.split(' ')]\n",
    "    inputs = tf.keras.preprocessing.sequence.pad_sequences([inputs],\n",
    "                                                         maxlen=max_source_length,\n",
    "                                                         padding='post')\n",
    "    inputs = tf.convert_to_tensor(inputs)\n",
    "\n",
    "    result = ''\n",
    "\n",
    "    hidden = [tf.zeros((1, units))]\n",
    "    enc_out, enc_hidden = encoder(inputs, hidden)\n",
    "\n",
    "    dec_hidden = enc_hidden\n",
    "    dec_input = tf.expand_dims([target_sentence_tokenizer.word_index['start_']], 0)\n",
    "\n",
    "    for t in range(max_target_length):\n",
    "        predictions, dec_hidden, attention_weights = decoder(dec_input,\n",
    "                                                         dec_hidden,\n",
    "                                                         enc_out)\n",
    "\n",
    "        # storing the attention weights to plot later on\n",
    "        attention_weights = tf.reshape(attention_weights, (-1, ))\n",
    "        attention_plot[t] = attention_weights.numpy()\n",
    "\n",
    "        predicted_id = tf.argmax(predictions[0]).numpy()\n",
    "\n",
    "        result += target_sentence_tokenizer.index_word[predicted_id] + ' '\n",
    "        print(predicted_id)\n",
    "        if target_sentence_tokenizer.index_word[predicted_id] == '_end':\n",
    "            return result, sentence, attention_plot\n",
    "\n",
    "        # the predicted ID is fed back into the model\n",
    "        dec_input = tf.expand_dims([predicted_id], 0)\n",
    "\n",
    "    return result, sentence, attention_plot"
   ]
  },
  {
   "cell_type": "code",
   "execution_count": 36,
   "metadata": {},
   "outputs": [],
   "source": [
    "# function for plotting the attention weights\n",
    "def plot_attention(attention, sentence, predicted_sentence):\n",
    "    fig = plt.figure(figsize=(10,10))\n",
    "    ax = fig.add_subplot(1, 1, 1)\n",
    "    ax.matshow(attention, cmap='viridis')\n",
    "\n",
    "    fontdict = {'fontsize': 14}\n",
    "\n",
    "    ax.set_xticklabels([''] + sentence, fontdict=fontdict, rotation=90)\n",
    "    ax.set_yticklabels([''] + predicted_sentence, fontdict=fontdict)\n",
    "\n",
    "    ax.xaxis.set_major_locator(ticker.MultipleLocator(1))\n",
    "    ax.yaxis.set_major_locator(ticker.MultipleLocator(1))\n",
    "\n",
    "    plt.show()"
   ]
  },
  {
   "cell_type": "code",
   "execution_count": 37,
   "metadata": {},
   "outputs": [],
   "source": [
    "def translate(sentence):\n",
    "    result, sentence, attention_plot = evaluate(sentence)\n",
    "  \n",
    "    print('Input: %s' % (sentence))\n",
    "    print('Predicted translation: {}'.format(result))\n",
    "\n",
    "    attention_plot = attention_plot[:len(result.split(' ')), :len(sentence.split(' '))]\n",
    "    plot_attention(attention_plot, sentence.split(' '), result.split(' '))"
   ]
  },
  {
   "cell_type": "code",
   "execution_count": 38,
   "metadata": {},
   "outputs": [
    {
     "data": {
      "text/plain": [
       "<tensorflow.python.training.tracking.util.CheckpointLoadStatus at 0x274bfabdc10>"
      ]
     },
     "execution_count": 38,
     "metadata": {},
     "output_type": "execute_result"
    }
   ],
   "source": [
    "# restoring the latest checkpoint in checkpoint_dir\n",
    "checkpoint.restore(tf.train.latest_checkpoint(checkpoint_dir))"
   ]
  },
  {
   "cell_type": "markdown",
   "metadata": {},
   "source": [
    "@tf.function\n",
    "def test_step(inp, targ, enc_hidden):\n",
    "    loss = 0\n",
    "\n",
    "    with tf.GradientTape() as tape:\n",
    "        enc_output, enc_hidden = encoder(inp, enc_hidden)\n",
    "        dec_hidden = enc_hidden\n",
    "        dec_input = tf.expand_dims([target_sentence_tokenizer.word_index['start_']] * BATCH_SIZE, 1)\n",
    "        predictions, dec_hidden, attention_weights = decoder(dec_input, dec_hidden, enc_output)\n",
    "    return predictions,dec_hidden, attention_weights"
   ]
  },
  {
   "cell_type": "code",
   "execution_count": 39,
   "metadata": {},
   "outputs": [
    {
     "name": "stdout",
     "output_type": "stream",
     "text": [
      "\n",
      "******* Luong Attention  STARTS******\n",
      "query (decoder hidden state): (batch_size, hidden size)  (1, 1024)\n",
      "values (encoder all hidden state): (batch_size, max_len, hidden size)  (1, 12, 1024)\n",
      "query_with_time_axis:(batch_size, 1, hidden size)  (1, 1, 1024)\n",
      "values_transposed:(batch_size, hidden size, max_len)  (1, 1024, 12)\n",
      "score: (batch_size, max_length, 1)  (1, 12, 1)\n",
      "attention_weights: (batch_size, max_length, 1)  (1, 12, 1)\n",
      "context_vector before reduce_sum: (batch_size, max_length, hidden_size)  (1, 12, 1024)\n",
      "context_vector after reduce_sum: (batch_size, hidden_size)  (1, 1024)\n",
      "\n",
      "******* Luong Attention ENDS******\n",
      "3\n",
      "\n",
      "******* Luong Attention  STARTS******\n",
      "query (decoder hidden state): (batch_size, hidden size)  (1, 1024)\n",
      "values (encoder all hidden state): (batch_size, max_len, hidden size)  (1, 12, 1024)\n",
      "query_with_time_axis:(batch_size, 1, hidden size)  (1, 1, 1024)\n",
      "values_transposed:(batch_size, hidden size, max_len)  (1, 1024, 12)\n",
      "score: (batch_size, max_length, 1)  (1, 12, 1)\n",
      "attention_weights: (batch_size, max_length, 1)  (1, 12, 1)\n",
      "context_vector before reduce_sum: (batch_size, max_length, hidden_size)  (1, 12, 1024)\n",
      "context_vector after reduce_sum: (batch_size, hidden_size)  (1, 1024)\n",
      "\n",
      "******* Luong Attention ENDS******\n",
      "65\n",
      "\n",
      "******* Luong Attention  STARTS******\n",
      "query (decoder hidden state): (batch_size, hidden size)  (1, 1024)\n",
      "values (encoder all hidden state): (batch_size, max_len, hidden size)  (1, 12, 1024)\n",
      "query_with_time_axis:(batch_size, 1, hidden size)  (1, 1, 1024)\n",
      "values_transposed:(batch_size, hidden size, max_len)  (1, 1024, 12)\n",
      "score: (batch_size, max_length, 1)  (1, 12, 1)\n",
      "attention_weights: (batch_size, max_length, 1)  (1, 12, 1)\n",
      "context_vector before reduce_sum: (batch_size, max_length, hidden_size)  (1, 12, 1024)\n",
      "context_vector after reduce_sum: (batch_size, hidden_size)  (1, 1024)\n",
      "\n",
      "******* Luong Attention ENDS******\n",
      "2\n",
      "Input: start_ i come before _end\n",
      "Predicted translation: i came _end \n"
     ]
    },
    {
     "name": "stderr",
     "output_type": "stream",
     "text": [
      "<ipython-input-36-71f02795d875>:9: UserWarning: FixedFormatter should only be used together with FixedLocator\n",
      "  ax.set_xticklabels([''] + sentence, fontdict=fontdict, rotation=90)\n",
      "<ipython-input-36-71f02795d875>:10: UserWarning: FixedFormatter should only be used together with FixedLocator\n",
      "  ax.set_yticklabels([''] + predicted_sentence, fontdict=fontdict)\n"
     ]
    },
    {
     "data": {
      "image/png": "[encoded data removed]",
      "text/plain": [
       "<Figure size 720x720 with 1 Axes>"
      ]
     },
     "metadata": {
      "needs_background": "light"
     },
     "output_type": "display_data"
    }
   ],
   "source": [
    "translate(u'i come before')"
   ]
  },
  {
   "cell_type": "code",
   "execution_count": 40,
   "metadata": {},
   "outputs": [
    {
     "name": "stdout",
     "output_type": "stream",
     "text": [
      "\n",
      "******* Luong Attention  STARTS******\n",
      "query (decoder hidden state): (batch_size, hidden size)  (1, 1024)\n",
      "values (encoder all hidden state): (batch_size, max_len, hidden size)  (1, 12, 1024)\n",
      "query_with_time_axis:(batch_size, 1, hidden size)  (1, 1, 1024)\n",
      "values_transposed:(batch_size, hidden size, max_len)  (1, 1024, 12)\n",
      "score: (batch_size, max_length, 1)  (1, 12, 1)\n",
      "attention_weights: (batch_size, max_length, 1)  (1, 12, 1)\n",
      "context_vector before reduce_sum: (batch_size, max_length, hidden_size)  (1, 12, 1024)\n",
      "context_vector after reduce_sum: (batch_size, hidden_size)  (1, 1024)\n",
      "\n",
      "******* Luong Attention ENDS******\n",
      "3\n",
      "\n",
      "******* Luong Attention  STARTS******\n",
      "query (decoder hidden state): (batch_size, hidden size)  (1, 1024)\n",
      "values (encoder all hidden state): (batch_size, max_len, hidden size)  (1, 12, 1024)\n",
      "query_with_time_axis:(batch_size, 1, hidden size)  (1, 1, 1024)\n",
      "values_transposed:(batch_size, hidden size, max_len)  (1, 1024, 12)\n",
      "score: (batch_size, max_length, 1)  (1, 12, 1)\n",
      "attention_weights: (batch_size, max_length, 1)  (1, 12, 1)\n",
      "context_vector before reduce_sum: (batch_size, max_length, hidden_size)  (1, 12, 1024)\n",
      "context_vector after reduce_sum: (batch_size, hidden_size)  (1, 1024)\n",
      "\n",
      "******* Luong Attention ENDS******\n",
      "8\n",
      "\n",
      "******* Luong Attention  STARTS******\n",
      "query (decoder hidden state): (batch_size, hidden size)  (1, 1024)\n",
      "values (encoder all hidden state): (batch_size, max_len, hidden size)  (1, 12, 1024)\n",
      "query_with_time_axis:(batch_size, 1, hidden size)  (1, 1, 1024)\n",
      "values_transposed:(batch_size, hidden size, max_len)  (1, 1024, 12)\n",
      "score: (batch_size, max_length, 1)  (1, 12, 1)\n",
      "attention_weights: (batch_size, max_length, 1)  (1, 12, 1)\n",
      "context_vector before reduce_sum: (batch_size, max_length, hidden_size)  (1, 12, 1024)\n",
      "context_vector after reduce_sum: (batch_size, hidden_size)  (1, 1024)\n",
      "\n",
      "******* Luong Attention ENDS******\n",
      "68\n",
      "\n",
      "******* Luong Attention  STARTS******\n",
      "query (decoder hidden state): (batch_size, hidden size)  (1, 1024)\n",
      "values (encoder all hidden state): (batch_size, max_len, hidden size)  (1, 12, 1024)\n",
      "query_with_time_axis:(batch_size, 1, hidden size)  (1, 1, 1024)\n",
      "values_transposed:(batch_size, hidden size, max_len)  (1, 1024, 12)\n",
      "score: (batch_size, max_length, 1)  (1, 12, 1)\n",
      "attention_weights: (batch_size, max_length, 1)  (1, 12, 1)\n",
      "context_vector before reduce_sum: (batch_size, max_length, hidden_size)  (1, 12, 1024)\n",
      "context_vector after reduce_sum: (batch_size, hidden_size)  (1, 1024)\n",
      "\n",
      "******* Luong Attention ENDS******\n",
      "2\n",
      "Input: start_ food want _end\n",
      "Predicted translation: i am hungry _end \n"
     ]
    },
    {
     "name": "stderr",
     "output_type": "stream",
     "text": [
      "<ipython-input-36-71f02795d875>:9: UserWarning: FixedFormatter should only be used together with FixedLocator\n",
      "  ax.set_xticklabels([''] + sentence, fontdict=fontdict, rotation=90)\n",
      "<ipython-input-36-71f02795d875>:10: UserWarning: FixedFormatter should only be used together with FixedLocator\n",
      "  ax.set_yticklabels([''] + predicted_sentence, fontdict=fontdict)\n"
     ]
    },
    {
     "data": {
      "image/png": "[encoded data removed]",
      "text/plain": [
       "<Figure size 720x720 with 1 Axes>"
      ]
     },
     "metadata": {
      "needs_background": "light"
     },
     "output_type": "display_data"
    }
   ],
   "source": [
    "translate(u'food want')"
   ]
  },
  {
   "cell_type": "code",
   "execution_count": 41,
   "metadata": {},
   "outputs": [
    {
     "name": "stdout",
     "output_type": "stream",
     "text": [
      "\n",
      "******* Luong Attention  STARTS******\n",
      "query (decoder hidden state): (batch_size, hidden size)  (1, 1024)\n",
      "values (encoder all hidden state): (batch_size, max_len, hidden size)  (1, 12, 1024)\n",
      "query_with_time_axis:(batch_size, 1, hidden size)  (1, 1, 1024)\n",
      "values_transposed:(batch_size, hidden size, max_len)  (1, 1024, 12)\n",
      "score: (batch_size, max_length, 1)  (1, 12, 1)\n",
      "attention_weights: (batch_size, max_length, 1)  (1, 12, 1)\n",
      "context_vector before reduce_sum: (batch_size, max_length, hidden_size)  (1, 12, 1024)\n",
      "context_vector after reduce_sum: (batch_size, hidden_size)  (1, 1024)\n",
      "\n",
      "******* Luong Attention ENDS******\n",
      "3\n",
      "\n",
      "******* Luong Attention  STARTS******\n",
      "query (decoder hidden state): (batch_size, hidden size)  (1, 1024)\n",
      "values (encoder all hidden state): (batch_size, max_len, hidden size)  (1, 12, 1024)\n",
      "query_with_time_axis:(batch_size, 1, hidden size)  (1, 1, 1024)\n",
      "values_transposed:(batch_size, hidden size, max_len)  (1, 1024, 12)\n",
      "score: (batch_size, max_length, 1)  (1, 12, 1)\n",
      "attention_weights: (batch_size, max_length, 1)  (1, 12, 1)\n",
      "context_vector before reduce_sum: (batch_size, max_length, hidden_size)  (1, 12, 1024)\n",
      "context_vector after reduce_sum: (batch_size, hidden_size)  (1, 1024)\n",
      "\n",
      "******* Luong Attention ENDS******\n",
      "166\n",
      "\n",
      "******* Luong Attention  STARTS******\n",
      "query (decoder hidden state): (batch_size, hidden size)  (1, 1024)\n",
      "values (encoder all hidden state): (batch_size, max_len, hidden size)  (1, 12, 1024)\n",
      "query_with_time_axis:(batch_size, 1, hidden size)  (1, 1, 1024)\n",
      "values_transposed:(batch_size, hidden size, max_len)  (1, 1024, 12)\n",
      "score: (batch_size, max_length, 1)  (1, 12, 1)\n",
      "attention_weights: (batch_size, max_length, 1)  (1, 12, 1)\n",
      "context_vector before reduce_sum: (batch_size, max_length, hidden_size)  (1, 12, 1024)\n",
      "context_vector after reduce_sum: (batch_size, hidden_size)  (1, 1024)\n",
      "\n",
      "******* Luong Attention ENDS******\n",
      "11\n",
      "\n",
      "******* Luong Attention  STARTS******\n",
      "query (decoder hidden state): (batch_size, hidden size)  (1, 1024)\n",
      "values (encoder all hidden state): (batch_size, max_len, hidden size)  (1, 12, 1024)\n",
      "query_with_time_axis:(batch_size, 1, hidden size)  (1, 1, 1024)\n",
      "values_transposed:(batch_size, hidden size, max_len)  (1, 1024, 12)\n",
      "score: (batch_size, max_length, 1)  (1, 12, 1)\n",
      "attention_weights: (batch_size, max_length, 1)  (1, 12, 1)\n",
      "context_vector before reduce_sum: (batch_size, max_length, hidden_size)  (1, 12, 1024)\n",
      "context_vector after reduce_sum: (batch_size, hidden_size)  (1, 1024)\n",
      "\n",
      "******* Luong Attention ENDS******\n",
      "96\n",
      "\n",
      "******* Luong Attention  STARTS******\n",
      "query (decoder hidden state): (batch_size, hidden size)  (1, 1024)\n",
      "values (encoder all hidden state): (batch_size, max_len, hidden size)  (1, 12, 1024)\n",
      "query_with_time_axis:(batch_size, 1, hidden size)  (1, 1, 1024)\n",
      "values_transposed:(batch_size, hidden size, max_len)  (1, 1024, 12)\n",
      "score: (batch_size, max_length, 1)  (1, 12, 1)\n",
      "attention_weights: (batch_size, max_length, 1)  (1, 12, 1)\n",
      "context_vector before reduce_sum: (batch_size, max_length, hidden_size)  (1, 12, 1024)\n",
      "context_vector after reduce_sum: (batch_size, hidden_size)  (1, 1024)\n",
      "\n",
      "******* Luong Attention ENDS******\n",
      "2\n",
      "Input: start_ i stay pune _end\n",
      "Predicted translation: i see in pune _end \n"
     ]
    },
    {
     "name": "stderr",
     "output_type": "stream",
     "text": [
      "<ipython-input-36-71f02795d875>:9: UserWarning: FixedFormatter should only be used together with FixedLocator\n",
      "  ax.set_xticklabels([''] + sentence, fontdict=fontdict, rotation=90)\n",
      "<ipython-input-36-71f02795d875>:10: UserWarning: FixedFormatter should only be used together with FixedLocator\n",
      "  ax.set_yticklabels([''] + predicted_sentence, fontdict=fontdict)\n"
     ]
    },
    {
     "data": {
      "image/png": "[encoded data removed]",
      "text/plain": [
       "<Figure size 720x720 with 1 Axes>"
      ]
     },
     "metadata": {
      "needs_background": "light"
     },
     "output_type": "display_data"
    }
   ],
   "source": [
    "translate(u'i stay pune')"
   ]
  },
  {
   "cell_type": "code",
   "execution_count": 42,
   "metadata": {},
   "outputs": [
    {
     "name": "stdout",
     "output_type": "stream",
     "text": [
      "\n",
      "******* Luong Attention  STARTS******\n",
      "query (decoder hidden state): (batch_size, hidden size)  (1, 1024)\n",
      "values (encoder all hidden state): (batch_size, max_len, hidden size)  (1, 12, 1024)\n",
      "query_with_time_axis:(batch_size, 1, hidden size)  (1, 1, 1024)\n",
      "values_transposed:(batch_size, hidden size, max_len)  (1, 1024, 12)\n",
      "score: (batch_size, max_length, 1)  (1, 12, 1)\n",
      "attention_weights: (batch_size, max_length, 1)  (1, 12, 1)\n",
      "context_vector before reduce_sum: (batch_size, max_length, hidden_size)  (1, 12, 1024)\n",
      "context_vector after reduce_sum: (batch_size, hidden_size)  (1, 1024)\n",
      "\n",
      "******* Luong Attention ENDS******\n",
      "17\n",
      "\n",
      "******* Luong Attention  STARTS******\n",
      "query (decoder hidden state): (batch_size, hidden size)  (1, 1024)\n",
      "values (encoder all hidden state): (batch_size, max_len, hidden size)  (1, 12, 1024)\n",
      "query_with_time_axis:(batch_size, 1, hidden size)  (1, 1, 1024)\n",
      "values_transposed:(batch_size, hidden size, max_len)  (1, 1024, 12)\n",
      "score: (batch_size, max_length, 1)  (1, 12, 1)\n",
      "attention_weights: (batch_size, max_length, 1)  (1, 12, 1)\n",
      "context_vector before reduce_sum: (batch_size, max_length, hidden_size)  (1, 12, 1024)\n",
      "context_vector after reduce_sum: (batch_size, hidden_size)  (1, 1024)\n",
      "\n",
      "******* Luong Attention ENDS******\n",
      "4\n",
      "\n",
      "******* Luong Attention  STARTS******\n",
      "query (decoder hidden state): (batch_size, hidden size)  (1, 1024)\n",
      "values (encoder all hidden state): (batch_size, max_len, hidden size)  (1, 12, 1024)\n",
      "query_with_time_axis:(batch_size, 1, hidden size)  (1, 1, 1024)\n",
      "values_transposed:(batch_size, hidden size, max_len)  (1, 1024, 12)\n",
      "score: (batch_size, max_length, 1)  (1, 12, 1)\n",
      "attention_weights: (batch_size, max_length, 1)  (1, 12, 1)\n",
      "context_vector before reduce_sum: (batch_size, max_length, hidden_size)  (1, 12, 1024)\n",
      "context_vector after reduce_sum: (batch_size, hidden_size)  (1, 1024)\n",
      "\n",
      "******* Luong Attention ENDS******\n",
      "22\n",
      "\n",
      "******* Luong Attention  STARTS******\n",
      "query (decoder hidden state): (batch_size, hidden size)  (1, 1024)\n",
      "values (encoder all hidden state): (batch_size, max_len, hidden size)  (1, 12, 1024)\n",
      "query_with_time_axis:(batch_size, 1, hidden size)  (1, 1, 1024)\n",
      "values_transposed:(batch_size, hidden size, max_len)  (1, 1024, 12)\n",
      "score: (batch_size, max_length, 1)  (1, 12, 1)\n",
      "attention_weights: (batch_size, max_length, 1)  (1, 12, 1)\n",
      "context_vector before reduce_sum: (batch_size, max_length, hidden_size)  (1, 12, 1024)\n",
      "context_vector after reduce_sum: (batch_size, hidden_size)  (1, 1024)\n",
      "\n",
      "******* Luong Attention ENDS******\n",
      "105\n",
      "\n",
      "******* Luong Attention  STARTS******\n",
      "query (decoder hidden state): (batch_size, hidden size)  (1, 1024)\n",
      "values (encoder all hidden state): (batch_size, max_len, hidden size)  (1, 12, 1024)\n",
      "query_with_time_axis:(batch_size, 1, hidden size)  (1, 1, 1024)\n",
      "values_transposed:(batch_size, hidden size, max_len)  (1, 1024, 12)\n",
      "score: (batch_size, max_length, 1)  (1, 12, 1)\n",
      "attention_weights: (batch_size, max_length, 1)  (1, 12, 1)\n",
      "context_vector before reduce_sum: (batch_size, max_length, hidden_size)  (1, 12, 1024)\n",
      "context_vector after reduce_sum: (batch_size, hidden_size)  (1, 1024)\n",
      "\n",
      "******* Luong Attention ENDS******\n",
      "5\n",
      "\n",
      "******* Luong Attention  STARTS******\n",
      "query (decoder hidden state): (batch_size, hidden size)  (1, 1024)\n",
      "values (encoder all hidden state): (batch_size, max_len, hidden size)  (1, 12, 1024)\n",
      "query_with_time_axis:(batch_size, 1, hidden size)  (1, 1, 1024)\n",
      "values_transposed:(batch_size, hidden size, max_len)  (1, 1024, 12)\n",
      "score: (batch_size, max_length, 1)  (1, 12, 1)\n",
      "attention_weights: (batch_size, max_length, 1)  (1, 12, 1)\n",
      "context_vector before reduce_sum: (batch_size, max_length, hidden_size)  (1, 12, 1024)\n",
      "context_vector after reduce_sum: (batch_size, hidden_size)  (1, 1024)\n",
      "\n",
      "******* Luong Attention ENDS******\n",
      "2\n",
      "Input: start_ bank where _end\n",
      "Predicted translation: where is your house ? _end \n"
     ]
    },
    {
     "name": "stderr",
     "output_type": "stream",
     "text": [
      "<ipython-input-36-71f02795d875>:9: UserWarning: FixedFormatter should only be used together with FixedLocator\n",
      "  ax.set_xticklabels([''] + sentence, fontdict=fontdict, rotation=90)\n",
      "<ipython-input-36-71f02795d875>:10: UserWarning: FixedFormatter should only be used together with FixedLocator\n",
      "  ax.set_yticklabels([''] + predicted_sentence, fontdict=fontdict)\n"
     ]
    },
    {
     "data": {
      "image/png": "[encoded data removed]",
      "text/plain": [
       "<Figure size 720x720 with 1 Axes>"
      ]
     },
     "metadata": {
      "needs_background": "light"
     },
     "output_type": "display_data"
    }
   ],
   "source": [
    "translate(u'bank where')"
   ]
  },
  {
   "cell_type": "code",
   "execution_count": 43,
   "metadata": {},
   "outputs": [
    {
     "name": "stdout",
     "output_type": "stream",
     "text": [
      "\n",
      "******* Luong Attention  STARTS******\n",
      "query (decoder hidden state): (batch_size, hidden size)  (1, 1024)\n",
      "values (encoder all hidden state): (batch_size, max_len, hidden size)  (1, 12, 1024)\n",
      "query_with_time_axis:(batch_size, 1, hidden size)  (1, 1, 1024)\n",
      "values_transposed:(batch_size, hidden size, max_len)  (1, 1024, 12)\n",
      "score: (batch_size, max_length, 1)  (1, 12, 1)\n",
      "attention_weights: (batch_size, max_length, 1)  (1, 12, 1)\n",
      "context_vector before reduce_sum: (batch_size, max_length, hidden_size)  (1, 12, 1024)\n",
      "context_vector after reduce_sum: (batch_size, hidden_size)  (1, 1024)\n",
      "\n",
      "******* Luong Attention ENDS******\n",
      "3\n",
      "\n",
      "******* Luong Attention  STARTS******\n",
      "query (decoder hidden state): (batch_size, hidden size)  (1, 1024)\n",
      "values (encoder all hidden state): (batch_size, max_len, hidden size)  (1, 12, 1024)\n",
      "query_with_time_axis:(batch_size, 1, hidden size)  (1, 1, 1024)\n",
      "values_transposed:(batch_size, hidden size, max_len)  (1, 1024, 12)\n",
      "score: (batch_size, max_length, 1)  (1, 12, 1)\n",
      "attention_weights: (batch_size, max_length, 1)  (1, 12, 1)\n",
      "context_vector before reduce_sum: (batch_size, max_length, hidden_size)  (1, 12, 1024)\n",
      "context_vector after reduce_sum: (batch_size, hidden_size)  (1, 1024)\n",
      "\n",
      "******* Luong Attention ENDS******\n",
      "23\n",
      "\n",
      "******* Luong Attention  STARTS******\n",
      "query (decoder hidden state): (batch_size, hidden size)  (1, 1024)\n",
      "values (encoder all hidden state): (batch_size, max_len, hidden size)  (1, 12, 1024)\n",
      "query_with_time_axis:(batch_size, 1, hidden size)  (1, 1, 1024)\n",
      "values_transposed:(batch_size, hidden size, max_len)  (1, 1024, 12)\n",
      "score: (batch_size, max_length, 1)  (1, 12, 1)\n",
      "attention_weights: (batch_size, max_length, 1)  (1, 12, 1)\n",
      "context_vector before reduce_sum: (batch_size, max_length, hidden_size)  (1, 12, 1024)\n",
      "context_vector after reduce_sum: (batch_size, hidden_size)  (1, 1024)\n",
      "\n",
      "******* Luong Attention ENDS******\n",
      "10\n",
      "\n",
      "******* Luong Attention  STARTS******\n",
      "query (decoder hidden state): (batch_size, hidden size)  (1, 1024)\n",
      "values (encoder all hidden state): (batch_size, max_len, hidden size)  (1, 12, 1024)\n",
      "query_with_time_axis:(batch_size, 1, hidden size)  (1, 1, 1024)\n",
      "values_transposed:(batch_size, hidden size, max_len)  (1, 1024, 12)\n",
      "score: (batch_size, max_length, 1)  (1, 12, 1)\n",
      "attention_weights: (batch_size, max_length, 1)  (1, 12, 1)\n",
      "context_vector before reduce_sum: (batch_size, max_length, hidden_size)  (1, 12, 1024)\n",
      "context_vector after reduce_sum: (batch_size, hidden_size)  (1, 1024)\n",
      "\n",
      "******* Luong Attention ENDS******\n",
      "9\n",
      "\n",
      "******* Luong Attention  STARTS******\n",
      "query (decoder hidden state): (batch_size, hidden size)  (1, 1024)\n",
      "values (encoder all hidden state): (batch_size, max_len, hidden size)  (1, 12, 1024)\n",
      "query_with_time_axis:(batch_size, 1, hidden size)  (1, 1, 1024)\n",
      "values_transposed:(batch_size, hidden size, max_len)  (1, 1024, 12)\n",
      "score: (batch_size, max_length, 1)  (1, 12, 1)\n",
      "attention_weights: (batch_size, max_length, 1)  (1, 12, 1)\n",
      "context_vector before reduce_sum: (batch_size, max_length, hidden_size)  (1, 12, 1024)\n",
      "context_vector after reduce_sum: (batch_size, hidden_size)  (1, 1024)\n",
      "\n",
      "******* Luong Attention ENDS******\n",
      "382\n",
      "\n",
      "******* Luong Attention  STARTS******\n",
      "query (decoder hidden state): (batch_size, hidden size)  (1, 1024)\n",
      "values (encoder all hidden state): (batch_size, max_len, hidden size)  (1, 12, 1024)\n",
      "query_with_time_axis:(batch_size, 1, hidden size)  (1, 1, 1024)\n",
      "values_transposed:(batch_size, hidden size, max_len)  (1, 1024, 12)\n",
      "score: (batch_size, max_length, 1)  (1, 12, 1)\n",
      "attention_weights: (batch_size, max_length, 1)  (1, 12, 1)\n",
      "context_vector before reduce_sum: (batch_size, max_length, hidden_size)  (1, 12, 1024)\n",
      "context_vector after reduce_sum: (batch_size, hidden_size)  (1, 1024)\n",
      "\n",
      "******* Luong Attention ENDS******\n",
      "2\n",
      "Input: start_ i understand not _end\n",
      "Predicted translation: i have to the car _end \n"
     ]
    },
    {
     "name": "stderr",
     "output_type": "stream",
     "text": [
      "<ipython-input-36-71f02795d875>:9: UserWarning: FixedFormatter should only be used together with FixedLocator\n",
      "  ax.set_xticklabels([''] + sentence, fontdict=fontdict, rotation=90)\n",
      "<ipython-input-36-71f02795d875>:10: UserWarning: FixedFormatter should only be used together with FixedLocator\n",
      "  ax.set_yticklabels([''] + predicted_sentence, fontdict=fontdict)\n"
     ]
    },
    {
     "data": {
      "image/png": "[encoded data removed]",
      "text/plain": [
       "<Figure size 720x720 with 1 Axes>"
      ]
     },
     "metadata": {
      "needs_background": "light"
     },
     "output_type": "display_data"
    }
   ],
   "source": [
    "translate(u'i understand not')"
   ]
  },
  {
   "cell_type": "code",
   "execution_count": 44,
   "metadata": {},
   "outputs": [
    {
     "name": "stdout",
     "output_type": "stream",
     "text": [
      "\n",
      "******* Luong Attention  STARTS******\n",
      "query (decoder hidden state): (batch_size, hidden size)  (1, 1024)\n",
      "values (encoder all hidden state): (batch_size, max_len, hidden size)  (1, 12, 1024)\n",
      "query_with_time_axis:(batch_size, 1, hidden size)  (1, 1, 1024)\n",
      "values_transposed:(batch_size, hidden size, max_len)  (1, 1024, 12)\n",
      "score: (batch_size, max_length, 1)  (1, 12, 1)\n",
      "attention_weights: (batch_size, max_length, 1)  (1, 12, 1)\n",
      "context_vector before reduce_sum: (batch_size, max_length, hidden_size)  (1, 12, 1024)\n",
      "context_vector after reduce_sum: (batch_size, hidden_size)  (1, 1024)\n",
      "\n",
      "******* Luong Attention ENDS******\n",
      "130\n",
      "\n",
      "******* Luong Attention  STARTS******\n",
      "query (decoder hidden state): (batch_size, hidden size)  (1, 1024)\n",
      "values (encoder all hidden state): (batch_size, max_len, hidden size)  (1, 12, 1024)\n",
      "query_with_time_axis:(batch_size, 1, hidden size)  (1, 1, 1024)\n",
      "values_transposed:(batch_size, hidden size, max_len)  (1, 1024, 12)\n",
      "score: (batch_size, max_length, 1)  (1, 12, 1)\n",
      "attention_weights: (batch_size, max_length, 1)  (1, 12, 1)\n",
      "context_vector before reduce_sum: (batch_size, max_length, hidden_size)  (1, 12, 1024)\n",
      "context_vector after reduce_sum: (batch_size, hidden_size)  (1, 1024)\n",
      "\n",
      "******* Luong Attention ENDS******\n",
      "4\n",
      "\n",
      "******* Luong Attention  STARTS******\n",
      "query (decoder hidden state): (batch_size, hidden size)  (1, 1024)\n",
      "values (encoder all hidden state): (batch_size, max_len, hidden size)  (1, 12, 1024)\n",
      "query_with_time_axis:(batch_size, 1, hidden size)  (1, 1, 1024)\n",
      "values_transposed:(batch_size, hidden size, max_len)  (1, 1024, 12)\n",
      "score: (batch_size, max_length, 1)  (1, 12, 1)\n",
      "attention_weights: (batch_size, max_length, 1)  (1, 12, 1)\n",
      "context_vector before reduce_sum: (batch_size, max_length, hidden_size)  (1, 12, 1024)\n",
      "context_vector after reduce_sum: (batch_size, hidden_size)  (1, 1024)\n",
      "\n",
      "******* Luong Attention ENDS******\n",
      "13\n",
      "\n",
      "******* Luong Attention  STARTS******\n",
      "query (decoder hidden state): (batch_size, hidden size)  (1, 1024)\n",
      "values (encoder all hidden state): (batch_size, max_len, hidden size)  (1, 12, 1024)\n",
      "query_with_time_axis:(batch_size, 1, hidden size)  (1, 1, 1024)\n",
      "values_transposed:(batch_size, hidden size, max_len)  (1, 1024, 12)\n",
      "score: (batch_size, max_length, 1)  (1, 12, 1)\n",
      "attention_weights: (batch_size, max_length, 1)  (1, 12, 1)\n",
      "context_vector before reduce_sum: (batch_size, max_length, hidden_size)  (1, 12, 1024)\n",
      "context_vector after reduce_sum: (batch_size, hidden_size)  (1, 1024)\n",
      "\n",
      "******* Luong Attention ENDS******\n",
      "56\n",
      "\n",
      "******* Luong Attention  STARTS******\n",
      "query (decoder hidden state): (batch_size, hidden size)  (1, 1024)\n",
      "values (encoder all hidden state): (batch_size, max_len, hidden size)  (1, 12, 1024)\n",
      "query_with_time_axis:(batch_size, 1, hidden size)  (1, 1, 1024)\n",
      "values_transposed:(batch_size, hidden size, max_len)  (1, 1024, 12)\n",
      "score: (batch_size, max_length, 1)  (1, 12, 1)\n",
      "attention_weights: (batch_size, max_length, 1)  (1, 12, 1)\n",
      "context_vector before reduce_sum: (batch_size, max_length, hidden_size)  (1, 12, 1024)\n",
      "context_vector after reduce_sum: (batch_size, hidden_size)  (1, 1024)\n",
      "\n",
      "******* Luong Attention ENDS******\n",
      "4\n",
      "\n",
      "******* Luong Attention  STARTS******\n",
      "query (decoder hidden state): (batch_size, hidden size)  (1, 1024)\n",
      "values (encoder all hidden state): (batch_size, max_len, hidden size)  (1, 12, 1024)\n",
      "query_with_time_axis:(batch_size, 1, hidden size)  (1, 1, 1024)\n",
      "values_transposed:(batch_size, hidden size, max_len)  (1, 1024, 12)\n",
      "score: (batch_size, max_length, 1)  (1, 12, 1)\n",
      "attention_weights: (batch_size, max_length, 1)  (1, 12, 1)\n",
      "context_vector before reduce_sum: (batch_size, max_length, hidden_size)  (1, 12, 1024)\n",
      "context_vector after reduce_sum: (batch_size, hidden_size)  (1, 1024)\n",
      "\n",
      "******* Luong Attention ENDS******\n",
      "7\n",
      "\n",
      "******* Luong Attention  STARTS******\n",
      "query (decoder hidden state): (batch_size, hidden size)  (1, 1024)\n",
      "values (encoder all hidden state): (batch_size, max_len, hidden size)  (1, 12, 1024)\n",
      "query_with_time_axis:(batch_size, 1, hidden size)  (1, 1, 1024)\n",
      "values_transposed:(batch_size, hidden size, max_len)  (1, 1024, 12)\n",
      "score: (batch_size, max_length, 1)  (1, 12, 1)\n",
      "attention_weights: (batch_size, max_length, 1)  (1, 12, 1)\n",
      "context_vector before reduce_sum: (batch_size, max_length, hidden_size)  (1, 12, 1024)\n",
      "context_vector after reduce_sum: (batch_size, hidden_size)  (1, 1024)\n",
      "\n",
      "******* Luong Attention ENDS******\n",
      "208\n",
      "\n",
      "******* Luong Attention  STARTS******\n",
      "query (decoder hidden state): (batch_size, hidden size)  (1, 1024)\n",
      "values (encoder all hidden state): (batch_size, max_len, hidden size)  (1, 12, 1024)\n",
      "query_with_time_axis:(batch_size, 1, hidden size)  (1, 1, 1024)\n",
      "values_transposed:(batch_size, hidden size, max_len)  (1, 1024, 12)\n",
      "score: (batch_size, max_length, 1)  (1, 12, 1)\n",
      "attention_weights: (batch_size, max_length, 1)  (1, 12, 1)\n",
      "context_vector before reduce_sum: (batch_size, max_length, hidden_size)  (1, 12, 1024)\n",
      "context_vector after reduce_sum: (batch_size, hidden_size)  (1, 1024)\n",
      "\n",
      "******* Luong Attention ENDS******\n",
      "2\n",
      "Input: start_ father clerk _end\n",
      "Predicted translation: that is my father is a cab _end \n"
     ]
    },
    {
     "name": "stderr",
     "output_type": "stream",
     "text": [
      "<ipython-input-36-71f02795d875>:9: UserWarning: FixedFormatter should only be used together with FixedLocator\n",
      "  ax.set_xticklabels([''] + sentence, fontdict=fontdict, rotation=90)\n",
      "<ipython-input-36-71f02795d875>:10: UserWarning: FixedFormatter should only be used together with FixedLocator\n",
      "  ax.set_yticklabels([''] + predicted_sentence, fontdict=fontdict)\n"
     ]
    },
    {
     "data": {
      "image/png": "[encoded data removed]",
      "text/plain": [
       "<Figure size 720x720 with 1 Axes>"
      ]
     },
     "metadata": {
      "needs_background": "light"
     },
     "output_type": "display_data"
    }
   ],
   "source": [
    "translate(u'father clerk')"
   ]
  },
  {
   "cell_type": "code",
   "execution_count": 45,
   "metadata": {},
   "outputs": [
    {
     "name": "stdout",
     "output_type": "stream",
     "text": [
      "\n",
      "******* Luong Attention  STARTS******\n",
      "query (decoder hidden state): (batch_size, hidden size)  (1, 1024)\n",
      "values (encoder all hidden state): (batch_size, max_len, hidden size)  (1, 12, 1024)\n",
      "query_with_time_axis:(batch_size, 1, hidden size)  (1, 1, 1024)\n",
      "values_transposed:(batch_size, hidden size, max_len)  (1, 1024, 12)\n",
      "score: (batch_size, max_length, 1)  (1, 12, 1)\n",
      "attention_weights: (batch_size, max_length, 1)  (1, 12, 1)\n",
      "context_vector before reduce_sum: (batch_size, max_length, hidden_size)  (1, 12, 1024)\n",
      "context_vector after reduce_sum: (batch_size, hidden_size)  (1, 1024)\n",
      "\n",
      "******* Luong Attention ENDS******\n",
      "14\n",
      "\n",
      "******* Luong Attention  STARTS******\n",
      "query (decoder hidden state): (batch_size, hidden size)  (1, 1024)\n",
      "values (encoder all hidden state): (batch_size, max_len, hidden size)  (1, 12, 1024)\n",
      "query_with_time_axis:(batch_size, 1, hidden size)  (1, 1, 1024)\n",
      "values_transposed:(batch_size, hidden size, max_len)  (1, 1024, 12)\n",
      "score: (batch_size, max_length, 1)  (1, 12, 1)\n",
      "attention_weights: (batch_size, max_length, 1)  (1, 12, 1)\n",
      "context_vector before reduce_sum: (batch_size, max_length, hidden_size)  (1, 12, 1024)\n",
      "context_vector after reduce_sum: (batch_size, hidden_size)  (1, 1024)\n",
      "\n",
      "******* Luong Attention ENDS******\n",
      "4\n",
      "\n",
      "******* Luong Attention  STARTS******\n",
      "query (decoder hidden state): (batch_size, hidden size)  (1, 1024)\n",
      "values (encoder all hidden state): (batch_size, max_len, hidden size)  (1, 12, 1024)\n",
      "query_with_time_axis:(batch_size, 1, hidden size)  (1, 1, 1024)\n",
      "values_transposed:(batch_size, hidden size, max_len)  (1, 1024, 12)\n",
      "score: (batch_size, max_length, 1)  (1, 12, 1)\n",
      "attention_weights: (batch_size, max_length, 1)  (1, 12, 1)\n",
      "context_vector before reduce_sum: (batch_size, max_length, hidden_size)  (1, 12, 1024)\n",
      "context_vector after reduce_sum: (batch_size, hidden_size)  (1, 1024)\n",
      "\n",
      "******* Luong Attention ENDS******\n",
      "22\n",
      "\n",
      "******* Luong Attention  STARTS******\n",
      "query (decoder hidden state): (batch_size, hidden size)  (1, 1024)\n",
      "values (encoder all hidden state): (batch_size, max_len, hidden size)  (1, 12, 1024)\n",
      "query_with_time_axis:(batch_size, 1, hidden size)  (1, 1, 1024)\n",
      "values_transposed:(batch_size, hidden size, max_len)  (1, 1024, 12)\n",
      "score: (batch_size, max_length, 1)  (1, 12, 1)\n",
      "attention_weights: (batch_size, max_length, 1)  (1, 12, 1)\n",
      "context_vector before reduce_sum: (batch_size, max_length, hidden_size)  (1, 12, 1024)\n",
      "context_vector after reduce_sum: (batch_size, hidden_size)  (1, 1024)\n",
      "\n",
      "******* Luong Attention ENDS******\n",
      "336\n",
      "\n",
      "******* Luong Attention  STARTS******\n",
      "query (decoder hidden state): (batch_size, hidden size)  (1, 1024)\n",
      "values (encoder all hidden state): (batch_size, max_len, hidden size)  (1, 12, 1024)\n",
      "query_with_time_axis:(batch_size, 1, hidden size)  (1, 1, 1024)\n",
      "values_transposed:(batch_size, hidden size, max_len)  (1, 1024, 12)\n",
      "score: (batch_size, max_length, 1)  (1, 12, 1)\n",
      "attention_weights: (batch_size, max_length, 1)  (1, 12, 1)\n",
      "context_vector before reduce_sum: (batch_size, max_length, hidden_size)  (1, 12, 1024)\n",
      "context_vector after reduce_sum: (batch_size, hidden_size)  (1, 1024)\n",
      "\n",
      "******* Luong Attention ENDS******\n",
      "43\n",
      "\n",
      "******* Luong Attention  STARTS******\n",
      "query (decoder hidden state): (batch_size, hidden size)  (1, 1024)\n",
      "values (encoder all hidden state): (batch_size, max_len, hidden size)  (1, 12, 1024)\n",
      "query_with_time_axis:(batch_size, 1, hidden size)  (1, 1, 1024)\n",
      "values_transposed:(batch_size, hidden size, max_len)  (1, 1024, 12)\n",
      "score: (batch_size, max_length, 1)  (1, 12, 1)\n",
      "attention_weights: (batch_size, max_length, 1)  (1, 12, 1)\n",
      "context_vector before reduce_sum: (batch_size, max_length, hidden_size)  (1, 12, 1024)\n",
      "context_vector after reduce_sum: (batch_size, hidden_size)  (1, 1024)\n",
      "\n",
      "******* Luong Attention ENDS******\n",
      "5\n",
      "\n",
      "******* Luong Attention  STARTS******\n",
      "query (decoder hidden state): (batch_size, hidden size)  (1, 1024)\n",
      "values (encoder all hidden state): (batch_size, max_len, hidden size)  (1, 12, 1024)\n",
      "query_with_time_axis:(batch_size, 1, hidden size)  (1, 1, 1024)\n",
      "values_transposed:(batch_size, hidden size, max_len)  (1, 1024, 12)\n",
      "score: (batch_size, max_length, 1)  (1, 12, 1)\n",
      "attention_weights: (batch_size, max_length, 1)  (1, 12, 1)\n",
      "context_vector before reduce_sum: (batch_size, max_length, hidden_size)  (1, 12, 1024)\n",
      "context_vector after reduce_sum: (batch_size, hidden_size)  (1, 1024)\n",
      "\n",
      "******* Luong Attention ENDS******\n",
      "2\n",
      "Input: start_ you name what _end\n",
      "Predicted translation: what is your mobile name ? _end \n"
     ]
    },
    {
     "name": "stderr",
     "output_type": "stream",
     "text": [
      "<ipython-input-36-71f02795d875>:9: UserWarning: FixedFormatter should only be used together with FixedLocator\n",
      "  ax.set_xticklabels([''] + sentence, fontdict=fontdict, rotation=90)\n",
      "<ipython-input-36-71f02795d875>:10: UserWarning: FixedFormatter should only be used together with FixedLocator\n",
      "  ax.set_yticklabels([''] + predicted_sentence, fontdict=fontdict)\n"
     ]
    },
    {
     "data": {
      "image/png": "[encoded data removed]",
      "text/plain": [
       "<Figure size 720x720 with 1 Axes>"
      ]
     },
     "metadata": {
      "needs_background": "light"
     },
     "output_type": "display_data"
    }
   ],
   "source": [
    "translate(u'you name what')"
   ]
  },
  {
   "cell_type": "code",
   "execution_count": 61,
   "metadata": {},
   "outputs": [
    {
     "name": "stdout",
     "output_type": "stream",
     "text": [
      "\n",
      "******* Luong Attention  STARTS******\n",
      "query (decoder hidden state): (batch_size, hidden size)  (1, 1024)\n",
      "values (encoder all hidden state): (batch_size, max_len, hidden size)  (1, 12, 1024)\n",
      "query_with_time_axis:(batch_size, 1, hidden size)  (1, 1, 1024)\n",
      "values_transposed:(batch_size, hidden size, max_len)  (1, 1024, 12)\n",
      "score: (batch_size, max_length, 1)  (1, 12, 1)\n",
      "attention_weights: (batch_size, max_length, 1)  (1, 12, 1)\n",
      "context_vector before reduce_sum: (batch_size, max_length, hidden_size)  (1, 12, 1024)\n",
      "context_vector after reduce_sum: (batch_size, hidden_size)  (1, 1024)\n",
      "\n",
      "******* Luong Attention ENDS******\n",
      "34\n",
      "\n",
      "******* Luong Attention  STARTS******\n",
      "query (decoder hidden state): (batch_size, hidden size)  (1, 1024)\n",
      "values (encoder all hidden state): (batch_size, max_len, hidden size)  (1, 12, 1024)\n",
      "query_with_time_axis:(batch_size, 1, hidden size)  (1, 1, 1024)\n",
      "values_transposed:(batch_size, hidden size, max_len)  (1, 1024, 12)\n",
      "score: (batch_size, max_length, 1)  (1, 12, 1)\n",
      "attention_weights: (batch_size, max_length, 1)  (1, 12, 1)\n",
      "context_vector before reduce_sum: (batch_size, max_length, hidden_size)  (1, 12, 1024)\n",
      "context_vector after reduce_sum: (batch_size, hidden_size)  (1, 1024)\n",
      "\n",
      "******* Luong Attention ENDS******\n",
      "47\n",
      "\n",
      "******* Luong Attention  STARTS******\n",
      "query (decoder hidden state): (batch_size, hidden size)  (1, 1024)\n",
      "values (encoder all hidden state): (batch_size, max_len, hidden size)  (1, 12, 1024)\n",
      "query_with_time_axis:(batch_size, 1, hidden size)  (1, 1, 1024)\n",
      "values_transposed:(batch_size, hidden size, max_len)  (1, 1024, 12)\n",
      "score: (batch_size, max_length, 1)  (1, 12, 1)\n",
      "attention_weights: (batch_size, max_length, 1)  (1, 12, 1)\n",
      "context_vector before reduce_sum: (batch_size, max_length, hidden_size)  (1, 12, 1024)\n",
      "context_vector after reduce_sum: (batch_size, hidden_size)  (1, 1024)\n",
      "\n",
      "******* Luong Attention ENDS******\n",
      "29\n",
      "\n",
      "******* Luong Attention  STARTS******\n",
      "query (decoder hidden state): (batch_size, hidden size)  (1, 1024)\n",
      "values (encoder all hidden state): (batch_size, max_len, hidden size)  (1, 12, 1024)\n",
      "query_with_time_axis:(batch_size, 1, hidden size)  (1, 1, 1024)\n",
      "values_transposed:(batch_size, hidden size, max_len)  (1, 1024, 12)\n",
      "score: (batch_size, max_length, 1)  (1, 12, 1)\n",
      "attention_weights: (batch_size, max_length, 1)  (1, 12, 1)\n",
      "context_vector before reduce_sum: (batch_size, max_length, hidden_size)  (1, 12, 1024)\n",
      "context_vector after reduce_sum: (batch_size, hidden_size)  (1, 1024)\n",
      "\n",
      "******* Luong Attention ENDS******\n",
      "5\n",
      "\n",
      "******* Luong Attention  STARTS******\n",
      "query (decoder hidden state): (batch_size, hidden size)  (1, 1024)\n",
      "values (encoder all hidden state): (batch_size, max_len, hidden size)  (1, 12, 1024)\n",
      "query_with_time_axis:(batch_size, 1, hidden size)  (1, 1, 1024)\n",
      "values_transposed:(batch_size, hidden size, max_len)  (1, 1024, 12)\n",
      "score: (batch_size, max_length, 1)  (1, 12, 1)\n",
      "attention_weights: (batch_size, max_length, 1)  (1, 12, 1)\n",
      "context_vector before reduce_sum: (batch_size, max_length, hidden_size)  (1, 12, 1024)\n",
      "context_vector after reduce_sum: (batch_size, hidden_size)  (1, 1024)\n",
      "\n",
      "******* Luong Attention ENDS******\n",
      "2\n",
      "Input: start_ we go when _end\n",
      "Predicted translation: we meet tomorrow ? _end \n"
     ]
    },
    {
     "name": "stderr",
     "output_type": "stream",
     "text": [
      "<ipython-input-36-71f02795d875>:9: UserWarning: FixedFormatter should only be used together with FixedLocator\n",
      "  ax.set_xticklabels([''] + sentence, fontdict=fontdict, rotation=90)\n",
      "<ipython-input-36-71f02795d875>:10: UserWarning: FixedFormatter should only be used together with FixedLocator\n",
      "  ax.set_yticklabels([''] + predicted_sentence, fontdict=fontdict)\n"
     ]
    },
    {
     "data": {
      "image/png": "[encoded data removed]",
      "text/plain": [
       "<Figure size 720x720 with 1 Axes>"
      ]
     },
     "metadata": {
      "needs_background": "light"
     },
     "output_type": "display_data"
    }
   ],
   "source": [
    "translate(u'we go when')"
   ]
  },
  {
   "cell_type": "code",
   "execution_count": 47,
   "metadata": {},
   "outputs": [
    {
     "name": "stdout",
     "output_type": "stream",
     "text": [
      "\n",
      "******* Luong Attention  STARTS******\n",
      "query (decoder hidden state): (batch_size, hidden size)  (1, 1024)\n",
      "values (encoder all hidden state): (batch_size, max_len, hidden size)  (1, 12, 1024)\n",
      "query_with_time_axis:(batch_size, 1, hidden size)  (1, 1, 1024)\n",
      "values_transposed:(batch_size, hidden size, max_len)  (1, 1024, 12)\n",
      "score: (batch_size, max_length, 1)  (1, 12, 1)\n",
      "attention_weights: (batch_size, max_length, 1)  (1, 12, 1)\n",
      "context_vector before reduce_sum: (batch_size, max_length, hidden_size)  (1, 12, 1024)\n",
      "context_vector after reduce_sum: (batch_size, hidden_size)  (1, 1024)\n",
      "\n",
      "******* Luong Attention ENDS******\n",
      "14\n",
      "\n",
      "******* Luong Attention  STARTS******\n",
      "query (decoder hidden state): (batch_size, hidden size)  (1, 1024)\n",
      "values (encoder all hidden state): (batch_size, max_len, hidden size)  (1, 12, 1024)\n",
      "query_with_time_axis:(batch_size, 1, hidden size)  (1, 1, 1024)\n",
      "values_transposed:(batch_size, hidden size, max_len)  (1, 1024, 12)\n",
      "score: (batch_size, max_length, 1)  (1, 12, 1)\n",
      "attention_weights: (batch_size, max_length, 1)  (1, 12, 1)\n",
      "context_vector before reduce_sum: (batch_size, max_length, hidden_size)  (1, 12, 1024)\n",
      "context_vector after reduce_sum: (batch_size, hidden_size)  (1, 1024)\n",
      "\n",
      "******* Luong Attention ENDS******\n",
      "4\n",
      "\n",
      "******* Luong Attention  STARTS******\n",
      "query (decoder hidden state): (batch_size, hidden size)  (1, 1024)\n",
      "values (encoder all hidden state): (batch_size, max_len, hidden size)  (1, 12, 1024)\n",
      "query_with_time_axis:(batch_size, 1, hidden size)  (1, 1, 1024)\n",
      "values_transposed:(batch_size, hidden size, max_len)  (1, 1024, 12)\n",
      "score: (batch_size, max_length, 1)  (1, 12, 1)\n",
      "attention_weights: (batch_size, max_length, 1)  (1, 12, 1)\n",
      "context_vector before reduce_sum: (batch_size, max_length, hidden_size)  (1, 12, 1024)\n",
      "context_vector after reduce_sum: (batch_size, hidden_size)  (1, 1024)\n",
      "\n",
      "******* Luong Attention ENDS******\n",
      "357\n",
      "\n",
      "******* Luong Attention  STARTS******\n",
      "query (decoder hidden state): (batch_size, hidden size)  (1, 1024)\n",
      "values (encoder all hidden state): (batch_size, max_len, hidden size)  (1, 12, 1024)\n",
      "query_with_time_axis:(batch_size, 1, hidden size)  (1, 1, 1024)\n",
      "values_transposed:(batch_size, hidden size, max_len)  (1, 1024, 12)\n",
      "score: (batch_size, max_length, 1)  (1, 12, 1)\n",
      "attention_weights: (batch_size, max_length, 1)  (1, 12, 1)\n",
      "context_vector before reduce_sum: (batch_size, max_length, hidden_size)  (1, 12, 1024)\n",
      "context_vector after reduce_sum: (batch_size, hidden_size)  (1, 1024)\n",
      "\n",
      "******* Luong Attention ENDS******\n",
      "138\n",
      "\n",
      "******* Luong Attention  STARTS******\n",
      "query (decoder hidden state): (batch_size, hidden size)  (1, 1024)\n",
      "values (encoder all hidden state): (batch_size, max_len, hidden size)  (1, 12, 1024)\n",
      "query_with_time_axis:(batch_size, 1, hidden size)  (1, 1, 1024)\n",
      "values_transposed:(batch_size, hidden size, max_len)  (1, 1024, 12)\n",
      "score: (batch_size, max_length, 1)  (1, 12, 1)\n",
      "attention_weights: (batch_size, max_length, 1)  (1, 12, 1)\n",
      "context_vector before reduce_sum: (batch_size, max_length, hidden_size)  (1, 12, 1024)\n",
      "context_vector after reduce_sum: (batch_size, hidden_size)  (1, 1024)\n",
      "\n",
      "******* Luong Attention ENDS******\n",
      "5\n",
      "\n",
      "******* Luong Attention  STARTS******\n",
      "query (decoder hidden state): (batch_size, hidden size)  (1, 1024)\n",
      "values (encoder all hidden state): (batch_size, max_len, hidden size)  (1, 12, 1024)\n",
      "query_with_time_axis:(batch_size, 1, hidden size)  (1, 1, 1024)\n",
      "values_transposed:(batch_size, hidden size, max_len)  (1, 1024, 12)\n",
      "score: (batch_size, max_length, 1)  (1, 12, 1)\n",
      "attention_weights: (batch_size, max_length, 1)  (1, 12, 1)\n",
      "context_vector before reduce_sum: (batch_size, max_length, hidden_size)  (1, 12, 1024)\n",
      "context_vector after reduce_sum: (batch_size, hidden_size)  (1, 1024)\n",
      "\n",
      "******* Luong Attention ENDS******\n",
      "2\n",
      "Input: start_ today date what _end\n",
      "Predicted translation: what is todays date ? _end \n"
     ]
    },
    {
     "name": "stderr",
     "output_type": "stream",
     "text": [
      "<ipython-input-36-71f02795d875>:9: UserWarning: FixedFormatter should only be used together with FixedLocator\n",
      "  ax.set_xticklabels([''] + sentence, fontdict=fontdict, rotation=90)\n",
      "<ipython-input-36-71f02795d875>:10: UserWarning: FixedFormatter should only be used together with FixedLocator\n",
      "  ax.set_yticklabels([''] + predicted_sentence, fontdict=fontdict)\n"
     ]
    },
    {
     "data": {
      "image/png": "[encoded data removed]",
      "text/plain": [
       "<Figure size 720x720 with 1 Axes>"
      ]
     },
     "metadata": {
      "needs_background": "light"
     },
     "output_type": "display_data"
    }
   ],
   "source": [
    "translate(u'today date what')"
   ]
  },
  {
   "cell_type": "code",
   "execution_count": 48,
   "metadata": {},
   "outputs": [
    {
     "name": "stdout",
     "output_type": "stream",
     "text": [
      "\n",
      "******* Luong Attention  STARTS******\n",
      "query (decoder hidden state): (batch_size, hidden size)  (1, 1024)\n",
      "values (encoder all hidden state): (batch_size, max_len, hidden size)  (1, 12, 1024)\n",
      "query_with_time_axis:(batch_size, 1, hidden size)  (1, 1, 1024)\n",
      "values_transposed:(batch_size, hidden size, max_len)  (1, 1024, 12)\n",
      "score: (batch_size, max_length, 1)  (1, 12, 1)\n",
      "attention_weights: (batch_size, max_length, 1)  (1, 12, 1)\n",
      "context_vector before reduce_sum: (batch_size, max_length, hidden_size)  (1, 12, 1024)\n",
      "context_vector after reduce_sum: (batch_size, hidden_size)  (1, 1024)\n",
      "\n",
      "******* Luong Attention ENDS******\n",
      "3\n",
      "\n",
      "******* Luong Attention  STARTS******\n",
      "query (decoder hidden state): (batch_size, hidden size)  (1, 1024)\n",
      "values (encoder all hidden state): (batch_size, max_len, hidden size)  (1, 12, 1024)\n",
      "query_with_time_axis:(batch_size, 1, hidden size)  (1, 1, 1024)\n",
      "values_transposed:(batch_size, hidden size, max_len)  (1, 1024, 12)\n",
      "score: (batch_size, max_length, 1)  (1, 12, 1)\n",
      "attention_weights: (batch_size, max_length, 1)  (1, 12, 1)\n",
      "context_vector before reduce_sum: (batch_size, max_length, hidden_size)  (1, 12, 1024)\n",
      "context_vector after reduce_sum: (batch_size, hidden_size)  (1, 1024)\n",
      "\n",
      "******* Luong Attention ENDS******\n",
      "81\n",
      "\n",
      "******* Luong Attention  STARTS******\n",
      "query (decoder hidden state): (batch_size, hidden size)  (1, 1024)\n",
      "values (encoder all hidden state): (batch_size, max_len, hidden size)  (1, 12, 1024)\n",
      "query_with_time_axis:(batch_size, 1, hidden size)  (1, 1, 1024)\n",
      "values_transposed:(batch_size, hidden size, max_len)  (1, 1024, 12)\n",
      "score: (batch_size, max_length, 1)  (1, 12, 1)\n",
      "attention_weights: (batch_size, max_length, 1)  (1, 12, 1)\n",
      "context_vector before reduce_sum: (batch_size, max_length, hidden_size)  (1, 12, 1024)\n",
      "context_vector after reduce_sum: (batch_size, hidden_size)  (1, 1024)\n",
      "\n",
      "******* Luong Attention ENDS******\n",
      "234\n",
      "\n",
      "******* Luong Attention  STARTS******\n",
      "query (decoder hidden state): (batch_size, hidden size)  (1, 1024)\n",
      "values (encoder all hidden state): (batch_size, max_len, hidden size)  (1, 12, 1024)\n",
      "query_with_time_axis:(batch_size, 1, hidden size)  (1, 1, 1024)\n",
      "values_transposed:(batch_size, hidden size, max_len)  (1, 1024, 12)\n",
      "score: (batch_size, max_length, 1)  (1, 12, 1)\n",
      "attention_weights: (batch_size, max_length, 1)  (1, 12, 1)\n",
      "context_vector before reduce_sum: (batch_size, max_length, hidden_size)  (1, 12, 1024)\n",
      "context_vector after reduce_sum: (batch_size, hidden_size)  (1, 1024)\n",
      "\n",
      "******* Luong Attention ENDS******\n",
      "2\n",
      "Input: start_ pink colour i like _end\n",
      "Predicted translation: i like pink _end \n"
     ]
    },
    {
     "name": "stderr",
     "output_type": "stream",
     "text": [
      "<ipython-input-36-71f02795d875>:9: UserWarning: FixedFormatter should only be used together with FixedLocator\n",
      "  ax.set_xticklabels([''] + sentence, fontdict=fontdict, rotation=90)\n",
      "<ipython-input-36-71f02795d875>:10: UserWarning: FixedFormatter should only be used together with FixedLocator\n",
      "  ax.set_yticklabels([''] + predicted_sentence, fontdict=fontdict)\n"
     ]
    },
    {
     "data": {
      "image/png": "[encoded data removed]",
      "text/plain": [
       "<Figure size 720x720 with 1 Axes>"
      ]
     },
     "metadata": {
      "needs_background": "light"
     },
     "output_type": "display_data"
    }
   ],
   "source": [
    "translate(u'pink colour i like')"
   ]
  },
  {
   "cell_type": "code",
   "execution_count": 49,
   "metadata": {},
   "outputs": [
    {
     "name": "stdout",
     "output_type": "stream",
     "text": [
      "\n",
      "******* Luong Attention  STARTS******\n",
      "query (decoder hidden state): (batch_size, hidden size)  (1, 1024)\n",
      "values (encoder all hidden state): (batch_size, max_len, hidden size)  (1, 12, 1024)\n",
      "query_with_time_axis:(batch_size, 1, hidden size)  (1, 1, 1024)\n",
      "values_transposed:(batch_size, hidden size, max_len)  (1, 1024, 12)\n",
      "score: (batch_size, max_length, 1)  (1, 12, 1)\n",
      "attention_weights: (batch_size, max_length, 1)  (1, 12, 1)\n",
      "context_vector before reduce_sum: (batch_size, max_length, hidden_size)  (1, 12, 1024)\n",
      "context_vector after reduce_sum: (batch_size, hidden_size)  (1, 1024)\n",
      "\n",
      "******* Luong Attention ENDS******\n",
      "7\n",
      "\n",
      "******* Luong Attention  STARTS******\n",
      "query (decoder hidden state): (batch_size, hidden size)  (1, 1024)\n",
      "values (encoder all hidden state): (batch_size, max_len, hidden size)  (1, 12, 1024)\n",
      "query_with_time_axis:(batch_size, 1, hidden size)  (1, 1, 1024)\n",
      "values_transposed:(batch_size, hidden size, max_len)  (1, 1024, 12)\n",
      "score: (batch_size, max_length, 1)  (1, 12, 1)\n",
      "attention_weights: (batch_size, max_length, 1)  (1, 12, 1)\n",
      "context_vector before reduce_sum: (batch_size, max_length, hidden_size)  (1, 12, 1024)\n",
      "context_vector after reduce_sum: (batch_size, hidden_size)  (1, 1024)\n",
      "\n",
      "******* Luong Attention ENDS******\n",
      "189\n",
      "\n",
      "******* Luong Attention  STARTS******\n",
      "query (decoder hidden state): (batch_size, hidden size)  (1, 1024)\n",
      "values (encoder all hidden state): (batch_size, max_len, hidden size)  (1, 12, 1024)\n",
      "query_with_time_axis:(batch_size, 1, hidden size)  (1, 1, 1024)\n",
      "values_transposed:(batch_size, hidden size, max_len)  (1, 1024, 12)\n",
      "score: (batch_size, max_length, 1)  (1, 12, 1)\n",
      "attention_weights: (batch_size, max_length, 1)  (1, 12, 1)\n",
      "context_vector before reduce_sum: (batch_size, max_length, hidden_size)  (1, 12, 1024)\n",
      "context_vector after reduce_sum: (batch_size, hidden_size)  (1, 1024)\n",
      "\n",
      "******* Luong Attention ENDS******\n",
      "366\n",
      "\n",
      "******* Luong Attention  STARTS******\n",
      "query (decoder hidden state): (batch_size, hidden size)  (1, 1024)\n",
      "values (encoder all hidden state): (batch_size, max_len, hidden size)  (1, 12, 1024)\n",
      "query_with_time_axis:(batch_size, 1, hidden size)  (1, 1, 1024)\n",
      "values_transposed:(batch_size, hidden size, max_len)  (1, 1024, 12)\n",
      "score: (batch_size, max_length, 1)  (1, 12, 1)\n",
      "attention_weights: (batch_size, max_length, 1)  (1, 12, 1)\n",
      "context_vector before reduce_sum: (batch_size, max_length, hidden_size)  (1, 12, 1024)\n",
      "context_vector after reduce_sum: (batch_size, hidden_size)  (1, 1024)\n",
      "\n",
      "******* Luong Attention ENDS******\n",
      "188\n",
      "\n",
      "******* Luong Attention  STARTS******\n",
      "query (decoder hidden state): (batch_size, hidden size)  (1, 1024)\n",
      "values (encoder all hidden state): (batch_size, max_len, hidden size)  (1, 12, 1024)\n",
      "query_with_time_axis:(batch_size, 1, hidden size)  (1, 1, 1024)\n",
      "values_transposed:(batch_size, hidden size, max_len)  (1, 1024, 12)\n",
      "score: (batch_size, max_length, 1)  (1, 12, 1)\n",
      "attention_weights: (batch_size, max_length, 1)  (1, 12, 1)\n",
      "context_vector before reduce_sum: (batch_size, max_length, hidden_size)  (1, 12, 1024)\n",
      "context_vector after reduce_sum: (batch_size, hidden_size)  (1, 1024)\n",
      "\n",
      "******* Luong Attention ENDS******\n",
      "190\n",
      "\n",
      "******* Luong Attention  STARTS******\n",
      "query (decoder hidden state): (batch_size, hidden size)  (1, 1024)\n",
      "values (encoder all hidden state): (batch_size, max_len, hidden size)  (1, 12, 1024)\n",
      "query_with_time_axis:(batch_size, 1, hidden size)  (1, 1, 1024)\n",
      "values_transposed:(batch_size, hidden size, max_len)  (1, 1024, 12)\n",
      "score: (batch_size, max_length, 1)  (1, 12, 1)\n",
      "attention_weights: (batch_size, max_length, 1)  (1, 12, 1)\n",
      "context_vector before reduce_sum: (batch_size, max_length, hidden_size)  (1, 12, 1024)\n",
      "context_vector after reduce_sum: (batch_size, hidden_size)  (1, 1024)\n",
      "\n",
      "******* Luong Attention ENDS******\n",
      "2\n",
      "Input: start_ apple child eat _end\n",
      "Predicted translation: a child eats an apple _end \n"
     ]
    },
    {
     "name": "stderr",
     "output_type": "stream",
     "text": [
      "<ipython-input-36-71f02795d875>:9: UserWarning: FixedFormatter should only be used together with FixedLocator\n",
      "  ax.set_xticklabels([''] + sentence, fontdict=fontdict, rotation=90)\n",
      "<ipython-input-36-71f02795d875>:10: UserWarning: FixedFormatter should only be used together with FixedLocator\n",
      "  ax.set_yticklabels([''] + predicted_sentence, fontdict=fontdict)\n"
     ]
    },
    {
     "data": {
      "image/png": "[encoded data removed]",
      "text/plain": [
       "<Figure size 720x720 with 1 Axes>"
      ]
     },
     "metadata": {
      "needs_background": "light"
     },
     "output_type": "display_data"
    }
   ],
   "source": [
    "translate(u'apple child eat')"
   ]
  },
  {
   "cell_type": "code",
   "execution_count": 60,
   "metadata": {},
   "outputs": [
    {
     "name": "stdout",
     "output_type": "stream",
     "text": [
      "\n",
      "******* Luong Attention  STARTS******\n",
      "query (decoder hidden state): (batch_size, hidden size)  (1, 1024)\n",
      "values (encoder all hidden state): (batch_size, max_len, hidden size)  (1, 12, 1024)\n",
      "query_with_time_axis:(batch_size, 1, hidden size)  (1, 1, 1024)\n",
      "values_transposed:(batch_size, hidden size, max_len)  (1, 1024, 12)\n",
      "score: (batch_size, max_length, 1)  (1, 12, 1)\n",
      "attention_weights: (batch_size, max_length, 1)  (1, 12, 1)\n",
      "context_vector before reduce_sum: (batch_size, max_length, hidden_size)  (1, 12, 1024)\n",
      "context_vector after reduce_sum: (batch_size, hidden_size)  (1, 1024)\n",
      "\n",
      "******* Luong Attention ENDS******\n",
      "20\n",
      "\n",
      "******* Luong Attention  STARTS******\n",
      "query (decoder hidden state): (batch_size, hidden size)  (1, 1024)\n",
      "values (encoder all hidden state): (batch_size, max_len, hidden size)  (1, 12, 1024)\n",
      "query_with_time_axis:(batch_size, 1, hidden size)  (1, 1, 1024)\n",
      "values_transposed:(batch_size, hidden size, max_len)  (1, 1024, 12)\n",
      "score: (batch_size, max_length, 1)  (1, 12, 1)\n",
      "attention_weights: (batch_size, max_length, 1)  (1, 12, 1)\n",
      "context_vector before reduce_sum: (batch_size, max_length, hidden_size)  (1, 12, 1024)\n",
      "context_vector after reduce_sum: (batch_size, hidden_size)  (1, 1024)\n",
      "\n",
      "******* Luong Attention ENDS******\n",
      "4\n",
      "\n",
      "******* Luong Attention  STARTS******\n",
      "query (decoder hidden state): (batch_size, hidden size)  (1, 1024)\n",
      "values (encoder all hidden state): (batch_size, max_len, hidden size)  (1, 12, 1024)\n",
      "query_with_time_axis:(batch_size, 1, hidden size)  (1, 1, 1024)\n",
      "values_transposed:(batch_size, hidden size, max_len)  (1, 1024, 12)\n",
      "score: (batch_size, max_length, 1)  (1, 12, 1)\n",
      "attention_weights: (batch_size, max_length, 1)  (1, 12, 1)\n",
      "context_vector before reduce_sum: (batch_size, max_length, hidden_size)  (1, 12, 1024)\n",
      "context_vector after reduce_sum: (batch_size, hidden_size)  (1, 1024)\n",
      "\n",
      "******* Luong Attention ENDS******\n",
      "50\n",
      "\n",
      "******* Luong Attention  STARTS******\n",
      "query (decoder hidden state): (batch_size, hidden size)  (1, 1024)\n",
      "values (encoder all hidden state): (batch_size, max_len, hidden size)  (1, 12, 1024)\n",
      "query_with_time_axis:(batch_size, 1, hidden size)  (1, 1, 1024)\n",
      "values_transposed:(batch_size, hidden size, max_len)  (1, 1024, 12)\n",
      "score: (batch_size, max_length, 1)  (1, 12, 1)\n",
      "attention_weights: (batch_size, max_length, 1)  (1, 12, 1)\n",
      "context_vector before reduce_sum: (batch_size, max_length, hidden_size)  (1, 12, 1024)\n",
      "context_vector after reduce_sum: (batch_size, hidden_size)  (1, 1024)\n",
      "\n",
      "******* Luong Attention ENDS******\n",
      "2\n",
      "Input: start_ beautiful flower _end\n",
      "Predicted translation: this is beautiful _end \n"
     ]
    },
    {
     "name": "stderr",
     "output_type": "stream",
     "text": [
      "<ipython-input-36-71f02795d875>:9: UserWarning: FixedFormatter should only be used together with FixedLocator\n",
      "  ax.set_xticklabels([''] + sentence, fontdict=fontdict, rotation=90)\n",
      "<ipython-input-36-71f02795d875>:10: UserWarning: FixedFormatter should only be used together with FixedLocator\n",
      "  ax.set_yticklabels([''] + predicted_sentence, fontdict=fontdict)\n"
     ]
    },
    {
     "data": {
      "image/png": "[encoded data removed]",
      "text/plain": [
       "<Figure size 720x720 with 1 Axes>"
      ]
     },
     "metadata": {
      "needs_background": "light"
     },
     "output_type": "display_data"
    }
   ],
   "source": [
    "translate(u'beautiful flower')"
   ]
  },
  {
   "cell_type": "code",
   "execution_count": 59,
   "metadata": {},
   "outputs": [
    {
     "name": "stdout",
     "output_type": "stream",
     "text": [
      "\n",
      "******* Luong Attention  STARTS******\n",
      "query (decoder hidden state): (batch_size, hidden size)  (1, 1024)\n",
      "values (encoder all hidden state): (batch_size, max_len, hidden size)  (1, 12, 1024)\n",
      "query_with_time_axis:(batch_size, 1, hidden size)  (1, 1, 1024)\n",
      "values_transposed:(batch_size, hidden size, max_len)  (1, 1024, 12)\n",
      "score: (batch_size, max_length, 1)  (1, 12, 1)\n",
      "attention_weights: (batch_size, max_length, 1)  (1, 12, 1)\n",
      "context_vector before reduce_sum: (batch_size, max_length, hidden_size)  (1, 12, 1024)\n",
      "context_vector after reduce_sum: (batch_size, hidden_size)  (1, 1024)\n",
      "\n",
      "******* Luong Attention ENDS******\n",
      "19\n",
      "\n",
      "******* Luong Attention  STARTS******\n",
      "query (decoder hidden state): (batch_size, hidden size)  (1, 1024)\n",
      "values (encoder all hidden state): (batch_size, max_len, hidden size)  (1, 12, 1024)\n",
      "query_with_time_axis:(batch_size, 1, hidden size)  (1, 1, 1024)\n",
      "values_transposed:(batch_size, hidden size, max_len)  (1, 1024, 12)\n",
      "score: (batch_size, max_length, 1)  (1, 12, 1)\n",
      "attention_weights: (batch_size, max_length, 1)  (1, 12, 1)\n",
      "context_vector before reduce_sum: (batch_size, max_length, hidden_size)  (1, 12, 1024)\n",
      "context_vector after reduce_sum: (batch_size, hidden_size)  (1, 1024)\n",
      "\n",
      "******* Luong Attention ENDS******\n",
      "4\n",
      "\n",
      "******* Luong Attention  STARTS******\n",
      "query (decoder hidden state): (batch_size, hidden size)  (1, 1024)\n",
      "values (encoder all hidden state): (batch_size, max_len, hidden size)  (1, 12, 1024)\n",
      "query_with_time_axis:(batch_size, 1, hidden size)  (1, 1, 1024)\n",
      "values_transposed:(batch_size, hidden size, max_len)  (1, 1024, 12)\n",
      "score: (batch_size, max_length, 1)  (1, 12, 1)\n",
      "attention_weights: (batch_size, max_length, 1)  (1, 12, 1)\n",
      "context_vector before reduce_sum: (batch_size, max_length, hidden_size)  (1, 12, 1024)\n",
      "context_vector after reduce_sum: (batch_size, hidden_size)  (1, 1024)\n",
      "\n",
      "******* Luong Attention ENDS******\n",
      "206\n",
      "\n",
      "******* Luong Attention  STARTS******\n",
      "query (decoder hidden state): (batch_size, hidden size)  (1, 1024)\n",
      "values (encoder all hidden state): (batch_size, max_len, hidden size)  (1, 12, 1024)\n",
      "query_with_time_axis:(batch_size, 1, hidden size)  (1, 1, 1024)\n",
      "values_transposed:(batch_size, hidden size, max_len)  (1, 1024, 12)\n",
      "score: (batch_size, max_length, 1)  (1, 12, 1)\n",
      "attention_weights: (batch_size, max_length, 1)  (1, 12, 1)\n",
      "context_vector before reduce_sum: (batch_size, max_length, hidden_size)  (1, 12, 1024)\n",
      "context_vector after reduce_sum: (batch_size, hidden_size)  (1, 1024)\n",
      "\n",
      "******* Luong Attention ENDS******\n",
      "11\n",
      "\n",
      "******* Luong Attention  STARTS******\n",
      "query (decoder hidden state): (batch_size, hidden size)  (1, 1024)\n",
      "values (encoder all hidden state): (batch_size, max_len, hidden size)  (1, 12, 1024)\n",
      "query_with_time_axis:(batch_size, 1, hidden size)  (1, 1, 1024)\n",
      "values_transposed:(batch_size, hidden size, max_len)  (1, 1024, 12)\n",
      "score: (batch_size, max_length, 1)  (1, 12, 1)\n",
      "attention_weights: (batch_size, max_length, 1)  (1, 12, 1)\n",
      "context_vector before reduce_sum: (batch_size, max_length, hidden_size)  (1, 12, 1024)\n",
      "context_vector after reduce_sum: (batch_size, hidden_size)  (1, 1024)\n",
      "\n",
      "******* Luong Attention ENDS******\n",
      "9\n",
      "\n",
      "******* Luong Attention  STARTS******\n",
      "query (decoder hidden state): (batch_size, hidden size)  (1, 1024)\n",
      "values (encoder all hidden state): (batch_size, max_len, hidden size)  (1, 12, 1024)\n",
      "query_with_time_axis:(batch_size, 1, hidden size)  (1, 1, 1024)\n",
      "values_transposed:(batch_size, hidden size, max_len)  (1, 1024, 12)\n",
      "score: (batch_size, max_length, 1)  (1, 12, 1)\n",
      "attention_weights: (batch_size, max_length, 1)  (1, 12, 1)\n",
      "context_vector before reduce_sum: (batch_size, max_length, hidden_size)  (1, 12, 1024)\n",
      "context_vector after reduce_sum: (batch_size, hidden_size)  (1, 1024)\n",
      "\n",
      "******* Luong Attention ENDS******\n",
      "52\n",
      "\n",
      "******* Luong Attention  STARTS******\n",
      "query (decoder hidden state): (batch_size, hidden size)  (1, 1024)\n",
      "values (encoder all hidden state): (batch_size, max_len, hidden size)  (1, 12, 1024)\n",
      "query_with_time_axis:(batch_size, 1, hidden size)  (1, 1, 1024)\n",
      "values_transposed:(batch_size, hidden size, max_len)  (1, 1024, 12)\n",
      "score: (batch_size, max_length, 1)  (1, 12, 1)\n",
      "attention_weights: (batch_size, max_length, 1)  (1, 12, 1)\n",
      "context_vector before reduce_sum: (batch_size, max_length, hidden_size)  (1, 12, 1024)\n",
      "context_vector after reduce_sum: (batch_size, hidden_size)  (1, 1024)\n",
      "\n",
      "******* Luong Attention ENDS******\n",
      "2\n",
      "Input: start_ morning _end\n",
      "Predicted translation: it is nine in the morning _end \n"
     ]
    },
    {
     "name": "stderr",
     "output_type": "stream",
     "text": [
      "<ipython-input-36-71f02795d875>:9: UserWarning: FixedFormatter should only be used together with FixedLocator\n",
      "  ax.set_xticklabels([''] + sentence, fontdict=fontdict, rotation=90)\n",
      "<ipython-input-36-71f02795d875>:10: UserWarning: FixedFormatter should only be used together with FixedLocator\n",
      "  ax.set_yticklabels([''] + predicted_sentence, fontdict=fontdict)\n"
     ]
    },
    {
     "data": {
      "image/png": "[encoded data removed]",
      "text/plain": [
       "<Figure size 720x720 with 1 Axes>"
      ]
     },
     "metadata": {
      "needs_background": "light"
     },
     "output_type": "display_data"
    }
   ],
   "source": [
    "translate(u'morning 9')"
   ]
  },
  {
   "cell_type": "code",
   "execution_count": 51,
   "metadata": {},
   "outputs": [
    {
     "name": "stdout",
     "output_type": "stream",
     "text": [
      "\n",
      "******* Luong Attention  STARTS******\n",
      "query (decoder hidden state): (batch_size, hidden size)  (1, 1024)\n",
      "values (encoder all hidden state): (batch_size, max_len, hidden size)  (1, 12, 1024)\n",
      "query_with_time_axis:(batch_size, 1, hidden size)  (1, 1, 1024)\n",
      "values_transposed:(batch_size, hidden size, max_len)  (1, 1024, 12)\n",
      "score: (batch_size, max_length, 1)  (1, 12, 1)\n",
      "attention_weights: (batch_size, max_length, 1)  (1, 12, 1)\n",
      "context_vector before reduce_sum: (batch_size, max_length, hidden_size)  (1, 12, 1024)\n",
      "context_vector after reduce_sum: (batch_size, hidden_size)  (1, 1024)\n",
      "\n",
      "******* Luong Attention ENDS******\n",
      "14\n",
      "\n",
      "******* Luong Attention  STARTS******\n",
      "query (decoder hidden state): (batch_size, hidden size)  (1, 1024)\n",
      "values (encoder all hidden state): (batch_size, max_len, hidden size)  (1, 12, 1024)\n",
      "query_with_time_axis:(batch_size, 1, hidden size)  (1, 1, 1024)\n",
      "values_transposed:(batch_size, hidden size, max_len)  (1, 1024, 12)\n",
      "score: (batch_size, max_length, 1)  (1, 12, 1)\n",
      "attention_weights: (batch_size, max_length, 1)  (1, 12, 1)\n",
      "context_vector before reduce_sum: (batch_size, max_length, hidden_size)  (1, 12, 1024)\n",
      "context_vector after reduce_sum: (batch_size, hidden_size)  (1, 1024)\n",
      "\n",
      "******* Luong Attention ENDS******\n",
      "18\n",
      "\n",
      "******* Luong Attention  STARTS******\n",
      "query (decoder hidden state): (batch_size, hidden size)  (1, 1024)\n",
      "values (encoder all hidden state): (batch_size, max_len, hidden size)  (1, 12, 1024)\n",
      "query_with_time_axis:(batch_size, 1, hidden size)  (1, 1, 1024)\n",
      "values_transposed:(batch_size, hidden size, max_len)  (1, 1024, 12)\n",
      "score: (batch_size, max_length, 1)  (1, 12, 1)\n",
      "attention_weights: (batch_size, max_length, 1)  (1, 12, 1)\n",
      "context_vector before reduce_sum: (batch_size, max_length, hidden_size)  (1, 12, 1024)\n",
      "context_vector after reduce_sum: (batch_size, hidden_size)  (1, 1024)\n",
      "\n",
      "******* Luong Attention ENDS******\n",
      "6\n",
      "\n",
      "******* Luong Attention  STARTS******\n",
      "query (decoder hidden state): (batch_size, hidden size)  (1, 1024)\n",
      "values (encoder all hidden state): (batch_size, max_len, hidden size)  (1, 12, 1024)\n",
      "query_with_time_axis:(batch_size, 1, hidden size)  (1, 1, 1024)\n",
      "values_transposed:(batch_size, hidden size, max_len)  (1, 1024, 12)\n",
      "score: (batch_size, max_length, 1)  (1, 12, 1)\n",
      "attention_weights: (batch_size, max_length, 1)  (1, 12, 1)\n",
      "context_vector before reduce_sum: (batch_size, max_length, hidden_size)  (1, 12, 1024)\n",
      "context_vector after reduce_sum: (batch_size, hidden_size)  (1, 1024)\n",
      "\n",
      "******* Luong Attention ENDS******\n",
      "31\n",
      "\n",
      "******* Luong Attention  STARTS******\n",
      "query (decoder hidden state): (batch_size, hidden size)  (1, 1024)\n",
      "values (encoder all hidden state): (batch_size, max_len, hidden size)  (1, 12, 1024)\n",
      "query_with_time_axis:(batch_size, 1, hidden size)  (1, 1, 1024)\n",
      "values_transposed:(batch_size, hidden size, max_len)  (1, 1024, 12)\n",
      "score: (batch_size, max_length, 1)  (1, 12, 1)\n",
      "attention_weights: (batch_size, max_length, 1)  (1, 12, 1)\n",
      "context_vector before reduce_sum: (batch_size, max_length, hidden_size)  (1, 12, 1024)\n",
      "context_vector after reduce_sum: (batch_size, hidden_size)  (1, 1024)\n",
      "\n",
      "******* Luong Attention ENDS******\n",
      "5\n",
      "\n",
      "******* Luong Attention  STARTS******\n",
      "query (decoder hidden state): (batch_size, hidden size)  (1, 1024)\n",
      "values (encoder all hidden state): (batch_size, max_len, hidden size)  (1, 12, 1024)\n",
      "query_with_time_axis:(batch_size, 1, hidden size)  (1, 1, 1024)\n",
      "values_transposed:(batch_size, hidden size, max_len)  (1, 1024, 12)\n",
      "score: (batch_size, max_length, 1)  (1, 12, 1)\n",
      "attention_weights: (batch_size, max_length, 1)  (1, 12, 1)\n",
      "context_vector before reduce_sum: (batch_size, max_length, hidden_size)  (1, 12, 1024)\n",
      "context_vector after reduce_sum: (batch_size, hidden_size)  (1, 1024)\n",
      "\n",
      "******* Luong Attention ENDS******\n",
      "2\n",
      "Input: start_ do job what _end\n",
      "Predicted translation: what do you work ? _end \n"
     ]
    },
    {
     "name": "stderr",
     "output_type": "stream",
     "text": [
      "<ipython-input-36-71f02795d875>:9: UserWarning: FixedFormatter should only be used together with FixedLocator\n",
      "  ax.set_xticklabels([''] + sentence, fontdict=fontdict, rotation=90)\n",
      "<ipython-input-36-71f02795d875>:10: UserWarning: FixedFormatter should only be used together with FixedLocator\n",
      "  ax.set_yticklabels([''] + predicted_sentence, fontdict=fontdict)\n"
     ]
    },
    {
     "data": {
      "image/png": "[encoded data removed]",
      "text/plain": [
       "<Figure size 720x720 with 1 Axes>"
      ]
     },
     "metadata": {
      "needs_background": "light"
     },
     "output_type": "display_data"
    }
   ],
   "source": [
    "translate(u'do job what')"
   ]
  },
  {
   "cell_type": "code",
   "execution_count": 52,
   "metadata": {},
   "outputs": [
    {
     "name": "stdout",
     "output_type": "stream",
     "text": [
      "\n",
      "******* Luong Attention  STARTS******\n",
      "query (decoder hidden state): (batch_size, hidden size)  (1, 1024)\n",
      "values (encoder all hidden state): (batch_size, max_len, hidden size)  (1, 12, 1024)\n",
      "query_with_time_axis:(batch_size, 1, hidden size)  (1, 1, 1024)\n",
      "values_transposed:(batch_size, hidden size, max_len)  (1, 1024, 12)\n",
      "score: (batch_size, max_length, 1)  (1, 12, 1)\n",
      "attention_weights: (batch_size, max_length, 1)  (1, 12, 1)\n",
      "context_vector before reduce_sum: (batch_size, max_length, hidden_size)  (1, 12, 1024)\n",
      "context_vector after reduce_sum: (batch_size, hidden_size)  (1, 1024)\n",
      "\n",
      "******* Luong Attention ENDS******\n",
      "14\n",
      "\n",
      "******* Luong Attention  STARTS******\n",
      "query (decoder hidden state): (batch_size, hidden size)  (1, 1024)\n",
      "values (encoder all hidden state): (batch_size, max_len, hidden size)  (1, 12, 1024)\n",
      "query_with_time_axis:(batch_size, 1, hidden size)  (1, 1, 1024)\n",
      "values_transposed:(batch_size, hidden size, max_len)  (1, 1024, 12)\n",
      "score: (batch_size, max_length, 1)  (1, 12, 1)\n",
      "attention_weights: (batch_size, max_length, 1)  (1, 12, 1)\n",
      "context_vector before reduce_sum: (batch_size, max_length, hidden_size)  (1, 12, 1024)\n",
      "context_vector after reduce_sum: (batch_size, hidden_size)  (1, 1024)\n",
      "\n",
      "******* Luong Attention ENDS******\n",
      "4\n",
      "\n",
      "******* Luong Attention  STARTS******\n",
      "query (decoder hidden state): (batch_size, hidden size)  (1, 1024)\n",
      "values (encoder all hidden state): (batch_size, max_len, hidden size)  (1, 12, 1024)\n",
      "query_with_time_axis:(batch_size, 1, hidden size)  (1, 1, 1024)\n",
      "values_transposed:(batch_size, hidden size, max_len)  (1, 1024, 12)\n",
      "score: (batch_size, max_length, 1)  (1, 12, 1)\n",
      "attention_weights: (batch_size, max_length, 1)  (1, 12, 1)\n",
      "context_vector before reduce_sum: (batch_size, max_length, hidden_size)  (1, 12, 1024)\n",
      "context_vector after reduce_sum: (batch_size, hidden_size)  (1, 1024)\n",
      "\n",
      "******* Luong Attention ENDS******\n",
      "22\n",
      "\n",
      "******* Luong Attention  STARTS******\n",
      "query (decoder hidden state): (batch_size, hidden size)  (1, 1024)\n",
      "values (encoder all hidden state): (batch_size, max_len, hidden size)  (1, 12, 1024)\n",
      "query_with_time_axis:(batch_size, 1, hidden size)  (1, 1, 1024)\n",
      "values_transposed:(batch_size, hidden size, max_len)  (1, 1024, 12)\n",
      "score: (batch_size, max_length, 1)  (1, 12, 1)\n",
      "attention_weights: (batch_size, max_length, 1)  (1, 12, 1)\n",
      "context_vector before reduce_sum: (batch_size, max_length, hidden_size)  (1, 12, 1024)\n",
      "context_vector after reduce_sum: (batch_size, hidden_size)  (1, 1024)\n",
      "\n",
      "******* Luong Attention ENDS******\n",
      "30\n",
      "\n",
      "******* Luong Attention  STARTS******\n",
      "query (decoder hidden state): (batch_size, hidden size)  (1, 1024)\n",
      "values (encoder all hidden state): (batch_size, max_len, hidden size)  (1, 12, 1024)\n",
      "query_with_time_axis:(batch_size, 1, hidden size)  (1, 1, 1024)\n",
      "values_transposed:(batch_size, hidden size, max_len)  (1, 1024, 12)\n",
      "score: (batch_size, max_length, 1)  (1, 12, 1)\n",
      "attention_weights: (batch_size, max_length, 1)  (1, 12, 1)\n",
      "context_vector before reduce_sum: (batch_size, max_length, hidden_size)  (1, 12, 1024)\n",
      "context_vector after reduce_sum: (batch_size, hidden_size)  (1, 1024)\n",
      "\n",
      "******* Luong Attention ENDS******\n",
      "43\n",
      "\n",
      "******* Luong Attention  STARTS******\n",
      "query (decoder hidden state): (batch_size, hidden size)  (1, 1024)\n",
      "values (encoder all hidden state): (batch_size, max_len, hidden size)  (1, 12, 1024)\n",
      "query_with_time_axis:(batch_size, 1, hidden size)  (1, 1, 1024)\n",
      "values_transposed:(batch_size, hidden size, max_len)  (1, 1024, 12)\n",
      "score: (batch_size, max_length, 1)  (1, 12, 1)\n",
      "attention_weights: (batch_size, max_length, 1)  (1, 12, 1)\n",
      "context_vector before reduce_sum: (batch_size, max_length, hidden_size)  (1, 12, 1024)\n",
      "context_vector after reduce_sum: (batch_size, hidden_size)  (1, 1024)\n",
      "\n",
      "******* Luong Attention ENDS******\n",
      "5\n",
      "\n",
      "******* Luong Attention  STARTS******\n",
      "query (decoder hidden state): (batch_size, hidden size)  (1, 1024)\n",
      "values (encoder all hidden state): (batch_size, max_len, hidden size)  (1, 12, 1024)\n",
      "query_with_time_axis:(batch_size, 1, hidden size)  (1, 1, 1024)\n",
      "values_transposed:(batch_size, hidden size, max_len)  (1, 1024, 12)\n",
      "score: (batch_size, max_length, 1)  (1, 12, 1)\n",
      "attention_weights: (batch_size, max_length, 1)  (1, 12, 1)\n",
      "context_vector before reduce_sum: (batch_size, max_length, hidden_size)  (1, 12, 1024)\n",
      "context_vector after reduce_sum: (batch_size, hidden_size)  (1, 1024)\n",
      "\n",
      "******* Luong Attention ENDS******\n",
      "2\n",
      "Input: start_ school name what _end\n",
      "Predicted translation: what is your school name ? _end \n"
     ]
    },
    {
     "name": "stderr",
     "output_type": "stream",
     "text": [
      "<ipython-input-36-71f02795d875>:9: UserWarning: FixedFormatter should only be used together with FixedLocator\n",
      "  ax.set_xticklabels([''] + sentence, fontdict=fontdict, rotation=90)\n",
      "<ipython-input-36-71f02795d875>:10: UserWarning: FixedFormatter should only be used together with FixedLocator\n",
      "  ax.set_yticklabels([''] + predicted_sentence, fontdict=fontdict)\n"
     ]
    },
    {
     "data": {
      "image/png": "[encoded data removed]",
      "text/plain": [
       "<Figure size 720x720 with 1 Axes>"
      ]
     },
     "metadata": {
      "needs_background": "light"
     },
     "output_type": "display_data"
    }
   ],
   "source": [
    "translate(u'school name what')"
   ]
  },
  {
   "cell_type": "code",
   "execution_count": 53,
   "metadata": {},
   "outputs": [
    {
     "name": "stdout",
     "output_type": "stream",
     "text": [
      "\n",
      "******* Luong Attention  STARTS******\n",
      "query (decoder hidden state): (batch_size, hidden size)  (1, 1024)\n",
      "values (encoder all hidden state): (batch_size, max_len, hidden size)  (1, 12, 1024)\n",
      "query_with_time_axis:(batch_size, 1, hidden size)  (1, 1, 1024)\n",
      "values_transposed:(batch_size, hidden size, max_len)  (1, 1024, 12)\n",
      "score: (batch_size, max_length, 1)  (1, 12, 1)\n",
      "attention_weights: (batch_size, max_length, 1)  (1, 12, 1)\n",
      "context_vector before reduce_sum: (batch_size, max_length, hidden_size)  (1, 12, 1024)\n",
      "context_vector after reduce_sum: (batch_size, hidden_size)  (1, 1024)\n",
      "\n",
      "******* Luong Attention ENDS******\n",
      "14\n",
      "\n",
      "******* Luong Attention  STARTS******\n",
      "query (decoder hidden state): (batch_size, hidden size)  (1, 1024)\n",
      "values (encoder all hidden state): (batch_size, max_len, hidden size)  (1, 12, 1024)\n",
      "query_with_time_axis:(batch_size, 1, hidden size)  (1, 1, 1024)\n",
      "values_transposed:(batch_size, hidden size, max_len)  (1, 1024, 12)\n",
      "score: (batch_size, max_length, 1)  (1, 12, 1)\n",
      "attention_weights: (batch_size, max_length, 1)  (1, 12, 1)\n",
      "context_vector before reduce_sum: (batch_size, max_length, hidden_size)  (1, 12, 1024)\n",
      "context_vector after reduce_sum: (batch_size, hidden_size)  (1, 1024)\n",
      "\n",
      "******* Luong Attention ENDS******\n",
      "37\n",
      "\n",
      "******* Luong Attention  STARTS******\n",
      "query (decoder hidden state): (batch_size, hidden size)  (1, 1024)\n",
      "values (encoder all hidden state): (batch_size, max_len, hidden size)  (1, 12, 1024)\n",
      "query_with_time_axis:(batch_size, 1, hidden size)  (1, 1, 1024)\n",
      "values_transposed:(batch_size, hidden size, max_len)  (1, 1024, 12)\n",
      "score: (batch_size, max_length, 1)  (1, 12, 1)\n",
      "attention_weights: (batch_size, max_length, 1)  (1, 12, 1)\n",
      "context_vector before reduce_sum: (batch_size, max_length, hidden_size)  (1, 12, 1024)\n",
      "context_vector after reduce_sum: (batch_size, hidden_size)  (1, 1024)\n",
      "\n",
      "******* Luong Attention ENDS******\n",
      "24\n",
      "\n",
      "******* Luong Attention  STARTS******\n",
      "query (decoder hidden state): (batch_size, hidden size)  (1, 1024)\n",
      "values (encoder all hidden state): (batch_size, max_len, hidden size)  (1, 12, 1024)\n",
      "query_with_time_axis:(batch_size, 1, hidden size)  (1, 1, 1024)\n",
      "values_transposed:(batch_size, hidden size, max_len)  (1, 1024, 12)\n",
      "score: (batch_size, max_length, 1)  (1, 12, 1)\n",
      "attention_weights: (batch_size, max_length, 1)  (1, 12, 1)\n",
      "context_vector before reduce_sum: (batch_size, max_length, hidden_size)  (1, 12, 1024)\n",
      "context_vector after reduce_sum: (batch_size, hidden_size)  (1, 1024)\n",
      "\n",
      "******* Luong Attention ENDS******\n",
      "111\n",
      "\n",
      "******* Luong Attention  STARTS******\n",
      "query (decoder hidden state): (batch_size, hidden size)  (1, 1024)\n",
      "values (encoder all hidden state): (batch_size, max_len, hidden size)  (1, 12, 1024)\n",
      "query_with_time_axis:(batch_size, 1, hidden size)  (1, 1, 1024)\n",
      "values_transposed:(batch_size, hidden size, max_len)  (1, 1024, 12)\n",
      "score: (batch_size, max_length, 1)  (1, 12, 1)\n",
      "attention_weights: (batch_size, max_length, 1)  (1, 12, 1)\n",
      "context_vector before reduce_sum: (batch_size, max_length, hidden_size)  (1, 12, 1024)\n",
      "context_vector after reduce_sum: (batch_size, hidden_size)  (1, 1024)\n",
      "\n",
      "******* Luong Attention ENDS******\n",
      "5\n",
      "\n",
      "******* Luong Attention  STARTS******\n",
      "query (decoder hidden state): (batch_size, hidden size)  (1, 1024)\n",
      "values (encoder all hidden state): (batch_size, max_len, hidden size)  (1, 12, 1024)\n",
      "query_with_time_axis:(batch_size, 1, hidden size)  (1, 1, 1024)\n",
      "values_transposed:(batch_size, hidden size, max_len)  (1, 1024, 12)\n",
      "score: (batch_size, max_length, 1)  (1, 12, 1)\n",
      "attention_weights: (batch_size, max_length, 1)  (1, 12, 1)\n",
      "context_vector before reduce_sum: (batch_size, max_length, hidden_size)  (1, 12, 1024)\n",
      "context_vector after reduce_sum: (batch_size, hidden_size)  (1, 1024)\n",
      "\n",
      "******* Luong Attention ENDS******\n",
      "2\n",
      "Input: start_ she say what _end\n",
      "Predicted translation: what did she say ? _end \n"
     ]
    },
    {
     "name": "stderr",
     "output_type": "stream",
     "text": [
      "<ipython-input-36-71f02795d875>:9: UserWarning: FixedFormatter should only be used together with FixedLocator\n",
      "  ax.set_xticklabels([''] + sentence, fontdict=fontdict, rotation=90)\n",
      "<ipython-input-36-71f02795d875>:10: UserWarning: FixedFormatter should only be used together with FixedLocator\n",
      "  ax.set_yticklabels([''] + predicted_sentence, fontdict=fontdict)\n"
     ]
    },
    {
     "data": {
      "image/png": "[encoded data removed]",
      "text/plain": [
       "<Figure size 720x720 with 1 Axes>"
      ]
     },
     "metadata": {
      "needs_background": "light"
     },
     "output_type": "display_data"
    }
   ],
   "source": [
    "translate(u'she say what')"
   ]
  },
  {
   "cell_type": "code",
   "execution_count": 54,
   "metadata": {},
   "outputs": [
    {
     "name": "stdout",
     "output_type": "stream",
     "text": [
      "\n",
      "******* Luong Attention  STARTS******\n",
      "query (decoder hidden state): (batch_size, hidden size)  (1, 1024)\n",
      "values (encoder all hidden state): (batch_size, max_len, hidden size)  (1, 12, 1024)\n",
      "query_with_time_axis:(batch_size, 1, hidden size)  (1, 1, 1024)\n",
      "values_transposed:(batch_size, hidden size, max_len)  (1, 1024, 12)\n",
      "score: (batch_size, max_length, 1)  (1, 12, 1)\n",
      "attention_weights: (batch_size, max_length, 1)  (1, 12, 1)\n",
      "context_vector before reduce_sum: (batch_size, max_length, hidden_size)  (1, 12, 1024)\n",
      "context_vector after reduce_sum: (batch_size, hidden_size)  (1, 1024)\n",
      "\n",
      "******* Luong Attention ENDS******\n",
      "13\n",
      "\n",
      "******* Luong Attention  STARTS******\n",
      "query (decoder hidden state): (batch_size, hidden size)  (1, 1024)\n",
      "values (encoder all hidden state): (batch_size, max_len, hidden size)  (1, 12, 1024)\n",
      "query_with_time_axis:(batch_size, 1, hidden size)  (1, 1, 1024)\n",
      "values_transposed:(batch_size, hidden size, max_len)  (1, 1024, 12)\n",
      "score: (batch_size, max_length, 1)  (1, 12, 1)\n",
      "attention_weights: (batch_size, max_length, 1)  (1, 12, 1)\n",
      "context_vector before reduce_sum: (batch_size, max_length, hidden_size)  (1, 12, 1024)\n",
      "context_vector after reduce_sum: (batch_size, hidden_size)  (1, 1024)\n",
      "\n",
      "******* Luong Attention ENDS******\n",
      "124\n",
      "\n",
      "******* Luong Attention  STARTS******\n",
      "query (decoder hidden state): (batch_size, hidden size)  (1, 1024)\n",
      "values (encoder all hidden state): (batch_size, max_len, hidden size)  (1, 12, 1024)\n",
      "query_with_time_axis:(batch_size, 1, hidden size)  (1, 1, 1024)\n",
      "values_transposed:(batch_size, hidden size, max_len)  (1, 1024, 12)\n",
      "score: (batch_size, max_length, 1)  (1, 12, 1)\n",
      "attention_weights: (batch_size, max_length, 1)  (1, 12, 1)\n",
      "context_vector before reduce_sum: (batch_size, max_length, hidden_size)  (1, 12, 1024)\n",
      "context_vector after reduce_sum: (batch_size, hidden_size)  (1, 1024)\n",
      "\n",
      "******* Luong Attention ENDS******\n",
      "4\n",
      "\n",
      "******* Luong Attention  STARTS******\n",
      "query (decoder hidden state): (batch_size, hidden size)  (1, 1024)\n",
      "values (encoder all hidden state): (batch_size, max_len, hidden size)  (1, 12, 1024)\n",
      "query_with_time_axis:(batch_size, 1, hidden size)  (1, 1, 1024)\n",
      "values_transposed:(batch_size, hidden size, max_len)  (1, 1024, 12)\n",
      "score: (batch_size, max_length, 1)  (1, 12, 1)\n",
      "attention_weights: (batch_size, max_length, 1)  (1, 12, 1)\n",
      "context_vector before reduce_sum: (batch_size, max_length, hidden_size)  (1, 12, 1024)\n",
      "context_vector after reduce_sum: (batch_size, hidden_size)  (1, 1024)\n",
      "\n",
      "******* Luong Attention ENDS******\n",
      "390\n",
      "\n",
      "******* Luong Attention  STARTS******\n",
      "query (decoder hidden state): (batch_size, hidden size)  (1, 1024)\n",
      "values (encoder all hidden state): (batch_size, max_len, hidden size)  (1, 12, 1024)\n",
      "query_with_time_axis:(batch_size, 1, hidden size)  (1, 1, 1024)\n",
      "values_transposed:(batch_size, hidden size, max_len)  (1, 1024, 12)\n",
      "score: (batch_size, max_length, 1)  (1, 12, 1)\n",
      "attention_weights: (batch_size, max_length, 1)  (1, 12, 1)\n",
      "context_vector before reduce_sum: (batch_size, max_length, hidden_size)  (1, 12, 1024)\n",
      "context_vector after reduce_sum: (batch_size, hidden_size)  (1, 1024)\n",
      "\n",
      "******* Luong Attention ENDS******\n",
      "2\n",
      "Input: start_ pain head _end\n",
      "Predicted translation: my head is paining _end \n"
     ]
    },
    {
     "name": "stderr",
     "output_type": "stream",
     "text": [
      "<ipython-input-36-71f02795d875>:9: UserWarning: FixedFormatter should only be used together with FixedLocator\n",
      "  ax.set_xticklabels([''] + sentence, fontdict=fontdict, rotation=90)\n",
      "<ipython-input-36-71f02795d875>:10: UserWarning: FixedFormatter should only be used together with FixedLocator\n",
      "  ax.set_yticklabels([''] + predicted_sentence, fontdict=fontdict)\n"
     ]
    },
    {
     "data": {
      "image/png": "[encoded data removed]",
      "text/plain": [
       "<Figure size 720x720 with 1 Axes>"
      ]
     },
     "metadata": {
      "needs_background": "light"
     },
     "output_type": "display_data"
    }
   ],
   "source": [
    "translate(u'pain head')"
   ]
  },
  {
   "cell_type": "code",
   "execution_count": 55,
   "metadata": {},
   "outputs": [
    {
     "name": "stdout",
     "output_type": "stream",
     "text": [
      "\n",
      "******* Luong Attention  STARTS******\n",
      "query (decoder hidden state): (batch_size, hidden size)  (1, 1024)\n",
      "values (encoder all hidden state): (batch_size, max_len, hidden size)  (1, 12, 1024)\n",
      "query_with_time_axis:(batch_size, 1, hidden size)  (1, 1, 1024)\n",
      "values_transposed:(batch_size, hidden size, max_len)  (1, 1024, 12)\n",
      "score: (batch_size, max_length, 1)  (1, 12, 1)\n",
      "attention_weights: (batch_size, max_length, 1)  (1, 12, 1)\n",
      "context_vector before reduce_sum: (batch_size, max_length, hidden_size)  (1, 12, 1024)\n",
      "context_vector after reduce_sum: (batch_size, hidden_size)  (1, 1024)\n",
      "\n",
      "******* Luong Attention ENDS******\n",
      "119\n",
      "\n",
      "******* Luong Attention  STARTS******\n",
      "query (decoder hidden state): (batch_size, hidden size)  (1, 1024)\n",
      "values (encoder all hidden state): (batch_size, max_len, hidden size)  (1, 12, 1024)\n",
      "query_with_time_axis:(batch_size, 1, hidden size)  (1, 1, 1024)\n",
      "values_transposed:(batch_size, hidden size, max_len)  (1, 1024, 12)\n",
      "score: (batch_size, max_length, 1)  (1, 12, 1)\n",
      "attention_weights: (batch_size, max_length, 1)  (1, 12, 1)\n",
      "context_vector before reduce_sum: (batch_size, max_length, hidden_size)  (1, 12, 1024)\n",
      "context_vector after reduce_sum: (batch_size, hidden_size)  (1, 1024)\n",
      "\n",
      "******* Luong Attention ENDS******\n",
      "3\n",
      "\n",
      "******* Luong Attention  STARTS******\n",
      "query (decoder hidden state): (batch_size, hidden size)  (1, 1024)\n",
      "values (encoder all hidden state): (batch_size, max_len, hidden size)  (1, 12, 1024)\n",
      "query_with_time_axis:(batch_size, 1, hidden size)  (1, 1, 1024)\n",
      "values_transposed:(batch_size, hidden size, max_len)  (1, 1024, 12)\n",
      "score: (batch_size, max_length, 1)  (1, 12, 1)\n",
      "attention_weights: (batch_size, max_length, 1)  (1, 12, 1)\n",
      "context_vector before reduce_sum: (batch_size, max_length, hidden_size)  (1, 12, 1024)\n",
      "context_vector after reduce_sum: (batch_size, hidden_size)  (1, 1024)\n",
      "\n",
      "******* Luong Attention ENDS******\n",
      "51\n",
      "\n",
      "******* Luong Attention  STARTS******\n",
      "query (decoder hidden state): (batch_size, hidden size)  (1, 1024)\n",
      "values (encoder all hidden state): (batch_size, max_len, hidden size)  (1, 12, 1024)\n",
      "query_with_time_axis:(batch_size, 1, hidden size)  (1, 1, 1024)\n",
      "values_transposed:(batch_size, hidden size, max_len)  (1, 1024, 12)\n",
      "score: (batch_size, max_length, 1)  (1, 12, 1)\n",
      "attention_weights: (batch_size, max_length, 1)  (1, 12, 1)\n",
      "context_vector before reduce_sum: (batch_size, max_length, hidden_size)  (1, 12, 1024)\n",
      "context_vector after reduce_sum: (batch_size, hidden_size)  (1, 1024)\n",
      "\n",
      "******* Luong Attention ENDS******\n",
      "6\n",
      "\n",
      "******* Luong Attention  STARTS******\n",
      "query (decoder hidden state): (batch_size, hidden size)  (1, 1024)\n",
      "values (encoder all hidden state): (batch_size, max_len, hidden size)  (1, 12, 1024)\n",
      "query_with_time_axis:(batch_size, 1, hidden size)  (1, 1, 1024)\n",
      "values_transposed:(batch_size, hidden size, max_len)  (1, 1024, 12)\n",
      "score: (batch_size, max_length, 1)  (1, 12, 1)\n",
      "attention_weights: (batch_size, max_length, 1)  (1, 12, 1)\n",
      "context_vector before reduce_sum: (batch_size, max_length, hidden_size)  (1, 12, 1024)\n",
      "context_vector after reduce_sum: (batch_size, hidden_size)  (1, 1024)\n",
      "\n",
      "******* Luong Attention ENDS******\n",
      "5\n",
      "\n",
      "******* Luong Attention  STARTS******\n",
      "query (decoder hidden state): (batch_size, hidden size)  (1, 1024)\n",
      "values (encoder all hidden state): (batch_size, max_len, hidden size)  (1, 12, 1024)\n",
      "query_with_time_axis:(batch_size, 1, hidden size)  (1, 1, 1024)\n",
      "values_transposed:(batch_size, hidden size, max_len)  (1, 1024, 12)\n",
      "score: (batch_size, max_length, 1)  (1, 12, 1)\n",
      "attention_weights: (batch_size, max_length, 1)  (1, 12, 1)\n",
      "context_vector before reduce_sum: (batch_size, max_length, hidden_size)  (1, 12, 1024)\n",
      "context_vector after reduce_sum: (batch_size, hidden_size)  (1, 1024)\n",
      "\n",
      "******* Luong Attention ENDS******\n",
      "2\n",
      "Input: start_ i help you _end\n",
      "Predicted translation: shall i help you ? _end \n"
     ]
    },
    {
     "name": "stderr",
     "output_type": "stream",
     "text": [
      "<ipython-input-36-71f02795d875>:9: UserWarning: FixedFormatter should only be used together with FixedLocator\n",
      "  ax.set_xticklabels([''] + sentence, fontdict=fontdict, rotation=90)\n",
      "<ipython-input-36-71f02795d875>:10: UserWarning: FixedFormatter should only be used together with FixedLocator\n",
      "  ax.set_yticklabels([''] + predicted_sentence, fontdict=fontdict)\n"
     ]
    },
    {
     "data": {
      "image/png": "[encoded data removed]",
      "text/plain": [
       "<Figure size 720x720 with 1 Axes>"
      ]
     },
     "metadata": {
      "needs_background": "light"
     },
     "output_type": "display_data"
    }
   ],
   "source": [
    "translate(u'i help you')"
   ]
  },
  {
   "cell_type": "code",
   "execution_count": null,
   "metadata": {},
   "outputs": [],
   "source": []
  },
  {
   "cell_type": "code",
   "execution_count": null,
   "metadata": {},
   "outputs": [],
   "source": []
  },
  {
   "cell_type": "code",
   "execution_count": null,
   "metadata": {},
   "outputs": [],
   "source": []
  },
  {
   "cell_type": "code",
   "execution_count": null,
   "metadata": {},
   "outputs": [],
   "source": []
  }
 ],
 "metadata": {
  "kernelspec": {
   "display_name": "Python 3",
   "language": "python",
   "name": "python3"
  },
  "language_info": {
   "codemirror_mode": {
    "name": "ipython",
    "version": 3
   },
   "file_extension": ".py",
   "mimetype": "text/x-python",
   "name": "python",
   "nbconvert_exporter": "python",
   "pygments_lexer": "ipython3",
   "version": "3.8.5"
  }
 },
 "nbformat": 4,
 "nbformat_minor": 4
}
