{
 "cells": [
  {
   "cell_type": "markdown",
   "metadata": {},
   "source": [
    "Import Libraries"
   ]
  },
  {
   "cell_type": "code",
   "execution_count": 1,
   "metadata": {},
   "outputs": [],
   "source": [
    "from __future__ import absolute_import, division, print_function, unicode_literals\n",
    "\n",
    "try:\n",
    "  # %tensorflow_version only exists in Colab.\n",
    "  %tensorflow_version 2.x\n",
    "except Exception:\n",
    "    pass\n",
    "import tensorflow as tf\n",
    "\n",
    "import matplotlib.pyplot as plt\n",
    "import matplotlib.ticker as ticker\n",
    "from sklearn.model_selection import train_test_split\n",
    "import pandas as pd\n",
    "import unicodedata\n",
    "import re\n",
    "import numpy as np\n",
    "import os\n",
    "import io\n",
    "import time\n",
    "from string import digits\n",
    "import keras\n",
    "import pydotplus"
   ]
  },
  {
   "cell_type": "markdown",
   "metadata": {},
   "source": [
    "Load Dataset into data_path variable"
   ]
  },
  {
   "cell_type": "code",
   "execution_count": 2,
   "metadata": {},
   "outputs": [],
   "source": [
    "data_path = \"islcorpus6.csv\""
   ]
  },
  {
   "cell_type": "markdown",
   "metadata": {},
   "source": [
    "Read lines"
   ]
  },
  {
   "cell_type": "code",
   "execution_count": 3,
   "metadata": {},
   "outputs": [
    {
     "data": {
      "text/html": [
       "<div>\n",
       "<style scoped>\n",
       "    .dataframe tbody tr th:only-of-type {\n",
       "        vertical-align: middle;\n",
       "    }\n",
       "\n",
       "    .dataframe tbody tr th {\n",
       "        vertical-align: top;\n",
       "    }\n",
       "\n",
       "    .dataframe thead th {\n",
       "        text-align: right;\n",
       "    }\n",
       "</style>\n",
       "<table border=\"1\" class=\"dataframe\">\n",
       "  <thead>\n",
       "    <tr style=\"text-align: right;\">\n",
       "      <th></th>\n",
       "      <th>Input</th>\n",
       "      <th>Output</th>\n",
       "    </tr>\n",
       "  </thead>\n",
       "  <tbody>\n",
       "    <tr>\n",
       "      <th>277</th>\n",
       "      <td>Past school ten success one nine nine one</td>\n",
       "      <td>In 1991 I passed the tenth class</td>\n",
       "    </tr>\n",
       "    <tr>\n",
       "      <th>382</th>\n",
       "      <td>you group have still join me</td>\n",
       "      <td>have you added me in your group</td>\n",
       "    </tr>\n",
       "    <tr>\n",
       "      <th>229</th>\n",
       "      <td>this table</td>\n",
       "      <td>this was a table</td>\n",
       "    </tr>\n",
       "    <tr>\n",
       "      <th>268</th>\n",
       "      <td>have seat please</td>\n",
       "      <td>Please have a seat</td>\n",
       "    </tr>\n",
       "    <tr>\n",
       "      <th>79</th>\n",
       "      <td>I come tomorrow</td>\n",
       "      <td>I will come tomorrow</td>\n",
       "    </tr>\n",
       "  </tbody>\n",
       "</table>\n",
       "</div>"
      ],
      "text/plain": [
       "                                         Input  \\\n",
       "277  Past school ten success one nine nine one   \n",
       "382               you group have still join me   \n",
       "229                                 this table   \n",
       "268                           have seat please   \n",
       "79                             I come tomorrow   \n",
       "\n",
       "                               Output  \n",
       "277  In 1991 I passed the tenth class  \n",
       "382   have you added me in your group  \n",
       "229                  this was a table  \n",
       "268                Please have a seat  \n",
       "79               I will come tomorrow  "
      ]
     },
     "execution_count": 3,
     "metadata": {},
     "output_type": "execute_result"
    }
   ],
   "source": [
    "lines_raw = pd.read_csv(data_path, header = 0)\n",
    "lines_raw.sample(5)"
   ]
  },
  {
   "cell_type": "markdown",
   "metadata": {},
   "source": [
    "Preprocessing inputs"
   ]
  },
  {
   "cell_type": "code",
   "execution_count": 4,
   "metadata": {},
   "outputs": [],
   "source": [
    "def preprocess_sentence(sentence):\n",
    "#sentence = unicode_to_ascii(sentence.lower().strip())\n",
    "    num_digits= str.maketrans('','', digits)\n",
    "    \n",
    "    sentence= sentence.lower()\n",
    "    sentence= re.sub(\" +\", \" \", sentence)\n",
    "    sentence= re.sub(\"'\", '', sentence)\n",
    "    sentence= sentence.translate(num_digits)\n",
    "    sentence= sentence.strip()\n",
    "    sentence= re.sub(r\"([?.!,¿])\", r\" \\1 \", sentence)\n",
    "    sentence = sentence.rstrip().strip()\n",
    "    sentence=  'start_ ' + sentence + ' _end'\n",
    "    \n",
    "    return sentence"
   ]
  },
  {
   "cell_type": "markdown",
   "metadata": {},
   "source": [
    "Adding start and end tag"
   ]
  },
  {
   "cell_type": "code",
   "execution_count": 5,
   "metadata": {},
   "outputs": [
    {
     "name": "stdout",
     "output_type": "stream",
     "text": [
      "start_ i see car _end\n",
      "b'start_ i see the car _end'\n"
     ]
    }
   ],
   "source": [
    "isl_sentence = u\"I see car\"\n",
    "eng_sentence = u\"i see the car\"\n",
    "print(preprocess_sentence(isl_sentence))\n",
    "print(preprocess_sentence(eng_sentence).encode('utf-8'))"
   ]
  },
  {
   "cell_type": "markdown",
   "metadata": {},
   "source": [
    "Create dataset function"
   ]
  },
  {
   "cell_type": "code",
   "execution_count": 6,
   "metadata": {},
   "outputs": [],
   "source": [
    "def create_dataset(path, num_examples):\n",
    "    lines = io.open(path,encoding = 'UTF-8').read().strip().split('\\n')\n",
    "    word_pairs = [[preprocess_sentence(w) for w in l.split(',')]for l in lines[:num_examples]]\n",
    "    print(path)\n",
    "    return zip(*word_pairs)"
   ]
  },
  {
   "cell_type": "code",
   "execution_count": 7,
   "metadata": {},
   "outputs": [
    {
     "name": "stdout",
     "output_type": "stream",
     "text": [
      "islcorpus6.csv\n",
      "start_ i chat some _end\n",
      "start_ ill text you _end\n"
     ]
    },
    {
     "data": {
      "text/plain": [
       "tuple"
      ]
     },
     "execution_count": 7,
     "metadata": {},
     "output_type": "execute_result"
    }
   ],
   "source": [
    "sample_size= 385\n",
    "source, target = create_dataset(data_path, sample_size)\n",
    "print(source[-1])\n",
    "print(target[-1])\n",
    "type(target)"
   ]
  },
  {
   "cell_type": "code",
   "execution_count": 8,
   "metadata": {},
   "outputs": [],
   "source": [
    "def max_length(tensor):\n",
    "    return max(len(t) for t in tensor)"
   ]
  },
  {
   "cell_type": "code",
   "execution_count": 9,
   "metadata": {},
   "outputs": [],
   "source": [
    "source_sentence_tokenizer = tf.keras.preprocessing.text.Tokenizer(filters = '')\n",
    "source_sentence_tokenizer.fit_on_texts(source)\n",
    "source_tensor = source_sentence_tokenizer.texts_to_sequences(source)\n",
    "source_tensor= tf.keras.preprocessing.sequence.pad_sequences(source_tensor,padding='post' )"
   ]
  },
  {
   "cell_type": "code",
   "execution_count": 10,
   "metadata": {},
   "outputs": [
    {
     "name": "stdout",
     "output_type": "stream",
     "text": [
      "14\n"
     ]
    }
   ],
   "source": [
    "target_sentence_tokenizer = tf.keras.preprocessing.text.Tokenizer(filters='')\n",
    "target_sentence_tokenizer.fit_on_texts(target)\n",
    "target_tensor = target_sentence_tokenizer.texts_to_sequences(target)\n",
    "target_tensor = tf.keras.preprocessing.sequence.pad_sequences(target_tensor, padding = 'post')\n",
    "print(len(target_tensor[0]))"
   ]
  },
  {
   "cell_type": "code",
   "execution_count": 11,
   "metadata": {},
   "outputs": [
    {
     "name": "stdout",
     "output_type": "stream",
     "text": [
      "14\n",
      "12\n"
     ]
    }
   ],
   "source": [
    "max_target_length= max(len(t) for t in  target_tensor)\n",
    "print(max_target_length)\n",
    "max_source_length= max(len(t) for t in  source_tensor)\n",
    "print(max_source_length)"
   ]
  },
  {
   "cell_type": "code",
   "execution_count": 12,
   "metadata": {},
   "outputs": [
    {
     "name": "stdout",
     "output_type": "stream",
     "text": [
      "308 77 308 77\n"
     ]
    }
   ],
   "source": [
    "source_train_tensor, source_test_tensor, target_train_tensor, target_test_tensor= train_test_split(source_tensor, target_tensor,test_size=0.2)\n",
    "print(len(source_train_tensor), len(source_test_tensor), len(target_train_tensor), len(target_test_tensor))"
   ]
  },
  {
   "cell_type": "code",
   "execution_count": 13,
   "metadata": {},
   "outputs": [
    {
     "name": "stdout",
     "output_type": "stream",
     "text": [
      "346 346 39 39\n"
     ]
    }
   ],
   "source": [
    "input_tensor_train, input_tensor_val, target_tensor_train, target_tensor_val = train_test_split(source_tensor, target_tensor, test_size=0.1)\n",
    "\n",
    "# Show length\n",
    "print(len(input_tensor_train), len(target_tensor_train), len(input_tensor_val), len(target_tensor_val))"
   ]
  },
  {
   "cell_type": "code",
   "execution_count": 14,
   "metadata": {},
   "outputs": [
    {
     "data": {
      "text/plain": [
       "numpy.ndarray"
      ]
     },
     "execution_count": 14,
     "metadata": {},
     "output_type": "execute_result"
    }
   ],
   "source": [
    "type(input_tensor_train)"
   ]
  },
  {
   "cell_type": "code",
   "execution_count": 15,
   "metadata": {},
   "outputs": [],
   "source": [
    "def convert(lang, tensor):\n",
    "    for t in tensor:\n",
    "        if t!=0:\n",
    "            print (\"%d ----> %s\" % (t, lang.index_word[t]))"
   ]
  },
  {
   "cell_type": "code",
   "execution_count": 16,
   "metadata": {},
   "outputs": [
    {
     "name": "stdout",
     "output_type": "stream",
     "text": [
      "Input Language; index to word mapping\n",
      "1 ----> start_\n",
      "4 ----> you\n",
      "112 ----> stay\n",
      "9 ----> where\n",
      "2 ----> _end\n",
      "\n",
      "Target Language; index to word mapping\n",
      "1 ----> start_\n",
      "18 ----> where\n",
      "15 ----> do\n",
      "6 ----> you\n",
      "123 ----> stay\n",
      "5 ----> ?\n",
      "2 ----> _end\n"
     ]
    },
    {
     "data": {
      "text/plain": [
       "numpy.ndarray"
      ]
     },
     "execution_count": 16,
     "metadata": {},
     "output_type": "execute_result"
    }
   ],
   "source": [
    "print (\"Input Language; index to word mapping\")\n",
    "convert(source_sentence_tokenizer, source_train_tensor[0])\n",
    "print ()\n",
    "\n",
    "print (\"Target Language; index to word mapping\")\n",
    "convert( target_sentence_tokenizer, target_train_tensor[0])\n",
    "type(source_train_tensor)\n",
    "type(target_train_tensor)"
   ]
  },
  {
   "cell_type": "code",
   "execution_count": 17,
   "metadata": {},
   "outputs": [
    {
     "name": "stdout",
     "output_type": "stream",
     "text": [
      "336\n",
      "<BatchDataset shapes: ((16, 12), (16, 14)), types: (tf.int32, tf.int32)>\n",
      "<BatchDataset shapes: ((16, 12), (16, 14)), types: (tf.int32, tf.int32)>\n"
     ]
    }
   ],
   "source": [
    "BUFFER_SIZE = len(source_train_tensor)\n",
    "BATCH_SIZE = 16\n",
    "steps_per_epoch = len(source_train_tensor)//BATCH_SIZE\n",
    "embedding_dim = 256\n",
    "units = 1024\n",
    "vocab_inp_size = len(source_sentence_tokenizer.word_index)+1\n",
    "print(vocab_inp_size)\n",
    "vocab_tar_size = len(target_sentence_tokenizer.word_index)+1\n",
    "\n",
    "dataset = tf.data.Dataset.from_tensor_slices((source_train_tensor, target_train_tensor)).shuffle(BUFFER_SIZE)\n",
    "dataset = dataset.batch(BATCH_SIZE, drop_remainder=True)\n",
    "type(dataset)\n",
    "test_dataset = tf.data.Dataset.from_tensor_slices((source_test_tensor, target_test_tensor))\n",
    "test_dataset = test_dataset.batch(BATCH_SIZE, drop_remainder=True)\n",
    "print(test_dataset)\n",
    "print(dataset)"
   ]
  },
  {
   "cell_type": "code",
   "execution_count": 18,
   "metadata": {},
   "outputs": [
    {
     "data": {
      "text/plain": [
       "(TensorShape([16, 12]), TensorShape([16, 14]))"
      ]
     },
     "execution_count": 18,
     "metadata": {},
     "output_type": "execute_result"
    }
   ],
   "source": [
    "example_input_batch, example_target_batch = next(iter(dataset))\n",
    "example_input_batch.shape, example_target_batch.shape"
   ]
  },
  {
   "cell_type": "code",
   "execution_count": 19,
   "metadata": {},
   "outputs": [],
   "source": [
    "class Encoder(tf.keras.Model):\n",
    "    def __init__(self, vocab_size, embedding_dim, enc_units, batch_sz):\n",
    "        super(Encoder, self).__init__()\n",
    "        self.batch_sz = batch_sz\n",
    "        self.enc_units = enc_units\n",
    "        self.embedding = tf.keras.layers.Embedding(vocab_size, embedding_dim)\n",
    "        self.gru = tf.keras.layers.GRU(self.enc_units,\n",
    "                                       return_sequences=True,\n",
    "                                       return_state=True,\n",
    "                                       recurrent_initializer='glorot_uniform')\n",
    "\n",
    "    def call(self, x, hidden):\n",
    "        x = self.embedding(x)\n",
    "        output, state = self.gru(x, initial_state = hidden)\n",
    "        return output, state\n",
    "\n",
    "    def initialize_hidden_state(self):\n",
    "        return tf.zeros((self.batch_sz, self.enc_units))\n",
    "    "
   ]
  },
  {
   "cell_type": "code",
   "execution_count": 20,
   "metadata": {},
   "outputs": [
    {
     "name": "stdout",
     "output_type": "stream",
     "text": [
      "Encoder output shape: (batch size, sequence length, units) (16, 12, 1024)\n",
      "Encoder Hidden state shape: (batch size, units) (16, 1024)\n"
     ]
    }
   ],
   "source": [
    "encoder = Encoder(vocab_inp_size, embedding_dim, units, BATCH_SIZE)\n",
    "#encoder.build(vocab_inp_size)\n",
    "#encoder.summary()\n",
    "# sample input\n",
    "sample_hidden = encoder.initialize_hidden_state()\n",
    "sample_output, sample_hidden = encoder(example_input_batch, sample_hidden)\n",
    "print ('Encoder output shape: (batch size, sequence length, units) {}'.format(sample_output.shape))\n",
    "print ('Encoder Hidden state shape: (batch size, units) {}'.format(sample_hidden.shape))"
   ]
  },
  {
   "cell_type": "code",
   "execution_count": 21,
   "metadata": {},
   "outputs": [],
   "source": [
    "class LuongAttention(tf.keras.layers.Layer):\n",
    "    def __init__(self, units):\n",
    "        super(LuongAttention, self).__init__()\n",
    "        self.W1 = tf.keras.layers.Dense(units)\n",
    "        self.W2 = tf.keras.layers.Dense(units)\n",
    "        self.V = tf.keras.layers.Dense(1)\n",
    "        \n",
    "    def call(self, query, values):\n",
    "        print('\\n******* Luong Attention  STARTS******')\n",
    "        print('query (decoder hidden state): (batch_size, hidden size) ', query.shape)\n",
    "        print('values (encoder all hidden state): (batch_size, max_len, hidden size) ', values.shape)\n",
    "\n",
    "        # query hidden state shape == (batch_size, hidden size)\n",
    "        # query_with_time_axis shape == (batch_size, 1, hidden size)\n",
    "        # values shape == (batch_size, max_len, hidden size)\n",
    "        # we are doing this to broadcast addition along the time axis to calculate the score\n",
    "        query_with_time_axis = tf.expand_dims(query, 1)\n",
    "    \n",
    "        print('query_with_time_axis:(batch_size, 1, hidden size) ', query_with_time_axis.shape)\n",
    "\n",
    "\n",
    "        values_transposed = tf.transpose(values, perm=[0, 2, 1])\n",
    "        print('values_transposed:(batch_size, hidden size, max_len) ', values_transposed.shape)\n",
    "\n",
    "        # score shape == (batch_size, max_length, 1)\n",
    "        # we get 1 at the last axis because we are applying score to self.V\n",
    "        # the shape of the tensor before applying self.V is (batch_size, max_length, units)\n",
    "        #BAHDANAU ADDITIVE:\n",
    "        #score = self.V(tf.nn.tanh(\n",
    "        #    self.W1(query_with_time_axis) + self.W2(values)))\n",
    "    \n",
    "        #LUONGH Dot-product\n",
    "        score = tf.transpose(tf.matmul(query_with_time_axis, values_transposed) , perm=[0, 2, 1])\n",
    "\n",
    "        print('score: (batch_size, max_length, 1) ',score.shape)\n",
    "        # attention_weights shape == (batch_size, max_length, 1)\n",
    "        attention_weights = tf.nn.softmax(score, axis=1)\n",
    "        print('attention_weights: (batch_size, max_length, 1) ',attention_weights.shape)\n",
    "        # context_vector shape after sum == (batch_size, hidden_size)\n",
    "        context_vector = attention_weights * values\n",
    "        print('context_vector before reduce_sum: (batch_size, max_length, hidden_size) ',context_vector.shape)\n",
    "        context_vector = tf.reduce_sum(context_vector, axis=1)\n",
    "        print('context_vector after reduce_sum: (batch_size, hidden_size) ',context_vector.shape)\n",
    "\n",
    "\n",
    "        print('\\n******* Luong Attention ENDS******')\n",
    "        return context_vector, attention_weights"
   ]
  },
  {
   "cell_type": "code",
   "execution_count": 22,
   "metadata": {},
   "outputs": [
    {
     "name": "stdout",
     "output_type": "stream",
     "text": [
      "\n",
      "******* Luong Attention  STARTS******\n",
      "query (decoder hidden state): (batch_size, hidden size)  (16, 1024)\n",
      "values (encoder all hidden state): (batch_size, max_len, hidden size)  (16, 12, 1024)\n",
      "query_with_time_axis:(batch_size, 1, hidden size)  (16, 1, 1024)\n",
      "values_transposed:(batch_size, hidden size, max_len)  (16, 1024, 12)\n",
      "score: (batch_size, max_length, 1)  (16, 12, 1)\n",
      "attention_weights: (batch_size, max_length, 1)  (16, 12, 1)\n",
      "context_vector before reduce_sum: (batch_size, max_length, hidden_size)  (16, 12, 1024)\n",
      "context_vector after reduce_sum: (batch_size, hidden_size)  (16, 1024)\n",
      "\n",
      "******* Luong Attention ENDS******\n",
      "Attention result shape: (batch size, units) (16, 1024)\n",
      "Attention weights shape: (batch_size, sequence_length, 1) (16, 12, 1)\n"
     ]
    }
   ],
   "source": [
    "attention_layer = LuongAttention(10)\n",
    "attention_result, attention_weights = attention_layer(sample_hidden, sample_output)\n",
    "\n",
    "print(\"Attention result shape: (batch size, units) {}\".format(attention_result.shape))\n",
    "print(\"Attention weights shape: (batch_size, sequence_length, 1) {}\".format(attention_weights.shape))"
   ]
  },
  {
   "cell_type": "code",
   "execution_count": 23,
   "metadata": {},
   "outputs": [],
   "source": [
    "class Decoder(tf.keras.Model):\n",
    "    def __init__(self, vocab_size, embedding_dim, dec_units, batch_sz):\n",
    "        super(Decoder, self).__init__()\n",
    "        self.batch_sz = batch_sz\n",
    "        self.dec_units = dec_units\n",
    "        \n",
    "        # used for attention\n",
    "        self.attention = LuongAttention(self.dec_units)\n",
    "\n",
    "        \n",
    "        self.embedding = tf.keras.layers.Embedding(vocab_size, embedding_dim)\n",
    "        self.gru = tf.keras.layers.GRU(self.dec_units,\n",
    "                                   return_sequences=True,\n",
    "                                   return_state=True,\n",
    "                                   recurrent_initializer='glorot_uniform')\n",
    "        self.fc = tf.keras.layers.Dense(vocab_size)\n",
    "    \n",
    "    def call(self, x, hidden, enc_output):\n",
    "\n",
    "    # enc_output shape == (batch_size, max_length, hidden_size)\n",
    "        context_vector, attention_weights = self.attention(hidden, enc_output)\n",
    "\n",
    "    # x shape after passing through embedding == (batch_size, 1, embedding_dim)\n",
    "        x = self.embedding(x)\n",
    "\n",
    "    # x shape after concatenation == (batch_size, 1, embedding_dim + hidden_size)\n",
    "        x = tf.concat([tf.expand_dims(context_vector, 1), x], axis=-1)\n",
    "\n",
    "    # passing the concatenated vector to the GRU\n",
    "        output, state = self.gru(x)\n",
    "\n",
    "    # output shape == (batch_size * 1, hidden_size)\n",
    "        output = tf.reshape(output, (-1, output.shape[2]))\n",
    "\n",
    "    # output shape == (batch_size, vocab)\n",
    "        x = self.fc(output)\n",
    "\n",
    "        return x, state, attention_weights"
   ]
  },
  {
   "cell_type": "code",
   "execution_count": 24,
   "metadata": {
    "scrolled": true
   },
   "outputs": [
    {
     "name": "stdout",
     "output_type": "stream",
     "text": [
      "\n",
      "******* Luong Attention  STARTS******\n",
      "query (decoder hidden state): (batch_size, hidden size)  (16, 1024)\n",
      "values (encoder all hidden state): (batch_size, max_len, hidden size)  (16, 12, 1024)\n",
      "query_with_time_axis:(batch_size, 1, hidden size)  (16, 1, 1024)\n",
      "values_transposed:(batch_size, hidden size, max_len)  (16, 1024, 12)\n",
      "score: (batch_size, max_length, 1)  (16, 12, 1)\n",
      "attention_weights: (batch_size, max_length, 1)  (16, 12, 1)\n",
      "context_vector before reduce_sum: (batch_size, max_length, hidden_size)  (16, 12, 1024)\n",
      "context_vector after reduce_sum: (batch_size, hidden_size)  (16, 1024)\n",
      "\n",
      "******* Luong Attention ENDS******\n",
      "Decoder output shape: (batch_size, vocab size) (16, 408)\n"
     ]
    }
   ],
   "source": [
    "decoder = Decoder(vocab_tar_size, embedding_dim, units, BATCH_SIZE)\n",
    "\n",
    "sample_decoder_output, _, _ = decoder(tf.random.uniform((BATCH_SIZE, 1)),\n",
    "                                      sample_hidden, sample_output)\n",
    "\n",
    "print ('Decoder output shape: (batch_size, vocab size) {}'.format(sample_decoder_output.shape))"
   ]
  },
  {
   "cell_type": "code",
   "execution_count": 25,
   "metadata": {},
   "outputs": [],
   "source": [
    "from tensorflow.keras import backend as K\n",
    "optimizer = tf.keras.optimizers.Adam()\n",
    "loss_object = tf.keras.losses.SparseCategoricalCrossentropy(\n",
    "    from_logits=True, reduction='none')\n",
    "\n",
    "def loss_function(real, pred):\n",
    "    mask = tf.math.logical_not(tf.math.equal(real, 0))\n",
    "    loss_ = loss_object(real, pred)\n",
    "    \n",
    "    mask = tf.cast(mask, dtype=loss_.dtype)\n",
    "    loss_ *= mask\n",
    "\n",
    "    return tf.reduce_mean(loss_)\n",
    "\n",
    "def accuracy_function(real, pred):\n",
    "    pred_values = K.cast(K.argmax(pred, axis=-1), dtype='int32')\n",
    "    correct = K.cast(K.equal(real, pred_values), dtype='float32')\n",
    "\n",
    "    # 0 is padding, don't include those\n",
    "    mask = K.cast(K.greater(real, 0), dtype='float32')\n",
    "    n_correct = K.sum(mask * correct)\n",
    "    n_total = K.sum(mask)\n",
    "  \n",
    "    return n_correct / n_total"
   ]
  },
  {
   "cell_type": "code",
   "execution_count": 26,
   "metadata": {},
   "outputs": [],
   "source": [
    "checkpoint_dir = 'training_checkpoints'\n",
    "checkpoint_prefix = os.path.join(checkpoint_dir, \"ckpt\")\n",
    "checkpoint = tf.train.Checkpoint(optimizer=optimizer,\n",
    "                                 encoder=encoder,\n",
    "                                 decoder=decoder)"
   ]
  },
  {
   "cell_type": "code",
   "execution_count": 27,
   "metadata": {},
   "outputs": [],
   "source": [
    "@tf.function\n",
    "def train_step(inp, targ, enc_hidden):\n",
    "    loss = 0\n",
    "    accuracy = 0\n",
    "    \n",
    "\n",
    "    \n",
    "    with tf.GradientTape() as tape:\n",
    "        enc_output, enc_hidden = encoder(inp, enc_hidden)\n",
    "\n",
    "        dec_hidden = enc_hidden\n",
    "        dec_input = tf.expand_dims([target_sentence_tokenizer.word_index['start_']] * BATCH_SIZE, 1)\n",
    "\n",
    "    # Teacher forcing - feeding the target as the next input\n",
    "        for t in range(1, targ.shape[1]):\n",
    "      # passing enc_output to the decoder\n",
    "            predictions, dec_hidden, _ = decoder(dec_input, dec_hidden, enc_output)\n",
    "            \n",
    "            loss += loss_function(targ[:, t], predictions)\n",
    "                      \n",
    "            \n",
    "            accuracy += accuracy_function(targ[:,t],predictions)\n",
    "            \n",
    "            \n",
    "            \n",
    "            # using teacher forcing\n",
    "            dec_input = tf.expand_dims(targ[:, t], 1)\n",
    "            \n",
    "            \n",
    "    batch_loss = (loss / int(targ.shape[1]))\n",
    "    batch_accuracy = (accuracy/int(targ.shape[1]))\n",
    "\n",
    "    variables = encoder.trainable_variables + decoder.trainable_variables\n",
    "\n",
    "    gradients = tape.gradient(loss, variables)\n",
    "\n",
    "    optimizer.apply_gradients(zip(gradients, variables))\n",
    "\n",
    "    return batch_loss, batch_accuracy"
   ]
  },
  {
   "cell_type": "code",
   "execution_count": 28,
   "metadata": {},
   "outputs": [],
   "source": [
    "@tf.function\n",
    "def test_step(inp, targ, enc_hidden):\n",
    "    loss = 0\n",
    "    accuracy = 0\n",
    "    \n",
    "    enc_output, enc_hidden = encoder(inp, enc_hidden)\n",
    "    dec_hidden = enc_hidden\n",
    "    dec_input = tf.expand_dims([target_sentence_tokenizer.word_index['start_']] * BATCH_SIZE, 1)\n",
    "    for t in range(1, targ.shape[1]):\n",
    "        predictions, dec_hidden, _ = decoder(dec_input, dec_hidden, enc_output)\n",
    "        loss += loss_function(targ[:, t], predictions)\n",
    "        accuracy += accuracy_function(targ[:,t],predictions)\n",
    "        \n",
    "        predicted_id = tf.argmax(predictions[0])\n",
    "        dec_input = tf.expand_dims([predicted_id]*BATCH_SIZE, 1)\n",
    "    \n",
    "    total_loss = (loss / int(targ.shape[1]))\n",
    "    total_accuracy = (accuracy/int(targ.shape[1]))\n",
    "    return total_loss, total_accuracy"
   ]
  },
  {
   "cell_type": "code",
   "execution_count": 29,
   "metadata": {},
   "outputs": [
    {
     "data": {
      "text/plain": [
       "19"
      ]
     },
     "execution_count": 29,
     "metadata": {},
     "output_type": "execute_result"
    }
   ],
   "source": [
    "steps_per_epoch"
   ]
  },
  {
   "cell_type": "code",
   "execution_count": 30,
   "metadata": {},
   "outputs": [
    {
     "name": "stdout",
     "output_type": "stream",
     "text": [
      "\n",
      "******* Luong Attention  STARTS******\n",
      "query (decoder hidden state): (batch_size, hidden size)  (16, 1024)\n",
      "values (encoder all hidden state): (batch_size, max_len, hidden size)  (16, 12, 1024)\n",
      "query_with_time_axis:(batch_size, 1, hidden size)  (16, 1, 1024)\n",
      "values_transposed:(batch_size, hidden size, max_len)  (16, 1024, 12)\n",
      "score: (batch_size, max_length, 1)  (16, 12, 1)\n",
      "attention_weights: (batch_size, max_length, 1)  (16, 12, 1)\n",
      "context_vector before reduce_sum: (batch_size, max_length, hidden_size)  (16, 12, 1024)\n",
      "context_vector after reduce_sum: (batch_size, hidden_size)  (16, 1024)\n",
      "\n",
      "******* Luong Attention ENDS******\n",
      "\n",
      "******* Luong Attention  STARTS******\n",
      "query (decoder hidden state): (batch_size, hidden size)  (16, 1024)\n",
      "values (encoder all hidden state): (batch_size, max_len, hidden size)  (16, 12, 1024)\n",
      "query_with_time_axis:(batch_size, 1, hidden size)  (16, 1, 1024)\n",
      "values_transposed:(batch_size, hidden size, max_len)  (16, 1024, 12)\n",
      "score: (batch_size, max_length, 1)  (16, 12, 1)\n",
      "attention_weights: (batch_size, max_length, 1)  (16, 12, 1)\n",
      "context_vector before reduce_sum: (batch_size, max_length, hidden_size)  (16, 12, 1024)\n",
      "context_vector after reduce_sum: (batch_size, hidden_size)  (16, 1024)\n",
      "\n",
      "******* Luong Attention ENDS******\n",
      "\n",
      "******* Luong Attention  STARTS******\n",
      "query (decoder hidden state): (batch_size, hidden size)  (16, 1024)\n",
      "values (encoder all hidden state): (batch_size, max_len, hidden size)  (16, 12, 1024)\n",
      "query_with_time_axis:(batch_size, 1, hidden size)  (16, 1, 1024)\n",
      "values_transposed:(batch_size, hidden size, max_len)  (16, 1024, 12)\n",
      "score: (batch_size, max_length, 1)  (16, 12, 1)\n",
      "attention_weights: (batch_size, max_length, 1)  (16, 12, 1)\n",
      "context_vector before reduce_sum: (batch_size, max_length, hidden_size)  (16, 12, 1024)\n",
      "context_vector after reduce_sum: (batch_size, hidden_size)  (16, 1024)\n",
      "\n",
      "******* Luong Attention ENDS******\n",
      "\n",
      "******* Luong Attention  STARTS******\n",
      "query (decoder hidden state): (batch_size, hidden size)  (16, 1024)\n",
      "values (encoder all hidden state): (batch_size, max_len, hidden size)  (16, 12, 1024)\n",
      "query_with_time_axis:(batch_size, 1, hidden size)  (16, 1, 1024)\n",
      "values_transposed:(batch_size, hidden size, max_len)  (16, 1024, 12)\n",
      "score: (batch_size, max_length, 1)  (16, 12, 1)\n",
      "attention_weights: (batch_size, max_length, 1)  (16, 12, 1)\n",
      "context_vector before reduce_sum: (batch_size, max_length, hidden_size)  (16, 12, 1024)\n",
      "context_vector after reduce_sum: (batch_size, hidden_size)  (16, 1024)\n",
      "\n",
      "******* Luong Attention ENDS******\n",
      "\n",
      "******* Luong Attention  STARTS******\n",
      "query (decoder hidden state): (batch_size, hidden size)  (16, 1024)\n",
      "values (encoder all hidden state): (batch_size, max_len, hidden size)  (16, 12, 1024)\n",
      "query_with_time_axis:(batch_size, 1, hidden size)  (16, 1, 1024)\n",
      "values_transposed:(batch_size, hidden size, max_len)  (16, 1024, 12)\n",
      "score: (batch_size, max_length, 1)  (16, 12, 1)\n",
      "attention_weights: (batch_size, max_length, 1)  (16, 12, 1)\n",
      "context_vector before reduce_sum: (batch_size, max_length, hidden_size)  (16, 12, 1024)\n",
      "context_vector after reduce_sum: (batch_size, hidden_size)  (16, 1024)\n",
      "\n",
      "******* Luong Attention ENDS******\n",
      "\n",
      "******* Luong Attention  STARTS******\n",
      "query (decoder hidden state): (batch_size, hidden size)  (16, 1024)\n",
      "values (encoder all hidden state): (batch_size, max_len, hidden size)  (16, 12, 1024)\n",
      "query_with_time_axis:(batch_size, 1, hidden size)  (16, 1, 1024)\n",
      "values_transposed:(batch_size, hidden size, max_len)  (16, 1024, 12)\n",
      "score: (batch_size, max_length, 1)  (16, 12, 1)\n",
      "attention_weights: (batch_size, max_length, 1)  (16, 12, 1)\n",
      "context_vector before reduce_sum: (batch_size, max_length, hidden_size)  (16, 12, 1024)\n",
      "context_vector after reduce_sum: (batch_size, hidden_size)  (16, 1024)\n",
      "\n",
      "******* Luong Attention ENDS******\n",
      "\n",
      "******* Luong Attention  STARTS******\n",
      "query (decoder hidden state): (batch_size, hidden size)  (16, 1024)\n",
      "values (encoder all hidden state): (batch_size, max_len, hidden size)  (16, 12, 1024)\n",
      "query_with_time_axis:(batch_size, 1, hidden size)  (16, 1, 1024)\n",
      "values_transposed:(batch_size, hidden size, max_len)  (16, 1024, 12)\n",
      "score: (batch_size, max_length, 1)  (16, 12, 1)\n",
      "attention_weights: (batch_size, max_length, 1)  (16, 12, 1)\n",
      "context_vector before reduce_sum: (batch_size, max_length, hidden_size)  (16, 12, 1024)\n",
      "context_vector after reduce_sum: (batch_size, hidden_size)  (16, 1024)\n",
      "\n",
      "******* Luong Attention ENDS******\n",
      "\n",
      "******* Luong Attention  STARTS******\n",
      "query (decoder hidden state): (batch_size, hidden size)  (16, 1024)\n",
      "values (encoder all hidden state): (batch_size, max_len, hidden size)  (16, 12, 1024)\n",
      "query_with_time_axis:(batch_size, 1, hidden size)  (16, 1, 1024)\n",
      "values_transposed:(batch_size, hidden size, max_len)  (16, 1024, 12)\n",
      "score: (batch_size, max_length, 1)  (16, 12, 1)\n",
      "attention_weights: (batch_size, max_length, 1)  (16, 12, 1)\n",
      "context_vector before reduce_sum: (batch_size, max_length, hidden_size)  (16, 12, 1024)\n",
      "context_vector after reduce_sum: (batch_size, hidden_size)  (16, 1024)\n",
      "\n",
      "******* Luong Attention ENDS******\n",
      "\n",
      "******* Luong Attention  STARTS******\n",
      "query (decoder hidden state): (batch_size, hidden size)  (16, 1024)\n",
      "values (encoder all hidden state): (batch_size, max_len, hidden size)  (16, 12, 1024)\n",
      "query_with_time_axis:(batch_size, 1, hidden size)  (16, 1, 1024)\n",
      "values_transposed:(batch_size, hidden size, max_len)  (16, 1024, 12)\n",
      "score: (batch_size, max_length, 1)  (16, 12, 1)\n",
      "attention_weights: (batch_size, max_length, 1)  (16, 12, 1)\n",
      "context_vector before reduce_sum: (batch_size, max_length, hidden_size)  (16, 12, 1024)\n",
      "context_vector after reduce_sum: (batch_size, hidden_size)  (16, 1024)\n",
      "\n",
      "******* Luong Attention ENDS******\n",
      "\n",
      "******* Luong Attention  STARTS******\n",
      "query (decoder hidden state): (batch_size, hidden size)  (16, 1024)\n",
      "values (encoder all hidden state): (batch_size, max_len, hidden size)  (16, 12, 1024)\n",
      "query_with_time_axis:(batch_size, 1, hidden size)  (16, 1, 1024)\n",
      "values_transposed:(batch_size, hidden size, max_len)  (16, 1024, 12)\n",
      "score: (batch_size, max_length, 1)  (16, 12, 1)\n",
      "attention_weights: (batch_size, max_length, 1)  (16, 12, 1)\n",
      "context_vector before reduce_sum: (batch_size, max_length, hidden_size)  (16, 12, 1024)\n",
      "context_vector after reduce_sum: (batch_size, hidden_size)  (16, 1024)\n",
      "\n",
      "******* Luong Attention ENDS******\n",
      "\n",
      "******* Luong Attention  STARTS******\n",
      "query (decoder hidden state): (batch_size, hidden size)  (16, 1024)\n",
      "values (encoder all hidden state): (batch_size, max_len, hidden size)  (16, 12, 1024)\n",
      "query_with_time_axis:(batch_size, 1, hidden size)  (16, 1, 1024)\n",
      "values_transposed:(batch_size, hidden size, max_len)  (16, 1024, 12)\n",
      "score: (batch_size, max_length, 1)  (16, 12, 1)\n",
      "attention_weights: (batch_size, max_length, 1)  (16, 12, 1)\n",
      "context_vector before reduce_sum: (batch_size, max_length, hidden_size)  (16, 12, 1024)\n",
      "context_vector after reduce_sum: (batch_size, hidden_size)  (16, 1024)\n",
      "\n",
      "******* Luong Attention ENDS******\n",
      "\n",
      "******* Luong Attention  STARTS******\n",
      "query (decoder hidden state): (batch_size, hidden size)  (16, 1024)\n",
      "values (encoder all hidden state): (batch_size, max_len, hidden size)  (16, 12, 1024)\n",
      "query_with_time_axis:(batch_size, 1, hidden size)  (16, 1, 1024)\n",
      "values_transposed:(batch_size, hidden size, max_len)  (16, 1024, 12)\n",
      "score: (batch_size, max_length, 1)  (16, 12, 1)\n",
      "attention_weights: (batch_size, max_length, 1)  (16, 12, 1)\n",
      "context_vector before reduce_sum: (batch_size, max_length, hidden_size)  (16, 12, 1024)\n",
      "context_vector after reduce_sum: (batch_size, hidden_size)  (16, 1024)\n",
      "\n",
      "******* Luong Attention ENDS******\n",
      "\n",
      "******* Luong Attention  STARTS******\n",
      "query (decoder hidden state): (batch_size, hidden size)  (16, 1024)\n",
      "values (encoder all hidden state): (batch_size, max_len, hidden size)  (16, 12, 1024)\n",
      "query_with_time_axis:(batch_size, 1, hidden size)  (16, 1, 1024)\n",
      "values_transposed:(batch_size, hidden size, max_len)  (16, 1024, 12)\n",
      "score: (batch_size, max_length, 1)  (16, 12, 1)\n",
      "attention_weights: (batch_size, max_length, 1)  (16, 12, 1)\n",
      "context_vector before reduce_sum: (batch_size, max_length, hidden_size)  (16, 12, 1024)\n",
      "context_vector after reduce_sum: (batch_size, hidden_size)  (16, 1024)\n",
      "\n",
      "******* Luong Attention ENDS******\n",
      "\n",
      "******* Luong Attention  STARTS******\n",
      "query (decoder hidden state): (batch_size, hidden size)  (16, 1024)\n",
      "values (encoder all hidden state): (batch_size, max_len, hidden size)  (16, 12, 1024)\n",
      "query_with_time_axis:(batch_size, 1, hidden size)  (16, 1, 1024)\n",
      "values_transposed:(batch_size, hidden size, max_len)  (16, 1024, 12)\n",
      "score: (batch_size, max_length, 1)  (16, 12, 1)\n",
      "attention_weights: (batch_size, max_length, 1)  (16, 12, 1)\n",
      "context_vector before reduce_sum: (batch_size, max_length, hidden_size)  (16, 12, 1024)\n",
      "context_vector after reduce_sum: (batch_size, hidden_size)  (16, 1024)\n",
      "\n",
      "******* Luong Attention ENDS******\n"
     ]
    },
    {
     "name": "stdout",
     "output_type": "stream",
     "text": [
      "\n",
      "******* Luong Attention  STARTS******\n",
      "query (decoder hidden state): (batch_size, hidden size)  (16, 1024)\n",
      "values (encoder all hidden state): (batch_size, max_len, hidden size)  (16, 12, 1024)\n",
      "query_with_time_axis:(batch_size, 1, hidden size)  (16, 1, 1024)\n",
      "values_transposed:(batch_size, hidden size, max_len)  (16, 1024, 12)\n",
      "score: (batch_size, max_length, 1)  (16, 12, 1)\n",
      "attention_weights: (batch_size, max_length, 1)  (16, 12, 1)\n",
      "context_vector before reduce_sum: (batch_size, max_length, hidden_size)  (16, 12, 1024)\n",
      "context_vector after reduce_sum: (batch_size, hidden_size)  (16, 1024)\n",
      "\n",
      "******* Luong Attention ENDS******\n",
      "\n",
      "******* Luong Attention  STARTS******\n",
      "query (decoder hidden state): (batch_size, hidden size)  (16, 1024)\n",
      "values (encoder all hidden state): (batch_size, max_len, hidden size)  (16, 12, 1024)\n",
      "query_with_time_axis:(batch_size, 1, hidden size)  (16, 1, 1024)\n",
      "values_transposed:(batch_size, hidden size, max_len)  (16, 1024, 12)\n",
      "score: (batch_size, max_length, 1)  (16, 12, 1)\n",
      "attention_weights: (batch_size, max_length, 1)  (16, 12, 1)\n",
      "context_vector before reduce_sum: (batch_size, max_length, hidden_size)  (16, 12, 1024)\n",
      "context_vector after reduce_sum: (batch_size, hidden_size)  (16, 1024)\n",
      "\n",
      "******* Luong Attention ENDS******\n",
      "\n",
      "******* Luong Attention  STARTS******\n",
      "query (decoder hidden state): (batch_size, hidden size)  (16, 1024)\n",
      "values (encoder all hidden state): (batch_size, max_len, hidden size)  (16, 12, 1024)\n",
      "query_with_time_axis:(batch_size, 1, hidden size)  (16, 1, 1024)\n",
      "values_transposed:(batch_size, hidden size, max_len)  (16, 1024, 12)\n",
      "score: (batch_size, max_length, 1)  (16, 12, 1)\n",
      "attention_weights: (batch_size, max_length, 1)  (16, 12, 1)\n",
      "context_vector before reduce_sum: (batch_size, max_length, hidden_size)  (16, 12, 1024)\n",
      "context_vector after reduce_sum: (batch_size, hidden_size)  (16, 1024)\n",
      "\n",
      "******* Luong Attention ENDS******\n",
      "\n",
      "******* Luong Attention  STARTS******\n",
      "query (decoder hidden state): (batch_size, hidden size)  (16, 1024)\n",
      "values (encoder all hidden state): (batch_size, max_len, hidden size)  (16, 12, 1024)\n",
      "query_with_time_axis:(batch_size, 1, hidden size)  (16, 1, 1024)\n",
      "values_transposed:(batch_size, hidden size, max_len)  (16, 1024, 12)\n",
      "score: (batch_size, max_length, 1)  (16, 12, 1)\n",
      "attention_weights: (batch_size, max_length, 1)  (16, 12, 1)\n",
      "context_vector before reduce_sum: (batch_size, max_length, hidden_size)  (16, 12, 1024)\n",
      "context_vector after reduce_sum: (batch_size, hidden_size)  (16, 1024)\n",
      "\n",
      "******* Luong Attention ENDS******\n",
      "\n",
      "******* Luong Attention  STARTS******\n",
      "query (decoder hidden state): (batch_size, hidden size)  (16, 1024)\n",
      "values (encoder all hidden state): (batch_size, max_len, hidden size)  (16, 12, 1024)\n",
      "query_with_time_axis:(batch_size, 1, hidden size)  (16, 1, 1024)\n",
      "values_transposed:(batch_size, hidden size, max_len)  (16, 1024, 12)\n",
      "score: (batch_size, max_length, 1)  (16, 12, 1)\n",
      "attention_weights: (batch_size, max_length, 1)  (16, 12, 1)\n",
      "context_vector before reduce_sum: (batch_size, max_length, hidden_size)  (16, 12, 1024)\n",
      "context_vector after reduce_sum: (batch_size, hidden_size)  (16, 1024)\n",
      "\n",
      "******* Luong Attention ENDS******\n",
      "\n",
      "******* Luong Attention  STARTS******\n",
      "query (decoder hidden state): (batch_size, hidden size)  (16, 1024)\n",
      "values (encoder all hidden state): (batch_size, max_len, hidden size)  (16, 12, 1024)\n",
      "query_with_time_axis:(batch_size, 1, hidden size)  (16, 1, 1024)\n",
      "values_transposed:(batch_size, hidden size, max_len)  (16, 1024, 12)\n",
      "score: (batch_size, max_length, 1)  (16, 12, 1)\n",
      "attention_weights: (batch_size, max_length, 1)  (16, 12, 1)\n",
      "context_vector before reduce_sum: (batch_size, max_length, hidden_size)  (16, 12, 1024)\n",
      "context_vector after reduce_sum: (batch_size, hidden_size)  (16, 1024)\n",
      "\n",
      "******* Luong Attention ENDS******\n",
      "\n",
      "******* Luong Attention  STARTS******\n",
      "query (decoder hidden state): (batch_size, hidden size)  (16, 1024)\n",
      "values (encoder all hidden state): (batch_size, max_len, hidden size)  (16, 12, 1024)\n",
      "query_with_time_axis:(batch_size, 1, hidden size)  (16, 1, 1024)\n",
      "values_transposed:(batch_size, hidden size, max_len)  (16, 1024, 12)\n",
      "score: (batch_size, max_length, 1)  (16, 12, 1)\n",
      "attention_weights: (batch_size, max_length, 1)  (16, 12, 1)\n",
      "context_vector before reduce_sum: (batch_size, max_length, hidden_size)  (16, 12, 1024)\n",
      "context_vector after reduce_sum: (batch_size, hidden_size)  (16, 1024)\n",
      "\n",
      "******* Luong Attention ENDS******\n",
      "\n",
      "******* Luong Attention  STARTS******\n",
      "query (decoder hidden state): (batch_size, hidden size)  (16, 1024)\n",
      "values (encoder all hidden state): (batch_size, max_len, hidden size)  (16, 12, 1024)\n",
      "query_with_time_axis:(batch_size, 1, hidden size)  (16, 1, 1024)\n",
      "values_transposed:(batch_size, hidden size, max_len)  (16, 1024, 12)\n",
      "score: (batch_size, max_length, 1)  (16, 12, 1)\n",
      "attention_weights: (batch_size, max_length, 1)  (16, 12, 1)\n",
      "context_vector before reduce_sum: (batch_size, max_length, hidden_size)  (16, 12, 1024)\n",
      "context_vector after reduce_sum: (batch_size, hidden_size)  (16, 1024)\n",
      "\n",
      "******* Luong Attention ENDS******\n",
      "\n",
      "******* Luong Attention  STARTS******\n",
      "query (decoder hidden state): (batch_size, hidden size)  (16, 1024)\n",
      "values (encoder all hidden state): (batch_size, max_len, hidden size)  (16, 12, 1024)\n",
      "query_with_time_axis:(batch_size, 1, hidden size)  (16, 1, 1024)\n",
      "values_transposed:(batch_size, hidden size, max_len)  (16, 1024, 12)\n",
      "score: (batch_size, max_length, 1)  (16, 12, 1)\n",
      "attention_weights: (batch_size, max_length, 1)  (16, 12, 1)\n",
      "context_vector before reduce_sum: (batch_size, max_length, hidden_size)  (16, 12, 1024)\n",
      "context_vector after reduce_sum: (batch_size, hidden_size)  (16, 1024)\n",
      "\n",
      "******* Luong Attention ENDS******\n",
      "\n",
      "******* Luong Attention  STARTS******\n",
      "query (decoder hidden state): (batch_size, hidden size)  (16, 1024)\n",
      "values (encoder all hidden state): (batch_size, max_len, hidden size)  (16, 12, 1024)\n",
      "query_with_time_axis:(batch_size, 1, hidden size)  (16, 1, 1024)\n",
      "values_transposed:(batch_size, hidden size, max_len)  (16, 1024, 12)\n",
      "score: (batch_size, max_length, 1)  (16, 12, 1)\n",
      "attention_weights: (batch_size, max_length, 1)  (16, 12, 1)\n",
      "context_vector before reduce_sum: (batch_size, max_length, hidden_size)  (16, 12, 1024)\n",
      "context_vector after reduce_sum: (batch_size, hidden_size)  (16, 1024)\n",
      "\n",
      "******* Luong Attention ENDS******\n",
      "\n",
      "******* Luong Attention  STARTS******\n",
      "query (decoder hidden state): (batch_size, hidden size)  (16, 1024)\n",
      "values (encoder all hidden state): (batch_size, max_len, hidden size)  (16, 12, 1024)\n",
      "query_with_time_axis:(batch_size, 1, hidden size)  (16, 1, 1024)\n",
      "values_transposed:(batch_size, hidden size, max_len)  (16, 1024, 12)\n",
      "score: (batch_size, max_length, 1)  (16, 12, 1)\n",
      "attention_weights: (batch_size, max_length, 1)  (16, 12, 1)\n",
      "context_vector before reduce_sum: (batch_size, max_length, hidden_size)  (16, 12, 1024)\n",
      "context_vector after reduce_sum: (batch_size, hidden_size)  (16, 1024)\n",
      "\n",
      "******* Luong Attention ENDS******\n",
      "\n",
      "******* Luong Attention  STARTS******\n",
      "query (decoder hidden state): (batch_size, hidden size)  (16, 1024)\n",
      "values (encoder all hidden state): (batch_size, max_len, hidden size)  (16, 12, 1024)\n",
      "query_with_time_axis:(batch_size, 1, hidden size)  (16, 1, 1024)\n",
      "values_transposed:(batch_size, hidden size, max_len)  (16, 1024, 12)\n",
      "score: (batch_size, max_length, 1)  (16, 12, 1)\n",
      "attention_weights: (batch_size, max_length, 1)  (16, 12, 1)\n",
      "context_vector before reduce_sum: (batch_size, max_length, hidden_size)  (16, 12, 1024)\n",
      "context_vector after reduce_sum: (batch_size, hidden_size)  (16, 1024)\n",
      "\n",
      "******* Luong Attention ENDS******\n",
      "Epoch 1 Batch 0 Loss 2.4414 Acc nan\n",
      "Epoch 1 Batch 18 Loss 2.0679\n",
      "Time taken for 1 epoch 96.50739169120789 sec\n",
      "\n",
      "Epoch 2 Batch 0 Loss 1.7359 Acc nan\n",
      "Epoch 2 Batch 18 Loss 1.6884\n",
      "Time taken for 1 epoch 22.943110466003418 sec\n",
      "\n",
      "Epoch 3 Batch 0 Loss 1.6420 Acc nan\n",
      "Epoch 3 Batch 18 Loss 1.5341\n",
      "Time taken for 1 epoch 20.64477038383484 sec\n",
      "\n",
      "Epoch 4 Batch 0 Loss 1.5122 Acc nan\n",
      "Epoch 4 Batch 18 Loss 1.4015\n",
      "Time taken for 1 epoch 22.74377155303955 sec\n",
      "\n",
      "Epoch 5 Batch 0 Loss 1.1970 Acc nan\n",
      "Epoch 5 Batch 18 Loss 1.2925\n",
      "Time taken for 1 epoch 20.374579668045044 sec\n",
      "\n",
      "Epoch 6 Batch 0 Loss 1.5625 Acc nan\n",
      "Epoch 6 Batch 18 Loss 1.1882\n",
      "Time taken for 1 epoch 21.400150537490845 sec\n",
      "\n"
     ]
    },
    {
     "name": "stdout",
     "output_type": "stream",
     "text": [
      "Epoch 7 Batch 0 Loss 1.1353 Acc nan\n",
      "Epoch 7 Batch 18 Loss 1.0974\n",
      "Time taken for 1 epoch 20.665554761886597 sec\n",
      "\n",
      "Epoch 8 Batch 0 Loss 1.0187 Acc nan\n",
      "Epoch 8 Batch 18 Loss 1.0130\n",
      "Time taken for 1 epoch 21.940670013427734 sec\n",
      "\n",
      "Epoch 9 Batch 0 Loss 0.8770 Acc nan\n",
      "Epoch 9 Batch 18 Loss 0.9560\n",
      "Time taken for 1 epoch 20.864012718200684 sec\n",
      "\n",
      "Epoch 10 Batch 0 Loss 1.0267 Acc nan\n",
      "Epoch 10 Batch 18 Loss 0.8902\n",
      "Time taken for 1 epoch 22.327253818511963 sec\n",
      "\n",
      "Epoch 11 Batch 0 Loss 0.8109 Acc nan\n",
      "Epoch 11 Batch 18 Loss 0.8194\n",
      "Time taken for 1 epoch 20.502461910247803 sec\n",
      "\n",
      "Epoch 12 Batch 0 Loss 0.7586 Acc nan\n",
      "Epoch 12 Batch 18 Loss 0.7781\n",
      "Time taken for 1 epoch 21.8053982257843 sec\n",
      "\n",
      "Epoch 13 Batch 0 Loss 0.6116 Acc nan\n",
      "Epoch 13 Batch 18 Loss 0.7259\n",
      "Time taken for 1 epoch 20.48975110054016 sec\n",
      "\n",
      "Epoch 14 Batch 0 Loss 0.8872 Acc nan\n",
      "Epoch 14 Batch 18 Loss 0.6833\n",
      "Time taken for 1 epoch 22.196062803268433 sec\n",
      "\n",
      "Epoch 15 Batch 0 Loss 0.6057 Acc nan\n",
      "Epoch 15 Batch 18 Loss 0.6496\n",
      "Time taken for 1 epoch 20.52507972717285 sec\n",
      "\n",
      "Epoch 16 Batch 0 Loss 0.6113 Acc nan\n",
      "Epoch 16 Batch 18 Loss 0.6028\n",
      "Time taken for 1 epoch 22.195860147476196 sec\n",
      "\n",
      "Epoch 17 Batch 0 Loss 0.5213 Acc nan\n",
      "Epoch 17 Batch 18 Loss 0.5391\n",
      "Time taken for 1 epoch 20.711505889892578 sec\n",
      "\n",
      "Epoch 18 Batch 0 Loss 0.4511 Acc nan\n",
      "Epoch 18 Batch 18 Loss 0.4931\n",
      "Time taken for 1 epoch 24.859599590301514 sec\n",
      "\n",
      "Epoch 19 Batch 0 Loss 0.3461 Acc nan\n",
      "Epoch 19 Batch 18 Loss 0.4477\n",
      "Time taken for 1 epoch 20.649779319763184 sec\n",
      "\n",
      "Epoch 20 Batch 0 Loss 0.4848 Acc nan\n",
      "Epoch 20 Batch 18 Loss 0.3935\n",
      "Time taken for 1 epoch 21.671129941940308 sec\n",
      "\n",
      "Epoch 21 Batch 0 Loss 0.3234 Acc nan\n",
      "Epoch 21 Batch 18 Loss 0.3639\n",
      "Time taken for 1 epoch 20.560376405715942 sec\n",
      "\n",
      "Epoch 22 Batch 0 Loss 0.3318 Acc nan\n",
      "Epoch 22 Batch 18 Loss 0.3622\n",
      "Time taken for 1 epoch 22.274168014526367 sec\n",
      "\n",
      "Epoch 23 Batch 0 Loss 0.2487 Acc nan\n",
      "Epoch 23 Batch 18 Loss 0.3248\n",
      "Time taken for 1 epoch 20.819775104522705 sec\n",
      "\n",
      "Epoch 24 Batch 0 Loss 0.2737 Acc nan\n",
      "Epoch 24 Batch 18 Loss 0.2935\n",
      "Time taken for 1 epoch 21.740626573562622 sec\n",
      "\n",
      "Epoch 25 Batch 0 Loss 0.2175 Acc nan\n",
      "Epoch 25 Batch 18 Loss 0.2560\n",
      "Time taken for 1 epoch 20.637480974197388 sec\n",
      "\n",
      "Epoch 26 Batch 0 Loss 0.1714 Acc 0.8105\n",
      "Epoch 26 Batch 18 Loss 0.2209\n",
      "Time taken for 1 epoch 21.85969114303589 sec\n",
      "\n",
      "Epoch 27 Batch 0 Loss 0.1421 Acc nan\n",
      "Epoch 27 Batch 18 Loss 0.2004\n",
      "Time taken for 1 epoch 20.920885801315308 sec\n",
      "\n",
      "Epoch 28 Batch 0 Loss 0.1278 Acc nan\n",
      "Epoch 28 Batch 18 Loss 0.1797\n",
      "Time taken for 1 epoch 21.824411392211914 sec\n",
      "\n",
      "Epoch 29 Batch 0 Loss 0.0968 Acc nan\n",
      "Epoch 29 Batch 18 Loss 0.1819\n",
      "Time taken for 1 epoch 20.695101261138916 sec\n",
      "\n",
      "Epoch 30 Batch 0 Loss 0.1442 Acc nan\n",
      "Epoch 30 Batch 18 Loss 0.1751\n",
      "Time taken for 1 epoch 22.04626202583313 sec\n",
      "\n",
      "Epoch 31 Batch 0 Loss 0.1054 Acc nan\n",
      "Epoch 31 Batch 18 Loss 0.1355\n",
      "Time taken for 1 epoch 20.770025730133057 sec\n",
      "\n",
      "Epoch 32 Batch 0 Loss 0.1061 Acc nan\n",
      "Epoch 32 Batch 18 Loss 0.1142\n",
      "Time taken for 1 epoch 21.965034008026123 sec\n",
      "\n",
      "Epoch 33 Batch 0 Loss 0.0783 Acc nan\n",
      "Epoch 33 Batch 18 Loss 0.0992\n",
      "Time taken for 1 epoch 20.381651401519775 sec\n",
      "\n",
      "Epoch 34 Batch 0 Loss 0.0511 Acc nan\n",
      "Epoch 34 Batch 18 Loss 0.0896\n",
      "Time taken for 1 epoch 21.36743402481079 sec\n",
      "\n",
      "Epoch 35 Batch 0 Loss 0.0610 Acc nan\n",
      "Epoch 35 Batch 18 Loss 0.0847\n",
      "Time taken for 1 epoch 20.677631378173828 sec\n",
      "\n",
      "Epoch 36 Batch 0 Loss 0.0721 Acc nan\n",
      "Epoch 36 Batch 18 Loss 0.0799\n",
      "Time taken for 1 epoch 21.149394512176514 sec\n",
      "\n",
      "Epoch 37 Batch 0 Loss 0.0983 Acc nan\n",
      "Epoch 37 Batch 18 Loss 0.0729\n",
      "Time taken for 1 epoch 20.837337017059326 sec\n",
      "\n",
      "Epoch 38 Batch 0 Loss 0.0662 Acc nan\n",
      "Epoch 38 Batch 18 Loss 0.0679\n",
      "Time taken for 1 epoch 51.27337169647217 sec\n",
      "\n",
      "Epoch 39 Batch 0 Loss 0.0574 Acc nan\n",
      "Epoch 39 Batch 18 Loss 0.0660\n",
      "Time taken for 1 epoch 18.534069299697876 sec\n",
      "\n",
      "Epoch 40 Batch 0 Loss 0.0310 Acc nan\n",
      "Epoch 40 Batch 18 Loss 0.0659\n",
      "Time taken for 1 epoch 23.445548057556152 sec\n",
      "\n",
      "Epoch 41 Batch 0 Loss 0.0678 Acc nan\n",
      "Epoch 41 Batch 18 Loss 0.0522\n",
      "Time taken for 1 epoch 18.50848364830017 sec\n",
      "\n",
      "Epoch 42 Batch 0 Loss 0.0262 Acc nan\n",
      "Epoch 42 Batch 18 Loss 0.0575\n",
      "Time taken for 1 epoch 21.606751918792725 sec\n",
      "\n",
      "Epoch 43 Batch 0 Loss 0.0305 Acc nan\n",
      "Epoch 43 Batch 18 Loss 0.0755\n",
      "Time taken for 1 epoch 19.009180784225464 sec\n",
      "\n",
      "Epoch 44 Batch 0 Loss 0.0721 Acc nan\n",
      "Epoch 44 Batch 18 Loss 0.0961\n",
      "Time taken for 1 epoch 21.350842237472534 sec\n",
      "\n",
      "Epoch 45 Batch 0 Loss 0.0551 Acc nan\n",
      "Epoch 45 Batch 18 Loss 0.1033\n",
      "Time taken for 1 epoch 18.578529119491577 sec\n",
      "\n",
      "Epoch 46 Batch 0 Loss 0.0985 Acc nan\n",
      "Epoch 46 Batch 18 Loss 0.0861\n",
      "Time taken for 1 epoch 20.887783527374268 sec\n",
      "\n",
      "Epoch 47 Batch 0 Loss 0.0375 Acc nan\n",
      "Epoch 47 Batch 18 Loss 0.0672\n",
      "Time taken for 1 epoch 18.56704330444336 sec\n",
      "\n",
      "Epoch 48 Batch 0 Loss 0.0665 Acc nan\n",
      "Epoch 48 Batch 18 Loss 0.0527\n",
      "Time taken for 1 epoch 20.731072187423706 sec\n",
      "\n",
      "Epoch 49 Batch 0 Loss 0.0341 Acc nan\n",
      "Epoch 49 Batch 18 Loss 0.0416\n",
      "Time taken for 1 epoch 18.408169984817505 sec\n",
      "\n",
      "Epoch 50 Batch 0 Loss 0.0230 Acc nan\n",
      "Epoch 50 Batch 18 Loss 0.0389\n",
      "Time taken for 1 epoch 19.759027242660522 sec\n",
      "\n"
     ]
    }
   ],
   "source": [
    "EPOCHS = 50\n",
    "total_accuracy = 0\n",
    "for epoch in range(EPOCHS):\n",
    "    start = time.time()\n",
    "\n",
    "    enc_hidden = encoder.initialize_hidden_state()\n",
    "    total_loss = 0\n",
    "    for (batch, (inp, targ)) in enumerate(dataset.take(steps_per_epoch)):\n",
    "        batch_loss, batch_accuracy = train_step(inp, targ, enc_hidden)\n",
    "        total_loss += batch_loss\n",
    "        total_accuracy += batch_accuracy\n",
    "        if batch % 100 == 0:\n",
    "            print('Epoch {} Batch {} Loss {:.4f} Acc {:.4f}'.format(epoch + 1,batch, batch_loss.numpy(),batch_accuracy.numpy()))\n",
    "   \n",
    "      \n",
    "  # saving (checkpoint) the model every 2 epochs\n",
    "    if (epoch + 1) % 2 == 0:\n",
    "        checkpoint.save(file_prefix = checkpoint_prefix)\n",
    "        \n",
    "    print('Epoch {} Batch {} Loss {:.4f}'.format(epoch + 1,batch,\n",
    "                                      total_loss / steps_per_epoch))\n",
    "    print('Time taken for 1 epoch {} sec\\n'.format(time.time() - start))"
   ]
  },
  {
   "cell_type": "code",
   "execution_count": 31,
   "metadata": {},
   "outputs": [
    {
     "name": "stdout",
     "output_type": "stream",
     "text": [
      "nan\n"
     ]
    },
    {
     "data": {
      "text/plain": [
       "\"\\nfor epoch in range(EPOCHS):\\n    start = time.time()\\n    enc_hidden = encoder.initialize_hidden_state()\\n    for (batch, (inp, targ)) in enumerate(test_dataset):\\n        batch_loss, batch_accuracy = test_step(inp, targ, enc_hidden)\\n        if batch % 100 == 0:\\n            print('Batch {} Loss {:.4f} Acc:{:.4f}'.format(batch, batch_loss.numpy(),batch_accuracy.numpy()))\\n\""
      ]
     },
     "execution_count": 31,
     "metadata": {},
     "output_type": "execute_result"
    }
   ],
   "source": [
    "print(batch_accuracy.numpy())\n",
    "'''\n",
    "for epoch in range(EPOCHS):\n",
    "    start = time.time()\n",
    "    enc_hidden = encoder.initialize_hidden_state()\n",
    "    for (batch, (inp, targ)) in enumerate(test_dataset):\n",
    "        batch_loss, batch_accuracy = test_step(inp, targ, enc_hidden)\n",
    "        if batch % 100 == 0:\n",
    "            print('Batch {} Loss {:.4f} Acc:{:.4f}'.format(batch, batch_loss.numpy(),batch_accuracy.numpy()))\n",
    "'''"
   ]
  },
  {
   "cell_type": "code",
   "execution_count": 32,
   "metadata": {},
   "outputs": [
    {
     "name": "stdout",
     "output_type": "stream",
     "text": [
      "Model: \"encoder\"\n",
      "_________________________________________________________________\n",
      "Layer (type)                 Output Shape              Param #   \n",
      "=================================================================\n",
      "embedding (Embedding)        multiple                  86016     \n",
      "_________________________________________________________________\n",
      "gru (GRU)                    multiple                  3938304   \n",
      "=================================================================\n",
      "Total params: 4,024,320\n",
      "Trainable params: 4,024,320\n",
      "Non-trainable params: 0\n",
      "_________________________________________________________________\n",
      "Model: \"decoder\"\n",
      "_________________________________________________________________\n",
      "Layer (type)                 Output Shape              Param #   \n",
      "=================================================================\n",
      "luong_attention_1 (LuongAtte multiple                  0         \n",
      "_________________________________________________________________\n",
      "embedding_1 (Embedding)      multiple                  104448    \n",
      "_________________________________________________________________\n",
      "gru_1 (GRU)                  multiple                  7084032   \n",
      "_________________________________________________________________\n",
      "dense_6 (Dense)              multiple                  418200    \n",
      "=================================================================\n",
      "Total params: 7,606,680\n",
      "Trainable params: 7,606,680\n",
      "Non-trainable params: 0\n",
      "_________________________________________________________________\n"
     ]
    },
    {
     "data": {
      "text/plain": [
       "'\\nenc_hidden = encoder.initialize_hidden_state()\\nfor (batch, (inp, targ)) in enumerate(test_dataset):\\n    if len(inp) != BATCH_SIZE:\\n        enc_hidden = encoder.initialize_hidden_state()\\n        # make prediction\\n    if batch == 0:\\n        predictions, attention_weights = test_step(inp,targ,enc_hidden)\\n        predictions, attention_weights = predictions.numpy(), attention_weights.numpy()\\n        print(predictions)\\n    else:\\n        _predictions, _attention_weights = test_step(inp, targ,enc_hidden)\\n        _predictions, _attention_weights = _predictions.numpy(), _attention_weights.numpy()\\n        print(_predictions)\\n        predictions = np.concatenate((predictions, _predictions))\\n        attention_weights = np.concatenate((attention_weights, _attention_weights))\\n    \\npredictions = np.squeeze(predictions)\\nattention_weights = np.squeeze(attention_weights)\\npredictions[np.where(predictions < 0.5)] = 0\\npredictions[np.where(predictions >= 0.5)] = 1\\n    #return predictions, attention_weights\\n    \\n'"
      ]
     },
     "execution_count": 32,
     "metadata": {},
     "output_type": "execute_result"
    }
   ],
   "source": [
    "tf.keras.Model.summary(encoder)\n",
    "#tf.keras.Layers.layers.summary(attention_layer)\n",
    "tf.keras.Model.summary(decoder)\n",
    "\n",
    "'''\n",
    "enc_hidden = encoder.initialize_hidden_state()\n",
    "for (batch, (inp, targ)) in enumerate(test_dataset):\n",
    "    if len(inp) != BATCH_SIZE:\n",
    "        enc_hidden = encoder.initialize_hidden_state()\n",
    "        # make prediction\n",
    "    if batch == 0:\n",
    "        predictions, attention_weights = test_step(inp,targ,enc_hidden)\n",
    "        predictions, attention_weights = predictions.numpy(), attention_weights.numpy()\n",
    "        print(predictions)\n",
    "    else:\n",
    "        _predictions, _attention_weights = test_step(inp, targ,enc_hidden)\n",
    "        _predictions, _attention_weights = _predictions.numpy(), _attention_weights.numpy()\n",
    "        print(_predictions)\n",
    "        predictions = np.concatenate((predictions, _predictions))\n",
    "        attention_weights = np.concatenate((attention_weights, _attention_weights))\n",
    "    \n",
    "predictions = np.squeeze(predictions)\n",
    "attention_weights = np.squeeze(attention_weights)\n",
    "predictions[np.where(predictions < 0.5)] = 0\n",
    "predictions[np.where(predictions >= 0.5)] = 1\n",
    "    #return predictions, attention_weights\n",
    "    \n",
    "'''"
   ]
  },
  {
   "cell_type": "code",
   "execution_count": 33,
   "metadata": {},
   "outputs": [],
   "source": [
    "#print('Accuracy: ', (predictions == target_test_tensor).sum() / len(target_test_tensor))"
   ]
  },
  {
   "cell_type": "code",
   "execution_count": 34,
   "metadata": {},
   "outputs": [],
   "source": [
    "def evaluate(sentence):\n",
    "    attention_plot = np.zeros((max_target_length, max_source_length))\n",
    "\n",
    "    sentence = preprocess_sentence(sentence)\n",
    "    #print(sentence)\n",
    "    #print(source_sentence_tokenizer.word_index)\n",
    "\n",
    "    inputs = [source_sentence_tokenizer.word_index[i] for i in sentence.split(' ')]\n",
    "    inputs = tf.keras.preprocessing.sequence.pad_sequences([inputs],\n",
    "                                                         maxlen=max_source_length,\n",
    "                                                         padding='post')\n",
    "    inputs = tf.convert_to_tensor(inputs)\n",
    "\n",
    "    result = ''\n",
    "\n",
    "    hidden = [tf.zeros((1, units))]\n",
    "    enc_out, enc_hidden = encoder(inputs, hidden)\n",
    "\n",
    "    dec_hidden = enc_hidden\n",
    "    dec_input = tf.expand_dims([target_sentence_tokenizer.word_index['start_']], 0)\n",
    "\n",
    "    for t in range(max_target_length):\n",
    "        predictions, dec_hidden, attention_weights = decoder(dec_input,\n",
    "                                                         dec_hidden,\n",
    "                                                         enc_out)\n",
    "\n",
    "        # storing the attention weights to plot later on\n",
    "        attention_weights = tf.reshape(attention_weights, (-1, ))\n",
    "        attention_plot[t] = attention_weights.numpy()\n",
    "\n",
    "        predicted_id = tf.argmax(predictions[0]).numpy()\n",
    "\n",
    "        result += target_sentence_tokenizer.index_word[predicted_id] + ' '\n",
    "        print(predicted_id)\n",
    "        if target_sentence_tokenizer.index_word[predicted_id] == '_end':\n",
    "            return result, sentence, attention_plot\n",
    "\n",
    "        # the predicted ID is fed back into the model\n",
    "        dec_input = tf.expand_dims([predicted_id], 0)\n",
    "\n",
    "    return result, sentence, attention_plot"
   ]
  },
  {
   "cell_type": "code",
   "execution_count": 35,
   "metadata": {},
   "outputs": [],
   "source": [
    "# function for plotting the attention weights\n",
    "def plot_attention(attention, sentence, predicted_sentence):\n",
    "    fig = plt.figure(figsize=(10,10))\n",
    "    ax = fig.add_subplot(1, 1, 1)\n",
    "    ax.matshow(attention, cmap='viridis')\n",
    "\n",
    "    fontdict = {'fontsize': 14}\n",
    "\n",
    "    ax.set_xticklabels([''] + sentence, fontdict=fontdict, rotation=90)\n",
    "    ax.set_yticklabels([''] + predicted_sentence, fontdict=fontdict)\n",
    "\n",
    "    ax.xaxis.set_major_locator(ticker.MultipleLocator(1))\n",
    "    ax.yaxis.set_major_locator(ticker.MultipleLocator(1))\n",
    "\n",
    "    plt.show()"
   ]
  },
  {
   "cell_type": "code",
   "execution_count": 36,
   "metadata": {},
   "outputs": [],
   "source": [
    "def translate(sentence):\n",
    "    result, sentence, attention_plot = evaluate(sentence)\n",
    "  \n",
    "    print('Input: %s' % (sentence))\n",
    "    print('Predicted translation: {}'.format(result))\n",
    "\n",
    "    attention_plot = attention_plot[:len(result.split(' ')), :len(sentence.split(' '))]\n",
    "    plot_attention(attention_plot, sentence.split(' '), result.split(' '))"
   ]
  },
  {
   "cell_type": "code",
   "execution_count": 37,
   "metadata": {},
   "outputs": [
    {
     "data": {
      "text/plain": [
       "<tensorflow.python.training.tracking.util.CheckpointLoadStatus at 0x15f03500d00>"
      ]
     },
     "execution_count": 37,
     "metadata": {},
     "output_type": "execute_result"
    }
   ],
   "source": [
    "# restoring the latest checkpoint in checkpoint_dir\n",
    "checkpoint.restore(tf.train.latest_checkpoint(checkpoint_dir))"
   ]
  },
  {
   "cell_type": "code",
   "execution_count": 38,
   "metadata": {},
   "outputs": [
    {
     "ename": "ValueError",
     "evalue": "Input tensors to a Functional must come from `tf.keras.Input`. Received: <__main__.Encoder object at 0x0000015F3DF37D30> (missing previous layer metadata).",
     "output_type": "error",
     "traceback": [
      "\u001b[1;31m---------------------------------------------------------------------------\u001b[0m",
      "\u001b[1;31mValueError\u001b[0m                                Traceback (most recent call last)",
      "\u001b[1;32m<ipython-input-38-f6957d4663fe>\u001b[0m in \u001b[0;36m<module>\u001b[1;34m\u001b[0m\n\u001b[1;32m----> 1\u001b[1;33m \u001b[0mmodel\u001b[0m \u001b[1;33m=\u001b[0m \u001b[0mtf\u001b[0m\u001b[1;33m.\u001b[0m\u001b[0mkeras\u001b[0m\u001b[1;33m.\u001b[0m\u001b[0mModel\u001b[0m\u001b[1;33m(\u001b[0m\u001b[0minputs\u001b[0m\u001b[1;33m=\u001b[0m\u001b[1;33m[\u001b[0m\u001b[0mencoder\u001b[0m\u001b[1;33m]\u001b[0m\u001b[1;33m,\u001b[0m \u001b[0moutputs\u001b[0m\u001b[1;33m=\u001b[0m\u001b[1;33m[\u001b[0m\u001b[0mdecoder\u001b[0m\u001b[1;33m]\u001b[0m\u001b[1;33m)\u001b[0m\u001b[1;33m\u001b[0m\u001b[1;33m\u001b[0m\u001b[0m\n\u001b[0m\u001b[0;32m      2\u001b[0m \u001b[0mdot_img_file\u001b[0m \u001b[1;33m=\u001b[0m \u001b[1;34m'model_1.png'\u001b[0m\u001b[1;33m\u001b[0m\u001b[1;33m\u001b[0m\u001b[0m\n\u001b[0;32m      3\u001b[0m \u001b[0mtf\u001b[0m\u001b[1;33m.\u001b[0m\u001b[0mkeras\u001b[0m\u001b[1;33m.\u001b[0m\u001b[0mutils\u001b[0m\u001b[1;33m.\u001b[0m\u001b[0mplot_model\u001b[0m\u001b[1;33m(\u001b[0m\u001b[0mmodel\u001b[0m\u001b[1;33m,\u001b[0m \u001b[0mto_file\u001b[0m\u001b[1;33m=\u001b[0m\u001b[0mdot_img_file\u001b[0m\u001b[1;33m,\u001b[0m \u001b[0mshow_shapes\u001b[0m\u001b[1;33m=\u001b[0m\u001b[1;32mTrue\u001b[0m\u001b[1;33m)\u001b[0m\u001b[1;33m\u001b[0m\u001b[1;33m\u001b[0m\u001b[0m\n",
      "\u001b[1;32m~\\anaconda3\\lib\\site-packages\\tensorflow\\python\\training\\tracking\\base.py\u001b[0m in \u001b[0;36m_method_wrapper\u001b[1;34m(self, *args, **kwargs)\u001b[0m\n\u001b[0;32m    520\u001b[0m     \u001b[0mself\u001b[0m\u001b[1;33m.\u001b[0m\u001b[0m_self_setattr_tracking\u001b[0m \u001b[1;33m=\u001b[0m \u001b[1;32mFalse\u001b[0m  \u001b[1;31m# pylint: disable=protected-access\u001b[0m\u001b[1;33m\u001b[0m\u001b[1;33m\u001b[0m\u001b[0m\n\u001b[0;32m    521\u001b[0m     \u001b[1;32mtry\u001b[0m\u001b[1;33m:\u001b[0m\u001b[1;33m\u001b[0m\u001b[1;33m\u001b[0m\u001b[0m\n\u001b[1;32m--> 522\u001b[1;33m       \u001b[0mresult\u001b[0m \u001b[1;33m=\u001b[0m \u001b[0mmethod\u001b[0m\u001b[1;33m(\u001b[0m\u001b[0mself\u001b[0m\u001b[1;33m,\u001b[0m \u001b[1;33m*\u001b[0m\u001b[0margs\u001b[0m\u001b[1;33m,\u001b[0m \u001b[1;33m**\u001b[0m\u001b[0mkwargs\u001b[0m\u001b[1;33m)\u001b[0m\u001b[1;33m\u001b[0m\u001b[1;33m\u001b[0m\u001b[0m\n\u001b[0m\u001b[0;32m    523\u001b[0m     \u001b[1;32mfinally\u001b[0m\u001b[1;33m:\u001b[0m\u001b[1;33m\u001b[0m\u001b[1;33m\u001b[0m\u001b[0m\n\u001b[0;32m    524\u001b[0m       \u001b[0mself\u001b[0m\u001b[1;33m.\u001b[0m\u001b[0m_self_setattr_tracking\u001b[0m \u001b[1;33m=\u001b[0m \u001b[0mprevious_value\u001b[0m  \u001b[1;31m# pylint: disable=protected-access\u001b[0m\u001b[1;33m\u001b[0m\u001b[1;33m\u001b[0m\u001b[0m\n",
      "\u001b[1;32m~\\anaconda3\\lib\\site-packages\\tensorflow\\python\\keras\\engine\\functional.py\u001b[0m in \u001b[0;36m__init__\u001b[1;34m(self, inputs, outputs, name, trainable, **kwargs)\u001b[0m\n\u001b[0;32m    113\u001b[0m     \u001b[0mgeneric_utils\u001b[0m\u001b[1;33m.\u001b[0m\u001b[0mvalidate_kwargs\u001b[0m\u001b[1;33m(\u001b[0m\u001b[0mkwargs\u001b[0m\u001b[1;33m,\u001b[0m \u001b[1;33m{\u001b[0m\u001b[1;33m}\u001b[0m\u001b[1;33m)\u001b[0m\u001b[1;33m\u001b[0m\u001b[1;33m\u001b[0m\u001b[0m\n\u001b[0;32m    114\u001b[0m     \u001b[0msuper\u001b[0m\u001b[1;33m(\u001b[0m\u001b[0mFunctional\u001b[0m\u001b[1;33m,\u001b[0m \u001b[0mself\u001b[0m\u001b[1;33m)\u001b[0m\u001b[1;33m.\u001b[0m\u001b[0m__init__\u001b[0m\u001b[1;33m(\u001b[0m\u001b[0mname\u001b[0m\u001b[1;33m=\u001b[0m\u001b[0mname\u001b[0m\u001b[1;33m,\u001b[0m \u001b[0mtrainable\u001b[0m\u001b[1;33m=\u001b[0m\u001b[0mtrainable\u001b[0m\u001b[1;33m)\u001b[0m\u001b[1;33m\u001b[0m\u001b[1;33m\u001b[0m\u001b[0m\n\u001b[1;32m--> 115\u001b[1;33m     \u001b[0mself\u001b[0m\u001b[1;33m.\u001b[0m\u001b[0m_init_graph_network\u001b[0m\u001b[1;33m(\u001b[0m\u001b[0minputs\u001b[0m\u001b[1;33m,\u001b[0m \u001b[0moutputs\u001b[0m\u001b[1;33m)\u001b[0m\u001b[1;33m\u001b[0m\u001b[1;33m\u001b[0m\u001b[0m\n\u001b[0m\u001b[0;32m    116\u001b[0m \u001b[1;33m\u001b[0m\u001b[0m\n\u001b[0;32m    117\u001b[0m   \u001b[1;33m@\u001b[0m\u001b[0mtrackable\u001b[0m\u001b[1;33m.\u001b[0m\u001b[0mno_automatic_dependency_tracking\u001b[0m\u001b[1;33m\u001b[0m\u001b[1;33m\u001b[0m\u001b[0m\n",
      "\u001b[1;32m~\\anaconda3\\lib\\site-packages\\tensorflow\\python\\training\\tracking\\base.py\u001b[0m in \u001b[0;36m_method_wrapper\u001b[1;34m(self, *args, **kwargs)\u001b[0m\n\u001b[0;32m    520\u001b[0m     \u001b[0mself\u001b[0m\u001b[1;33m.\u001b[0m\u001b[0m_self_setattr_tracking\u001b[0m \u001b[1;33m=\u001b[0m \u001b[1;32mFalse\u001b[0m  \u001b[1;31m# pylint: disable=protected-access\u001b[0m\u001b[1;33m\u001b[0m\u001b[1;33m\u001b[0m\u001b[0m\n\u001b[0;32m    521\u001b[0m     \u001b[1;32mtry\u001b[0m\u001b[1;33m:\u001b[0m\u001b[1;33m\u001b[0m\u001b[1;33m\u001b[0m\u001b[0m\n\u001b[1;32m--> 522\u001b[1;33m       \u001b[0mresult\u001b[0m \u001b[1;33m=\u001b[0m \u001b[0mmethod\u001b[0m\u001b[1;33m(\u001b[0m\u001b[0mself\u001b[0m\u001b[1;33m,\u001b[0m \u001b[1;33m*\u001b[0m\u001b[0margs\u001b[0m\u001b[1;33m,\u001b[0m \u001b[1;33m**\u001b[0m\u001b[0mkwargs\u001b[0m\u001b[1;33m)\u001b[0m\u001b[1;33m\u001b[0m\u001b[1;33m\u001b[0m\u001b[0m\n\u001b[0m\u001b[0;32m    523\u001b[0m     \u001b[1;32mfinally\u001b[0m\u001b[1;33m:\u001b[0m\u001b[1;33m\u001b[0m\u001b[1;33m\u001b[0m\u001b[0m\n\u001b[0;32m    524\u001b[0m       \u001b[0mself\u001b[0m\u001b[1;33m.\u001b[0m\u001b[0m_self_setattr_tracking\u001b[0m \u001b[1;33m=\u001b[0m \u001b[0mprevious_value\u001b[0m  \u001b[1;31m# pylint: disable=protected-access\u001b[0m\u001b[1;33m\u001b[0m\u001b[1;33m\u001b[0m\u001b[0m\n",
      "\u001b[1;32m~\\anaconda3\\lib\\site-packages\\tensorflow\\python\\keras\\engine\\functional.py\u001b[0m in \u001b[0;36m_init_graph_network\u001b[1;34m(self, inputs, outputs)\u001b[0m\n\u001b[0;32m    150\u001b[0m         \u001b[0mbase_layer_utils\u001b[0m\u001b[1;33m.\u001b[0m\u001b[0mcreate_keras_history\u001b[0m\u001b[1;33m(\u001b[0m\u001b[0mself\u001b[0m\u001b[1;33m.\u001b[0m\u001b[0m_nested_outputs\u001b[0m\u001b[1;33m)\u001b[0m\u001b[1;33m\u001b[0m\u001b[1;33m\u001b[0m\u001b[0m\n\u001b[0;32m    151\u001b[0m \u001b[1;33m\u001b[0m\u001b[0m\n\u001b[1;32m--> 152\u001b[1;33m     \u001b[0mself\u001b[0m\u001b[1;33m.\u001b[0m\u001b[0m_validate_graph_inputs_and_outputs\u001b[0m\u001b[1;33m(\u001b[0m\u001b[1;33m)\u001b[0m\u001b[1;33m\u001b[0m\u001b[1;33m\u001b[0m\u001b[0m\n\u001b[0m\u001b[0;32m    153\u001b[0m \u001b[1;33m\u001b[0m\u001b[0m\n\u001b[0;32m    154\u001b[0m     \u001b[1;31m# A Network does not create weights of its own, thus it is already\u001b[0m\u001b[1;33m\u001b[0m\u001b[1;33m\u001b[0m\u001b[1;33m\u001b[0m\u001b[0m\n",
      "\u001b[1;32m~\\anaconda3\\lib\\site-packages\\tensorflow\\python\\keras\\engine\\functional.py\u001b[0m in \u001b[0;36m_validate_graph_inputs_and_outputs\u001b[1;34m(self)\u001b[0m\n\u001b[0;32m    686\u001b[0m       \u001b[1;32mif\u001b[0m \u001b[1;32mnot\u001b[0m \u001b[0mhasattr\u001b[0m\u001b[1;33m(\u001b[0m\u001b[0mx\u001b[0m\u001b[1;33m,\u001b[0m \u001b[1;34m'_keras_history'\u001b[0m\u001b[1;33m)\u001b[0m\u001b[1;33m:\u001b[0m\u001b[1;33m\u001b[0m\u001b[1;33m\u001b[0m\u001b[0m\n\u001b[0;32m    687\u001b[0m         \u001b[0mcls_name\u001b[0m \u001b[1;33m=\u001b[0m \u001b[0mself\u001b[0m\u001b[1;33m.\u001b[0m\u001b[0m__class__\u001b[0m\u001b[1;33m.\u001b[0m\u001b[0m__name__\u001b[0m\u001b[1;33m\u001b[0m\u001b[1;33m\u001b[0m\u001b[0m\n\u001b[1;32m--> 688\u001b[1;33m         raise ValueError('Input tensors to a ' + cls_name + ' ' +\n\u001b[0m\u001b[0;32m    689\u001b[0m                          \u001b[1;34m'must come from `tf.keras.Input`. '\u001b[0m\u001b[1;33m\u001b[0m\u001b[1;33m\u001b[0m\u001b[0m\n\u001b[0;32m    690\u001b[0m                          \u001b[1;34m'Received: '\u001b[0m \u001b[1;33m+\u001b[0m \u001b[0mstr\u001b[0m\u001b[1;33m(\u001b[0m\u001b[0mx\u001b[0m\u001b[1;33m)\u001b[0m \u001b[1;33m+\u001b[0m\u001b[1;33m\u001b[0m\u001b[1;33m\u001b[0m\u001b[0m\n",
      "\u001b[1;31mValueError\u001b[0m: Input tensors to a Functional must come from `tf.keras.Input`. Received: <__main__.Encoder object at 0x0000015F3DF37D30> (missing previous layer metadata)."
     ]
    }
   ],
   "source": [
    "model = tf.keras.Model(inputs=[encoder], outputs=[decoder])\n",
    "dot_img_file = 'model_1.png'\n",
    "tf.keras.utils.plot_model(model, to_file=dot_img_file, show_shapes=True)"
   ]
  },
  {
   "cell_type": "markdown",
   "metadata": {},
   "source": [
    "@tf.function\n",
    "def test_step(inp, targ, enc_hidden):\n",
    "    loss = 0\n",
    "\n",
    "    with tf.GradientTape() as tape:\n",
    "        enc_output, enc_hidden = encoder(inp, enc_hidden)\n",
    "        dec_hidden = enc_hidden\n",
    "        dec_input = tf.expand_dims([target_sentence_tokenizer.word_index['start_']] * BATCH_SIZE, 1)\n",
    "        predictions, dec_hidden, attention_weights = decoder(dec_input, dec_hidden, enc_output)\n",
    "    return predictions,dec_hidden, attention_weights"
   ]
  },
  {
   "cell_type": "code",
   "execution_count": 39,
   "metadata": {},
   "outputs": [
    {
     "name": "stdout",
     "output_type": "stream",
     "text": [
      "\n",
      "******* Luong Attention  STARTS******\n",
      "query (decoder hidden state): (batch_size, hidden size)  (1, 1024)\n",
      "values (encoder all hidden state): (batch_size, max_len, hidden size)  (1, 12, 1024)\n",
      "query_with_time_axis:(batch_size, 1, hidden size)  (1, 1, 1024)\n",
      "values_transposed:(batch_size, hidden size, max_len)  (1, 1024, 12)\n",
      "score: (batch_size, max_length, 1)  (1, 12, 1)\n",
      "attention_weights: (batch_size, max_length, 1)  (1, 12, 1)\n",
      "context_vector before reduce_sum: (batch_size, max_length, hidden_size)  (1, 12, 1024)\n",
      "context_vector after reduce_sum: (batch_size, hidden_size)  (1, 1024)\n",
      "\n",
      "******* Luong Attention ENDS******\n",
      "19\n",
      "\n",
      "******* Luong Attention  STARTS******\n",
      "query (decoder hidden state): (batch_size, hidden size)  (1, 1024)\n",
      "values (encoder all hidden state): (batch_size, max_len, hidden size)  (1, 12, 1024)\n",
      "query_with_time_axis:(batch_size, 1, hidden size)  (1, 1, 1024)\n",
      "values_transposed:(batch_size, hidden size, max_len)  (1, 1024, 12)\n",
      "score: (batch_size, max_length, 1)  (1, 12, 1)\n",
      "attention_weights: (batch_size, max_length, 1)  (1, 12, 1)\n",
      "context_vector before reduce_sum: (batch_size, max_length, hidden_size)  (1, 12, 1024)\n",
      "context_vector after reduce_sum: (batch_size, hidden_size)  (1, 1024)\n",
      "\n",
      "******* Luong Attention ENDS******\n",
      "4\n",
      "\n",
      "******* Luong Attention  STARTS******\n",
      "query (decoder hidden state): (batch_size, hidden size)  (1, 1024)\n",
      "values (encoder all hidden state): (batch_size, max_len, hidden size)  (1, 12, 1024)\n",
      "query_with_time_axis:(batch_size, 1, hidden size)  (1, 1, 1024)\n",
      "values_transposed:(batch_size, hidden size, max_len)  (1, 1024, 12)\n",
      "score: (batch_size, max_length, 1)  (1, 12, 1)\n",
      "attention_weights: (batch_size, max_length, 1)  (1, 12, 1)\n",
      "context_vector before reduce_sum: (batch_size, max_length, hidden_size)  (1, 12, 1024)\n",
      "context_vector after reduce_sum: (batch_size, hidden_size)  (1, 1024)\n",
      "\n",
      "******* Luong Attention ENDS******\n",
      "11\n",
      "\n",
      "******* Luong Attention  STARTS******\n",
      "query (decoder hidden state): (batch_size, hidden size)  (1, 1024)\n",
      "values (encoder all hidden state): (batch_size, max_len, hidden size)  (1, 12, 1024)\n",
      "query_with_time_axis:(batch_size, 1, hidden size)  (1, 1, 1024)\n",
      "values_transposed:(batch_size, hidden size, max_len)  (1, 1024, 12)\n",
      "score: (batch_size, max_length, 1)  (1, 12, 1)\n",
      "attention_weights: (batch_size, max_length, 1)  (1, 12, 1)\n",
      "context_vector before reduce_sum: (batch_size, max_length, hidden_size)  (1, 12, 1024)\n",
      "context_vector after reduce_sum: (batch_size, hidden_size)  (1, 1024)\n",
      "\n",
      "******* Luong Attention ENDS******\n",
      "9\n",
      "\n",
      "******* Luong Attention  STARTS******\n",
      "query (decoder hidden state): (batch_size, hidden size)  (1, 1024)\n",
      "values (encoder all hidden state): (batch_size, max_len, hidden size)  (1, 12, 1024)\n",
      "query_with_time_axis:(batch_size, 1, hidden size)  (1, 1, 1024)\n",
      "values_transposed:(batch_size, hidden size, max_len)  (1, 1024, 12)\n",
      "score: (batch_size, max_length, 1)  (1, 12, 1)\n",
      "attention_weights: (batch_size, max_length, 1)  (1, 12, 1)\n",
      "context_vector before reduce_sum: (batch_size, max_length, hidden_size)  (1, 12, 1024)\n",
      "context_vector after reduce_sum: (batch_size, hidden_size)  (1, 1024)\n",
      "\n",
      "******* Luong Attention ENDS******\n",
      "91\n",
      "\n",
      "******* Luong Attention  STARTS******\n",
      "query (decoder hidden state): (batch_size, hidden size)  (1, 1024)\n",
      "values (encoder all hidden state): (batch_size, max_len, hidden size)  (1, 12, 1024)\n",
      "query_with_time_axis:(batch_size, 1, hidden size)  (1, 1, 1024)\n",
      "values_transposed:(batch_size, hidden size, max_len)  (1, 1024, 12)\n",
      "score: (batch_size, max_length, 1)  (1, 12, 1)\n",
      "attention_weights: (batch_size, max_length, 1)  (1, 12, 1)\n",
      "context_vector before reduce_sum: (batch_size, max_length, hidden_size)  (1, 12, 1024)\n",
      "context_vector after reduce_sum: (batch_size, hidden_size)  (1, 1024)\n",
      "\n",
      "******* Luong Attention ENDS******\n",
      "2\n",
      "Input: start_ good morning _end\n",
      "Predicted translation: it is in the afternoon _end \n"
     ]
    },
    {
     "name": "stderr",
     "output_type": "stream",
     "text": [
      "<ipython-input-35-71f02795d875>:9: UserWarning: FixedFormatter should only be used together with FixedLocator\n",
      "  ax.set_xticklabels([''] + sentence, fontdict=fontdict, rotation=90)\n",
      "<ipython-input-35-71f02795d875>:10: UserWarning: FixedFormatter should only be used together with FixedLocator\n",
      "  ax.set_yticklabels([''] + predicted_sentence, fontdict=fontdict)\n"
     ]
    },
    {
     "data": {
      "image/png": "[encoded data removed]",
      "text/plain": [
       "<Figure size 720x720 with 1 Axes>"
      ]
     },
     "metadata": {
      "needs_background": "light"
     },
     "output_type": "display_data"
    }
   ],
   "source": [
    "translate(u'good morning')"
   ]
  },
  {
   "cell_type": "code",
   "execution_count": 40,
   "metadata": {},
   "outputs": [
    {
     "name": "stdout",
     "output_type": "stream",
     "text": [
      "\n",
      "******* Luong Attention  STARTS******\n",
      "query (decoder hidden state): (batch_size, hidden size)  (1, 1024)\n",
      "values (encoder all hidden state): (batch_size, max_len, hidden size)  (1, 12, 1024)\n",
      "query_with_time_axis:(batch_size, 1, hidden size)  (1, 1, 1024)\n",
      "values_transposed:(batch_size, hidden size, max_len)  (1, 1024, 12)\n",
      "score: (batch_size, max_length, 1)  (1, 12, 1)\n",
      "attention_weights: (batch_size, max_length, 1)  (1, 12, 1)\n",
      "context_vector before reduce_sum: (batch_size, max_length, hidden_size)  (1, 12, 1024)\n",
      "context_vector after reduce_sum: (batch_size, hidden_size)  (1, 1024)\n",
      "\n",
      "******* Luong Attention ENDS******\n",
      "18\n",
      "\n",
      "******* Luong Attention  STARTS******\n",
      "query (decoder hidden state): (batch_size, hidden size)  (1, 1024)\n",
      "values (encoder all hidden state): (batch_size, max_len, hidden size)  (1, 12, 1024)\n",
      "query_with_time_axis:(batch_size, 1, hidden size)  (1, 1, 1024)\n",
      "values_transposed:(batch_size, hidden size, max_len)  (1, 1024, 12)\n",
      "score: (batch_size, max_length, 1)  (1, 12, 1)\n",
      "attention_weights: (batch_size, max_length, 1)  (1, 12, 1)\n",
      "context_vector before reduce_sum: (batch_size, max_length, hidden_size)  (1, 12, 1024)\n",
      "context_vector after reduce_sum: (batch_size, hidden_size)  (1, 1024)\n",
      "\n",
      "******* Luong Attention ENDS******\n",
      "4\n",
      "\n",
      "******* Luong Attention  STARTS******\n",
      "query (decoder hidden state): (batch_size, hidden size)  (1, 1024)\n",
      "values (encoder all hidden state): (batch_size, max_len, hidden size)  (1, 12, 1024)\n",
      "query_with_time_axis:(batch_size, 1, hidden size)  (1, 1, 1024)\n",
      "values_transposed:(batch_size, hidden size, max_len)  (1, 1024, 12)\n",
      "score: (batch_size, max_length, 1)  (1, 12, 1)\n",
      "attention_weights: (batch_size, max_length, 1)  (1, 12, 1)\n",
      "context_vector before reduce_sum: (batch_size, max_length, hidden_size)  (1, 12, 1024)\n",
      "context_vector after reduce_sum: (batch_size, hidden_size)  (1, 1024)\n",
      "\n",
      "******* Luong Attention ENDS******\n",
      "9\n",
      "\n",
      "******* Luong Attention  STARTS******\n",
      "query (decoder hidden state): (batch_size, hidden size)  (1, 1024)\n",
      "values (encoder all hidden state): (batch_size, max_len, hidden size)  (1, 12, 1024)\n",
      "query_with_time_axis:(batch_size, 1, hidden size)  (1, 1, 1024)\n",
      "values_transposed:(batch_size, hidden size, max_len)  (1, 1024, 12)\n",
      "score: (batch_size, max_length, 1)  (1, 12, 1)\n",
      "attention_weights: (batch_size, max_length, 1)  (1, 12, 1)\n",
      "context_vector before reduce_sum: (batch_size, max_length, hidden_size)  (1, 12, 1024)\n",
      "context_vector after reduce_sum: (batch_size, hidden_size)  (1, 1024)\n",
      "\n",
      "******* Luong Attention ENDS******\n",
      "371\n",
      "\n",
      "******* Luong Attention  STARTS******\n",
      "query (decoder hidden state): (batch_size, hidden size)  (1, 1024)\n",
      "values (encoder all hidden state): (batch_size, max_len, hidden size)  (1, 12, 1024)\n",
      "query_with_time_axis:(batch_size, 1, hidden size)  (1, 1, 1024)\n",
      "values_transposed:(batch_size, hidden size, max_len)  (1, 1024, 12)\n",
      "score: (batch_size, max_length, 1)  (1, 12, 1)\n",
      "attention_weights: (batch_size, max_length, 1)  (1, 12, 1)\n",
      "context_vector before reduce_sum: (batch_size, max_length, hidden_size)  (1, 12, 1024)\n",
      "context_vector after reduce_sum: (batch_size, hidden_size)  (1, 1024)\n",
      "\n",
      "******* Luong Attention ENDS******\n",
      "5\n",
      "\n",
      "******* Luong Attention  STARTS******\n",
      "query (decoder hidden state): (batch_size, hidden size)  (1, 1024)\n",
      "values (encoder all hidden state): (batch_size, max_len, hidden size)  (1, 12, 1024)\n",
      "query_with_time_axis:(batch_size, 1, hidden size)  (1, 1, 1024)\n",
      "values_transposed:(batch_size, hidden size, max_len)  (1, 1024, 12)\n",
      "score: (batch_size, max_length, 1)  (1, 12, 1)\n",
      "attention_weights: (batch_size, max_length, 1)  (1, 12, 1)\n",
      "context_vector before reduce_sum: (batch_size, max_length, hidden_size)  (1, 12, 1024)\n",
      "context_vector after reduce_sum: (batch_size, hidden_size)  (1, 1024)\n",
      "\n",
      "******* Luong Attention ENDS******\n",
      "2\n",
      "Input: start_ bank where _end\n",
      "Predicted translation: where is the bank ? _end \n"
     ]
    },
    {
     "name": "stderr",
     "output_type": "stream",
     "text": [
      "<ipython-input-35-71f02795d875>:9: UserWarning: FixedFormatter should only be used together with FixedLocator\n",
      "  ax.set_xticklabels([''] + sentence, fontdict=fontdict, rotation=90)\n",
      "<ipython-input-35-71f02795d875>:10: UserWarning: FixedFormatter should only be used together with FixedLocator\n",
      "  ax.set_yticklabels([''] + predicted_sentence, fontdict=fontdict)\n"
     ]
    },
    {
     "data": {
      "image/png": "[encoded data removed]",
      "text/plain": [
       "<Figure size 720x720 with 1 Axes>"
      ]
     },
     "metadata": {
      "needs_background": "light"
     },
     "output_type": "display_data"
    }
   ],
   "source": [
    "translate(u'bank where')"
   ]
  },
  {
   "cell_type": "code",
   "execution_count": 41,
   "metadata": {},
   "outputs": [
    {
     "name": "stdout",
     "output_type": "stream",
     "text": [
      "\n",
      "******* Luong Attention  STARTS******\n",
      "query (decoder hidden state): (batch_size, hidden size)  (1, 1024)\n",
      "values (encoder all hidden state): (batch_size, max_len, hidden size)  (1, 12, 1024)\n",
      "query_with_time_axis:(batch_size, 1, hidden size)  (1, 1, 1024)\n",
      "values_transposed:(batch_size, hidden size, max_len)  (1, 1024, 12)\n",
      "score: (batch_size, max_length, 1)  (1, 12, 1)\n",
      "attention_weights: (batch_size, max_length, 1)  (1, 12, 1)\n",
      "context_vector before reduce_sum: (batch_size, max_length, hidden_size)  (1, 12, 1024)\n",
      "context_vector after reduce_sum: (batch_size, hidden_size)  (1, 1024)\n",
      "\n",
      "******* Luong Attention ENDS******\n",
      "175\n",
      "\n",
      "******* Luong Attention  STARTS******\n",
      "query (decoder hidden state): (batch_size, hidden size)  (1, 1024)\n",
      "values (encoder all hidden state): (batch_size, max_len, hidden size)  (1, 12, 1024)\n",
      "query_with_time_axis:(batch_size, 1, hidden size)  (1, 1, 1024)\n",
      "values_transposed:(batch_size, hidden size, max_len)  (1, 1024, 12)\n",
      "score: (batch_size, max_length, 1)  (1, 12, 1)\n",
      "attention_weights: (batch_size, max_length, 1)  (1, 12, 1)\n",
      "context_vector before reduce_sum: (batch_size, max_length, hidden_size)  (1, 12, 1024)\n",
      "context_vector after reduce_sum: (batch_size, hidden_size)  (1, 1024)\n",
      "\n",
      "******* Luong Attention ENDS******\n",
      "42\n",
      "\n",
      "******* Luong Attention  STARTS******\n",
      "query (decoder hidden state): (batch_size, hidden size)  (1, 1024)\n",
      "values (encoder all hidden state): (batch_size, max_len, hidden size)  (1, 12, 1024)\n",
      "query_with_time_axis:(batch_size, 1, hidden size)  (1, 1, 1024)\n",
      "values_transposed:(batch_size, hidden size, max_len)  (1, 1024, 12)\n",
      "score: (batch_size, max_length, 1)  (1, 12, 1)\n",
      "attention_weights: (batch_size, max_length, 1)  (1, 12, 1)\n",
      "context_vector before reduce_sum: (batch_size, max_length, hidden_size)  (1, 12, 1024)\n",
      "context_vector after reduce_sum: (batch_size, hidden_size)  (1, 1024)\n",
      "\n",
      "******* Luong Attention ENDS******\n",
      "41\n",
      "\n",
      "******* Luong Attention  STARTS******\n",
      "query (decoder hidden state): (batch_size, hidden size)  (1, 1024)\n",
      "values (encoder all hidden state): (batch_size, max_len, hidden size)  (1, 12, 1024)\n",
      "query_with_time_axis:(batch_size, 1, hidden size)  (1, 1, 1024)\n",
      "values_transposed:(batch_size, hidden size, max_len)  (1, 1024, 12)\n",
      "score: (batch_size, max_length, 1)  (1, 12, 1)\n",
      "attention_weights: (batch_size, max_length, 1)  (1, 12, 1)\n",
      "context_vector before reduce_sum: (batch_size, max_length, hidden_size)  (1, 12, 1024)\n",
      "context_vector after reduce_sum: (batch_size, hidden_size)  (1, 1024)\n",
      "\n",
      "******* Luong Attention ENDS******\n",
      "292\n",
      "\n",
      "******* Luong Attention  STARTS******\n",
      "query (decoder hidden state): (batch_size, hidden size)  (1, 1024)\n",
      "values (encoder all hidden state): (batch_size, max_len, hidden size)  (1, 12, 1024)\n",
      "query_with_time_axis:(batch_size, 1, hidden size)  (1, 1, 1024)\n",
      "values_transposed:(batch_size, hidden size, max_len)  (1, 1024, 12)\n",
      "score: (batch_size, max_length, 1)  (1, 12, 1)\n",
      "attention_weights: (batch_size, max_length, 1)  (1, 12, 1)\n",
      "context_vector before reduce_sum: (batch_size, max_length, hidden_size)  (1, 12, 1024)\n",
      "context_vector after reduce_sum: (batch_size, hidden_size)  (1, 1024)\n",
      "\n",
      "******* Luong Attention ENDS******\n",
      "117\n",
      "\n",
      "******* Luong Attention  STARTS******\n",
      "query (decoder hidden state): (batch_size, hidden size)  (1, 1024)\n",
      "values (encoder all hidden state): (batch_size, max_len, hidden size)  (1, 12, 1024)\n",
      "query_with_time_axis:(batch_size, 1, hidden size)  (1, 1, 1024)\n",
      "values_transposed:(batch_size, hidden size, max_len)  (1, 1024, 12)\n",
      "score: (batch_size, max_length, 1)  (1, 12, 1)\n",
      "attention_weights: (batch_size, max_length, 1)  (1, 12, 1)\n",
      "context_vector before reduce_sum: (batch_size, max_length, hidden_size)  (1, 12, 1024)\n",
      "context_vector after reduce_sum: (batch_size, hidden_size)  (1, 1024)\n",
      "\n",
      "******* Luong Attention ENDS******\n",
      "2\n",
      "Input: start_ i sing look me _end\n",
      "Predicted translation: look at me singing ! _end \n"
     ]
    },
    {
     "name": "stderr",
     "output_type": "stream",
     "text": [
      "<ipython-input-35-71f02795d875>:9: UserWarning: FixedFormatter should only be used together with FixedLocator\n",
      "  ax.set_xticklabels([''] + sentence, fontdict=fontdict, rotation=90)\n",
      "<ipython-input-35-71f02795d875>:10: UserWarning: FixedFormatter should only be used together with FixedLocator\n",
      "  ax.set_yticklabels([''] + predicted_sentence, fontdict=fontdict)\n"
     ]
    },
    {
     "data": {
      "image/png": "[encoded data removed]",
      "text/plain": [
       "<Figure size 720x720 with 1 Axes>"
      ]
     },
     "metadata": {
      "needs_background": "light"
     },
     "output_type": "display_data"
    }
   ],
   "source": [
    "translate(u'i sing look me')"
   ]
  },
  {
   "cell_type": "code",
   "execution_count": 42,
   "metadata": {},
   "outputs": [
    {
     "name": "stdout",
     "output_type": "stream",
     "text": [
      "\n",
      "******* Luong Attention  STARTS******\n",
      "query (decoder hidden state): (batch_size, hidden size)  (1, 1024)\n",
      "values (encoder all hidden state): (batch_size, max_len, hidden size)  (1, 12, 1024)\n",
      "query_with_time_axis:(batch_size, 1, hidden size)  (1, 1, 1024)\n",
      "values_transposed:(batch_size, hidden size, max_len)  (1, 1024, 12)\n",
      "score: (batch_size, max_length, 1)  (1, 12, 1)\n",
      "attention_weights: (batch_size, max_length, 1)  (1, 12, 1)\n",
      "context_vector before reduce_sum: (batch_size, max_length, hidden_size)  (1, 12, 1024)\n",
      "context_vector after reduce_sum: (batch_size, hidden_size)  (1, 1024)\n",
      "\n",
      "******* Luong Attention ENDS******\n",
      "3\n",
      "\n",
      "******* Luong Attention  STARTS******\n",
      "query (decoder hidden state): (batch_size, hidden size)  (1, 1024)\n",
      "values (encoder all hidden state): (batch_size, max_len, hidden size)  (1, 12, 1024)\n",
      "query_with_time_axis:(batch_size, 1, hidden size)  (1, 1, 1024)\n",
      "values_transposed:(batch_size, hidden size, max_len)  (1, 1024, 12)\n",
      "score: (batch_size, max_length, 1)  (1, 12, 1)\n",
      "attention_weights: (batch_size, max_length, 1)  (1, 12, 1)\n",
      "context_vector before reduce_sum: (batch_size, max_length, hidden_size)  (1, 12, 1024)\n",
      "context_vector after reduce_sum: (batch_size, hidden_size)  (1, 1024)\n",
      "\n",
      "******* Luong Attention ENDS******\n",
      "8\n",
      "\n",
      "******* Luong Attention  STARTS******\n",
      "query (decoder hidden state): (batch_size, hidden size)  (1, 1024)\n",
      "values (encoder all hidden state): (batch_size, max_len, hidden size)  (1, 12, 1024)\n",
      "query_with_time_axis:(batch_size, 1, hidden size)  (1, 1, 1024)\n",
      "values_transposed:(batch_size, hidden size, max_len)  (1, 1024, 12)\n",
      "score: (batch_size, max_length, 1)  (1, 12, 1)\n",
      "attention_weights: (batch_size, max_length, 1)  (1, 12, 1)\n",
      "context_vector before reduce_sum: (batch_size, max_length, hidden_size)  (1, 12, 1024)\n",
      "context_vector after reduce_sum: (batch_size, hidden_size)  (1, 1024)\n",
      "\n",
      "******* Luong Attention ENDS******\n",
      "389\n",
      "\n",
      "******* Luong Attention  STARTS******\n",
      "query (decoder hidden state): (batch_size, hidden size)  (1, 1024)\n",
      "values (encoder all hidden state): (batch_size, max_len, hidden size)  (1, 12, 1024)\n",
      "query_with_time_axis:(batch_size, 1, hidden size)  (1, 1, 1024)\n",
      "values_transposed:(batch_size, hidden size, max_len)  (1, 1024, 12)\n",
      "score: (batch_size, max_length, 1)  (1, 12, 1)\n",
      "attention_weights: (batch_size, max_length, 1)  (1, 12, 1)\n",
      "context_vector before reduce_sum: (batch_size, max_length, hidden_size)  (1, 12, 1024)\n",
      "context_vector after reduce_sum: (batch_size, hidden_size)  (1, 1024)\n",
      "\n",
      "******* Luong Attention ENDS******\n",
      "2\n",
      "Input: start_ nine morning _end\n",
      "Predicted translation: i am hurt _end \n"
     ]
    },
    {
     "name": "stderr",
     "output_type": "stream",
     "text": [
      "<ipython-input-35-71f02795d875>:9: UserWarning: FixedFormatter should only be used together with FixedLocator\n",
      "  ax.set_xticklabels([''] + sentence, fontdict=fontdict, rotation=90)\n",
      "<ipython-input-35-71f02795d875>:10: UserWarning: FixedFormatter should only be used together with FixedLocator\n",
      "  ax.set_yticklabels([''] + predicted_sentence, fontdict=fontdict)\n"
     ]
    },
    {
     "data": {
      "image/png": "[encoded data removed]",
      "text/plain": [
       "<Figure size 720x720 with 1 Axes>"
      ]
     },
     "metadata": {
      "needs_background": "light"
     },
     "output_type": "display_data"
    }
   ],
   "source": [
    "translate(u'nine morning')"
   ]
  },
  {
   "cell_type": "code",
   "execution_count": 43,
   "metadata": {},
   "outputs": [
    {
     "name": "stdout",
     "output_type": "stream",
     "text": [
      "\n",
      "******* Luong Attention  STARTS******\n",
      "query (decoder hidden state): (batch_size, hidden size)  (1, 1024)\n",
      "values (encoder all hidden state): (batch_size, max_len, hidden size)  (1, 12, 1024)\n",
      "query_with_time_axis:(batch_size, 1, hidden size)  (1, 1, 1024)\n",
      "values_transposed:(batch_size, hidden size, max_len)  (1, 1024, 12)\n",
      "score: (batch_size, max_length, 1)  (1, 12, 1)\n",
      "attention_weights: (batch_size, max_length, 1)  (1, 12, 1)\n",
      "context_vector before reduce_sum: (batch_size, max_length, hidden_size)  (1, 12, 1024)\n",
      "context_vector after reduce_sum: (batch_size, hidden_size)  (1, 1024)\n",
      "\n",
      "******* Luong Attention ENDS******\n",
      "3\n",
      "\n",
      "******* Luong Attention  STARTS******\n",
      "query (decoder hidden state): (batch_size, hidden size)  (1, 1024)\n",
      "values (encoder all hidden state): (batch_size, max_len, hidden size)  (1, 12, 1024)\n",
      "query_with_time_axis:(batch_size, 1, hidden size)  (1, 1, 1024)\n",
      "values_transposed:(batch_size, hidden size, max_len)  (1, 1024, 12)\n",
      "score: (batch_size, max_length, 1)  (1, 12, 1)\n",
      "attention_weights: (batch_size, max_length, 1)  (1, 12, 1)\n",
      "context_vector before reduce_sum: (batch_size, max_length, hidden_size)  (1, 12, 1024)\n",
      "context_vector after reduce_sum: (batch_size, hidden_size)  (1, 1024)\n",
      "\n",
      "******* Luong Attention ENDS******\n",
      "38\n",
      "\n",
      "******* Luong Attention  STARTS******\n",
      "query (decoder hidden state): (batch_size, hidden size)  (1, 1024)\n",
      "values (encoder all hidden state): (batch_size, max_len, hidden size)  (1, 12, 1024)\n",
      "query_with_time_axis:(batch_size, 1, hidden size)  (1, 1, 1024)\n",
      "values_transposed:(batch_size, hidden size, max_len)  (1, 1024, 12)\n",
      "score: (batch_size, max_length, 1)  (1, 12, 1)\n",
      "attention_weights: (batch_size, max_length, 1)  (1, 12, 1)\n",
      "context_vector before reduce_sum: (batch_size, max_length, hidden_size)  (1, 12, 1024)\n",
      "context_vector after reduce_sum: (batch_size, hidden_size)  (1, 1024)\n",
      "\n",
      "******* Luong Attention ENDS******\n",
      "124\n",
      "\n",
      "******* Luong Attention  STARTS******\n",
      "query (decoder hidden state): (batch_size, hidden size)  (1, 1024)\n",
      "values (encoder all hidden state): (batch_size, max_len, hidden size)  (1, 12, 1024)\n",
      "query_with_time_axis:(batch_size, 1, hidden size)  (1, 1, 1024)\n",
      "values_transposed:(batch_size, hidden size, max_len)  (1, 1024, 12)\n",
      "score: (batch_size, max_length, 1)  (1, 12, 1)\n",
      "attention_weights: (batch_size, max_length, 1)  (1, 12, 1)\n",
      "context_vector before reduce_sum: (batch_size, max_length, hidden_size)  (1, 12, 1024)\n",
      "context_vector after reduce_sum: (batch_size, hidden_size)  (1, 1024)\n",
      "\n",
      "******* Luong Attention ENDS******\n",
      "2\n",
      "Input: start_ food want _end\n",
      "Predicted translation: i want food _end \n"
     ]
    },
    {
     "name": "stderr",
     "output_type": "stream",
     "text": [
      "<ipython-input-35-71f02795d875>:9: UserWarning: FixedFormatter should only be used together with FixedLocator\n",
      "  ax.set_xticklabels([''] + sentence, fontdict=fontdict, rotation=90)\n",
      "<ipython-input-35-71f02795d875>:10: UserWarning: FixedFormatter should only be used together with FixedLocator\n",
      "  ax.set_yticklabels([''] + predicted_sentence, fontdict=fontdict)\n"
     ]
    },
    {
     "data": {
      "image/png": "[encoded data removed]",
      "text/plain": [
       "<Figure size 720x720 with 1 Axes>"
      ]
     },
     "metadata": {
      "needs_background": "light"
     },
     "output_type": "display_data"
    }
   ],
   "source": [
    "translate(u'food want')"
   ]
  },
  {
   "cell_type": "code",
   "execution_count": 44,
   "metadata": {},
   "outputs": [
    {
     "name": "stdout",
     "output_type": "stream",
     "text": [
      "\n",
      "******* Luong Attention  STARTS******\n",
      "query (decoder hidden state): (batch_size, hidden size)  (1, 1024)\n",
      "values (encoder all hidden state): (batch_size, max_len, hidden size)  (1, 12, 1024)\n",
      "query_with_time_axis:(batch_size, 1, hidden size)  (1, 1, 1024)\n",
      "values_transposed:(batch_size, hidden size, max_len)  (1, 1024, 12)\n",
      "score: (batch_size, max_length, 1)  (1, 12, 1)\n",
      "attention_weights: (batch_size, max_length, 1)  (1, 12, 1)\n",
      "context_vector before reduce_sum: (batch_size, max_length, hidden_size)  (1, 12, 1024)\n",
      "context_vector after reduce_sum: (batch_size, hidden_size)  (1, 1024)\n",
      "\n",
      "******* Luong Attention ENDS******\n",
      "3\n",
      "\n",
      "******* Luong Attention  STARTS******\n",
      "query (decoder hidden state): (batch_size, hidden size)  (1, 1024)\n",
      "values (encoder all hidden state): (batch_size, max_len, hidden size)  (1, 12, 1024)\n",
      "query_with_time_axis:(batch_size, 1, hidden size)  (1, 1, 1024)\n",
      "values_transposed:(batch_size, hidden size, max_len)  (1, 1024, 12)\n",
      "score: (batch_size, max_length, 1)  (1, 12, 1)\n",
      "attention_weights: (batch_size, max_length, 1)  (1, 12, 1)\n",
      "context_vector before reduce_sum: (batch_size, max_length, hidden_size)  (1, 12, 1024)\n",
      "context_vector after reduce_sum: (batch_size, hidden_size)  (1, 1024)\n",
      "\n",
      "******* Luong Attention ENDS******\n",
      "17\n",
      "\n",
      "******* Luong Attention  STARTS******\n",
      "query (decoder hidden state): (batch_size, hidden size)  (1, 1024)\n",
      "values (encoder all hidden state): (batch_size, max_len, hidden size)  (1, 12, 1024)\n",
      "query_with_time_axis:(batch_size, 1, hidden size)  (1, 1, 1024)\n",
      "values_transposed:(batch_size, hidden size, max_len)  (1, 1024, 12)\n",
      "score: (batch_size, max_length, 1)  (1, 12, 1)\n",
      "attention_weights: (batch_size, max_length, 1)  (1, 12, 1)\n",
      "context_vector before reduce_sum: (batch_size, max_length, hidden_size)  (1, 12, 1024)\n",
      "context_vector after reduce_sum: (batch_size, hidden_size)  (1, 1024)\n",
      "\n",
      "******* Luong Attention ENDS******\n",
      "246\n",
      "\n",
      "******* Luong Attention  STARTS******\n",
      "query (decoder hidden state): (batch_size, hidden size)  (1, 1024)\n",
      "values (encoder all hidden state): (batch_size, max_len, hidden size)  (1, 12, 1024)\n",
      "query_with_time_axis:(batch_size, 1, hidden size)  (1, 1, 1024)\n",
      "values_transposed:(batch_size, hidden size, max_len)  (1, 1024, 12)\n",
      "score: (batch_size, max_length, 1)  (1, 12, 1)\n",
      "attention_weights: (batch_size, max_length, 1)  (1, 12, 1)\n",
      "context_vector before reduce_sum: (batch_size, max_length, hidden_size)  (1, 12, 1024)\n",
      "context_vector after reduce_sum: (batch_size, hidden_size)  (1, 1024)\n",
      "\n",
      "******* Luong Attention ENDS******\n",
      "2\n",
      "Input: start_ i understand before _end\n",
      "Predicted translation: i was painter _end \n"
     ]
    },
    {
     "name": "stderr",
     "output_type": "stream",
     "text": [
      "<ipython-input-35-71f02795d875>:9: UserWarning: FixedFormatter should only be used together with FixedLocator\n",
      "  ax.set_xticklabels([''] + sentence, fontdict=fontdict, rotation=90)\n",
      "<ipython-input-35-71f02795d875>:10: UserWarning: FixedFormatter should only be used together with FixedLocator\n",
      "  ax.set_yticklabels([''] + predicted_sentence, fontdict=fontdict)\n"
     ]
    },
    {
     "data": {
      "image/png": "[encoded data removed]",
      "text/plain": [
       "<Figure size 720x720 with 1 Axes>"
      ]
     },
     "metadata": {
      "needs_background": "light"
     },
     "output_type": "display_data"
    }
   ],
   "source": [
    "translate(u'i understand before')"
   ]
  },
  {
   "cell_type": "code",
   "execution_count": 45,
   "metadata": {},
   "outputs": [
    {
     "name": "stdout",
     "output_type": "stream",
     "text": [
      "\n",
      "******* Luong Attention  STARTS******\n",
      "query (decoder hidden state): (batch_size, hidden size)  (1, 1024)\n",
      "values (encoder all hidden state): (batch_size, max_len, hidden size)  (1, 12, 1024)\n",
      "query_with_time_axis:(batch_size, 1, hidden size)  (1, 1, 1024)\n",
      "values_transposed:(batch_size, hidden size, max_len)  (1, 1024, 12)\n",
      "score: (batch_size, max_length, 1)  (1, 12, 1)\n",
      "attention_weights: (batch_size, max_length, 1)  (1, 12, 1)\n",
      "context_vector before reduce_sum: (batch_size, max_length, hidden_size)  (1, 12, 1024)\n",
      "context_vector after reduce_sum: (batch_size, hidden_size)  (1, 1024)\n",
      "\n",
      "******* Luong Attention ENDS******\n",
      "3\n",
      "\n",
      "******* Luong Attention  STARTS******\n",
      "query (decoder hidden state): (batch_size, hidden size)  (1, 1024)\n",
      "values (encoder all hidden state): (batch_size, max_len, hidden size)  (1, 12, 1024)\n",
      "query_with_time_axis:(batch_size, 1, hidden size)  (1, 1, 1024)\n",
      "values_transposed:(batch_size, hidden size, max_len)  (1, 1024, 12)\n",
      "score: (batch_size, max_length, 1)  (1, 12, 1)\n",
      "attention_weights: (batch_size, max_length, 1)  (1, 12, 1)\n",
      "context_vector before reduce_sum: (batch_size, max_length, hidden_size)  (1, 12, 1024)\n",
      "context_vector after reduce_sum: (batch_size, hidden_size)  (1, 1024)\n",
      "\n",
      "******* Luong Attention ENDS******\n",
      "15\n",
      "\n",
      "******* Luong Attention  STARTS******\n",
      "query (decoder hidden state): (batch_size, hidden size)  (1, 1024)\n",
      "values (encoder all hidden state): (batch_size, max_len, hidden size)  (1, 12, 1024)\n",
      "query_with_time_axis:(batch_size, 1, hidden size)  (1, 1, 1024)\n",
      "values_transposed:(batch_size, hidden size, max_len)  (1, 1024, 12)\n",
      "score: (batch_size, max_length, 1)  (1, 12, 1)\n",
      "attention_weights: (batch_size, max_length, 1)  (1, 12, 1)\n",
      "context_vector before reduce_sum: (batch_size, max_length, hidden_size)  (1, 12, 1024)\n",
      "context_vector after reduce_sum: (batch_size, hidden_size)  (1, 1024)\n",
      "\n",
      "******* Luong Attention ENDS******\n",
      "32\n",
      "\n",
      "******* Luong Attention  STARTS******\n",
      "query (decoder hidden state): (batch_size, hidden size)  (1, 1024)\n",
      "values (encoder all hidden state): (batch_size, max_len, hidden size)  (1, 12, 1024)\n",
      "query_with_time_axis:(batch_size, 1, hidden size)  (1, 1, 1024)\n",
      "values_transposed:(batch_size, hidden size, max_len)  (1, 1024, 12)\n",
      "score: (batch_size, max_length, 1)  (1, 12, 1)\n",
      "attention_weights: (batch_size, max_length, 1)  (1, 12, 1)\n",
      "context_vector before reduce_sum: (batch_size, max_length, hidden_size)  (1, 12, 1024)\n",
      "context_vector after reduce_sum: (batch_size, hidden_size)  (1, 1024)\n",
      "\n",
      "******* Luong Attention ENDS******\n",
      "102\n",
      "\n",
      "******* Luong Attention  STARTS******\n",
      "query (decoder hidden state): (batch_size, hidden size)  (1, 1024)\n",
      "values (encoder all hidden state): (batch_size, max_len, hidden size)  (1, 12, 1024)\n",
      "query_with_time_axis:(batch_size, 1, hidden size)  (1, 1, 1024)\n",
      "values_transposed:(batch_size, hidden size, max_len)  (1, 1024, 12)\n",
      "score: (batch_size, max_length, 1)  (1, 12, 1)\n",
      "attention_weights: (batch_size, max_length, 1)  (1, 12, 1)\n",
      "context_vector before reduce_sum: (batch_size, max_length, hidden_size)  (1, 12, 1024)\n",
      "context_vector after reduce_sum: (batch_size, hidden_size)  (1, 1024)\n",
      "\n",
      "******* Luong Attention ENDS******\n",
      "2\n",
      "Input: start_ i understand not _end\n",
      "Predicted translation: i do not understand _end \n"
     ]
    },
    {
     "name": "stderr",
     "output_type": "stream",
     "text": [
      "<ipython-input-35-71f02795d875>:9: UserWarning: FixedFormatter should only be used together with FixedLocator\n",
      "  ax.set_xticklabels([''] + sentence, fontdict=fontdict, rotation=90)\n",
      "<ipython-input-35-71f02795d875>:10: UserWarning: FixedFormatter should only be used together with FixedLocator\n",
      "  ax.set_yticklabels([''] + predicted_sentence, fontdict=fontdict)\n"
     ]
    },
    {
     "data": {
      "image/png": "[encoded data removed]",
      "text/plain": [
       "<Figure size 720x720 with 1 Axes>"
      ]
     },
     "metadata": {
      "needs_background": "light"
     },
     "output_type": "display_data"
    }
   ],
   "source": [
    "translate(u'I understand not')"
   ]
  },
  {
   "cell_type": "code",
   "execution_count": 46,
   "metadata": {},
   "outputs": [
    {
     "name": "stdout",
     "output_type": "stream",
     "text": [
      "\n",
      "******* Luong Attention  STARTS******\n",
      "query (decoder hidden state): (batch_size, hidden size)  (1, 1024)\n",
      "values (encoder all hidden state): (batch_size, max_len, hidden size)  (1, 12, 1024)\n",
      "query_with_time_axis:(batch_size, 1, hidden size)  (1, 1, 1024)\n",
      "values_transposed:(batch_size, hidden size, max_len)  (1, 1024, 12)\n",
      "score: (batch_size, max_length, 1)  (1, 12, 1)\n",
      "attention_weights: (batch_size, max_length, 1)  (1, 12, 1)\n",
      "context_vector before reduce_sum: (batch_size, max_length, hidden_size)  (1, 12, 1024)\n",
      "context_vector after reduce_sum: (batch_size, hidden_size)  (1, 1024)\n",
      "\n",
      "******* Luong Attention ENDS******\n",
      "3\n",
      "\n",
      "******* Luong Attention  STARTS******\n",
      "query (decoder hidden state): (batch_size, hidden size)  (1, 1024)\n",
      "values (encoder all hidden state): (batch_size, max_len, hidden size)  (1, 12, 1024)\n",
      "query_with_time_axis:(batch_size, 1, hidden size)  (1, 1, 1024)\n",
      "values_transposed:(batch_size, hidden size, max_len)  (1, 1024, 12)\n",
      "score: (batch_size, max_length, 1)  (1, 12, 1)\n",
      "attention_weights: (batch_size, max_length, 1)  (1, 12, 1)\n",
      "context_vector before reduce_sum: (batch_size, max_length, hidden_size)  (1, 12, 1024)\n",
      "context_vector after reduce_sum: (batch_size, hidden_size)  (1, 1024)\n",
      "\n",
      "******* Luong Attention ENDS******\n",
      "102\n",
      "\n",
      "******* Luong Attention  STARTS******\n",
      "query (decoder hidden state): (batch_size, hidden size)  (1, 1024)\n",
      "values (encoder all hidden state): (batch_size, max_len, hidden size)  (1, 12, 1024)\n",
      "query_with_time_axis:(batch_size, 1, hidden size)  (1, 1, 1024)\n",
      "values_transposed:(batch_size, hidden size, max_len)  (1, 1024, 12)\n",
      "score: (batch_size, max_length, 1)  (1, 12, 1)\n",
      "attention_weights: (batch_size, max_length, 1)  (1, 12, 1)\n",
      "context_vector before reduce_sum: (batch_size, max_length, hidden_size)  (1, 12, 1024)\n",
      "context_vector after reduce_sum: (batch_size, hidden_size)  (1, 1024)\n",
      "\n",
      "******* Luong Attention ENDS******\n",
      "2\n",
      "Input: start_ i understand _end\n",
      "Predicted translation: i understand _end \n"
     ]
    },
    {
     "name": "stderr",
     "output_type": "stream",
     "text": [
      "<ipython-input-35-71f02795d875>:9: UserWarning: FixedFormatter should only be used together with FixedLocator\n",
      "  ax.set_xticklabels([''] + sentence, fontdict=fontdict, rotation=90)\n",
      "<ipython-input-35-71f02795d875>:10: UserWarning: FixedFormatter should only be used together with FixedLocator\n",
      "  ax.set_yticklabels([''] + predicted_sentence, fontdict=fontdict)\n"
     ]
    },
    {
     "data": {
      "image/png": "[encoded data removed]",
      "text/plain": [
       "<Figure size 720x720 with 1 Axes>"
      ]
     },
     "metadata": {
      "needs_background": "light"
     },
     "output_type": "display_data"
    }
   ],
   "source": [
    "translate(u'i understand')"
   ]
  },
  {
   "cell_type": "code",
   "execution_count": 47,
   "metadata": {},
   "outputs": [
    {
     "name": "stdout",
     "output_type": "stream",
     "text": [
      "\n",
      "******* Luong Attention  STARTS******\n",
      "query (decoder hidden state): (batch_size, hidden size)  (1, 1024)\n",
      "values (encoder all hidden state): (batch_size, max_len, hidden size)  (1, 12, 1024)\n",
      "query_with_time_axis:(batch_size, 1, hidden size)  (1, 1, 1024)\n",
      "values_transposed:(batch_size, hidden size, max_len)  (1, 1024, 12)\n",
      "score: (batch_size, max_length, 1)  (1, 12, 1)\n",
      "attention_weights: (batch_size, max_length, 1)  (1, 12, 1)\n",
      "context_vector before reduce_sum: (batch_size, max_length, hidden_size)  (1, 12, 1024)\n",
      "context_vector after reduce_sum: (batch_size, hidden_size)  (1, 1024)\n",
      "\n",
      "******* Luong Attention ENDS******\n",
      "18\n",
      "\n",
      "******* Luong Attention  STARTS******\n",
      "query (decoder hidden state): (batch_size, hidden size)  (1, 1024)\n",
      "values (encoder all hidden state): (batch_size, max_len, hidden size)  (1, 12, 1024)\n",
      "query_with_time_axis:(batch_size, 1, hidden size)  (1, 1, 1024)\n",
      "values_transposed:(batch_size, hidden size, max_len)  (1, 1024, 12)\n",
      "score: (batch_size, max_length, 1)  (1, 12, 1)\n",
      "attention_weights: (batch_size, max_length, 1)  (1, 12, 1)\n",
      "context_vector before reduce_sum: (batch_size, max_length, hidden_size)  (1, 12, 1024)\n",
      "context_vector after reduce_sum: (batch_size, hidden_size)  (1, 1024)\n",
      "\n",
      "******* Luong Attention ENDS******\n",
      "12\n",
      "\n",
      "******* Luong Attention  STARTS******\n",
      "query (decoder hidden state): (batch_size, hidden size)  (1, 1024)\n",
      "values (encoder all hidden state): (batch_size, max_len, hidden size)  (1, 12, 1024)\n",
      "query_with_time_axis:(batch_size, 1, hidden size)  (1, 1, 1024)\n",
      "values_transposed:(batch_size, hidden size, max_len)  (1, 1024, 12)\n",
      "score: (batch_size, max_length, 1)  (1, 12, 1)\n",
      "attention_weights: (batch_size, max_length, 1)  (1, 12, 1)\n",
      "context_vector before reduce_sum: (batch_size, max_length, hidden_size)  (1, 12, 1024)\n",
      "context_vector after reduce_sum: (batch_size, hidden_size)  (1, 1024)\n",
      "\n",
      "******* Luong Attention ENDS******\n",
      "6\n",
      "\n",
      "******* Luong Attention  STARTS******\n",
      "query (decoder hidden state): (batch_size, hidden size)  (1, 1024)\n",
      "values (encoder all hidden state): (batch_size, max_len, hidden size)  (1, 12, 1024)\n",
      "query_with_time_axis:(batch_size, 1, hidden size)  (1, 1, 1024)\n",
      "values_transposed:(batch_size, hidden size, max_len)  (1, 1024, 12)\n",
      "score: (batch_size, max_length, 1)  (1, 12, 1)\n",
      "attention_weights: (batch_size, max_length, 1)  (1, 12, 1)\n",
      "context_vector before reduce_sum: (batch_size, max_length, hidden_size)  (1, 12, 1024)\n",
      "context_vector after reduce_sum: (batch_size, hidden_size)  (1, 1024)\n",
      "\n",
      "******* Luong Attention ENDS******\n",
      "39\n",
      "\n",
      "******* Luong Attention  STARTS******\n",
      "query (decoder hidden state): (batch_size, hidden size)  (1, 1024)\n",
      "values (encoder all hidden state): (batch_size, max_len, hidden size)  (1, 12, 1024)\n",
      "query_with_time_axis:(batch_size, 1, hidden size)  (1, 1, 1024)\n",
      "values_transposed:(batch_size, hidden size, max_len)  (1, 1024, 12)\n",
      "score: (batch_size, max_length, 1)  (1, 12, 1)\n",
      "attention_weights: (batch_size, max_length, 1)  (1, 12, 1)\n",
      "context_vector before reduce_sum: (batch_size, max_length, hidden_size)  (1, 12, 1024)\n",
      "context_vector after reduce_sum: (batch_size, hidden_size)  (1, 1024)\n",
      "\n",
      "******* Luong Attention ENDS******\n",
      "114\n",
      "\n",
      "******* Luong Attention  STARTS******\n",
      "query (decoder hidden state): (batch_size, hidden size)  (1, 1024)\n",
      "values (encoder all hidden state): (batch_size, max_len, hidden size)  (1, 12, 1024)\n",
      "query_with_time_axis:(batch_size, 1, hidden size)  (1, 1, 1024)\n",
      "values_transposed:(batch_size, hidden size, max_len)  (1, 1024, 12)\n",
      "score: (batch_size, max_length, 1)  (1, 12, 1)\n",
      "attention_weights: (batch_size, max_length, 1)  (1, 12, 1)\n",
      "context_vector before reduce_sum: (batch_size, max_length, hidden_size)  (1, 12, 1024)\n",
      "context_vector after reduce_sum: (batch_size, hidden_size)  (1, 1024)\n",
      "\n",
      "******* Luong Attention ENDS******\n",
      "5\n",
      "\n",
      "******* Luong Attention  STARTS******\n",
      "query (decoder hidden state): (batch_size, hidden size)  (1, 1024)\n",
      "values (encoder all hidden state): (batch_size, max_len, hidden size)  (1, 12, 1024)\n",
      "query_with_time_axis:(batch_size, 1, hidden size)  (1, 1, 1024)\n",
      "values_transposed:(batch_size, hidden size, max_len)  (1, 1024, 12)\n",
      "score: (batch_size, max_length, 1)  (1, 12, 1)\n",
      "attention_weights: (batch_size, max_length, 1)  (1, 12, 1)\n",
      "context_vector before reduce_sum: (batch_size, max_length, hidden_size)  (1, 12, 1024)\n",
      "context_vector after reduce_sum: (batch_size, hidden_size)  (1, 1024)\n",
      "\n",
      "******* Luong Attention ENDS******\n",
      "2\n",
      "Input: start_ you go day now where _end\n",
      "Predicted translation: where are you going today ? _end \n"
     ]
    },
    {
     "name": "stderr",
     "output_type": "stream",
     "text": [
      "<ipython-input-35-71f02795d875>:9: UserWarning: FixedFormatter should only be used together with FixedLocator\n",
      "  ax.set_xticklabels([''] + sentence, fontdict=fontdict, rotation=90)\n",
      "<ipython-input-35-71f02795d875>:10: UserWarning: FixedFormatter should only be used together with FixedLocator\n",
      "  ax.set_yticklabels([''] + predicted_sentence, fontdict=fontdict)\n"
     ]
    },
    {
     "data": {
      "image/png": "[encoded data removed]",
      "text/plain": [
       "<Figure size 720x720 with 1 Axes>"
      ]
     },
     "metadata": {
      "needs_background": "light"
     },
     "output_type": "display_data"
    }
   ],
   "source": [
    "translate(u'you go day now where')"
   ]
  },
  {
   "cell_type": "code",
   "execution_count": 48,
   "metadata": {},
   "outputs": [
    {
     "name": "stdout",
     "output_type": "stream",
     "text": [
      "\n",
      "******* Luong Attention  STARTS******\n",
      "query (decoder hidden state): (batch_size, hidden size)  (1, 1024)\n",
      "values (encoder all hidden state): (batch_size, max_len, hidden size)  (1, 12, 1024)\n",
      "query_with_time_axis:(batch_size, 1, hidden size)  (1, 1, 1024)\n",
      "values_transposed:(batch_size, hidden size, max_len)  (1, 1024, 12)\n",
      "score: (batch_size, max_length, 1)  (1, 12, 1)\n",
      "attention_weights: (batch_size, max_length, 1)  (1, 12, 1)\n",
      "context_vector before reduce_sum: (batch_size, max_length, hidden_size)  (1, 12, 1024)\n",
      "context_vector after reduce_sum: (batch_size, hidden_size)  (1, 1024)\n",
      "\n",
      "******* Luong Attention ENDS******\n",
      "3\n",
      "\n",
      "******* Luong Attention  STARTS******\n",
      "query (decoder hidden state): (batch_size, hidden size)  (1, 1024)\n",
      "values (encoder all hidden state): (batch_size, max_len, hidden size)  (1, 12, 1024)\n",
      "query_with_time_axis:(batch_size, 1, hidden size)  (1, 1, 1024)\n",
      "values_transposed:(batch_size, hidden size, max_len)  (1, 1024, 12)\n",
      "score: (batch_size, max_length, 1)  (1, 12, 1)\n",
      "attention_weights: (batch_size, max_length, 1)  (1, 12, 1)\n",
      "context_vector before reduce_sum: (batch_size, max_length, hidden_size)  (1, 12, 1024)\n",
      "context_vector after reduce_sum: (batch_size, hidden_size)  (1, 1024)\n",
      "\n",
      "******* Luong Attention ENDS******\n",
      "81\n",
      "\n",
      "******* Luong Attention  STARTS******\n",
      "query (decoder hidden state): (batch_size, hidden size)  (1, 1024)\n",
      "values (encoder all hidden state): (batch_size, max_len, hidden size)  (1, 12, 1024)\n",
      "query_with_time_axis:(batch_size, 1, hidden size)  (1, 1, 1024)\n",
      "values_transposed:(batch_size, hidden size, max_len)  (1, 1024, 12)\n",
      "score: (batch_size, max_length, 1)  (1, 12, 1)\n",
      "attention_weights: (batch_size, max_length, 1)  (1, 12, 1)\n",
      "context_vector before reduce_sum: (batch_size, max_length, hidden_size)  (1, 12, 1024)\n",
      "context_vector after reduce_sum: (batch_size, hidden_size)  (1, 1024)\n",
      "\n",
      "******* Luong Attention ENDS******\n",
      "237\n",
      "\n",
      "******* Luong Attention  STARTS******\n",
      "query (decoder hidden state): (batch_size, hidden size)  (1, 1024)\n",
      "values (encoder all hidden state): (batch_size, max_len, hidden size)  (1, 12, 1024)\n",
      "query_with_time_axis:(batch_size, 1, hidden size)  (1, 1, 1024)\n",
      "values_transposed:(batch_size, hidden size, max_len)  (1, 1024, 12)\n",
      "score: (batch_size, max_length, 1)  (1, 12, 1)\n",
      "attention_weights: (batch_size, max_length, 1)  (1, 12, 1)\n",
      "context_vector before reduce_sum: (batch_size, max_length, hidden_size)  (1, 12, 1024)\n",
      "context_vector after reduce_sum: (batch_size, hidden_size)  (1, 1024)\n",
      "\n",
      "******* Luong Attention ENDS******\n",
      "2\n",
      "Input: start_ iphone seven zero thousand _end\n",
      "Predicted translation: i like blue _end \n"
     ]
    },
    {
     "name": "stderr",
     "output_type": "stream",
     "text": [
      "<ipython-input-35-71f02795d875>:9: UserWarning: FixedFormatter should only be used together with FixedLocator\n",
      "  ax.set_xticklabels([''] + sentence, fontdict=fontdict, rotation=90)\n",
      "<ipython-input-35-71f02795d875>:10: UserWarning: FixedFormatter should only be used together with FixedLocator\n",
      "  ax.set_yticklabels([''] + predicted_sentence, fontdict=fontdict)\n"
     ]
    },
    {
     "data": {
      "image/png": "[encoded data removed]",
      "text/plain": [
       "<Figure size 720x720 with 1 Axes>"
      ]
     },
     "metadata": {
      "needs_background": "light"
     },
     "output_type": "display_data"
    }
   ],
   "source": [
    "translate(u'iphone seven zero thousand')"
   ]
  },
  {
   "cell_type": "code",
   "execution_count": 50,
   "metadata": {},
   "outputs": [
    {
     "name": "stdout",
     "output_type": "stream",
     "text": [
      "\n",
      "******* Luong Attention  STARTS******\n",
      "query (decoder hidden state): (batch_size, hidden size)  (1, 1024)\n",
      "values (encoder all hidden state): (batch_size, max_len, hidden size)  (1, 12, 1024)\n",
      "query_with_time_axis:(batch_size, 1, hidden size)  (1, 1, 1024)\n",
      "values_transposed:(batch_size, hidden size, max_len)  (1, 1024, 12)\n",
      "score: (batch_size, max_length, 1)  (1, 12, 1)\n",
      "attention_weights: (batch_size, max_length, 1)  (1, 12, 1)\n",
      "context_vector before reduce_sum: (batch_size, max_length, hidden_size)  (1, 12, 1024)\n",
      "context_vector after reduce_sum: (batch_size, hidden_size)  (1, 1024)\n",
      "\n",
      "******* Luong Attention ENDS******\n",
      "3\n",
      "\n",
      "******* Luong Attention  STARTS******\n",
      "query (decoder hidden state): (batch_size, hidden size)  (1, 1024)\n",
      "values (encoder all hidden state): (batch_size, max_len, hidden size)  (1, 12, 1024)\n",
      "query_with_time_axis:(batch_size, 1, hidden size)  (1, 1, 1024)\n",
      "values_transposed:(batch_size, hidden size, max_len)  (1, 1024, 12)\n",
      "score: (batch_size, max_length, 1)  (1, 12, 1)\n",
      "attention_weights: (batch_size, max_length, 1)  (1, 12, 1)\n",
      "context_vector before reduce_sum: (batch_size, max_length, hidden_size)  (1, 12, 1024)\n",
      "context_vector after reduce_sum: (batch_size, hidden_size)  (1, 1024)\n",
      "\n",
      "******* Luong Attention ENDS******\n",
      "8\n",
      "\n",
      "******* Luong Attention  STARTS******\n",
      "query (decoder hidden state): (batch_size, hidden size)  (1, 1024)\n",
      "values (encoder all hidden state): (batch_size, max_len, hidden size)  (1, 12, 1024)\n",
      "query_with_time_axis:(batch_size, 1, hidden size)  (1, 1, 1024)\n",
      "values_transposed:(batch_size, hidden size, max_len)  (1, 1024, 12)\n",
      "score: (batch_size, max_length, 1)  (1, 12, 1)\n",
      "attention_weights: (batch_size, max_length, 1)  (1, 12, 1)\n",
      "context_vector before reduce_sum: (batch_size, max_length, hidden_size)  (1, 12, 1024)\n",
      "context_vector after reduce_sum: (batch_size, hidden_size)  (1, 1024)\n",
      "\n",
      "******* Luong Attention ENDS******\n",
      "394\n",
      "\n",
      "******* Luong Attention  STARTS******\n",
      "query (decoder hidden state): (batch_size, hidden size)  (1, 1024)\n",
      "values (encoder all hidden state): (batch_size, max_len, hidden size)  (1, 12, 1024)\n",
      "query_with_time_axis:(batch_size, 1, hidden size)  (1, 1, 1024)\n",
      "values_transposed:(batch_size, hidden size, max_len)  (1, 1024, 12)\n",
      "score: (batch_size, max_length, 1)  (1, 12, 1)\n",
      "attention_weights: (batch_size, max_length, 1)  (1, 12, 1)\n",
      "context_vector before reduce_sum: (batch_size, max_length, hidden_size)  (1, 12, 1024)\n",
      "context_vector after reduce_sum: (batch_size, hidden_size)  (1, 1024)\n",
      "\n",
      "******* Luong Attention ENDS******\n",
      "395\n",
      "\n",
      "******* Luong Attention  STARTS******\n",
      "query (decoder hidden state): (batch_size, hidden size)  (1, 1024)\n",
      "values (encoder all hidden state): (batch_size, max_len, hidden size)  (1, 12, 1024)\n",
      "query_with_time_axis:(batch_size, 1, hidden size)  (1, 1, 1024)\n",
      "values_transposed:(batch_size, hidden size, max_len)  (1, 1024, 12)\n",
      "score: (batch_size, max_length, 1)  (1, 12, 1)\n",
      "attention_weights: (batch_size, max_length, 1)  (1, 12, 1)\n",
      "context_vector before reduce_sum: (batch_size, max_length, hidden_size)  (1, 12, 1024)\n",
      "context_vector after reduce_sum: (batch_size, hidden_size)  (1, 1024)\n",
      "\n",
      "******* Luong Attention ENDS******\n",
      "396\n",
      "\n",
      "******* Luong Attention  STARTS******\n",
      "query (decoder hidden state): (batch_size, hidden size)  (1, 1024)\n",
      "values (encoder all hidden state): (batch_size, max_len, hidden size)  (1, 12, 1024)\n",
      "query_with_time_axis:(batch_size, 1, hidden size)  (1, 1, 1024)\n",
      "values_transposed:(batch_size, hidden size, max_len)  (1, 1024, 12)\n",
      "score: (batch_size, max_length, 1)  (1, 12, 1)\n",
      "attention_weights: (batch_size, max_length, 1)  (1, 12, 1)\n",
      "context_vector before reduce_sum: (batch_size, max_length, hidden_size)  (1, 12, 1024)\n",
      "context_vector after reduce_sum: (batch_size, hidden_size)  (1, 1024)\n",
      "\n",
      "******* Luong Attention ENDS******\n",
      "43\n",
      "\n",
      "******* Luong Attention  STARTS******\n",
      "query (decoder hidden state): (batch_size, hidden size)  (1, 1024)\n",
      "values (encoder all hidden state): (batch_size, max_len, hidden size)  (1, 12, 1024)\n",
      "query_with_time_axis:(batch_size, 1, hidden size)  (1, 1, 1024)\n",
      "values_transposed:(batch_size, hidden size, max_len)  (1, 1024, 12)\n",
      "score: (batch_size, max_length, 1)  (1, 12, 1)\n",
      "attention_weights: (batch_size, max_length, 1)  (1, 12, 1)\n",
      "context_vector before reduce_sum: (batch_size, max_length, hidden_size)  (1, 12, 1024)\n",
      "context_vector after reduce_sum: (batch_size, hidden_size)  (1, 1024)\n",
      "\n",
      "******* Luong Attention ENDS******\n",
      "397\n",
      "\n",
      "******* Luong Attention  STARTS******\n",
      "query (decoder hidden state): (batch_size, hidden size)  (1, 1024)\n",
      "values (encoder all hidden state): (batch_size, max_len, hidden size)  (1, 12, 1024)\n",
      "query_with_time_axis:(batch_size, 1, hidden size)  (1, 1, 1024)\n",
      "values_transposed:(batch_size, hidden size, max_len)  (1, 1024, 12)\n",
      "score: (batch_size, max_length, 1)  (1, 12, 1)\n",
      "attention_weights: (batch_size, max_length, 1)  (1, 12, 1)\n",
      "context_vector before reduce_sum: (batch_size, max_length, hidden_size)  (1, 12, 1024)\n",
      "context_vector after reduce_sum: (batch_size, hidden_size)  (1, 1024)\n",
      "\n",
      "******* Luong Attention ENDS******\n",
      "2\n",
      "Input: start_ i am upset is rain _end\n",
      "Predicted translation: i am really woried because of rain _end \n"
     ]
    },
    {
     "name": "stderr",
     "output_type": "stream",
     "text": [
      "<ipython-input-35-71f02795d875>:9: UserWarning: FixedFormatter should only be used together with FixedLocator\n",
      "  ax.set_xticklabels([''] + sentence, fontdict=fontdict, rotation=90)\n",
      "<ipython-input-35-71f02795d875>:10: UserWarning: FixedFormatter should only be used together with FixedLocator\n",
      "  ax.set_yticklabels([''] + predicted_sentence, fontdict=fontdict)\n"
     ]
    },
    {
     "data": {
      "image/png": "[encoded data removed]",
      "text/plain": [
       "<Figure size 720x720 with 1 Axes>"
      ]
     },
     "metadata": {
      "needs_background": "light"
     },
     "output_type": "display_data"
    }
   ],
   "source": [
    "translate(u'i am upset is rain')"
   ]
  },
  {
   "cell_type": "code",
   "execution_count": 51,
   "metadata": {},
   "outputs": [
    {
     "name": "stdout",
     "output_type": "stream",
     "text": [
      "\n",
      "******* Luong Attention  STARTS******\n",
      "query (decoder hidden state): (batch_size, hidden size)  (1, 1024)\n",
      "values (encoder all hidden state): (batch_size, max_len, hidden size)  (1, 12, 1024)\n",
      "query_with_time_axis:(batch_size, 1, hidden size)  (1, 1, 1024)\n",
      "values_transposed:(batch_size, hidden size, max_len)  (1, 1024, 12)\n",
      "score: (batch_size, max_length, 1)  (1, 12, 1)\n",
      "attention_weights: (batch_size, max_length, 1)  (1, 12, 1)\n",
      "context_vector before reduce_sum: (batch_size, max_length, hidden_size)  (1, 12, 1024)\n",
      "context_vector after reduce_sum: (batch_size, hidden_size)  (1, 1024)\n",
      "\n",
      "******* Luong Attention ENDS******\n",
      "3\n",
      "\n",
      "******* Luong Attention  STARTS******\n",
      "query (decoder hidden state): (batch_size, hidden size)  (1, 1024)\n",
      "values (encoder all hidden state): (batch_size, max_len, hidden size)  (1, 12, 1024)\n",
      "query_with_time_axis:(batch_size, 1, hidden size)  (1, 1, 1024)\n",
      "values_transposed:(batch_size, hidden size, max_len)  (1, 1024, 12)\n",
      "score: (batch_size, max_length, 1)  (1, 12, 1)\n",
      "attention_weights: (batch_size, max_length, 1)  (1, 12, 1)\n",
      "context_vector before reduce_sum: (batch_size, max_length, hidden_size)  (1, 12, 1024)\n",
      "context_vector after reduce_sum: (batch_size, hidden_size)  (1, 1024)\n",
      "\n",
      "******* Luong Attention ENDS******\n",
      "21\n",
      "\n",
      "******* Luong Attention  STARTS******\n",
      "query (decoder hidden state): (batch_size, hidden size)  (1, 1024)\n",
      "values (encoder all hidden state): (batch_size, max_len, hidden size)  (1, 12, 1024)\n",
      "query_with_time_axis:(batch_size, 1, hidden size)  (1, 1, 1024)\n",
      "values_transposed:(batch_size, hidden size, max_len)  (1, 1024, 12)\n",
      "score: (batch_size, max_length, 1)  (1, 12, 1)\n",
      "attention_weights: (batch_size, max_length, 1)  (1, 12, 1)\n",
      "context_vector before reduce_sum: (batch_size, max_length, hidden_size)  (1, 12, 1024)\n",
      "context_vector after reduce_sum: (batch_size, hidden_size)  (1, 1024)\n",
      "\n",
      "******* Luong Attention ENDS******\n",
      "10\n",
      "\n",
      "******* Luong Attention  STARTS******\n",
      "query (decoder hidden state): (batch_size, hidden size)  (1, 1024)\n",
      "values (encoder all hidden state): (batch_size, max_len, hidden size)  (1, 12, 1024)\n",
      "query_with_time_axis:(batch_size, 1, hidden size)  (1, 1, 1024)\n",
      "values_transposed:(batch_size, hidden size, max_len)  (1, 1024, 12)\n",
      "score: (batch_size, max_length, 1)  (1, 12, 1)\n",
      "attention_weights: (batch_size, max_length, 1)  (1, 12, 1)\n",
      "context_vector before reduce_sum: (batch_size, max_length, hidden_size)  (1, 12, 1024)\n",
      "context_vector after reduce_sum: (batch_size, hidden_size)  (1, 1024)\n",
      "\n",
      "******* Luong Attention ENDS******\n",
      "41\n",
      "\n",
      "******* Luong Attention  STARTS******\n",
      "query (decoder hidden state): (batch_size, hidden size)  (1, 1024)\n",
      "values (encoder all hidden state): (batch_size, max_len, hidden size)  (1, 12, 1024)\n",
      "query_with_time_axis:(batch_size, 1, hidden size)  (1, 1, 1024)\n",
      "values_transposed:(batch_size, hidden size, max_len)  (1, 1024, 12)\n",
      "score: (batch_size, max_length, 1)  (1, 12, 1)\n",
      "attention_weights: (batch_size, max_length, 1)  (1, 12, 1)\n",
      "context_vector before reduce_sum: (batch_size, max_length, hidden_size)  (1, 12, 1024)\n",
      "context_vector after reduce_sum: (batch_size, hidden_size)  (1, 1024)\n",
      "\n",
      "******* Luong Attention ENDS******\n",
      "2\n",
      "Input: start_ family help not me _end\n",
      "Predicted translation: i have to me _end \n"
     ]
    },
    {
     "name": "stderr",
     "output_type": "stream",
     "text": [
      "<ipython-input-35-71f02795d875>:9: UserWarning: FixedFormatter should only be used together with FixedLocator\n",
      "  ax.set_xticklabels([''] + sentence, fontdict=fontdict, rotation=90)\n",
      "<ipython-input-35-71f02795d875>:10: UserWarning: FixedFormatter should only be used together with FixedLocator\n",
      "  ax.set_yticklabels([''] + predicted_sentence, fontdict=fontdict)\n"
     ]
    },
    {
     "data": {
      "image/png": "[encoded data removed]",
      "text/plain": [
       "<Figure size 720x720 with 1 Axes>"
      ]
     },
     "metadata": {
      "needs_background": "light"
     },
     "output_type": "display_data"
    }
   ],
   "source": [
    "translate(u'family help not me')"
   ]
  },
  {
   "cell_type": "code",
   "execution_count": 52,
   "metadata": {},
   "outputs": [
    {
     "name": "stdout",
     "output_type": "stream",
     "text": [
      "\n",
      "******* Luong Attention  STARTS******\n",
      "query (decoder hidden state): (batch_size, hidden size)  (1, 1024)\n",
      "values (encoder all hidden state): (batch_size, max_len, hidden size)  (1, 12, 1024)\n",
      "query_with_time_axis:(batch_size, 1, hidden size)  (1, 1, 1024)\n",
      "values_transposed:(batch_size, hidden size, max_len)  (1, 1024, 12)\n",
      "score: (batch_size, max_length, 1)  (1, 12, 1)\n",
      "attention_weights: (batch_size, max_length, 1)  (1, 12, 1)\n",
      "context_vector before reduce_sum: (batch_size, max_length, hidden_size)  (1, 12, 1024)\n",
      "context_vector after reduce_sum: (batch_size, hidden_size)  (1, 1024)\n",
      "\n",
      "******* Luong Attention ENDS******\n",
      "3\n",
      "\n",
      "******* Luong Attention  STARTS******\n",
      "query (decoder hidden state): (batch_size, hidden size)  (1, 1024)\n",
      "values (encoder all hidden state): (batch_size, max_len, hidden size)  (1, 12, 1024)\n",
      "query_with_time_axis:(batch_size, 1, hidden size)  (1, 1, 1024)\n",
      "values_transposed:(batch_size, hidden size, max_len)  (1, 1024, 12)\n",
      "score: (batch_size, max_length, 1)  (1, 12, 1)\n",
      "attention_weights: (batch_size, max_length, 1)  (1, 12, 1)\n",
      "context_vector before reduce_sum: (batch_size, max_length, hidden_size)  (1, 12, 1024)\n",
      "context_vector after reduce_sum: (batch_size, hidden_size)  (1, 1024)\n",
      "\n",
      "******* Luong Attention ENDS******\n",
      "8\n",
      "\n",
      "******* Luong Attention  STARTS******\n",
      "query (decoder hidden state): (batch_size, hidden size)  (1, 1024)\n",
      "values (encoder all hidden state): (batch_size, max_len, hidden size)  (1, 12, 1024)\n",
      "query_with_time_axis:(batch_size, 1, hidden size)  (1, 1, 1024)\n",
      "values_transposed:(batch_size, hidden size, max_len)  (1, 1024, 12)\n",
      "score: (batch_size, max_length, 1)  (1, 12, 1)\n",
      "attention_weights: (batch_size, max_length, 1)  (1, 12, 1)\n",
      "context_vector before reduce_sum: (batch_size, max_length, hidden_size)  (1, 12, 1024)\n",
      "context_vector after reduce_sum: (batch_size, hidden_size)  (1, 1024)\n",
      "\n",
      "******* Luong Attention ENDS******\n",
      "350\n",
      "\n",
      "******* Luong Attention  STARTS******\n",
      "query (decoder hidden state): (batch_size, hidden size)  (1, 1024)\n",
      "values (encoder all hidden state): (batch_size, max_len, hidden size)  (1, 12, 1024)\n",
      "query_with_time_axis:(batch_size, 1, hidden size)  (1, 1, 1024)\n",
      "values_transposed:(batch_size, hidden size, max_len)  (1, 1024, 12)\n",
      "score: (batch_size, max_length, 1)  (1, 12, 1)\n",
      "attention_weights: (batch_size, max_length, 1)  (1, 12, 1)\n",
      "context_vector before reduce_sum: (batch_size, max_length, hidden_size)  (1, 12, 1024)\n",
      "context_vector after reduce_sum: (batch_size, hidden_size)  (1, 1024)\n",
      "\n",
      "******* Luong Attention ENDS******\n",
      "2\n",
      "Input: start_ sorry _end\n",
      "Predicted translation: i am sorry _end \n"
     ]
    },
    {
     "name": "stderr",
     "output_type": "stream",
     "text": [
      "<ipython-input-35-71f02795d875>:9: UserWarning: FixedFormatter should only be used together with FixedLocator\n",
      "  ax.set_xticklabels([''] + sentence, fontdict=fontdict, rotation=90)\n",
      "<ipython-input-35-71f02795d875>:10: UserWarning: FixedFormatter should only be used together with FixedLocator\n",
      "  ax.set_yticklabels([''] + predicted_sentence, fontdict=fontdict)\n"
     ]
    },
    {
     "data": {
      "image/png": "[encoded data removed]",
      "text/plain": [
       "<Figure size 720x720 with 1 Axes>"
      ]
     },
     "metadata": {
      "needs_background": "light"
     },
     "output_type": "display_data"
    }
   ],
   "source": [
    "translate(u'sorry')"
   ]
  },
  {
   "cell_type": "code",
   "execution_count": 53,
   "metadata": {},
   "outputs": [
    {
     "name": "stdout",
     "output_type": "stream",
     "text": [
      "\n",
      "******* Luong Attention  STARTS******\n",
      "query (decoder hidden state): (batch_size, hidden size)  (1, 1024)\n",
      "values (encoder all hidden state): (batch_size, max_len, hidden size)  (1, 12, 1024)\n",
      "query_with_time_axis:(batch_size, 1, hidden size)  (1, 1, 1024)\n",
      "values_transposed:(batch_size, hidden size, max_len)  (1, 1024, 12)\n",
      "score: (batch_size, max_length, 1)  (1, 12, 1)\n",
      "attention_weights: (batch_size, max_length, 1)  (1, 12, 1)\n",
      "context_vector before reduce_sum: (batch_size, max_length, hidden_size)  (1, 12, 1024)\n",
      "context_vector after reduce_sum: (batch_size, hidden_size)  (1, 1024)\n",
      "\n",
      "******* Luong Attention ENDS******\n",
      "19\n",
      "\n",
      "******* Luong Attention  STARTS******\n",
      "query (decoder hidden state): (batch_size, hidden size)  (1, 1024)\n",
      "values (encoder all hidden state): (batch_size, max_len, hidden size)  (1, 12, 1024)\n",
      "query_with_time_axis:(batch_size, 1, hidden size)  (1, 1, 1024)\n",
      "values_transposed:(batch_size, hidden size, max_len)  (1, 1024, 12)\n",
      "score: (batch_size, max_length, 1)  (1, 12, 1)\n",
      "attention_weights: (batch_size, max_length, 1)  (1, 12, 1)\n",
      "context_vector before reduce_sum: (batch_size, max_length, hidden_size)  (1, 12, 1024)\n",
      "context_vector after reduce_sum: (batch_size, hidden_size)  (1, 1024)\n",
      "\n",
      "******* Luong Attention ENDS******\n",
      "4\n",
      "\n",
      "******* Luong Attention  STARTS******\n",
      "query (decoder hidden state): (batch_size, hidden size)  (1, 1024)\n",
      "values (encoder all hidden state): (batch_size, max_len, hidden size)  (1, 12, 1024)\n",
      "query_with_time_axis:(batch_size, 1, hidden size)  (1, 1, 1024)\n",
      "values_transposed:(batch_size, hidden size, max_len)  (1, 1024, 12)\n",
      "score: (batch_size, max_length, 1)  (1, 12, 1)\n",
      "attention_weights: (batch_size, max_length, 1)  (1, 12, 1)\n",
      "context_vector before reduce_sum: (batch_size, max_length, hidden_size)  (1, 12, 1024)\n",
      "context_vector after reduce_sum: (batch_size, hidden_size)  (1, 1024)\n",
      "\n",
      "******* Luong Attention ENDS******\n",
      "11\n",
      "\n",
      "******* Luong Attention  STARTS******\n",
      "query (decoder hidden state): (batch_size, hidden size)  (1, 1024)\n",
      "values (encoder all hidden state): (batch_size, max_len, hidden size)  (1, 12, 1024)\n",
      "query_with_time_axis:(batch_size, 1, hidden size)  (1, 1, 1024)\n",
      "values_transposed:(batch_size, hidden size, max_len)  (1, 1024, 12)\n",
      "score: (batch_size, max_length, 1)  (1, 12, 1)\n",
      "attention_weights: (batch_size, max_length, 1)  (1, 12, 1)\n",
      "context_vector before reduce_sum: (batch_size, max_length, hidden_size)  (1, 12, 1024)\n",
      "context_vector after reduce_sum: (batch_size, hidden_size)  (1, 1024)\n",
      "\n",
      "******* Luong Attention ENDS******\n",
      "9\n",
      "\n",
      "******* Luong Attention  STARTS******\n",
      "query (decoder hidden state): (batch_size, hidden size)  (1, 1024)\n",
      "values (encoder all hidden state): (batch_size, max_len, hidden size)  (1, 12, 1024)\n",
      "query_with_time_axis:(batch_size, 1, hidden size)  (1, 1, 1024)\n",
      "values_transposed:(batch_size, hidden size, max_len)  (1, 1024, 12)\n",
      "score: (batch_size, max_length, 1)  (1, 12, 1)\n",
      "attention_weights: (batch_size, max_length, 1)  (1, 12, 1)\n",
      "context_vector before reduce_sum: (batch_size, max_length, hidden_size)  (1, 12, 1024)\n",
      "context_vector after reduce_sum: (batch_size, hidden_size)  (1, 1024)\n",
      "\n",
      "******* Luong Attention ENDS******\n",
      "52\n",
      "\n",
      "******* Luong Attention  STARTS******\n",
      "query (decoder hidden state): (batch_size, hidden size)  (1, 1024)\n",
      "values (encoder all hidden state): (batch_size, max_len, hidden size)  (1, 12, 1024)\n",
      "query_with_time_axis:(batch_size, 1, hidden size)  (1, 1, 1024)\n",
      "values_transposed:(batch_size, hidden size, max_len)  (1, 1024, 12)\n",
      "score: (batch_size, max_length, 1)  (1, 12, 1)\n",
      "attention_weights: (batch_size, max_length, 1)  (1, 12, 1)\n",
      "context_vector before reduce_sum: (batch_size, max_length, hidden_size)  (1, 12, 1024)\n",
      "context_vector after reduce_sum: (batch_size, hidden_size)  (1, 1024)\n",
      "\n",
      "******* Luong Attention ENDS******\n",
      "2\n",
      "Input: start_ morning _end\n",
      "Predicted translation: it is in the morning _end \n"
     ]
    },
    {
     "name": "stderr",
     "output_type": "stream",
     "text": [
      "<ipython-input-35-71f02795d875>:9: UserWarning: FixedFormatter should only be used together with FixedLocator\n",
      "  ax.set_xticklabels([''] + sentence, fontdict=fontdict, rotation=90)\n",
      "<ipython-input-35-71f02795d875>:10: UserWarning: FixedFormatter should only be used together with FixedLocator\n",
      "  ax.set_yticklabels([''] + predicted_sentence, fontdict=fontdict)\n"
     ]
    },
    {
     "data": {
      "image/png": "[encoded data removed]",
      "text/plain": [
       "<Figure size 720x720 with 1 Axes>"
      ]
     },
     "metadata": {
      "needs_background": "light"
     },
     "output_type": "display_data"
    }
   ],
   "source": [
    "translate(u'morning 9')"
   ]
  },
  {
   "cell_type": "code",
   "execution_count": 54,
   "metadata": {},
   "outputs": [
    {
     "name": "stdout",
     "output_type": "stream",
     "text": [
      "\n",
      "******* Luong Attention  STARTS******\n",
      "query (decoder hidden state): (batch_size, hidden size)  (1, 1024)\n",
      "values (encoder all hidden state): (batch_size, max_len, hidden size)  (1, 12, 1024)\n",
      "query_with_time_axis:(batch_size, 1, hidden size)  (1, 1, 1024)\n",
      "values_transposed:(batch_size, hidden size, max_len)  (1, 1024, 12)\n",
      "score: (batch_size, max_length, 1)  (1, 12, 1)\n",
      "attention_weights: (batch_size, max_length, 1)  (1, 12, 1)\n",
      "context_vector before reduce_sum: (batch_size, max_length, hidden_size)  (1, 12, 1024)\n",
      "context_vector after reduce_sum: (batch_size, hidden_size)  (1, 1024)\n",
      "\n",
      "******* Luong Attention ENDS******\n",
      "3\n",
      "\n",
      "******* Luong Attention  STARTS******\n",
      "query (decoder hidden state): (batch_size, hidden size)  (1, 1024)\n",
      "values (encoder all hidden state): (batch_size, max_len, hidden size)  (1, 12, 1024)\n",
      "query_with_time_axis:(batch_size, 1, hidden size)  (1, 1, 1024)\n",
      "values_transposed:(batch_size, hidden size, max_len)  (1, 1024, 12)\n",
      "score: (batch_size, max_length, 1)  (1, 12, 1)\n",
      "attention_weights: (batch_size, max_length, 1)  (1, 12, 1)\n",
      "context_vector before reduce_sum: (batch_size, max_length, hidden_size)  (1, 12, 1024)\n",
      "context_vector after reduce_sum: (batch_size, hidden_size)  (1, 1024)\n",
      "\n",
      "******* Luong Attention ENDS******\n",
      "8\n",
      "\n",
      "******* Luong Attention  STARTS******\n",
      "query (decoder hidden state): (batch_size, hidden size)  (1, 1024)\n",
      "values (encoder all hidden state): (batch_size, max_len, hidden size)  (1, 12, 1024)\n",
      "query_with_time_axis:(batch_size, 1, hidden size)  (1, 1, 1024)\n",
      "values_transposed:(batch_size, hidden size, max_len)  (1, 1024, 12)\n",
      "score: (batch_size, max_length, 1)  (1, 12, 1)\n",
      "attention_weights: (batch_size, max_length, 1)  (1, 12, 1)\n",
      "context_vector before reduce_sum: (batch_size, max_length, hidden_size)  (1, 12, 1024)\n",
      "context_vector after reduce_sum: (batch_size, hidden_size)  (1, 1024)\n",
      "\n",
      "******* Luong Attention ENDS******\n",
      "373\n",
      "\n",
      "******* Luong Attention  STARTS******\n",
      "query (decoder hidden state): (batch_size, hidden size)  (1, 1024)\n",
      "values (encoder all hidden state): (batch_size, max_len, hidden size)  (1, 12, 1024)\n",
      "query_with_time_axis:(batch_size, 1, hidden size)  (1, 1, 1024)\n",
      "values_transposed:(batch_size, hidden size, max_len)  (1, 1024, 12)\n",
      "score: (batch_size, max_length, 1)  (1, 12, 1)\n",
      "attention_weights: (batch_size, max_length, 1)  (1, 12, 1)\n",
      "context_vector before reduce_sum: (batch_size, max_length, hidden_size)  (1, 12, 1024)\n",
      "context_vector after reduce_sum: (batch_size, hidden_size)  (1, 1024)\n",
      "\n",
      "******* Luong Attention ENDS******\n",
      "2\n",
      "Input: start_ i engineer _end\n",
      "Predicted translation: i am engineer _end \n"
     ]
    },
    {
     "name": "stderr",
     "output_type": "stream",
     "text": [
      "<ipython-input-35-71f02795d875>:9: UserWarning: FixedFormatter should only be used together with FixedLocator\n",
      "  ax.set_xticklabels([''] + sentence, fontdict=fontdict, rotation=90)\n",
      "<ipython-input-35-71f02795d875>:10: UserWarning: FixedFormatter should only be used together with FixedLocator\n",
      "  ax.set_yticklabels([''] + predicted_sentence, fontdict=fontdict)\n"
     ]
    },
    {
     "data": {
      "image/png": "[encoded data removed]",
      "text/plain": [
       "<Figure size 720x720 with 1 Axes>"
      ]
     },
     "metadata": {
      "needs_background": "light"
     },
     "output_type": "display_data"
    }
   ],
   "source": [
    "translate(u'i engineer')"
   ]
  },
  {
   "cell_type": "code",
   "execution_count": 55,
   "metadata": {},
   "outputs": [
    {
     "name": "stdout",
     "output_type": "stream",
     "text": [
      "\n",
      "******* Luong Attention  STARTS******\n",
      "query (decoder hidden state): (batch_size, hidden size)  (1, 1024)\n",
      "values (encoder all hidden state): (batch_size, max_len, hidden size)  (1, 12, 1024)\n",
      "query_with_time_axis:(batch_size, 1, hidden size)  (1, 1, 1024)\n",
      "values_transposed:(batch_size, hidden size, max_len)  (1, 1024, 12)\n",
      "score: (batch_size, max_length, 1)  (1, 12, 1)\n",
      "attention_weights: (batch_size, max_length, 1)  (1, 12, 1)\n",
      "context_vector before reduce_sum: (batch_size, max_length, hidden_size)  (1, 12, 1024)\n",
      "context_vector after reduce_sum: (batch_size, hidden_size)  (1, 1024)\n",
      "\n",
      "******* Luong Attention ENDS******\n",
      "87\n",
      "\n",
      "******* Luong Attention  STARTS******\n",
      "query (decoder hidden state): (batch_size, hidden size)  (1, 1024)\n",
      "values (encoder all hidden state): (batch_size, max_len, hidden size)  (1, 12, 1024)\n",
      "query_with_time_axis:(batch_size, 1, hidden size)  (1, 1, 1024)\n",
      "values_transposed:(batch_size, hidden size, max_len)  (1, 1024, 12)\n",
      "score: (batch_size, max_length, 1)  (1, 12, 1)\n",
      "attention_weights: (batch_size, max_length, 1)  (1, 12, 1)\n",
      "context_vector before reduce_sum: (batch_size, max_length, hidden_size)  (1, 12, 1024)\n",
      "context_vector after reduce_sum: (batch_size, hidden_size)  (1, 1024)\n",
      "\n",
      "******* Luong Attention ENDS******\n",
      "3\n",
      "\n",
      "******* Luong Attention  STARTS******\n",
      "query (decoder hidden state): (batch_size, hidden size)  (1, 1024)\n",
      "values (encoder all hidden state): (batch_size, max_len, hidden size)  (1, 12, 1024)\n",
      "query_with_time_axis:(batch_size, 1, hidden size)  (1, 1, 1024)\n",
      "values_transposed:(batch_size, hidden size, max_len)  (1, 1024, 12)\n",
      "score: (batch_size, max_length, 1)  (1, 12, 1)\n",
      "attention_weights: (batch_size, max_length, 1)  (1, 12, 1)\n",
      "context_vector before reduce_sum: (batch_size, max_length, hidden_size)  (1, 12, 1024)\n",
      "context_vector after reduce_sum: (batch_size, hidden_size)  (1, 1024)\n",
      "\n",
      "******* Luong Attention ENDS******\n",
      "8\n",
      "\n",
      "******* Luong Attention  STARTS******\n",
      "query (decoder hidden state): (batch_size, hidden size)  (1, 1024)\n",
      "values (encoder all hidden state): (batch_size, max_len, hidden size)  (1, 12, 1024)\n",
      "query_with_time_axis:(batch_size, 1, hidden size)  (1, 1, 1024)\n",
      "values_transposed:(batch_size, hidden size, max_len)  (1, 1024, 12)\n",
      "score: (batch_size, max_length, 1)  (1, 12, 1)\n",
      "attention_weights: (batch_size, max_length, 1)  (1, 12, 1)\n",
      "context_vector before reduce_sum: (batch_size, max_length, hidden_size)  (1, 12, 1024)\n",
      "context_vector after reduce_sum: (batch_size, hidden_size)  (1, 1024)\n",
      "\n",
      "******* Luong Attention ENDS******\n",
      "94\n",
      "\n",
      "******* Luong Attention  STARTS******\n",
      "query (decoder hidden state): (batch_size, hidden size)  (1, 1024)\n",
      "values (encoder all hidden state): (batch_size, max_len, hidden size)  (1, 12, 1024)\n",
      "query_with_time_axis:(batch_size, 1, hidden size)  (1, 1, 1024)\n",
      "values_transposed:(batch_size, hidden size, max_len)  (1, 1024, 12)\n",
      "score: (batch_size, max_length, 1)  (1, 12, 1)\n",
      "attention_weights: (batch_size, max_length, 1)  (1, 12, 1)\n",
      "context_vector before reduce_sum: (batch_size, max_length, hidden_size)  (1, 12, 1024)\n",
      "context_vector after reduce_sum: (batch_size, hidden_size)  (1, 1024)\n",
      "\n",
      "******* Luong Attention ENDS******\n",
      "2\n",
      "Input: start_ i think wait _end\n",
      "Predicted translation: wait i am thinking _end \n"
     ]
    },
    {
     "name": "stderr",
     "output_type": "stream",
     "text": [
      "<ipython-input-35-71f02795d875>:9: UserWarning: FixedFormatter should only be used together with FixedLocator\n",
      "  ax.set_xticklabels([''] + sentence, fontdict=fontdict, rotation=90)\n",
      "<ipython-input-35-71f02795d875>:10: UserWarning: FixedFormatter should only be used together with FixedLocator\n",
      "  ax.set_yticklabels([''] + predicted_sentence, fontdict=fontdict)\n"
     ]
    },
    {
     "data": {
      "image/png": "[encoded data removed]",
      "text/plain": [
       "<Figure size 720x720 with 1 Axes>"
      ]
     },
     "metadata": {
      "needs_background": "light"
     },
     "output_type": "display_data"
    }
   ],
   "source": [
    "translate(u'i think wait')"
   ]
  },
  {
   "cell_type": "code",
   "execution_count": 56,
   "metadata": {},
   "outputs": [
    {
     "name": "stdout",
     "output_type": "stream",
     "text": [
      "\n",
      "******* Luong Attention  STARTS******\n",
      "query (decoder hidden state): (batch_size, hidden size)  (1, 1024)\n",
      "values (encoder all hidden state): (batch_size, max_len, hidden size)  (1, 12, 1024)\n",
      "query_with_time_axis:(batch_size, 1, hidden size)  (1, 1, 1024)\n",
      "values_transposed:(batch_size, hidden size, max_len)  (1, 1024, 12)\n",
      "score: (batch_size, max_length, 1)  (1, 12, 1)\n",
      "attention_weights: (batch_size, max_length, 1)  (1, 12, 1)\n",
      "context_vector before reduce_sum: (batch_size, max_length, hidden_size)  (1, 12, 1024)\n",
      "context_vector after reduce_sum: (batch_size, hidden_size)  (1, 1024)\n",
      "\n",
      "******* Luong Attention ENDS******\n",
      "28\n",
      "\n",
      "******* Luong Attention  STARTS******\n",
      "query (decoder hidden state): (batch_size, hidden size)  (1, 1024)\n",
      "values (encoder all hidden state): (batch_size, max_len, hidden size)  (1, 12, 1024)\n",
      "query_with_time_axis:(batch_size, 1, hidden size)  (1, 1, 1024)\n",
      "values_transposed:(batch_size, hidden size, max_len)  (1, 1024, 12)\n",
      "score: (batch_size, max_length, 1)  (1, 12, 1)\n",
      "attention_weights: (batch_size, max_length, 1)  (1, 12, 1)\n",
      "context_vector before reduce_sum: (batch_size, max_length, hidden_size)  (1, 12, 1024)\n",
      "context_vector after reduce_sum: (batch_size, hidden_size)  (1, 1024)\n",
      "\n",
      "******* Luong Attention ENDS******\n",
      "189\n",
      "\n",
      "******* Luong Attention  STARTS******\n",
      "query (decoder hidden state): (batch_size, hidden size)  (1, 1024)\n",
      "values (encoder all hidden state): (batch_size, max_len, hidden size)  (1, 12, 1024)\n",
      "query_with_time_axis:(batch_size, 1, hidden size)  (1, 1, 1024)\n",
      "values_transposed:(batch_size, hidden size, max_len)  (1, 1024, 12)\n",
      "score: (batch_size, max_length, 1)  (1, 12, 1)\n",
      "attention_weights: (batch_size, max_length, 1)  (1, 12, 1)\n",
      "context_vector before reduce_sum: (batch_size, max_length, hidden_size)  (1, 12, 1024)\n",
      "context_vector after reduce_sum: (batch_size, hidden_size)  (1, 1024)\n",
      "\n",
      "******* Luong Attention ENDS******\n",
      "191\n",
      "\n",
      "******* Luong Attention  STARTS******\n",
      "query (decoder hidden state): (batch_size, hidden size)  (1, 1024)\n",
      "values (encoder all hidden state): (batch_size, max_len, hidden size)  (1, 12, 1024)\n",
      "query_with_time_axis:(batch_size, 1, hidden size)  (1, 1, 1024)\n",
      "values_transposed:(batch_size, hidden size, max_len)  (1, 1024, 12)\n",
      "score: (batch_size, max_length, 1)  (1, 12, 1)\n",
      "attention_weights: (batch_size, max_length, 1)  (1, 12, 1)\n",
      "context_vector before reduce_sum: (batch_size, max_length, hidden_size)  (1, 12, 1024)\n",
      "context_vector after reduce_sum: (batch_size, hidden_size)  (1, 1024)\n",
      "\n",
      "******* Luong Attention ENDS******\n",
      "364\n",
      "\n",
      "******* Luong Attention  STARTS******\n",
      "query (decoder hidden state): (batch_size, hidden size)  (1, 1024)\n",
      "values (encoder all hidden state): (batch_size, max_len, hidden size)  (1, 12, 1024)\n",
      "query_with_time_axis:(batch_size, 1, hidden size)  (1, 1, 1024)\n",
      "values_transposed:(batch_size, hidden size, max_len)  (1, 1024, 12)\n",
      "score: (batch_size, max_length, 1)  (1, 12, 1)\n",
      "attention_weights: (batch_size, max_length, 1)  (1, 12, 1)\n",
      "context_vector before reduce_sum: (batch_size, max_length, hidden_size)  (1, 12, 1024)\n",
      "context_vector after reduce_sum: (batch_size, hidden_size)  (1, 1024)\n",
      "\n",
      "******* Luong Attention ENDS******\n",
      "2\n",
      "Input: start_ call ambulance _end\n",
      "Predicted translation: please call an ambulance _end \n"
     ]
    },
    {
     "name": "stderr",
     "output_type": "stream",
     "text": [
      "<ipython-input-35-71f02795d875>:9: UserWarning: FixedFormatter should only be used together with FixedLocator\n",
      "  ax.set_xticklabels([''] + sentence, fontdict=fontdict, rotation=90)\n",
      "<ipython-input-35-71f02795d875>:10: UserWarning: FixedFormatter should only be used together with FixedLocator\n",
      "  ax.set_yticklabels([''] + predicted_sentence, fontdict=fontdict)\n"
     ]
    },
    {
     "data": {
      "image/png": "[encoded data removed]",
      "text/plain": [
       "<Figure size 720x720 with 1 Axes>"
      ]
     },
     "metadata": {
      "needs_background": "light"
     },
     "output_type": "display_data"
    }
   ],
   "source": [
    "translate(u'call ambulance')"
   ]
  },
  {
   "cell_type": "code",
   "execution_count": 57,
   "metadata": {},
   "outputs": [
    {
     "name": "stdout",
     "output_type": "stream",
     "text": [
      "\n",
      "******* Luong Attention  STARTS******\n",
      "query (decoder hidden state): (batch_size, hidden size)  (1, 1024)\n",
      "values (encoder all hidden state): (batch_size, max_len, hidden size)  (1, 12, 1024)\n",
      "query_with_time_axis:(batch_size, 1, hidden size)  (1, 1, 1024)\n",
      "values_transposed:(batch_size, hidden size, max_len)  (1, 1024, 12)\n",
      "score: (batch_size, max_length, 1)  (1, 12, 1)\n",
      "attention_weights: (batch_size, max_length, 1)  (1, 12, 1)\n",
      "context_vector before reduce_sum: (batch_size, max_length, hidden_size)  (1, 12, 1024)\n",
      "context_vector after reduce_sum: (batch_size, hidden_size)  (1, 1024)\n",
      "\n",
      "******* Luong Attention ENDS******\n",
      "358\n",
      "\n",
      "******* Luong Attention  STARTS******\n",
      "query (decoder hidden state): (batch_size, hidden size)  (1, 1024)\n",
      "values (encoder all hidden state): (batch_size, max_len, hidden size)  (1, 12, 1024)\n",
      "query_with_time_axis:(batch_size, 1, hidden size)  (1, 1, 1024)\n",
      "values_transposed:(batch_size, hidden size, max_len)  (1, 1024, 12)\n",
      "score: (batch_size, max_length, 1)  (1, 12, 1)\n",
      "attention_weights: (batch_size, max_length, 1)  (1, 12, 1)\n",
      "context_vector before reduce_sum: (batch_size, max_length, hidden_size)  (1, 12, 1024)\n",
      "context_vector after reduce_sum: (batch_size, hidden_size)  (1, 1024)\n",
      "\n",
      "******* Luong Attention ENDS******\n",
      "359\n",
      "\n",
      "******* Luong Attention  STARTS******\n",
      "query (decoder hidden state): (batch_size, hidden size)  (1, 1024)\n",
      "values (encoder all hidden state): (batch_size, max_len, hidden size)  (1, 12, 1024)\n",
      "query_with_time_axis:(batch_size, 1, hidden size)  (1, 1, 1024)\n",
      "values_transposed:(batch_size, hidden size, max_len)  (1, 1024, 12)\n",
      "score: (batch_size, max_length, 1)  (1, 12, 1)\n",
      "attention_weights: (batch_size, max_length, 1)  (1, 12, 1)\n",
      "context_vector before reduce_sum: (batch_size, max_length, hidden_size)  (1, 12, 1024)\n",
      "context_vector after reduce_sum: (batch_size, hidden_size)  (1, 1024)\n",
      "\n",
      "******* Luong Attention ENDS******\n",
      "28\n",
      "\n",
      "******* Luong Attention  STARTS******\n",
      "query (decoder hidden state): (batch_size, hidden size)  (1, 1024)\n",
      "values (encoder all hidden state): (batch_size, max_len, hidden size)  (1, 12, 1024)\n",
      "query_with_time_axis:(batch_size, 1, hidden size)  (1, 1, 1024)\n",
      "values_transposed:(batch_size, hidden size, max_len)  (1, 1024, 12)\n",
      "score: (batch_size, max_length, 1)  (1, 12, 1)\n",
      "attention_weights: (batch_size, max_length, 1)  (1, 12, 1)\n",
      "context_vector before reduce_sum: (batch_size, max_length, hidden_size)  (1, 12, 1024)\n",
      "context_vector after reduce_sum: (batch_size, hidden_size)  (1, 1024)\n",
      "\n",
      "******* Luong Attention ENDS******\n",
      "2\n",
      "Input: start_ please smoking no _end\n",
      "Predicted translation: no smoking please _end \n"
     ]
    },
    {
     "name": "stderr",
     "output_type": "stream",
     "text": [
      "<ipython-input-35-71f02795d875>:9: UserWarning: FixedFormatter should only be used together with FixedLocator\n",
      "  ax.set_xticklabels([''] + sentence, fontdict=fontdict, rotation=90)\n",
      "<ipython-input-35-71f02795d875>:10: UserWarning: FixedFormatter should only be used together with FixedLocator\n",
      "  ax.set_yticklabels([''] + predicted_sentence, fontdict=fontdict)\n"
     ]
    },
    {
     "data": {
      "image/png": "[encoded data removed]",
      "text/plain": [
       "<Figure size 720x720 with 1 Axes>"
      ]
     },
     "metadata": {
      "needs_background": "light"
     },
     "output_type": "display_data"
    }
   ],
   "source": [
    "translate(u'please smoking no')"
   ]
  },
  {
   "cell_type": "code",
   "execution_count": 58,
   "metadata": {},
   "outputs": [
    {
     "name": "stdout",
     "output_type": "stream",
     "text": [
      "\n",
      "******* Luong Attention  STARTS******\n",
      "query (decoder hidden state): (batch_size, hidden size)  (1, 1024)\n",
      "values (encoder all hidden state): (batch_size, max_len, hidden size)  (1, 12, 1024)\n",
      "query_with_time_axis:(batch_size, 1, hidden size)  (1, 1, 1024)\n",
      "values_transposed:(batch_size, hidden size, max_len)  (1, 1024, 12)\n",
      "score: (batch_size, max_length, 1)  (1, 12, 1)\n",
      "attention_weights: (batch_size, max_length, 1)  (1, 12, 1)\n",
      "context_vector before reduce_sum: (batch_size, max_length, hidden_size)  (1, 12, 1024)\n",
      "context_vector after reduce_sum: (batch_size, hidden_size)  (1, 1024)\n",
      "\n",
      "******* Luong Attention ENDS******\n",
      "27\n",
      "\n",
      "******* Luong Attention  STARTS******\n",
      "query (decoder hidden state): (batch_size, hidden size)  (1, 1024)\n",
      "values (encoder all hidden state): (batch_size, max_len, hidden size)  (1, 12, 1024)\n",
      "query_with_time_axis:(batch_size, 1, hidden size)  (1, 1, 1024)\n",
      "values_transposed:(batch_size, hidden size, max_len)  (1, 1024, 12)\n",
      "score: (batch_size, max_length, 1)  (1, 12, 1)\n",
      "attention_weights: (batch_size, max_length, 1)  (1, 12, 1)\n",
      "context_vector before reduce_sum: (batch_size, max_length, hidden_size)  (1, 12, 1024)\n",
      "context_vector after reduce_sum: (batch_size, hidden_size)  (1, 1024)\n",
      "\n",
      "******* Luong Attention ENDS******\n",
      "16\n",
      "\n",
      "******* Luong Attention  STARTS******\n",
      "query (decoder hidden state): (batch_size, hidden size)  (1, 1024)\n",
      "values (encoder all hidden state): (batch_size, max_len, hidden size)  (1, 12, 1024)\n",
      "query_with_time_axis:(batch_size, 1, hidden size)  (1, 1, 1024)\n",
      "values_transposed:(batch_size, hidden size, max_len)  (1, 1024, 12)\n",
      "score: (batch_size, max_length, 1)  (1, 12, 1)\n",
      "attention_weights: (batch_size, max_length, 1)  (1, 12, 1)\n",
      "context_vector before reduce_sum: (batch_size, max_length, hidden_size)  (1, 12, 1024)\n",
      "context_vector after reduce_sum: (batch_size, hidden_size)  (1, 1024)\n",
      "\n",
      "******* Luong Attention ENDS******\n",
      "22\n",
      "\n",
      "******* Luong Attention  STARTS******\n",
      "query (decoder hidden state): (batch_size, hidden size)  (1, 1024)\n",
      "values (encoder all hidden state): (batch_size, max_len, hidden size)  (1, 12, 1024)\n",
      "query_with_time_axis:(batch_size, 1, hidden size)  (1, 1, 1024)\n",
      "values_transposed:(batch_size, hidden size, max_len)  (1, 1024, 12)\n",
      "score: (batch_size, max_length, 1)  (1, 12, 1)\n",
      "attention_weights: (batch_size, max_length, 1)  (1, 12, 1)\n",
      "context_vector before reduce_sum: (batch_size, max_length, hidden_size)  (1, 12, 1024)\n",
      "context_vector after reduce_sum: (batch_size, hidden_size)  (1, 1024)\n",
      "\n",
      "******* Luong Attention ENDS******\n",
      "10\n",
      "\n",
      "******* Luong Attention  STARTS******\n",
      "query (decoder hidden state): (batch_size, hidden size)  (1, 1024)\n",
      "values (encoder all hidden state): (batch_size, max_len, hidden size)  (1, 12, 1024)\n",
      "query_with_time_axis:(batch_size, 1, hidden size)  (1, 1, 1024)\n",
      "values_transposed:(batch_size, hidden size, max_len)  (1, 1024, 12)\n",
      "score: (batch_size, max_length, 1)  (1, 12, 1)\n",
      "attention_weights: (batch_size, max_length, 1)  (1, 12, 1)\n",
      "context_vector before reduce_sum: (batch_size, max_length, hidden_size)  (1, 12, 1024)\n",
      "context_vector after reduce_sum: (batch_size, hidden_size)  (1, 1024)\n",
      "\n",
      "******* Luong Attention ENDS******\n",
      "30\n",
      "\n",
      "******* Luong Attention  STARTS******\n",
      "query (decoder hidden state): (batch_size, hidden size)  (1, 1024)\n",
      "values (encoder all hidden state): (batch_size, max_len, hidden size)  (1, 12, 1024)\n",
      "query_with_time_axis:(batch_size, 1, hidden size)  (1, 1, 1024)\n",
      "values_transposed:(batch_size, hidden size, max_len)  (1, 1024, 12)\n",
      "score: (batch_size, max_length, 1)  (1, 12, 1)\n",
      "attention_weights: (batch_size, max_length, 1)  (1, 12, 1)\n",
      "context_vector before reduce_sum: (batch_size, max_length, hidden_size)  (1, 12, 1024)\n",
      "context_vector after reduce_sum: (batch_size, hidden_size)  (1, 1024)\n",
      "\n",
      "******* Luong Attention ENDS******\n",
      "5\n",
      "\n",
      "******* Luong Attention  STARTS******\n",
      "query (decoder hidden state): (batch_size, hidden size)  (1, 1024)\n",
      "values (encoder all hidden state): (batch_size, max_len, hidden size)  (1, 12, 1024)\n",
      "query_with_time_axis:(batch_size, 1, hidden size)  (1, 1, 1024)\n",
      "values_transposed:(batch_size, hidden size, max_len)  (1, 1024, 12)\n",
      "score: (batch_size, max_length, 1)  (1, 12, 1)\n",
      "attention_weights: (batch_size, max_length, 1)  (1, 12, 1)\n",
      "context_vector before reduce_sum: (batch_size, max_length, hidden_size)  (1, 12, 1024)\n",
      "context_vector after reduce_sum: (batch_size, hidden_size)  (1, 1024)\n",
      "\n",
      "******* Luong Attention ENDS******\n",
      "2\n",
      "Input: start_ he go school after yes-no _end\n",
      "Predicted translation: will he go to school ? _end \n"
     ]
    },
    {
     "name": "stderr",
     "output_type": "stream",
     "text": [
      "<ipython-input-35-71f02795d875>:9: UserWarning: FixedFormatter should only be used together with FixedLocator\n",
      "  ax.set_xticklabels([''] + sentence, fontdict=fontdict, rotation=90)\n",
      "<ipython-input-35-71f02795d875>:10: UserWarning: FixedFormatter should only be used together with FixedLocator\n",
      "  ax.set_yticklabels([''] + predicted_sentence, fontdict=fontdict)\n"
     ]
    },
    {
     "data": {
      "image/png": "[encoded data removed]",
      "text/plain": [
       "<Figure size 720x720 with 1 Axes>"
      ]
     },
     "metadata": {
      "needs_background": "light"
     },
     "output_type": "display_data"
    }
   ],
   "source": [
    "translate(u'he go school after yes-no')"
   ]
  },
  {
   "cell_type": "code",
   "execution_count": 59,
   "metadata": {},
   "outputs": [
    {
     "name": "stdout",
     "output_type": "stream",
     "text": [
      "\n",
      "******* Luong Attention  STARTS******\n",
      "query (decoder hidden state): (batch_size, hidden size)  (1, 1024)\n",
      "values (encoder all hidden state): (batch_size, max_len, hidden size)  (1, 12, 1024)\n",
      "query_with_time_axis:(batch_size, 1, hidden size)  (1, 1, 1024)\n",
      "values_transposed:(batch_size, hidden size, max_len)  (1, 1024, 12)\n",
      "score: (batch_size, max_length, 1)  (1, 12, 1)\n",
      "attention_weights: (batch_size, max_length, 1)  (1, 12, 1)\n",
      "context_vector before reduce_sum: (batch_size, max_length, hidden_size)  (1, 12, 1024)\n",
      "context_vector after reduce_sum: (batch_size, hidden_size)  (1, 1024)\n",
      "\n",
      "******* Luong Attention ENDS******\n",
      "3\n",
      "\n",
      "******* Luong Attention  STARTS******\n",
      "query (decoder hidden state): (batch_size, hidden size)  (1, 1024)\n",
      "values (encoder all hidden state): (batch_size, max_len, hidden size)  (1, 12, 1024)\n",
      "query_with_time_axis:(batch_size, 1, hidden size)  (1, 1, 1024)\n",
      "values_transposed:(batch_size, hidden size, max_len)  (1, 1024, 12)\n",
      "score: (batch_size, max_length, 1)  (1, 12, 1)\n",
      "attention_weights: (batch_size, max_length, 1)  (1, 12, 1)\n",
      "context_vector before reduce_sum: (batch_size, max_length, hidden_size)  (1, 12, 1024)\n",
      "context_vector after reduce_sum: (batch_size, hidden_size)  (1, 1024)\n",
      "\n",
      "******* Luong Attention ENDS******\n",
      "322\n",
      "\n",
      "******* Luong Attention  STARTS******\n",
      "query (decoder hidden state): (batch_size, hidden size)  (1, 1024)\n",
      "values (encoder all hidden state): (batch_size, max_len, hidden size)  (1, 12, 1024)\n",
      "query_with_time_axis:(batch_size, 1, hidden size)  (1, 1, 1024)\n",
      "values_transposed:(batch_size, hidden size, max_len)  (1, 1024, 12)\n",
      "score: (batch_size, max_length, 1)  (1, 12, 1)\n",
      "attention_weights: (batch_size, max_length, 1)  (1, 12, 1)\n",
      "context_vector before reduce_sum: (batch_size, max_length, hidden_size)  (1, 12, 1024)\n",
      "context_vector after reduce_sum: (batch_size, hidden_size)  (1, 1024)\n",
      "\n",
      "******* Luong Attention ENDS******\n",
      "185\n",
      "\n",
      "******* Luong Attention  STARTS******\n",
      "query (decoder hidden state): (batch_size, hidden size)  (1, 1024)\n",
      "values (encoder all hidden state): (batch_size, max_len, hidden size)  (1, 12, 1024)\n",
      "query_with_time_axis:(batch_size, 1, hidden size)  (1, 1, 1024)\n",
      "values_transposed:(batch_size, hidden size, max_len)  (1, 1024, 12)\n",
      "score: (batch_size, max_length, 1)  (1, 12, 1)\n",
      "attention_weights: (batch_size, max_length, 1)  (1, 12, 1)\n",
      "context_vector before reduce_sum: (batch_size, max_length, hidden_size)  (1, 12, 1024)\n",
      "context_vector after reduce_sum: (batch_size, hidden_size)  (1, 1024)\n",
      "\n",
      "******* Luong Attention ENDS******\n",
      "93\n",
      "\n",
      "******* Luong Attention  STARTS******\n",
      "query (decoder hidden state): (batch_size, hidden size)  (1, 1024)\n",
      "values (encoder all hidden state): (batch_size, max_len, hidden size)  (1, 12, 1024)\n",
      "query_with_time_axis:(batch_size, 1, hidden size)  (1, 1, 1024)\n",
      "values_transposed:(batch_size, hidden size, max_len)  (1, 1024, 12)\n",
      "score: (batch_size, max_length, 1)  (1, 12, 1)\n",
      "attention_weights: (batch_size, max_length, 1)  (1, 12, 1)\n",
      "context_vector before reduce_sum: (batch_size, max_length, hidden_size)  (1, 12, 1024)\n",
      "context_vector after reduce_sum: (batch_size, hidden_size)  (1, 1024)\n",
      "\n",
      "******* Luong Attention ENDS******\n",
      "323\n",
      "\n",
      "******* Luong Attention  STARTS******\n",
      "query (decoder hidden state): (batch_size, hidden size)  (1, 1024)\n",
      "values (encoder all hidden state): (batch_size, max_len, hidden size)  (1, 12, 1024)\n",
      "query_with_time_axis:(batch_size, 1, hidden size)  (1, 1, 1024)\n",
      "values_transposed:(batch_size, hidden size, max_len)  (1, 1024, 12)\n",
      "score: (batch_size, max_length, 1)  (1, 12, 1)\n",
      "attention_weights: (batch_size, max_length, 1)  (1, 12, 1)\n",
      "context_vector before reduce_sum: (batch_size, max_length, hidden_size)  (1, 12, 1024)\n",
      "context_vector after reduce_sum: (batch_size, hidden_size)  (1, 1024)\n",
      "\n",
      "******* Luong Attention ENDS******\n",
      "2\n",
      "Input: start_ i tea no _end\n",
      "Predicted translation: i haven‘t had tea yet _end \n"
     ]
    },
    {
     "name": "stderr",
     "output_type": "stream",
     "text": [
      "<ipython-input-35-71f02795d875>:9: UserWarning: FixedFormatter should only be used together with FixedLocator\n",
      "  ax.set_xticklabels([''] + sentence, fontdict=fontdict, rotation=90)\n",
      "<ipython-input-35-71f02795d875>:10: UserWarning: FixedFormatter should only be used together with FixedLocator\n",
      "  ax.set_yticklabels([''] + predicted_sentence, fontdict=fontdict)\n"
     ]
    },
    {
     "data": {
      "image/png": "[encoded data removed]",
      "text/plain": [
       "<Figure size 720x720 with 1 Axes>"
      ]
     },
     "metadata": {
      "needs_background": "light"
     },
     "output_type": "display_data"
    }
   ],
   "source": [
    "translate(u'i tea no')"
   ]
  },
  {
   "cell_type": "code",
   "execution_count": 23,
   "metadata": {},
   "outputs": [
    {
     "name": "stdout",
     "output_type": "stream",
     "text": [
      "score: 0.34210526315789475\n"
     ]
    }
   ],
   "source": [
    "import nltk.translate.gleu_score as gleu\n",
    "\n",
    "\n",
    "score_ref_a = gleu.corpus_gleu([['predict.txt']], ['ref.txt'])\n",
    "print(\"score: {}\".format(score_ref_a))\n"
   ]
  },
  {
   "cell_type": "code",
   "execution_count": 24,
   "metadata": {},
   "outputs": [
    {
     "name": "stdout",
     "output_type": "stream",
     "text": [
      "1 document with 1 reference sentence: 0.34210526315789475\n",
      "1 document with 2 reference sentences: 0.34210526315789475\n",
      "2 documents with 1 reference sentence each: 0.34210526315789475\n"
     ]
    }
   ],
   "source": [
    "score_ref_a = gleu.corpus_gleu([['ref.txt']], ['predict.txt'])\n",
    "print(\"1 document with 1 reference sentence: {}\".format(score_ref_a))\n",
    "score_ref_a = gleu.corpus_gleu([['ref.txt']], ['predict.txt'])\n",
    "print(\"1 document with 2 reference sentences: {}\".format(score_ref_a))\n",
    "score_ref_a = gleu.corpus_gleu([['ref.txt']], ['predict.txt'])\n",
    "print(\"2 documents with 1 reference sentence each: {}\".format(score_ref_a))"
   ]
  },
  {
   "cell_type": "code",
   "execution_count": 25,
   "metadata": {},
   "outputs": [
    {
     "name": "stdout",
     "output_type": "stream",
     "text": [
      "1 to 4 grams: 0.34210526315789475\n",
      "1 to 2 grams: 0.47619047619047616\n"
     ]
    }
   ],
   "source": [
    "score_1to4grams = gleu.sentence_gleu(['ref.txt'],'predict.txt', min_len=1, max_len=4)\n",
    "score_1to2grams = gleu.sentence_gleu(['ref.txt'], 'predict.txt', min_len=1, max_len=2)\n",
    "print(\"1 to 4 grams: {}\".format(score_1to4grams))\n",
    "print(\"1 to 2 grams: {}\".format(score_1to2grams))"
   ]
  },
  {
   "cell_type": "code",
   "execution_count": null,
   "metadata": {},
   "outputs": [],
   "source": [
    "\n"
   ]
  },
  {
   "cell_type": "code",
   "execution_count": null,
   "metadata": {},
   "outputs": [],
   "source": []
  },
  {
   "cell_type": "code",
   "execution_count": null,
   "metadata": {},
   "outputs": [],
   "source": []
  },
  {
   "cell_type": "code",
   "execution_count": null,
   "metadata": {},
   "outputs": [],
   "source": []
  }
 ],
 "metadata": {
  "kernelspec": {
   "display_name": "Python 3",
   "language": "python",
   "name": "python3"
  },
  "language_info": {
   "codemirror_mode": {
    "name": "ipython",
    "version": 3
   },
   "file_extension": ".py",
   "mimetype": "text/x-python",
   "name": "python",
   "nbconvert_exporter": "python",
   "pygments_lexer": "ipython3",
   "version": "3.8.5"
  }
 },
 "nbformat": 4,
 "nbformat_minor": 4
}
