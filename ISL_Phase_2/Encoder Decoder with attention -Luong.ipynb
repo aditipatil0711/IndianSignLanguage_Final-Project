{
 "cells": [
  {
   "cell_type": "markdown",
   "metadata": {},
   "source": [
    "Import Libraries"
   ]
  },
  {
   "cell_type": "code",
   "execution_count": 1,
   "metadata": {},
   "outputs": [],
   "source": [
    "from __future__ import absolute_import, division, print_function, unicode_literals\n",
    "\n",
    "try:\n",
    "  # %tensorflow_version only exists in Colab.\n",
    "  %tensorflow_version 2.x\n",
    "except Exception:\n",
    "    pass\n",
    "import tensorflow as tf\n",
    "\n",
    "import matplotlib.pyplot as plt\n",
    "import matplotlib.ticker as ticker\n",
    "from sklearn.model_selection import train_test_split\n",
    "import pandas as pd\n",
    "import unicodedata\n",
    "import re\n",
    "import numpy as np\n",
    "import os\n",
    "import io\n",
    "import time\n",
    "from string import digits"
   ]
  },
  {
   "cell_type": "markdown",
   "metadata": {},
   "source": [
    "Load Dataset into data_path variable"
   ]
  },
  {
   "cell_type": "code",
   "execution_count": 2,
   "metadata": {},
   "outputs": [],
   "source": [
    "data_path = \"islcorpus2.csv\""
   ]
  },
  {
   "cell_type": "markdown",
   "metadata": {},
   "source": [
    "Read lines"
   ]
  },
  {
   "cell_type": "code",
   "execution_count": 3,
   "metadata": {},
   "outputs": [
    {
     "data": {
      "text/html": [
       "<div>\n",
       "<style scoped>\n",
       "    .dataframe tbody tr th:only-of-type {\n",
       "        vertical-align: middle;\n",
       "    }\n",
       "\n",
       "    .dataframe tbody tr th {\n",
       "        vertical-align: top;\n",
       "    }\n",
       "\n",
       "    .dataframe thead th {\n",
       "        text-align: right;\n",
       "    }\n",
       "</style>\n",
       "<table border=\"1\" class=\"dataframe\">\n",
       "  <thead>\n",
       "    <tr style=\"text-align: right;\">\n",
       "      <th></th>\n",
       "      <th>Input</th>\n",
       "      <th>Output</th>\n",
       "    </tr>\n",
       "  </thead>\n",
       "  <tbody>\n",
       "    <tr>\n",
       "      <th>103</th>\n",
       "      <td>we go together</td>\n",
       "      <td>We will go together</td>\n",
       "    </tr>\n",
       "    <tr>\n",
       "      <th>240</th>\n",
       "      <td>you angry</td>\n",
       "      <td>Are you angry?</td>\n",
       "    </tr>\n",
       "    <tr>\n",
       "      <th>170</th>\n",
       "      <td>red</td>\n",
       "      <td>It is red</td>\n",
       "    </tr>\n",
       "    <tr>\n",
       "      <th>73</th>\n",
       "      <td>hello your name what</td>\n",
       "      <td>Hi,What is your name?</td>\n",
       "    </tr>\n",
       "    <tr>\n",
       "      <th>267</th>\n",
       "      <td>I live Nagpur</td>\n",
       "      <td>I live in Nagpur.</td>\n",
       "    </tr>\n",
       "  </tbody>\n",
       "</table>\n",
       "</div>"
      ],
      "text/plain": [
       "                    Input                 Output\n",
       "103        we go together  We will go together  \n",
       "240             you angry         Are you angry?\n",
       "170                   red              It is red\n",
       "73   hello your name what  Hi,What is your name?\n",
       "267         I live Nagpur      I live in Nagpur."
      ]
     },
     "execution_count": 3,
     "metadata": {},
     "output_type": "execute_result"
    }
   ],
   "source": [
    "lines_raw = pd.read_csv(data_path, header = 0)\n",
    "lines_raw.sample(5)"
   ]
  },
  {
   "cell_type": "markdown",
   "metadata": {},
   "source": [
    "Preprocessing inputs"
   ]
  },
  {
   "cell_type": "code",
   "execution_count": 4,
   "metadata": {},
   "outputs": [],
   "source": [
    "def preprocess_sentence(sentence):\n",
    "#sentence = unicode_to_ascii(sentence.lower().strip())\n",
    "    num_digits= str.maketrans('','', digits)\n",
    "    \n",
    "    sentence= sentence.lower()\n",
    "    sentence= re.sub(\" +\", \" \", sentence)\n",
    "    sentence= re.sub(\"'\", '', sentence)\n",
    "    sentence= sentence.translate(num_digits)\n",
    "    sentence= sentence.strip()\n",
    "    sentence= re.sub(r\"([?.!,¿])\", r\" \\1 \", sentence)\n",
    "    sentence = sentence.rstrip().strip()\n",
    "    sentence=  'start_ ' + sentence + ' _end'\n",
    "    \n",
    "    return sentence"
   ]
  },
  {
   "cell_type": "markdown",
   "metadata": {},
   "source": [
    "Adding start and end tag"
   ]
  },
  {
   "cell_type": "code",
   "execution_count": 5,
   "metadata": {},
   "outputs": [
    {
     "name": "stdout",
     "output_type": "stream",
     "text": [
      "start_ i see car _end\n",
      "b'start_ i see the car _end'\n"
     ]
    }
   ],
   "source": [
    "isl_sentence = u\"I see car\"\n",
    "eng_sentence = u\"i see the car\"\n",
    "print(preprocess_sentence(isl_sentence))\n",
    "print(preprocess_sentence(eng_sentence).encode('utf-8'))"
   ]
  },
  {
   "cell_type": "markdown",
   "metadata": {},
   "source": [
    "Create dataset function"
   ]
  },
  {
   "cell_type": "code",
   "execution_count": 6,
   "metadata": {},
   "outputs": [],
   "source": [
    "def create_dataset(path, num_examples):\n",
    "    lines = io.open(path,encoding = 'UTF-8').read().strip().split('\\n')\n",
    "    word_pairs = [[preprocess_sentence(w) for w in l.split(',')]for l in lines[:num_examples]]\n",
    "    print(path)\n",
    "    return zip(*word_pairs)"
   ]
  },
  {
   "cell_type": "code",
   "execution_count": 7,
   "metadata": {},
   "outputs": [
    {
     "name": "stdout",
     "output_type": "stream",
     "text": [
      "islcorpus2.csv\n",
      "start_ do job what _end\n",
      "start_ what job do you do ? _end\n"
     ]
    },
    {
     "data": {
      "text/plain": [
       "tuple"
      ]
     },
     "execution_count": 7,
     "metadata": {},
     "output_type": "execute_result"
    }
   ],
   "source": [
    "sample_size= 370\n",
    "source, target = create_dataset(data_path, sample_size)\n",
    "print(source[-1])\n",
    "print(target[-1])\n",
    "type(target)"
   ]
  },
  {
   "cell_type": "code",
   "execution_count": 8,
   "metadata": {},
   "outputs": [],
   "source": [
    "def max_length(tensor):\n",
    "    return max(len(t) for t in tensor)"
   ]
  },
  {
   "cell_type": "code",
   "execution_count": 9,
   "metadata": {},
   "outputs": [],
   "source": [
    "source_sentence_tokenizer = tf.keras.preprocessing.text.Tokenizer(filters = '')\n",
    "source_sentence_tokenizer.fit_on_texts(source)\n",
    "source_tensor = source_sentence_tokenizer.texts_to_sequences(source)\n",
    "source_tensor= tf.keras.preprocessing.sequence.pad_sequences(source_tensor,padding='post' )"
   ]
  },
  {
   "cell_type": "code",
   "execution_count": 10,
   "metadata": {},
   "outputs": [
    {
     "name": "stdout",
     "output_type": "stream",
     "text": [
      "11\n"
     ]
    }
   ],
   "source": [
    "target_sentence_tokenizer = tf.keras.preprocessing.text.Tokenizer(filters='')\n",
    "target_sentence_tokenizer.fit_on_texts(target)\n",
    "target_tensor = target_sentence_tokenizer.texts_to_sequences(target)\n",
    "target_tensor = tf.keras.preprocessing.sequence.pad_sequences(target_tensor, padding = 'post')\n",
    "print(len(target_tensor[0]))"
   ]
  },
  {
   "cell_type": "code",
   "execution_count": 11,
   "metadata": {},
   "outputs": [
    {
     "name": "stdout",
     "output_type": "stream",
     "text": [
      "11\n",
      "9\n"
     ]
    }
   ],
   "source": [
    "max_target_length= max(len(t) for t in  target_tensor)\n",
    "print(max_target_length)\n",
    "max_source_length= max(len(t) for t in  source_tensor)\n",
    "print(max_source_length)"
   ]
  },
  {
   "cell_type": "code",
   "execution_count": 12,
   "metadata": {},
   "outputs": [
    {
     "name": "stdout",
     "output_type": "stream",
     "text": [
      "296 74 296 74\n"
     ]
    }
   ],
   "source": [
    "source_train_tensor, source_test_tensor, target_train_tensor, target_test_tensor= train_test_split(source_tensor, target_tensor,test_size=0.2)\n",
    "print(len(source_train_tensor), len(source_test_tensor), len(target_train_tensor), len(target_test_tensor))"
   ]
  },
  {
   "cell_type": "code",
   "execution_count": 13,
   "metadata": {},
   "outputs": [
    {
     "name": "stdout",
     "output_type": "stream",
     "text": [
      "333 333 37 37\n"
     ]
    }
   ],
   "source": [
    "input_tensor_train, input_tensor_val, target_tensor_train, target_tensor_val = train_test_split(source_tensor, target_tensor, test_size=0.1)\n",
    "\n",
    "# Show length\n",
    "print(len(input_tensor_train), len(target_tensor_train), len(input_tensor_val), len(target_tensor_val))"
   ]
  },
  {
   "cell_type": "code",
   "execution_count": 14,
   "metadata": {},
   "outputs": [
    {
     "data": {
      "text/plain": [
       "numpy.ndarray"
      ]
     },
     "execution_count": 14,
     "metadata": {},
     "output_type": "execute_result"
    }
   ],
   "source": [
    "type(input_tensor_train)"
   ]
  },
  {
   "cell_type": "code",
   "execution_count": 15,
   "metadata": {},
   "outputs": [],
   "source": [
    "def convert(lang, tensor):\n",
    "    for t in tensor:\n",
    "        if t!=0:\n",
    "            print (\"%d ----> %s\" % (t, lang.index_word[t]))"
   ]
  },
  {
   "cell_type": "code",
   "execution_count": 16,
   "metadata": {},
   "outputs": [
    {
     "name": "stdout",
     "output_type": "stream",
     "text": [
      "Input Language; index to word mapping\n",
      "1 ----> start_\n",
      "3 ----> i\n",
      "49 ----> think\n",
      "33 ----> yesterday\n",
      "2 ----> _end\n",
      "\n",
      "Target Language; index to word mapping\n",
      "1 ----> start_\n",
      "3 ----> i\n",
      "178 ----> thought\n",
      "43 ----> yesterday\n",
      "2 ----> _end\n"
     ]
    },
    {
     "data": {
      "text/plain": [
       "numpy.ndarray"
      ]
     },
     "execution_count": 16,
     "metadata": {},
     "output_type": "execute_result"
    }
   ],
   "source": [
    "print (\"Input Language; index to word mapping\")\n",
    "convert(source_sentence_tokenizer, source_train_tensor[0])\n",
    "print ()\n",
    "\n",
    "print (\"Target Language; index to word mapping\")\n",
    "convert( target_sentence_tokenizer, target_train_tensor[0])\n",
    "type(source_train_tensor)\n",
    "type(target_train_tensor)"
   ]
  },
  {
   "cell_type": "code",
   "execution_count": 17,
   "metadata": {},
   "outputs": [
    {
     "data": {
      "text/plain": [
       "tensorflow.python.data.ops.dataset_ops.BatchDataset"
      ]
     },
     "execution_count": 17,
     "metadata": {},
     "output_type": "execute_result"
    }
   ],
   "source": [
    "BUFFER_SIZE = len(source_train_tensor)\n",
    "BATCH_SIZE = 16\n",
    "steps_per_epoch = len(source_train_tensor)//BATCH_SIZE\n",
    "embedding_dim = 256\n",
    "units = 1024\n",
    "vocab_inp_size = len(source_sentence_tokenizer.word_index)+1\n",
    "vocab_tar_size = len(target_sentence_tokenizer.word_index)+1\n",
    "\n",
    "dataset = tf.data.Dataset.from_tensor_slices((source_train_tensor, target_train_tensor)).shuffle(BUFFER_SIZE)\n",
    "dataset = dataset.batch(BATCH_SIZE, drop_remainder=True)\n",
    "type(dataset)"
   ]
  },
  {
   "cell_type": "code",
   "execution_count": 18,
   "metadata": {},
   "outputs": [
    {
     "data": {
      "text/plain": [
       "(TensorShape([16, 9]), TensorShape([16, 11]))"
      ]
     },
     "execution_count": 18,
     "metadata": {},
     "output_type": "execute_result"
    }
   ],
   "source": [
    "example_input_batch, example_target_batch = next(iter(dataset))\n",
    "example_input_batch.shape, example_target_batch.shape"
   ]
  },
  {
   "cell_type": "code",
   "execution_count": 19,
   "metadata": {},
   "outputs": [],
   "source": [
    "class Encoder(tf.keras.Model):\n",
    "    def __init__(self, vocab_size, embedding_dim, enc_units, batch_sz):\n",
    "        super(Encoder, self).__init__()\n",
    "        self.batch_sz = batch_sz\n",
    "        self.enc_units = enc_units\n",
    "        self.embedding = tf.keras.layers.Embedding(vocab_size, embedding_dim)\n",
    "        self.gru = tf.keras.layers.GRU(self.enc_units,\n",
    "                                       return_sequences=True,\n",
    "                                       return_state=True,\n",
    "                                       recurrent_initializer='glorot_uniform')\n",
    "\n",
    "    def call(self, x, hidden):\n",
    "        x = self.embedding(x)\n",
    "        output, state = self.gru(x, initial_state = hidden)\n",
    "        return output, state\n",
    "\n",
    "    def initialize_hidden_state(self):\n",
    "        return tf.zeros((self.batch_sz, self.enc_units))"
   ]
  },
  {
   "cell_type": "code",
   "execution_count": 20,
   "metadata": {},
   "outputs": [
    {
     "name": "stdout",
     "output_type": "stream",
     "text": [
      "Encoder output shape: (batch size, sequence length, units) (16, 9, 1024)\n",
      "Encoder Hidden state shape: (batch size, units) (16, 1024)\n"
     ]
    }
   ],
   "source": [
    "encoder = Encoder(vocab_inp_size, embedding_dim, units, BATCH_SIZE)\n",
    "\n",
    "# sample input\n",
    "sample_hidden = encoder.initialize_hidden_state()\n",
    "sample_output, sample_hidden = encoder(example_input_batch, sample_hidden)\n",
    "print ('Encoder output shape: (batch size, sequence length, units) {}'.format(sample_output.shape))\n",
    "print ('Encoder Hidden state shape: (batch size, units) {}'.format(sample_hidden.shape))"
   ]
  },
  {
   "cell_type": "code",
   "execution_count": 21,
   "metadata": {},
   "outputs": [],
   "source": [
    "class LuongAttention(tf.keras.layers.Layer):\n",
    "    def __init__(self, units):\n",
    "        super(LuongAttention, self).__init__()\n",
    "        self.W1 = tf.keras.layers.Dense(units)\n",
    "        self.W2 = tf.keras.layers.Dense(units)\n",
    "        self.V = tf.keras.layers.Dense(1)\n",
    "        \n",
    "    def call(self, query, values):\n",
    "        print('\\n******* Luong Attention  STARTS******')\n",
    "        print('query (decoder hidden state): (batch_size, hidden size) ', query.shape)\n",
    "        print('values (encoder all hidden state): (batch_size, max_len, hidden size) ', values.shape)\n",
    "\n",
    "        # query hidden state shape == (batch_size, hidden size)\n",
    "        # query_with_time_axis shape == (batch_size, 1, hidden size)\n",
    "        # values shape == (batch_size, max_len, hidden size)\n",
    "        # we are doing this to broadcast addition along the time axis to calculate the score\n",
    "        query_with_time_axis = tf.expand_dims(query, 1)\n",
    "    \n",
    "        print('query_with_time_axis:(batch_size, 1, hidden size) ', query_with_time_axis.shape)\n",
    "\n",
    "\n",
    "        values_transposed = tf.transpose(values, perm=[0, 2, 1])\n",
    "        print('values_transposed:(batch_size, hidden size, max_len) ', values_transposed.shape)\n",
    "\n",
    "        # score shape == (batch_size, max_length, 1)\n",
    "        # we get 1 at the last axis because we are applying score to self.V\n",
    "        # the shape of the tensor before applying self.V is (batch_size, max_length, units)\n",
    "        #BAHDANAU ADDITIVE:\n",
    "        #score = self.V(tf.nn.tanh(\n",
    "        #    self.W1(query_with_time_axis) + self.W2(values)))\n",
    "    \n",
    "        #LUONGH Dot-product\n",
    "        score = tf.transpose(tf.matmul(query_with_time_axis, values_transposed) , perm=[0, 2, 1])\n",
    "\n",
    "        print('score: (batch_size, max_length, 1) ',score.shape)\n",
    "        # attention_weights shape == (batch_size, max_length, 1)\n",
    "        attention_weights = tf.nn.softmax(score, axis=1)\n",
    "        print('attention_weights: (batch_size, max_length, 1) ',attention_weights.shape)\n",
    "        # context_vector shape after sum == (batch_size, hidden_size)\n",
    "        context_vector = attention_weights * values\n",
    "        print('context_vector before reduce_sum: (batch_size, max_length, hidden_size) ',context_vector.shape)\n",
    "        context_vector = tf.reduce_sum(context_vector, axis=1)\n",
    "        print('context_vector after reduce_sum: (batch_size, hidden_size) ',context_vector.shape)\n",
    "\n",
    "\n",
    "        print('\\n******* Luong Attention ENDS******')\n",
    "        return context_vector, attention_weights"
   ]
  },
  {
   "cell_type": "code",
   "execution_count": 22,
   "metadata": {},
   "outputs": [
    {
     "name": "stdout",
     "output_type": "stream",
     "text": [
      "\n",
      "******* Luong Attention  STARTS******\n",
      "query (decoder hidden state): (batch_size, hidden size)  (16, 1024)\n",
      "values (encoder all hidden state): (batch_size, max_len, hidden size)  (16, 9, 1024)\n",
      "query_with_time_axis:(batch_size, 1, hidden size)  (16, 1, 1024)\n",
      "values_transposed:(batch_size, hidden size, max_len)  (16, 1024, 9)\n",
      "score: (batch_size, max_length, 1)  (16, 9, 1)\n",
      "attention_weights: (batch_size, max_length, 1)  (16, 9, 1)\n",
      "context_vector before reduce_sum: (batch_size, max_length, hidden_size)  (16, 9, 1024)\n",
      "context_vector after reduce_sum: (batch_size, hidden_size)  (16, 1024)\n",
      "\n",
      "******* Luong Attention ENDS******\n",
      "Attention result shape: (batch size, units) (16, 1024)\n",
      "Attention weights shape: (batch_size, sequence_length, 1) (16, 9, 1)\n"
     ]
    }
   ],
   "source": [
    "attention_layer = LuongAttention(10)\n",
    "attention_result, attention_weights = attention_layer(sample_hidden, sample_output)\n",
    "\n",
    "print(\"Attention result shape: (batch size, units) {}\".format(attention_result.shape))\n",
    "print(\"Attention weights shape: (batch_size, sequence_length, 1) {}\".format(attention_weights.shape))"
   ]
  },
  {
   "cell_type": "code",
   "execution_count": 23,
   "metadata": {},
   "outputs": [],
   "source": [
    "class Decoder(tf.keras.Model):\n",
    "    def __init__(self, vocab_size, embedding_dim, dec_units, batch_sz):\n",
    "        super(Decoder, self).__init__()\n",
    "        self.batch_sz = batch_sz\n",
    "        self.dec_units = dec_units\n",
    "        self.embedding = tf.keras.layers.Embedding(vocab_size, embedding_dim)\n",
    "        self.gru = tf.keras.layers.GRU(self.dec_units,\n",
    "                                   return_sequences=True,\n",
    "                                   return_state=True,\n",
    "                                   recurrent_initializer='glorot_uniform')\n",
    "        self.fc = tf.keras.layers.Dense(vocab_size)\n",
    "\n",
    "    # used for attention\n",
    "        self.attention = LuongAttention(self.dec_units)\n",
    "\n",
    "    def call(self, x, hidden, enc_output):\n",
    "\n",
    "    # enc_output shape == (batch_size, max_length, hidden_size)\n",
    "        context_vector, attention_weights = self.attention(hidden, enc_output)\n",
    "\n",
    "    # x shape after passing through embedding == (batch_size, 1, embedding_dim)\n",
    "        x = self.embedding(x)\n",
    "\n",
    "    # x shape after concatenation == (batch_size, 1, embedding_dim + hidden_size)\n",
    "        x = tf.concat([tf.expand_dims(context_vector, 1), x], axis=-1)\n",
    "\n",
    "    # passing the concatenated vector to the GRU\n",
    "        output, state = self.gru(x)\n",
    "\n",
    "    # output shape == (batch_size * 1, hidden_size)\n",
    "        output = tf.reshape(output, (-1, output.shape[2]))\n",
    "\n",
    "    # output shape == (batch_size, vocab)\n",
    "        x = self.fc(output)\n",
    "\n",
    "        return x, state, attention_weights"
   ]
  },
  {
   "cell_type": "code",
   "execution_count": 24,
   "metadata": {},
   "outputs": [
    {
     "name": "stdout",
     "output_type": "stream",
     "text": [
      "\n",
      "******* Luong Attention  STARTS******\n",
      "query (decoder hidden state): (batch_size, hidden size)  (16, 1024)\n",
      "values (encoder all hidden state): (batch_size, max_len, hidden size)  (16, 9, 1024)\n",
      "query_with_time_axis:(batch_size, 1, hidden size)  (16, 1, 1024)\n",
      "values_transposed:(batch_size, hidden size, max_len)  (16, 1024, 9)\n",
      "score: (batch_size, max_length, 1)  (16, 9, 1)\n",
      "attention_weights: (batch_size, max_length, 1)  (16, 9, 1)\n",
      "context_vector before reduce_sum: (batch_size, max_length, hidden_size)  (16, 9, 1024)\n",
      "context_vector after reduce_sum: (batch_size, hidden_size)  (16, 1024)\n",
      "\n",
      "******* Luong Attention ENDS******\n",
      "Decoder output shape: (batch_size, vocab size) (16, 308)\n"
     ]
    }
   ],
   "source": [
    "decoder = Decoder(vocab_tar_size, embedding_dim, units, BATCH_SIZE)\n",
    "\n",
    "sample_decoder_output, _, _ = decoder(tf.random.uniform((BATCH_SIZE, 1)),\n",
    "                                      sample_hidden, sample_output)\n",
    "\n",
    "print ('Decoder output shape: (batch_size, vocab size) {}'.format(sample_decoder_output.shape))"
   ]
  },
  {
   "cell_type": "code",
   "execution_count": 25,
   "metadata": {},
   "outputs": [],
   "source": [
    "optimizer = tf.keras.optimizers.Adam()\n",
    "loss_object = tf.keras.losses.SparseCategoricalCrossentropy(\n",
    "    from_logits=True, reduction='none')\n",
    "\n",
    "def loss_function(real, pred):\n",
    "    mask = tf.math.logical_not(tf.math.equal(real, 0))\n",
    "    loss_ = loss_object(real, pred)\n",
    "    \n",
    "    mask = tf.cast(mask, dtype=loss_.dtype)\n",
    "    loss_ *= mask\n",
    "\n",
    "    return tf.reduce_mean(loss_)"
   ]
  },
  {
   "cell_type": "code",
   "execution_count": 26,
   "metadata": {},
   "outputs": [],
   "source": [
    "checkpoint_dir = 'training_checkpoints'\n",
    "checkpoint_prefix = os.path.join(checkpoint_dir, \"ckpt\")\n",
    "checkpoint = tf.train.Checkpoint(optimizer=optimizer,\n",
    "                                 encoder=encoder,\n",
    "                                 decoder=decoder)"
   ]
  },
  {
   "cell_type": "code",
   "execution_count": 27,
   "metadata": {},
   "outputs": [],
   "source": [
    "@tf.function\n",
    "def train_step(inp, targ, enc_hidden):\n",
    "    loss = 0\n",
    "\n",
    "    with tf.GradientTape() as tape:\n",
    "        enc_output, enc_hidden = encoder(inp, enc_hidden)\n",
    "\n",
    "        dec_hidden = enc_hidden\n",
    "        dec_input = tf.expand_dims([target_sentence_tokenizer.word_index['start_']] * BATCH_SIZE, 1)\n",
    "\n",
    "    # Teacher forcing - feeding the target as the next input\n",
    "        for t in range(1, targ.shape[1]):\n",
    "      # passing enc_output to the decoder\n",
    "            predictions, dec_hidden, _ = decoder(dec_input, dec_hidden, enc_output)\n",
    "\n",
    "            loss += loss_function(targ[:, t], predictions)\n",
    "\n",
    "            # using teacher forcing\n",
    "            dec_input = tf.expand_dims(targ[:, t], 1)\n",
    "\n",
    "    batch_loss = (loss / int(targ.shape[1]))\n",
    "\n",
    "    variables = encoder.trainable_variables + decoder.trainable_variables\n",
    "\n",
    "    gradients = tape.gradient(loss, variables)\n",
    "\n",
    "    optimizer.apply_gradients(zip(gradients, variables))\n",
    "\n",
    "    return batch_loss"
   ]
  },
  {
   "cell_type": "code",
   "execution_count": 28,
   "metadata": {},
   "outputs": [
    {
     "data": {
      "text/plain": [
       "18"
      ]
     },
     "execution_count": 28,
     "metadata": {},
     "output_type": "execute_result"
    }
   ],
   "source": [
    "steps_per_epoch"
   ]
  },
  {
   "cell_type": "code",
   "execution_count": 29,
   "metadata": {},
   "outputs": [
    {
     "name": "stdout",
     "output_type": "stream",
     "text": [
      "\n",
      "******* Luong Attention  STARTS******\n",
      "query (decoder hidden state): (batch_size, hidden size)  (16, 1024)\n",
      "values (encoder all hidden state): (batch_size, max_len, hidden size)  (16, 9, 1024)\n",
      "query_with_time_axis:(batch_size, 1, hidden size)  (16, 1, 1024)\n",
      "values_transposed:(batch_size, hidden size, max_len)  (16, 1024, 9)\n",
      "score: (batch_size, max_length, 1)  (16, 9, 1)\n",
      "attention_weights: (batch_size, max_length, 1)  (16, 9, 1)\n",
      "context_vector before reduce_sum: (batch_size, max_length, hidden_size)  (16, 9, 1024)\n",
      "context_vector after reduce_sum: (batch_size, hidden_size)  (16, 1024)\n",
      "\n",
      "******* Luong Attention ENDS******\n",
      "\n",
      "******* Luong Attention  STARTS******\n",
      "query (decoder hidden state): (batch_size, hidden size)  (16, 1024)\n",
      "values (encoder all hidden state): (batch_size, max_len, hidden size)  (16, 9, 1024)\n",
      "query_with_time_axis:(batch_size, 1, hidden size)  (16, 1, 1024)\n",
      "values_transposed:(batch_size, hidden size, max_len)  (16, 1024, 9)\n",
      "score: (batch_size, max_length, 1)  (16, 9, 1)\n",
      "attention_weights: (batch_size, max_length, 1)  (16, 9, 1)\n",
      "context_vector before reduce_sum: (batch_size, max_length, hidden_size)  (16, 9, 1024)\n",
      "context_vector after reduce_sum: (batch_size, hidden_size)  (16, 1024)\n",
      "\n",
      "******* Luong Attention ENDS******\n",
      "\n",
      "******* Luong Attention  STARTS******\n",
      "query (decoder hidden state): (batch_size, hidden size)  (16, 1024)\n",
      "values (encoder all hidden state): (batch_size, max_len, hidden size)  (16, 9, 1024)\n",
      "query_with_time_axis:(batch_size, 1, hidden size)  (16, 1, 1024)\n",
      "values_transposed:(batch_size, hidden size, max_len)  (16, 1024, 9)\n",
      "score: (batch_size, max_length, 1)  (16, 9, 1)\n",
      "attention_weights: (batch_size, max_length, 1)  (16, 9, 1)\n",
      "context_vector before reduce_sum: (batch_size, max_length, hidden_size)  (16, 9, 1024)\n",
      "context_vector after reduce_sum: (batch_size, hidden_size)  (16, 1024)\n",
      "\n",
      "******* Luong Attention ENDS******\n",
      "\n",
      "******* Luong Attention  STARTS******\n",
      "query (decoder hidden state): (batch_size, hidden size)  (16, 1024)\n",
      "values (encoder all hidden state): (batch_size, max_len, hidden size)  (16, 9, 1024)\n",
      "query_with_time_axis:(batch_size, 1, hidden size)  (16, 1, 1024)\n",
      "values_transposed:(batch_size, hidden size, max_len)  (16, 1024, 9)\n",
      "score: (batch_size, max_length, 1)  (16, 9, 1)\n",
      "attention_weights: (batch_size, max_length, 1)  (16, 9, 1)\n",
      "context_vector before reduce_sum: (batch_size, max_length, hidden_size)  (16, 9, 1024)\n",
      "context_vector after reduce_sum: (batch_size, hidden_size)  (16, 1024)\n",
      "\n",
      "******* Luong Attention ENDS******\n",
      "\n",
      "******* Luong Attention  STARTS******\n",
      "query (decoder hidden state): (batch_size, hidden size)  (16, 1024)\n",
      "values (encoder all hidden state): (batch_size, max_len, hidden size)  (16, 9, 1024)\n",
      "query_with_time_axis:(batch_size, 1, hidden size)  (16, 1, 1024)\n",
      "values_transposed:(batch_size, hidden size, max_len)  (16, 1024, 9)\n",
      "score: (batch_size, max_length, 1)  (16, 9, 1)\n",
      "attention_weights: (batch_size, max_length, 1)  (16, 9, 1)\n",
      "context_vector before reduce_sum: (batch_size, max_length, hidden_size)  (16, 9, 1024)\n",
      "context_vector after reduce_sum: (batch_size, hidden_size)  (16, 1024)\n",
      "\n",
      "******* Luong Attention ENDS******\n",
      "\n",
      "******* Luong Attention  STARTS******\n",
      "query (decoder hidden state): (batch_size, hidden size)  (16, 1024)\n",
      "values (encoder all hidden state): (batch_size, max_len, hidden size)  (16, 9, 1024)\n",
      "query_with_time_axis:(batch_size, 1, hidden size)  (16, 1, 1024)\n",
      "values_transposed:(batch_size, hidden size, max_len)  (16, 1024, 9)\n",
      "score: (batch_size, max_length, 1)  (16, 9, 1)\n",
      "attention_weights: (batch_size, max_length, 1)  (16, 9, 1)\n",
      "context_vector before reduce_sum: (batch_size, max_length, hidden_size)  (16, 9, 1024)\n",
      "context_vector after reduce_sum: (batch_size, hidden_size)  (16, 1024)\n",
      "\n",
      "******* Luong Attention ENDS******\n",
      "\n",
      "******* Luong Attention  STARTS******\n",
      "query (decoder hidden state): (batch_size, hidden size)  (16, 1024)\n",
      "values (encoder all hidden state): (batch_size, max_len, hidden size)  (16, 9, 1024)\n",
      "query_with_time_axis:(batch_size, 1, hidden size)  (16, 1, 1024)\n",
      "values_transposed:(batch_size, hidden size, max_len)  (16, 1024, 9)\n",
      "score: (batch_size, max_length, 1)  (16, 9, 1)\n",
      "attention_weights: (batch_size, max_length, 1)  (16, 9, 1)\n",
      "context_vector before reduce_sum: (batch_size, max_length, hidden_size)  (16, 9, 1024)\n",
      "context_vector after reduce_sum: (batch_size, hidden_size)  (16, 1024)\n",
      "\n",
      "******* Luong Attention ENDS******\n",
      "\n",
      "******* Luong Attention  STARTS******\n",
      "query (decoder hidden state): (batch_size, hidden size)  (16, 1024)\n",
      "values (encoder all hidden state): (batch_size, max_len, hidden size)  (16, 9, 1024)\n",
      "query_with_time_axis:(batch_size, 1, hidden size)  (16, 1, 1024)\n",
      "values_transposed:(batch_size, hidden size, max_len)  (16, 1024, 9)\n",
      "score: (batch_size, max_length, 1)  (16, 9, 1)\n",
      "attention_weights: (batch_size, max_length, 1)  (16, 9, 1)\n",
      "context_vector before reduce_sum: (batch_size, max_length, hidden_size)  (16, 9, 1024)\n",
      "context_vector after reduce_sum: (batch_size, hidden_size)  (16, 1024)\n",
      "\n",
      "******* Luong Attention ENDS******\n",
      "\n",
      "******* Luong Attention  STARTS******\n",
      "query (decoder hidden state): (batch_size, hidden size)  (16, 1024)\n",
      "values (encoder all hidden state): (batch_size, max_len, hidden size)  (16, 9, 1024)\n",
      "query_with_time_axis:(batch_size, 1, hidden size)  (16, 1, 1024)\n",
      "values_transposed:(batch_size, hidden size, max_len)  (16, 1024, 9)\n",
      "score: (batch_size, max_length, 1)  (16, 9, 1)\n",
      "attention_weights: (batch_size, max_length, 1)  (16, 9, 1)\n",
      "context_vector before reduce_sum: (batch_size, max_length, hidden_size)  (16, 9, 1024)\n",
      "context_vector after reduce_sum: (batch_size, hidden_size)  (16, 1024)\n",
      "\n",
      "******* Luong Attention ENDS******\n",
      "\n",
      "******* Luong Attention  STARTS******\n",
      "query (decoder hidden state): (batch_size, hidden size)  (16, 1024)\n",
      "values (encoder all hidden state): (batch_size, max_len, hidden size)  (16, 9, 1024)\n",
      "query_with_time_axis:(batch_size, 1, hidden size)  (16, 1, 1024)\n",
      "values_transposed:(batch_size, hidden size, max_len)  (16, 1024, 9)\n",
      "score: (batch_size, max_length, 1)  (16, 9, 1)\n",
      "attention_weights: (batch_size, max_length, 1)  (16, 9, 1)\n",
      "context_vector before reduce_sum: (batch_size, max_length, hidden_size)  (16, 9, 1024)\n",
      "context_vector after reduce_sum: (batch_size, hidden_size)  (16, 1024)\n",
      "\n",
      "******* Luong Attention ENDS******\n",
      "\n",
      "******* Luong Attention  STARTS******\n",
      "query (decoder hidden state): (batch_size, hidden size)  (16, 1024)\n",
      "values (encoder all hidden state): (batch_size, max_len, hidden size)  (16, 9, 1024)\n",
      "query_with_time_axis:(batch_size, 1, hidden size)  (16, 1, 1024)\n",
      "values_transposed:(batch_size, hidden size, max_len)  (16, 1024, 9)\n",
      "score: (batch_size, max_length, 1)  (16, 9, 1)\n",
      "attention_weights: (batch_size, max_length, 1)  (16, 9, 1)\n",
      "context_vector before reduce_sum: (batch_size, max_length, hidden_size)  (16, 9, 1024)\n",
      "context_vector after reduce_sum: (batch_size, hidden_size)  (16, 1024)\n",
      "\n",
      "******* Luong Attention ENDS******\n",
      "\n",
      "******* Luong Attention  STARTS******\n",
      "query (decoder hidden state): (batch_size, hidden size)  (16, 1024)\n",
      "values (encoder all hidden state): (batch_size, max_len, hidden size)  (16, 9, 1024)\n",
      "query_with_time_axis:(batch_size, 1, hidden size)  (16, 1, 1024)\n",
      "values_transposed:(batch_size, hidden size, max_len)  (16, 1024, 9)\n",
      "score: (batch_size, max_length, 1)  (16, 9, 1)\n",
      "attention_weights: (batch_size, max_length, 1)  (16, 9, 1)\n",
      "context_vector before reduce_sum: (batch_size, max_length, hidden_size)  (16, 9, 1024)\n",
      "context_vector after reduce_sum: (batch_size, hidden_size)  (16, 1024)\n",
      "\n",
      "******* Luong Attention ENDS******\n",
      "\n",
      "******* Luong Attention  STARTS******\n",
      "query (decoder hidden state): (batch_size, hidden size)  (16, 1024)\n",
      "values (encoder all hidden state): (batch_size, max_len, hidden size)  (16, 9, 1024)\n",
      "query_with_time_axis:(batch_size, 1, hidden size)  (16, 1, 1024)\n",
      "values_transposed:(batch_size, hidden size, max_len)  (16, 1024, 9)\n",
      "score: (batch_size, max_length, 1)  (16, 9, 1)\n",
      "attention_weights: (batch_size, max_length, 1)  (16, 9, 1)\n",
      "context_vector before reduce_sum: (batch_size, max_length, hidden_size)  (16, 9, 1024)\n",
      "context_vector after reduce_sum: (batch_size, hidden_size)  (16, 1024)\n",
      "\n",
      "******* Luong Attention ENDS******\n",
      "\n",
      "******* Luong Attention  STARTS******\n",
      "query (decoder hidden state): (batch_size, hidden size)  (16, 1024)\n",
      "values (encoder all hidden state): (batch_size, max_len, hidden size)  (16, 9, 1024)\n",
      "query_with_time_axis:(batch_size, 1, hidden size)  (16, 1, 1024)\n",
      "values_transposed:(batch_size, hidden size, max_len)  (16, 1024, 9)\n",
      "score: (batch_size, max_length, 1)  (16, 9, 1)\n",
      "attention_weights: (batch_size, max_length, 1)  (16, 9, 1)\n",
      "context_vector before reduce_sum: (batch_size, max_length, hidden_size)  (16, 9, 1024)\n",
      "context_vector after reduce_sum: (batch_size, hidden_size)  (16, 1024)\n",
      "\n",
      "******* Luong Attention ENDS******\n"
     ]
    },
    {
     "name": "stdout",
     "output_type": "stream",
     "text": [
      "\n",
      "******* Luong Attention  STARTS******\n",
      "query (decoder hidden state): (batch_size, hidden size)  (16, 1024)\n",
      "values (encoder all hidden state): (batch_size, max_len, hidden size)  (16, 9, 1024)\n",
      "query_with_time_axis:(batch_size, 1, hidden size)  (16, 1, 1024)\n",
      "values_transposed:(batch_size, hidden size, max_len)  (16, 1024, 9)\n",
      "score: (batch_size, max_length, 1)  (16, 9, 1)\n",
      "attention_weights: (batch_size, max_length, 1)  (16, 9, 1)\n",
      "context_vector before reduce_sum: (batch_size, max_length, hidden_size)  (16, 9, 1024)\n",
      "context_vector after reduce_sum: (batch_size, hidden_size)  (16, 1024)\n",
      "\n",
      "******* Luong Attention ENDS******\n",
      "\n",
      "******* Luong Attention  STARTS******\n",
      "query (decoder hidden state): (batch_size, hidden size)  (16, 1024)\n",
      "values (encoder all hidden state): (batch_size, max_len, hidden size)  (16, 9, 1024)\n",
      "query_with_time_axis:(batch_size, 1, hidden size)  (16, 1, 1024)\n",
      "values_transposed:(batch_size, hidden size, max_len)  (16, 1024, 9)\n",
      "score: (batch_size, max_length, 1)  (16, 9, 1)\n",
      "attention_weights: (batch_size, max_length, 1)  (16, 9, 1)\n",
      "context_vector before reduce_sum: (batch_size, max_length, hidden_size)  (16, 9, 1024)\n",
      "context_vector after reduce_sum: (batch_size, hidden_size)  (16, 1024)\n",
      "\n",
      "******* Luong Attention ENDS******\n",
      "\n",
      "******* Luong Attention  STARTS******\n",
      "query (decoder hidden state): (batch_size, hidden size)  (16, 1024)\n",
      "values (encoder all hidden state): (batch_size, max_len, hidden size)  (16, 9, 1024)\n",
      "query_with_time_axis:(batch_size, 1, hidden size)  (16, 1, 1024)\n",
      "values_transposed:(batch_size, hidden size, max_len)  (16, 1024, 9)\n",
      "score: (batch_size, max_length, 1)  (16, 9, 1)\n",
      "attention_weights: (batch_size, max_length, 1)  (16, 9, 1)\n",
      "context_vector before reduce_sum: (batch_size, max_length, hidden_size)  (16, 9, 1024)\n",
      "context_vector after reduce_sum: (batch_size, hidden_size)  (16, 1024)\n",
      "\n",
      "******* Luong Attention ENDS******\n",
      "\n",
      "******* Luong Attention  STARTS******\n",
      "query (decoder hidden state): (batch_size, hidden size)  (16, 1024)\n",
      "values (encoder all hidden state): (batch_size, max_len, hidden size)  (16, 9, 1024)\n",
      "query_with_time_axis:(batch_size, 1, hidden size)  (16, 1, 1024)\n",
      "values_transposed:(batch_size, hidden size, max_len)  (16, 1024, 9)\n",
      "score: (batch_size, max_length, 1)  (16, 9, 1)\n",
      "attention_weights: (batch_size, max_length, 1)  (16, 9, 1)\n",
      "context_vector before reduce_sum: (batch_size, max_length, hidden_size)  (16, 9, 1024)\n",
      "context_vector after reduce_sum: (batch_size, hidden_size)  (16, 1024)\n",
      "\n",
      "******* Luong Attention ENDS******\n",
      "\n",
      "******* Luong Attention  STARTS******\n",
      "query (decoder hidden state): (batch_size, hidden size)  (16, 1024)\n",
      "values (encoder all hidden state): (batch_size, max_len, hidden size)  (16, 9, 1024)\n",
      "query_with_time_axis:(batch_size, 1, hidden size)  (16, 1, 1024)\n",
      "values_transposed:(batch_size, hidden size, max_len)  (16, 1024, 9)\n",
      "score: (batch_size, max_length, 1)  (16, 9, 1)\n",
      "attention_weights: (batch_size, max_length, 1)  (16, 9, 1)\n",
      "context_vector before reduce_sum: (batch_size, max_length, hidden_size)  (16, 9, 1024)\n",
      "context_vector after reduce_sum: (batch_size, hidden_size)  (16, 1024)\n",
      "\n",
      "******* Luong Attention ENDS******\n",
      "\n",
      "******* Luong Attention  STARTS******\n",
      "query (decoder hidden state): (batch_size, hidden size)  (16, 1024)\n",
      "values (encoder all hidden state): (batch_size, max_len, hidden size)  (16, 9, 1024)\n",
      "query_with_time_axis:(batch_size, 1, hidden size)  (16, 1, 1024)\n",
      "values_transposed:(batch_size, hidden size, max_len)  (16, 1024, 9)\n",
      "score: (batch_size, max_length, 1)  (16, 9, 1)\n",
      "attention_weights: (batch_size, max_length, 1)  (16, 9, 1)\n",
      "context_vector before reduce_sum: (batch_size, max_length, hidden_size)  (16, 9, 1024)\n",
      "context_vector after reduce_sum: (batch_size, hidden_size)  (16, 1024)\n",
      "\n",
      "******* Luong Attention ENDS******\n",
      "Epoch 1 Batch 0 loss 2.7997844219207764\n",
      "Epoch 1 Loss 2.4754\n",
      "Time taken for 1 epoch 46.155513763427734 sec\n",
      "\n",
      "Epoch 2 Batch 0 loss 2.067194938659668\n",
      "Epoch 2 Loss 1.9576\n",
      "Time taken for 1 epoch 13.390963077545166 sec\n",
      "\n",
      "Epoch 3 Batch 0 loss 2.081137180328369\n",
      "Epoch 3 Loss 1.7220\n",
      "Time taken for 1 epoch 12.651177167892456 sec\n",
      "\n",
      "Epoch 4 Batch 0 loss 1.5114078521728516\n",
      "Epoch 4 Loss 1.5634\n",
      "Time taken for 1 epoch 12.0325767993927 sec\n",
      "\n",
      "Epoch 5 Batch 0 loss 1.3030474185943604\n",
      "Epoch 5 Loss 1.4347\n",
      "Time taken for 1 epoch 11.604329347610474 sec\n",
      "\n",
      "Epoch 6 Batch 0 loss 1.3928790092468262\n",
      "Epoch 6 Loss 1.3199\n",
      "Time taken for 1 epoch 12.609254837036133 sec\n",
      "\n",
      "Epoch 7 Batch 0 loss 1.3764530420303345\n",
      "Epoch 7 Loss 1.2009\n",
      "Time taken for 1 epoch 11.587019681930542 sec\n",
      "\n",
      "Epoch 8 Batch 0 loss 1.1039831638336182\n",
      "Epoch 8 Loss 1.0618\n",
      "Time taken for 1 epoch 12.55755877494812 sec\n",
      "\n",
      "Epoch 9 Batch 0 loss 0.9983692169189453\n",
      "Epoch 9 Loss 0.9702\n",
      "Time taken for 1 epoch 12.067822933197021 sec\n",
      "\n",
      "Epoch 10 Batch 0 loss 0.7952256798744202\n",
      "Epoch 10 Loss 0.8673\n",
      "Time taken for 1 epoch 12.605512619018555 sec\n",
      "\n",
      "Epoch 11 Batch 0 loss 0.7674028277397156\n",
      "Epoch 11 Loss 0.7744\n",
      "Time taken for 1 epoch 11.619935512542725 sec\n",
      "\n",
      "Epoch 12 Batch 0 loss 0.6164013147354126\n",
      "Epoch 12 Loss 0.7034\n",
      "Time taken for 1 epoch 12.389019250869751 sec\n",
      "\n",
      "Epoch 13 Batch 0 loss 0.722112238407135\n",
      "Epoch 13 Loss 0.6553\n",
      "Time taken for 1 epoch 11.48194408416748 sec\n",
      "\n",
      "Epoch 14 Batch 0 loss 0.5942680835723877\n",
      "Epoch 14 Loss 0.6091\n",
      "Time taken for 1 epoch 12.823655843734741 sec\n",
      "\n",
      "Epoch 15 Batch 0 loss 0.545659065246582\n",
      "Epoch 15 Loss 0.5795\n",
      "Time taken for 1 epoch 11.863220930099487 sec\n",
      "\n",
      "Epoch 16 Batch 0 loss 0.5166344046592712\n",
      "Epoch 16 Loss 0.5479\n",
      "Time taken for 1 epoch 16.69201946258545 sec\n",
      "\n",
      "Epoch 17 Batch 0 loss 0.4442352056503296\n",
      "Epoch 17 Loss 0.4983\n",
      "Time taken for 1 epoch 15.452516317367554 sec\n",
      "\n",
      "Epoch 18 Batch 0 loss 0.47726181149482727\n",
      "Epoch 18 Loss 0.4651\n",
      "Time taken for 1 epoch 15.625947952270508 sec\n",
      "\n",
      "Epoch 19 Batch 0 loss 0.43153807520866394\n",
      "Epoch 19 Loss 0.4231\n",
      "Time taken for 1 epoch 14.896444082260132 sec\n",
      "\n",
      "Epoch 20 Batch 0 loss 0.40751489996910095\n",
      "Epoch 20 Loss 0.3880\n",
      "Time taken for 1 epoch 17.315748929977417 sec\n",
      "\n",
      "Epoch 21 Batch 0 loss 0.30110350251197815\n",
      "Epoch 21 Loss 0.3600\n",
      "Time taken for 1 epoch 15.590518236160278 sec\n",
      "\n",
      "Epoch 22 Batch 0 loss 0.2808133661746979\n",
      "Epoch 22 Loss 0.3294\n",
      "Time taken for 1 epoch 17.220454931259155 sec\n",
      "\n",
      "Epoch 23 Batch 0 loss 0.249847874045372\n",
      "Epoch 23 Loss 0.3121\n",
      "Time taken for 1 epoch 17.336084365844727 sec\n",
      "\n",
      "Epoch 24 Batch 0 loss 0.20109495520591736\n",
      "Epoch 24 Loss 0.2587\n",
      "Time taken for 1 epoch 17.47697901725769 sec\n",
      "\n",
      "Epoch 25 Batch 0 loss 0.17072443664073944\n",
      "Epoch 25 Loss 0.2377\n",
      "Time taken for 1 epoch 15.492393493652344 sec\n",
      "\n",
      "Epoch 26 Batch 0 loss 0.16991277039051056\n",
      "Epoch 26 Loss 0.2080\n",
      "Time taken for 1 epoch 16.159775733947754 sec\n",
      "\n",
      "Epoch 27 Batch 0 loss 0.14620669186115265\n",
      "Epoch 27 Loss 0.1853\n",
      "Time taken for 1 epoch 15.362324476242065 sec\n",
      "\n",
      "Epoch 28 Batch 0 loss 0.1881185919046402\n",
      "Epoch 28 Loss 0.1824\n",
      "Time taken for 1 epoch 15.564785480499268 sec\n",
      "\n",
      "Epoch 29 Batch 0 loss 0.12039210647344589\n",
      "Epoch 29 Loss 0.1730\n",
      "Time taken for 1 epoch 14.972396850585938 sec\n",
      "\n",
      "Epoch 30 Batch 0 loss 0.1001463308930397\n",
      "Epoch 30 Loss 0.1650\n",
      "Time taken for 1 epoch 15.829440593719482 sec\n",
      "\n",
      "Epoch 31 Batch 0 loss 0.10166935622692108\n",
      "Epoch 31 Loss 0.1333\n",
      "Time taken for 1 epoch 16.113062858581543 sec\n",
      "\n",
      "Epoch 32 Batch 0 loss 0.16309389472007751\n",
      "Epoch 32 Loss 0.1090\n",
      "Time taken for 1 epoch 21.3958477973938 sec\n",
      "\n",
      "Epoch 33 Batch 0 loss 0.10864855349063873\n",
      "Epoch 33 Loss 0.0955\n",
      "Time taken for 1 epoch 17.877502918243408 sec\n",
      "\n",
      "Epoch 34 Batch 0 loss 0.1148301362991333\n",
      "Epoch 34 Loss 0.0841\n",
      "Time taken for 1 epoch 15.274563074111938 sec\n",
      "\n",
      "Epoch 35 Batch 0 loss 0.06821391731500626\n",
      "Epoch 35 Loss 0.0819\n",
      "Time taken for 1 epoch 16.831135034561157 sec\n",
      "\n",
      "Epoch 36 Batch 0 loss 0.057889387011528015\n",
      "Epoch 36 Loss 0.0809\n",
      "Time taken for 1 epoch 18.11650276184082 sec\n",
      "\n",
      "Epoch 37 Batch 0 loss 0.0755137950181961\n",
      "Epoch 37 Loss 0.0690\n",
      "Time taken for 1 epoch 15.512812614440918 sec\n",
      "\n",
      "Epoch 38 Batch 0 loss 0.0402408204972744\n",
      "Epoch 38 Loss 0.0774\n",
      "Time taken for 1 epoch 16.72280979156494 sec\n",
      "\n",
      "Epoch 39 Batch 0 loss 0.0671321377158165\n",
      "Epoch 39 Loss 0.0700\n",
      "Time taken for 1 epoch 17.564203023910522 sec\n",
      "\n",
      "Epoch 40 Batch 0 loss 0.018803795799613\n",
      "Epoch 40 Loss 0.0603\n",
      "Time taken for 1 epoch 14.919557332992554 sec\n",
      "\n"
     ]
    }
   ],
   "source": [
    "EPOCHS = 40\n",
    "for epoch in range(EPOCHS):\n",
    "    start = time.time()\n",
    "\n",
    "    enc_hidden = encoder.initialize_hidden_state()\n",
    "    total_loss = 0\n",
    "\n",
    "    for (batch, (inp, targ)) in enumerate(dataset.take(steps_per_epoch)):\n",
    "        batch_loss = train_step(inp, targ, enc_hidden)\n",
    "        total_loss += batch_loss\n",
    "        if batch % 100 == 0:\n",
    "            print('Epoch {} Batch {} loss {}'.format(epoch + 1,batch, batch_loss.numpy()))\n",
    "   \n",
    "      \n",
    "  # saving (checkpoint) the model every 2 epochs\n",
    "    if (epoch + 1) % 2 == 0:\n",
    "        checkpoint.save(file_prefix = checkpoint_prefix)\n",
    "        \n",
    "    print('Epoch {} Loss {:.4f}'.format(epoch + 1,\n",
    "                                      total_loss / steps_per_epoch))\n",
    "    print('Time taken for 1 epoch {} sec\\n'.format(time.time() - start))"
   ]
  },
  {
   "cell_type": "code",
   "execution_count": 30,
   "metadata": {},
   "outputs": [],
   "source": [
    "def evaluate(sentence):\n",
    "    attention_plot = np.zeros((max_target_length, max_source_length))\n",
    "\n",
    "    sentence = preprocess_sentence(sentence)\n",
    "    #print(sentence)\n",
    "    #print(source_sentence_tokenizer.word_index)\n",
    "\n",
    "    inputs = [source_sentence_tokenizer.word_index[i] for i in sentence.split(' ')]\n",
    "    inputs = tf.keras.preprocessing.sequence.pad_sequences([inputs],\n",
    "                                                         maxlen=max_source_length,\n",
    "                                                         padding='post')\n",
    "    inputs = tf.convert_to_tensor(inputs)\n",
    "\n",
    "    result = ''\n",
    "\n",
    "    hidden = [tf.zeros((1, units))]\n",
    "    enc_out, enc_hidden = encoder(inputs, hidden)\n",
    "\n",
    "    dec_hidden = enc_hidden\n",
    "    dec_input = tf.expand_dims([target_sentence_tokenizer.word_index['start_']], 0)\n",
    "\n",
    "    for t in range(max_target_length):\n",
    "        predictions, dec_hidden, attention_weights = decoder(dec_input,\n",
    "                                                         dec_hidden,\n",
    "                                                         enc_out)\n",
    "\n",
    "        # storing the attention weights to plot later on\n",
    "        attention_weights = tf.reshape(attention_weights, (-1, ))\n",
    "        attention_plot[t] = attention_weights.numpy()\n",
    "\n",
    "        predicted_id = tf.argmax(predictions[0]).numpy()\n",
    "\n",
    "        result += target_sentence_tokenizer.index_word[predicted_id] + ' '\n",
    "\n",
    "        if target_sentence_tokenizer.index_word[predicted_id] == '_end':\n",
    "            return result, sentence, attention_plot\n",
    "\n",
    "        # the predicted ID is fed back into the model\n",
    "        dec_input = tf.expand_dims([predicted_id], 0)\n",
    "\n",
    "    return result, sentence, attention_plot"
   ]
  },
  {
   "cell_type": "code",
   "execution_count": 31,
   "metadata": {},
   "outputs": [],
   "source": [
    "# function for plotting the attention weights\n",
    "def plot_attention(attention, sentence, predicted_sentence):\n",
    "    fig = plt.figure(figsize=(10,10))\n",
    "    ax = fig.add_subplot(1, 1, 1)\n",
    "    ax.matshow(attention, cmap='viridis')\n",
    "\n",
    "    fontdict = {'fontsize': 14}\n",
    "\n",
    "    ax.set_xticklabels([''] + sentence, fontdict=fontdict, rotation=90)\n",
    "    ax.set_yticklabels([''] + predicted_sentence, fontdict=fontdict)\n",
    "\n",
    "    ax.xaxis.set_major_locator(ticker.MultipleLocator(1))\n",
    "    ax.yaxis.set_major_locator(ticker.MultipleLocator(1))\n",
    "\n",
    "    plt.show()"
   ]
  },
  {
   "cell_type": "code",
   "execution_count": 32,
   "metadata": {},
   "outputs": [],
   "source": [
    "def translate(sentence):\n",
    "    result, sentence, attention_plot = evaluate(sentence)\n",
    "  \n",
    "    print('Input: %s' % (sentence))\n",
    "    print('Predicted translation: {}'.format(result))\n",
    "\n",
    "    attention_plot = attention_plot[:len(result.split(' ')), :len(sentence.split(' '))]\n",
    "    plot_attention(attention_plot, sentence.split(' '), result.split(' '))"
   ]
  },
  {
   "cell_type": "code",
   "execution_count": 33,
   "metadata": {},
   "outputs": [
    {
     "data": {
      "text/plain": [
       "<tensorflow.python.training.tracking.util.CheckpointLoadStatus at 0x1c1b4334be0>"
      ]
     },
     "execution_count": 33,
     "metadata": {},
     "output_type": "execute_result"
    }
   ],
   "source": [
    "\n",
    "# restoring the latest checkpoint in checkpoint_dir\n",
    "checkpoint.restore(tf.train.latest_checkpoint(checkpoint_dir))"
   ]
  },
  {
   "cell_type": "code",
   "execution_count": 34,
   "metadata": {},
   "outputs": [
    {
     "name": "stdout",
     "output_type": "stream",
     "text": [
      "\n",
      "******* Luong Attention  STARTS******\n",
      "query (decoder hidden state): (batch_size, hidden size)  (1, 1024)\n",
      "values (encoder all hidden state): (batch_size, max_len, hidden size)  (1, 9, 1024)\n",
      "query_with_time_axis:(batch_size, 1, hidden size)  (1, 1, 1024)\n",
      "values_transposed:(batch_size, hidden size, max_len)  (1, 1024, 9)\n",
      "score: (batch_size, max_length, 1)  (1, 9, 1)\n",
      "attention_weights: (batch_size, max_length, 1)  (1, 9, 1)\n",
      "context_vector before reduce_sum: (batch_size, max_length, hidden_size)  (1, 9, 1024)\n",
      "context_vector after reduce_sum: (batch_size, hidden_size)  (1, 1024)\n",
      "\n",
      "******* Luong Attention ENDS******\n",
      "\n",
      "******* Luong Attention  STARTS******\n",
      "query (decoder hidden state): (batch_size, hidden size)  (1, 1024)\n",
      "values (encoder all hidden state): (batch_size, max_len, hidden size)  (1, 9, 1024)\n",
      "query_with_time_axis:(batch_size, 1, hidden size)  (1, 1, 1024)\n",
      "values_transposed:(batch_size, hidden size, max_len)  (1, 1024, 9)\n",
      "score: (batch_size, max_length, 1)  (1, 9, 1)\n",
      "attention_weights: (batch_size, max_length, 1)  (1, 9, 1)\n",
      "context_vector before reduce_sum: (batch_size, max_length, hidden_size)  (1, 9, 1024)\n",
      "context_vector after reduce_sum: (batch_size, hidden_size)  (1, 1024)\n",
      "\n",
      "******* Luong Attention ENDS******\n",
      "\n",
      "******* Luong Attention  STARTS******\n",
      "query (decoder hidden state): (batch_size, hidden size)  (1, 1024)\n",
      "values (encoder all hidden state): (batch_size, max_len, hidden size)  (1, 9, 1024)\n",
      "query_with_time_axis:(batch_size, 1, hidden size)  (1, 1, 1024)\n",
      "values_transposed:(batch_size, hidden size, max_len)  (1, 1024, 9)\n",
      "score: (batch_size, max_length, 1)  (1, 9, 1)\n",
      "attention_weights: (batch_size, max_length, 1)  (1, 9, 1)\n",
      "context_vector before reduce_sum: (batch_size, max_length, hidden_size)  (1, 9, 1024)\n",
      "context_vector after reduce_sum: (batch_size, hidden_size)  (1, 1024)\n",
      "\n",
      "******* Luong Attention ENDS******\n",
      "Input: start_ i come before _end\n",
      "Predicted translation: i came _end \n"
     ]
    },
    {
     "name": "stderr",
     "output_type": "stream",
     "text": [
      "<ipython-input-31-71f02795d875>:9: UserWarning: FixedFormatter should only be used together with FixedLocator\n",
      "  ax.set_xticklabels([''] + sentence, fontdict=fontdict, rotation=90)\n",
      "<ipython-input-31-71f02795d875>:10: UserWarning: FixedFormatter should only be used together with FixedLocator\n",
      "  ax.set_yticklabels([''] + predicted_sentence, fontdict=fontdict)\n"
     ]
    },
    {
     "data": {
      "image/png": "[encoded data removed]",
      "text/plain": [
       "<Figure size 720x720 with 1 Axes>"
      ]
     },
     "metadata": {
      "needs_background": "light"
     },
     "output_type": "display_data"
    }
   ],
   "source": [
    "translate(u'i come before')"
   ]
  },
  {
   "cell_type": "code",
   "execution_count": 35,
   "metadata": {},
   "outputs": [
    {
     "name": "stdout",
     "output_type": "stream",
     "text": [
      "\n",
      "******* Luong Attention  STARTS******\n",
      "query (decoder hidden state): (batch_size, hidden size)  (1, 1024)\n",
      "values (encoder all hidden state): (batch_size, max_len, hidden size)  (1, 9, 1024)\n",
      "query_with_time_axis:(batch_size, 1, hidden size)  (1, 1, 1024)\n",
      "values_transposed:(batch_size, hidden size, max_len)  (1, 1024, 9)\n",
      "score: (batch_size, max_length, 1)  (1, 9, 1)\n",
      "attention_weights: (batch_size, max_length, 1)  (1, 9, 1)\n",
      "context_vector before reduce_sum: (batch_size, max_length, hidden_size)  (1, 9, 1024)\n",
      "context_vector after reduce_sum: (batch_size, hidden_size)  (1, 1024)\n",
      "\n",
      "******* Luong Attention ENDS******\n",
      "\n",
      "******* Luong Attention  STARTS******\n",
      "query (decoder hidden state): (batch_size, hidden size)  (1, 1024)\n",
      "values (encoder all hidden state): (batch_size, max_len, hidden size)  (1, 9, 1024)\n",
      "query_with_time_axis:(batch_size, 1, hidden size)  (1, 1, 1024)\n",
      "values_transposed:(batch_size, hidden size, max_len)  (1, 1024, 9)\n",
      "score: (batch_size, max_length, 1)  (1, 9, 1)\n",
      "attention_weights: (batch_size, max_length, 1)  (1, 9, 1)\n",
      "context_vector before reduce_sum: (batch_size, max_length, hidden_size)  (1, 9, 1024)\n",
      "context_vector after reduce_sum: (batch_size, hidden_size)  (1, 1024)\n",
      "\n",
      "******* Luong Attention ENDS******\n",
      "\n",
      "******* Luong Attention  STARTS******\n",
      "query (decoder hidden state): (batch_size, hidden size)  (1, 1024)\n",
      "values (encoder all hidden state): (batch_size, max_len, hidden size)  (1, 9, 1024)\n",
      "query_with_time_axis:(batch_size, 1, hidden size)  (1, 1, 1024)\n",
      "values_transposed:(batch_size, hidden size, max_len)  (1, 1024, 9)\n",
      "score: (batch_size, max_length, 1)  (1, 9, 1)\n",
      "attention_weights: (batch_size, max_length, 1)  (1, 9, 1)\n",
      "context_vector before reduce_sum: (batch_size, max_length, hidden_size)  (1, 9, 1024)\n",
      "context_vector after reduce_sum: (batch_size, hidden_size)  (1, 1024)\n",
      "\n",
      "******* Luong Attention ENDS******\n",
      "\n",
      "******* Luong Attention  STARTS******\n",
      "query (decoder hidden state): (batch_size, hidden size)  (1, 1024)\n",
      "values (encoder all hidden state): (batch_size, max_len, hidden size)  (1, 9, 1024)\n",
      "query_with_time_axis:(batch_size, 1, hidden size)  (1, 1, 1024)\n",
      "values_transposed:(batch_size, hidden size, max_len)  (1, 1024, 9)\n",
      "score: (batch_size, max_length, 1)  (1, 9, 1)\n",
      "attention_weights: (batch_size, max_length, 1)  (1, 9, 1)\n",
      "context_vector before reduce_sum: (batch_size, max_length, hidden_size)  (1, 9, 1024)\n",
      "context_vector after reduce_sum: (batch_size, hidden_size)  (1, 1024)\n",
      "\n",
      "******* Luong Attention ENDS******\n",
      "Input: start_ food want _end\n",
      "Predicted translation: i want tea _end \n"
     ]
    },
    {
     "name": "stderr",
     "output_type": "stream",
     "text": [
      "<ipython-input-31-71f02795d875>:9: UserWarning: FixedFormatter should only be used together with FixedLocator\n",
      "  ax.set_xticklabels([''] + sentence, fontdict=fontdict, rotation=90)\n",
      "<ipython-input-31-71f02795d875>:10: UserWarning: FixedFormatter should only be used together with FixedLocator\n",
      "  ax.set_yticklabels([''] + predicted_sentence, fontdict=fontdict)\n"
     ]
    },
    {
     "data": {
      "image/png": "[encoded data removed]",
      "text/plain": [
       "<Figure size 720x720 with 1 Axes>"
      ]
     },
     "metadata": {
      "needs_background": "light"
     },
     "output_type": "display_data"
    }
   ],
   "source": [
    "translate(u'food want')"
   ]
  },
  {
   "cell_type": "code",
   "execution_count": 36,
   "metadata": {},
   "outputs": [
    {
     "name": "stdout",
     "output_type": "stream",
     "text": [
      "\n",
      "******* Luong Attention  STARTS******\n",
      "query (decoder hidden state): (batch_size, hidden size)  (1, 1024)\n",
      "values (encoder all hidden state): (batch_size, max_len, hidden size)  (1, 9, 1024)\n",
      "query_with_time_axis:(batch_size, 1, hidden size)  (1, 1, 1024)\n",
      "values_transposed:(batch_size, hidden size, max_len)  (1, 1024, 9)\n",
      "score: (batch_size, max_length, 1)  (1, 9, 1)\n",
      "attention_weights: (batch_size, max_length, 1)  (1, 9, 1)\n",
      "context_vector before reduce_sum: (batch_size, max_length, hidden_size)  (1, 9, 1024)\n",
      "context_vector after reduce_sum: (batch_size, hidden_size)  (1, 1024)\n",
      "\n",
      "******* Luong Attention ENDS******\n",
      "\n",
      "******* Luong Attention  STARTS******\n",
      "query (decoder hidden state): (batch_size, hidden size)  (1, 1024)\n",
      "values (encoder all hidden state): (batch_size, max_len, hidden size)  (1, 9, 1024)\n",
      "query_with_time_axis:(batch_size, 1, hidden size)  (1, 1, 1024)\n",
      "values_transposed:(batch_size, hidden size, max_len)  (1, 1024, 9)\n",
      "score: (batch_size, max_length, 1)  (1, 9, 1)\n",
      "attention_weights: (batch_size, max_length, 1)  (1, 9, 1)\n",
      "context_vector before reduce_sum: (batch_size, max_length, hidden_size)  (1, 9, 1024)\n",
      "context_vector after reduce_sum: (batch_size, hidden_size)  (1, 1024)\n",
      "\n",
      "******* Luong Attention ENDS******\n",
      "\n",
      "******* Luong Attention  STARTS******\n",
      "query (decoder hidden state): (batch_size, hidden size)  (1, 1024)\n",
      "values (encoder all hidden state): (batch_size, max_len, hidden size)  (1, 9, 1024)\n",
      "query_with_time_axis:(batch_size, 1, hidden size)  (1, 1, 1024)\n",
      "values_transposed:(batch_size, hidden size, max_len)  (1, 1024, 9)\n",
      "score: (batch_size, max_length, 1)  (1, 9, 1)\n",
      "attention_weights: (batch_size, max_length, 1)  (1, 9, 1)\n",
      "context_vector before reduce_sum: (batch_size, max_length, hidden_size)  (1, 9, 1024)\n",
      "context_vector after reduce_sum: (batch_size, hidden_size)  (1, 1024)\n",
      "\n",
      "******* Luong Attention ENDS******\n",
      "\n",
      "******* Luong Attention  STARTS******\n",
      "query (decoder hidden state): (batch_size, hidden size)  (1, 1024)\n",
      "values (encoder all hidden state): (batch_size, max_len, hidden size)  (1, 9, 1024)\n",
      "query_with_time_axis:(batch_size, 1, hidden size)  (1, 1, 1024)\n",
      "values_transposed:(batch_size, hidden size, max_len)  (1, 1024, 9)\n",
      "score: (batch_size, max_length, 1)  (1, 9, 1)\n",
      "attention_weights: (batch_size, max_length, 1)  (1, 9, 1)\n",
      "context_vector before reduce_sum: (batch_size, max_length, hidden_size)  (1, 9, 1024)\n",
      "context_vector after reduce_sum: (batch_size, hidden_size)  (1, 1024)\n",
      "\n",
      "******* Luong Attention ENDS******\n",
      "\n",
      "******* Luong Attention  STARTS******\n",
      "query (decoder hidden state): (batch_size, hidden size)  (1, 1024)\n",
      "values (encoder all hidden state): (batch_size, max_len, hidden size)  (1, 9, 1024)\n",
      "query_with_time_axis:(batch_size, 1, hidden size)  (1, 1, 1024)\n",
      "values_transposed:(batch_size, hidden size, max_len)  (1, 1024, 9)\n",
      "score: (batch_size, max_length, 1)  (1, 9, 1)\n",
      "attention_weights: (batch_size, max_length, 1)  (1, 9, 1)\n",
      "context_vector before reduce_sum: (batch_size, max_length, hidden_size)  (1, 9, 1024)\n",
      "context_vector after reduce_sum: (batch_size, hidden_size)  (1, 1024)\n",
      "\n",
      "******* Luong Attention ENDS******\n",
      "Input: start_ i stay pune _end\n",
      "Predicted translation: i stay in pune _end \n"
     ]
    },
    {
     "name": "stderr",
     "output_type": "stream",
     "text": [
      "<ipython-input-31-71f02795d875>:9: UserWarning: FixedFormatter should only be used together with FixedLocator\n",
      "  ax.set_xticklabels([''] + sentence, fontdict=fontdict, rotation=90)\n",
      "<ipython-input-31-71f02795d875>:10: UserWarning: FixedFormatter should only be used together with FixedLocator\n",
      "  ax.set_yticklabels([''] + predicted_sentence, fontdict=fontdict)\n"
     ]
    },
    {
     "data": {
      "image/png": "[encoded data removed]",
      "text/plain": [
       "<Figure size 720x720 with 1 Axes>"
      ]
     },
     "metadata": {
      "needs_background": "light"
     },
     "output_type": "display_data"
    }
   ],
   "source": [
    "translate(u'i stay pune')"
   ]
  },
  {
   "cell_type": "code",
   "execution_count": 37,
   "metadata": {},
   "outputs": [
    {
     "name": "stdout",
     "output_type": "stream",
     "text": [
      "\n",
      "******* Luong Attention  STARTS******\n",
      "query (decoder hidden state): (batch_size, hidden size)  (1, 1024)\n",
      "values (encoder all hidden state): (batch_size, max_len, hidden size)  (1, 9, 1024)\n",
      "query_with_time_axis:(batch_size, 1, hidden size)  (1, 1, 1024)\n",
      "values_transposed:(batch_size, hidden size, max_len)  (1, 1024, 9)\n",
      "score: (batch_size, max_length, 1)  (1, 9, 1)\n",
      "attention_weights: (batch_size, max_length, 1)  (1, 9, 1)\n",
      "context_vector before reduce_sum: (batch_size, max_length, hidden_size)  (1, 9, 1024)\n",
      "context_vector after reduce_sum: (batch_size, hidden_size)  (1, 1024)\n",
      "\n",
      "******* Luong Attention ENDS******\n",
      "\n",
      "******* Luong Attention  STARTS******\n",
      "query (decoder hidden state): (batch_size, hidden size)  (1, 1024)\n",
      "values (encoder all hidden state): (batch_size, max_len, hidden size)  (1, 9, 1024)\n",
      "query_with_time_axis:(batch_size, 1, hidden size)  (1, 1, 1024)\n",
      "values_transposed:(batch_size, hidden size, max_len)  (1, 1024, 9)\n",
      "score: (batch_size, max_length, 1)  (1, 9, 1)\n",
      "attention_weights: (batch_size, max_length, 1)  (1, 9, 1)\n",
      "context_vector before reduce_sum: (batch_size, max_length, hidden_size)  (1, 9, 1024)\n",
      "context_vector after reduce_sum: (batch_size, hidden_size)  (1, 1024)\n",
      "\n",
      "******* Luong Attention ENDS******\n",
      "\n",
      "******* Luong Attention  STARTS******\n",
      "query (decoder hidden state): (batch_size, hidden size)  (1, 1024)\n",
      "values (encoder all hidden state): (batch_size, max_len, hidden size)  (1, 9, 1024)\n",
      "query_with_time_axis:(batch_size, 1, hidden size)  (1, 1, 1024)\n",
      "values_transposed:(batch_size, hidden size, max_len)  (1, 1024, 9)\n",
      "score: (batch_size, max_length, 1)  (1, 9, 1)\n",
      "attention_weights: (batch_size, max_length, 1)  (1, 9, 1)\n",
      "context_vector before reduce_sum: (batch_size, max_length, hidden_size)  (1, 9, 1024)\n",
      "context_vector after reduce_sum: (batch_size, hidden_size)  (1, 1024)\n",
      "\n",
      "******* Luong Attention ENDS******\n",
      "\n",
      "******* Luong Attention  STARTS******\n",
      "query (decoder hidden state): (batch_size, hidden size)  (1, 1024)\n",
      "values (encoder all hidden state): (batch_size, max_len, hidden size)  (1, 9, 1024)\n",
      "query_with_time_axis:(batch_size, 1, hidden size)  (1, 1, 1024)\n",
      "values_transposed:(batch_size, hidden size, max_len)  (1, 1024, 9)\n",
      "score: (batch_size, max_length, 1)  (1, 9, 1)\n",
      "attention_weights: (batch_size, max_length, 1)  (1, 9, 1)\n",
      "context_vector before reduce_sum: (batch_size, max_length, hidden_size)  (1, 9, 1024)\n",
      "context_vector after reduce_sum: (batch_size, hidden_size)  (1, 1024)\n",
      "\n",
      "******* Luong Attention ENDS******\n",
      "\n",
      "******* Luong Attention  STARTS******\n",
      "query (decoder hidden state): (batch_size, hidden size)  (1, 1024)\n",
      "values (encoder all hidden state): (batch_size, max_len, hidden size)  (1, 9, 1024)\n",
      "query_with_time_axis:(batch_size, 1, hidden size)  (1, 1, 1024)\n",
      "values_transposed:(batch_size, hidden size, max_len)  (1, 1024, 9)\n",
      "score: (batch_size, max_length, 1)  (1, 9, 1)\n",
      "attention_weights: (batch_size, max_length, 1)  (1, 9, 1)\n",
      "context_vector before reduce_sum: (batch_size, max_length, hidden_size)  (1, 9, 1024)\n",
      "context_vector after reduce_sum: (batch_size, hidden_size)  (1, 1024)\n",
      "\n",
      "******* Luong Attention ENDS******\n",
      "\n",
      "******* Luong Attention  STARTS******\n",
      "query (decoder hidden state): (batch_size, hidden size)  (1, 1024)\n",
      "values (encoder all hidden state): (batch_size, max_len, hidden size)  (1, 9, 1024)\n",
      "query_with_time_axis:(batch_size, 1, hidden size)  (1, 1, 1024)\n",
      "values_transposed:(batch_size, hidden size, max_len)  (1, 1024, 9)\n",
      "score: (batch_size, max_length, 1)  (1, 9, 1)\n",
      "attention_weights: (batch_size, max_length, 1)  (1, 9, 1)\n",
      "context_vector before reduce_sum: (batch_size, max_length, hidden_size)  (1, 9, 1024)\n",
      "context_vector after reduce_sum: (batch_size, hidden_size)  (1, 1024)\n",
      "\n",
      "******* Luong Attention ENDS******\n",
      "Input: start_ bank where _end\n",
      "Predicted translation: where is the bank ? _end \n"
     ]
    },
    {
     "name": "stderr",
     "output_type": "stream",
     "text": [
      "<ipython-input-31-71f02795d875>:9: UserWarning: FixedFormatter should only be used together with FixedLocator\n",
      "  ax.set_xticklabels([''] + sentence, fontdict=fontdict, rotation=90)\n",
      "<ipython-input-31-71f02795d875>:10: UserWarning: FixedFormatter should only be used together with FixedLocator\n",
      "  ax.set_yticklabels([''] + predicted_sentence, fontdict=fontdict)\n"
     ]
    },
    {
     "data": {
      "image/png": "[encoded data removed]",
      "text/plain": [
       "<Figure size 720x720 with 1 Axes>"
      ]
     },
     "metadata": {
      "needs_background": "light"
     },
     "output_type": "display_data"
    }
   ],
   "source": [
    "translate(u'bank where')"
   ]
  },
  {
   "cell_type": "code",
   "execution_count": 38,
   "metadata": {},
   "outputs": [
    {
     "name": "stdout",
     "output_type": "stream",
     "text": [
      "\n",
      "******* Luong Attention  STARTS******\n",
      "query (decoder hidden state): (batch_size, hidden size)  (1, 1024)\n",
      "values (encoder all hidden state): (batch_size, max_len, hidden size)  (1, 9, 1024)\n",
      "query_with_time_axis:(batch_size, 1, hidden size)  (1, 1, 1024)\n",
      "values_transposed:(batch_size, hidden size, max_len)  (1, 1024, 9)\n",
      "score: (batch_size, max_length, 1)  (1, 9, 1)\n",
      "attention_weights: (batch_size, max_length, 1)  (1, 9, 1)\n",
      "context_vector before reduce_sum: (batch_size, max_length, hidden_size)  (1, 9, 1024)\n",
      "context_vector after reduce_sum: (batch_size, hidden_size)  (1, 1024)\n",
      "\n",
      "******* Luong Attention ENDS******\n",
      "\n",
      "******* Luong Attention  STARTS******\n",
      "query (decoder hidden state): (batch_size, hidden size)  (1, 1024)\n",
      "values (encoder all hidden state): (batch_size, max_len, hidden size)  (1, 9, 1024)\n",
      "query_with_time_axis:(batch_size, 1, hidden size)  (1, 1, 1024)\n",
      "values_transposed:(batch_size, hidden size, max_len)  (1, 1024, 9)\n",
      "score: (batch_size, max_length, 1)  (1, 9, 1)\n",
      "attention_weights: (batch_size, max_length, 1)  (1, 9, 1)\n",
      "context_vector before reduce_sum: (batch_size, max_length, hidden_size)  (1, 9, 1024)\n",
      "context_vector after reduce_sum: (batch_size, hidden_size)  (1, 1024)\n",
      "\n",
      "******* Luong Attention ENDS******\n",
      "\n",
      "******* Luong Attention  STARTS******\n",
      "query (decoder hidden state): (batch_size, hidden size)  (1, 1024)\n",
      "values (encoder all hidden state): (batch_size, max_len, hidden size)  (1, 9, 1024)\n",
      "query_with_time_axis:(batch_size, 1, hidden size)  (1, 1, 1024)\n",
      "values_transposed:(batch_size, hidden size, max_len)  (1, 1024, 9)\n",
      "score: (batch_size, max_length, 1)  (1, 9, 1)\n",
      "attention_weights: (batch_size, max_length, 1)  (1, 9, 1)\n",
      "context_vector before reduce_sum: (batch_size, max_length, hidden_size)  (1, 9, 1024)\n",
      "context_vector after reduce_sum: (batch_size, hidden_size)  (1, 1024)\n",
      "\n",
      "******* Luong Attention ENDS******\n",
      "\n",
      "******* Luong Attention  STARTS******\n",
      "query (decoder hidden state): (batch_size, hidden size)  (1, 1024)\n",
      "values (encoder all hidden state): (batch_size, max_len, hidden size)  (1, 9, 1024)\n",
      "query_with_time_axis:(batch_size, 1, hidden size)  (1, 1, 1024)\n",
      "values_transposed:(batch_size, hidden size, max_len)  (1, 1024, 9)\n",
      "score: (batch_size, max_length, 1)  (1, 9, 1)\n",
      "attention_weights: (batch_size, max_length, 1)  (1, 9, 1)\n",
      "context_vector before reduce_sum: (batch_size, max_length, hidden_size)  (1, 9, 1024)\n",
      "context_vector after reduce_sum: (batch_size, hidden_size)  (1, 1024)\n",
      "\n",
      "******* Luong Attention ENDS******\n",
      "\n",
      "******* Luong Attention  STARTS******\n",
      "query (decoder hidden state): (batch_size, hidden size)  (1, 1024)\n",
      "values (encoder all hidden state): (batch_size, max_len, hidden size)  (1, 9, 1024)\n",
      "query_with_time_axis:(batch_size, 1, hidden size)  (1, 1, 1024)\n",
      "values_transposed:(batch_size, hidden size, max_len)  (1, 1024, 9)\n",
      "score: (batch_size, max_length, 1)  (1, 9, 1)\n",
      "attention_weights: (batch_size, max_length, 1)  (1, 9, 1)\n",
      "context_vector before reduce_sum: (batch_size, max_length, hidden_size)  (1, 9, 1024)\n",
      "context_vector after reduce_sum: (batch_size, hidden_size)  (1, 1024)\n",
      "\n",
      "******* Luong Attention ENDS******\n",
      "Input: start_ i understand not _end\n",
      "Predicted translation: i did not understand _end \n"
     ]
    },
    {
     "name": "stderr",
     "output_type": "stream",
     "text": [
      "<ipython-input-31-71f02795d875>:9: UserWarning: FixedFormatter should only be used together with FixedLocator\n",
      "  ax.set_xticklabels([''] + sentence, fontdict=fontdict, rotation=90)\n",
      "<ipython-input-31-71f02795d875>:10: UserWarning: FixedFormatter should only be used together with FixedLocator\n",
      "  ax.set_yticklabels([''] + predicted_sentence, fontdict=fontdict)\n"
     ]
    },
    {
     "data": {
      "image/png": "[encoded data removed]",
      "text/plain": [
       "<Figure size 720x720 with 1 Axes>"
      ]
     },
     "metadata": {
      "needs_background": "light"
     },
     "output_type": "display_data"
    }
   ],
   "source": [
    "translate(u'i understand not')"
   ]
  },
  {
   "cell_type": "code",
   "execution_count": 39,
   "metadata": {},
   "outputs": [
    {
     "name": "stdout",
     "output_type": "stream",
     "text": [
      "\n",
      "******* Luong Attention  STARTS******\n",
      "query (decoder hidden state): (batch_size, hidden size)  (1, 1024)\n",
      "values (encoder all hidden state): (batch_size, max_len, hidden size)  (1, 9, 1024)\n",
      "query_with_time_axis:(batch_size, 1, hidden size)  (1, 1, 1024)\n",
      "values_transposed:(batch_size, hidden size, max_len)  (1, 1024, 9)\n",
      "score: (batch_size, max_length, 1)  (1, 9, 1)\n",
      "attention_weights: (batch_size, max_length, 1)  (1, 9, 1)\n",
      "context_vector before reduce_sum: (batch_size, max_length, hidden_size)  (1, 9, 1024)\n",
      "context_vector after reduce_sum: (batch_size, hidden_size)  (1, 1024)\n",
      "\n",
      "******* Luong Attention ENDS******\n",
      "\n",
      "******* Luong Attention  STARTS******\n",
      "query (decoder hidden state): (batch_size, hidden size)  (1, 1024)\n",
      "values (encoder all hidden state): (batch_size, max_len, hidden size)  (1, 9, 1024)\n",
      "query_with_time_axis:(batch_size, 1, hidden size)  (1, 1, 1024)\n",
      "values_transposed:(batch_size, hidden size, max_len)  (1, 1024, 9)\n",
      "score: (batch_size, max_length, 1)  (1, 9, 1)\n",
      "attention_weights: (batch_size, max_length, 1)  (1, 9, 1)\n",
      "context_vector before reduce_sum: (batch_size, max_length, hidden_size)  (1, 9, 1024)\n",
      "context_vector after reduce_sum: (batch_size, hidden_size)  (1, 1024)\n",
      "\n",
      "******* Luong Attention ENDS******\n",
      "\n",
      "******* Luong Attention  STARTS******\n",
      "query (decoder hidden state): (batch_size, hidden size)  (1, 1024)\n",
      "values (encoder all hidden state): (batch_size, max_len, hidden size)  (1, 9, 1024)\n",
      "query_with_time_axis:(batch_size, 1, hidden size)  (1, 1, 1024)\n",
      "values_transposed:(batch_size, hidden size, max_len)  (1, 1024, 9)\n",
      "score: (batch_size, max_length, 1)  (1, 9, 1)\n",
      "attention_weights: (batch_size, max_length, 1)  (1, 9, 1)\n",
      "context_vector before reduce_sum: (batch_size, max_length, hidden_size)  (1, 9, 1024)\n",
      "context_vector after reduce_sum: (batch_size, hidden_size)  (1, 1024)\n",
      "\n",
      "******* Luong Attention ENDS******\n",
      "\n",
      "******* Luong Attention  STARTS******\n",
      "query (decoder hidden state): (batch_size, hidden size)  (1, 1024)\n",
      "values (encoder all hidden state): (batch_size, max_len, hidden size)  (1, 9, 1024)\n",
      "query_with_time_axis:(batch_size, 1, hidden size)  (1, 1, 1024)\n",
      "values_transposed:(batch_size, hidden size, max_len)  (1, 1024, 9)\n",
      "score: (batch_size, max_length, 1)  (1, 9, 1)\n",
      "attention_weights: (batch_size, max_length, 1)  (1, 9, 1)\n",
      "context_vector before reduce_sum: (batch_size, max_length, hidden_size)  (1, 9, 1024)\n",
      "context_vector after reduce_sum: (batch_size, hidden_size)  (1, 1024)\n",
      "\n",
      "******* Luong Attention ENDS******\n",
      "\n",
      "******* Luong Attention  STARTS******\n",
      "query (decoder hidden state): (batch_size, hidden size)  (1, 1024)\n",
      "values (encoder all hidden state): (batch_size, max_len, hidden size)  (1, 9, 1024)\n",
      "query_with_time_axis:(batch_size, 1, hidden size)  (1, 1, 1024)\n",
      "values_transposed:(batch_size, hidden size, max_len)  (1, 1024, 9)\n",
      "score: (batch_size, max_length, 1)  (1, 9, 1)\n",
      "attention_weights: (batch_size, max_length, 1)  (1, 9, 1)\n",
      "context_vector before reduce_sum: (batch_size, max_length, hidden_size)  (1, 9, 1024)\n",
      "context_vector after reduce_sum: (batch_size, hidden_size)  (1, 1024)\n",
      "\n",
      "******* Luong Attention ENDS******\n",
      "Input: start_ father clerk _end\n",
      "Predicted translation: he was a clerk _end \n"
     ]
    },
    {
     "name": "stderr",
     "output_type": "stream",
     "text": [
      "<ipython-input-31-71f02795d875>:9: UserWarning: FixedFormatter should only be used together with FixedLocator\n",
      "  ax.set_xticklabels([''] + sentence, fontdict=fontdict, rotation=90)\n",
      "<ipython-input-31-71f02795d875>:10: UserWarning: FixedFormatter should only be used together with FixedLocator\n",
      "  ax.set_yticklabels([''] + predicted_sentence, fontdict=fontdict)\n"
     ]
    },
    {
     "data": {
      "image/png": "[encoded data removed]",
      "text/plain": [
       "<Figure size 720x720 with 1 Axes>"
      ]
     },
     "metadata": {
      "needs_background": "light"
     },
     "output_type": "display_data"
    }
   ],
   "source": [
    "translate(u'father clerk')"
   ]
  },
  {
   "cell_type": "code",
   "execution_count": 40,
   "metadata": {},
   "outputs": [
    {
     "name": "stdout",
     "output_type": "stream",
     "text": [
      "\n",
      "******* Luong Attention  STARTS******\n",
      "query (decoder hidden state): (batch_size, hidden size)  (1, 1024)\n",
      "values (encoder all hidden state): (batch_size, max_len, hidden size)  (1, 9, 1024)\n",
      "query_with_time_axis:(batch_size, 1, hidden size)  (1, 1, 1024)\n",
      "values_transposed:(batch_size, hidden size, max_len)  (1, 1024, 9)\n",
      "score: (batch_size, max_length, 1)  (1, 9, 1)\n",
      "attention_weights: (batch_size, max_length, 1)  (1, 9, 1)\n",
      "context_vector before reduce_sum: (batch_size, max_length, hidden_size)  (1, 9, 1024)\n",
      "context_vector after reduce_sum: (batch_size, hidden_size)  (1, 1024)\n",
      "\n",
      "******* Luong Attention ENDS******\n",
      "\n",
      "******* Luong Attention  STARTS******\n",
      "query (decoder hidden state): (batch_size, hidden size)  (1, 1024)\n",
      "values (encoder all hidden state): (batch_size, max_len, hidden size)  (1, 9, 1024)\n",
      "query_with_time_axis:(batch_size, 1, hidden size)  (1, 1, 1024)\n",
      "values_transposed:(batch_size, hidden size, max_len)  (1, 1024, 9)\n",
      "score: (batch_size, max_length, 1)  (1, 9, 1)\n",
      "attention_weights: (batch_size, max_length, 1)  (1, 9, 1)\n",
      "context_vector before reduce_sum: (batch_size, max_length, hidden_size)  (1, 9, 1024)\n",
      "context_vector after reduce_sum: (batch_size, hidden_size)  (1, 1024)\n",
      "\n",
      "******* Luong Attention ENDS******\n",
      "\n",
      "******* Luong Attention  STARTS******\n",
      "query (decoder hidden state): (batch_size, hidden size)  (1, 1024)\n",
      "values (encoder all hidden state): (batch_size, max_len, hidden size)  (1, 9, 1024)\n",
      "query_with_time_axis:(batch_size, 1, hidden size)  (1, 1, 1024)\n",
      "values_transposed:(batch_size, hidden size, max_len)  (1, 1024, 9)\n",
      "score: (batch_size, max_length, 1)  (1, 9, 1)\n",
      "attention_weights: (batch_size, max_length, 1)  (1, 9, 1)\n",
      "context_vector before reduce_sum: (batch_size, max_length, hidden_size)  (1, 9, 1024)\n",
      "context_vector after reduce_sum: (batch_size, hidden_size)  (1, 1024)\n",
      "\n",
      "******* Luong Attention ENDS******\n",
      "\n",
      "******* Luong Attention  STARTS******\n",
      "query (decoder hidden state): (batch_size, hidden size)  (1, 1024)\n",
      "values (encoder all hidden state): (batch_size, max_len, hidden size)  (1, 9, 1024)\n",
      "query_with_time_axis:(batch_size, 1, hidden size)  (1, 1, 1024)\n",
      "values_transposed:(batch_size, hidden size, max_len)  (1, 1024, 9)\n",
      "score: (batch_size, max_length, 1)  (1, 9, 1)\n",
      "attention_weights: (batch_size, max_length, 1)  (1, 9, 1)\n",
      "context_vector before reduce_sum: (batch_size, max_length, hidden_size)  (1, 9, 1024)\n",
      "context_vector after reduce_sum: (batch_size, hidden_size)  (1, 1024)\n",
      "\n",
      "******* Luong Attention ENDS******\n",
      "\n",
      "******* Luong Attention  STARTS******\n",
      "query (decoder hidden state): (batch_size, hidden size)  (1, 1024)\n",
      "values (encoder all hidden state): (batch_size, max_len, hidden size)  (1, 9, 1024)\n",
      "query_with_time_axis:(batch_size, 1, hidden size)  (1, 1, 1024)\n",
      "values_transposed:(batch_size, hidden size, max_len)  (1, 1024, 9)\n",
      "score: (batch_size, max_length, 1)  (1, 9, 1)\n",
      "attention_weights: (batch_size, max_length, 1)  (1, 9, 1)\n",
      "context_vector before reduce_sum: (batch_size, max_length, hidden_size)  (1, 9, 1024)\n",
      "context_vector after reduce_sum: (batch_size, hidden_size)  (1, 1024)\n",
      "\n",
      "******* Luong Attention ENDS******\n",
      "\n",
      "******* Luong Attention  STARTS******\n",
      "query (decoder hidden state): (batch_size, hidden size)  (1, 1024)\n",
      "values (encoder all hidden state): (batch_size, max_len, hidden size)  (1, 9, 1024)\n",
      "query_with_time_axis:(batch_size, 1, hidden size)  (1, 1, 1024)\n",
      "values_transposed:(batch_size, hidden size, max_len)  (1, 1024, 9)\n",
      "score: (batch_size, max_length, 1)  (1, 9, 1)\n",
      "attention_weights: (batch_size, max_length, 1)  (1, 9, 1)\n",
      "context_vector before reduce_sum: (batch_size, max_length, hidden_size)  (1, 9, 1024)\n",
      "context_vector after reduce_sum: (batch_size, hidden_size)  (1, 1024)\n",
      "\n",
      "******* Luong Attention ENDS******\n",
      "Input: start_ you name what _end\n",
      "Predicted translation: what is your age ? _end \n"
     ]
    },
    {
     "name": "stderr",
     "output_type": "stream",
     "text": [
      "<ipython-input-31-71f02795d875>:9: UserWarning: FixedFormatter should only be used together with FixedLocator\n",
      "  ax.set_xticklabels([''] + sentence, fontdict=fontdict, rotation=90)\n",
      "<ipython-input-31-71f02795d875>:10: UserWarning: FixedFormatter should only be used together with FixedLocator\n",
      "  ax.set_yticklabels([''] + predicted_sentence, fontdict=fontdict)\n"
     ]
    },
    {
     "data": {
      "image/png": "[encoded data removed]",
      "text/plain": [
       "<Figure size 720x720 with 1 Axes>"
      ]
     },
     "metadata": {
      "needs_background": "light"
     },
     "output_type": "display_data"
    }
   ],
   "source": [
    "translate(u'you name what')"
   ]
  },
  {
   "cell_type": "code",
   "execution_count": 41,
   "metadata": {},
   "outputs": [
    {
     "name": "stdout",
     "output_type": "stream",
     "text": [
      "\n",
      "******* Luong Attention  STARTS******\n",
      "query (decoder hidden state): (batch_size, hidden size)  (1, 1024)\n",
      "values (encoder all hidden state): (batch_size, max_len, hidden size)  (1, 9, 1024)\n",
      "query_with_time_axis:(batch_size, 1, hidden size)  (1, 1, 1024)\n",
      "values_transposed:(batch_size, hidden size, max_len)  (1, 1024, 9)\n",
      "score: (batch_size, max_length, 1)  (1, 9, 1)\n",
      "attention_weights: (batch_size, max_length, 1)  (1, 9, 1)\n",
      "context_vector before reduce_sum: (batch_size, max_length, hidden_size)  (1, 9, 1024)\n",
      "context_vector after reduce_sum: (batch_size, hidden_size)  (1, 1024)\n",
      "\n",
      "******* Luong Attention ENDS******\n",
      "\n",
      "******* Luong Attention  STARTS******\n",
      "query (decoder hidden state): (batch_size, hidden size)  (1, 1024)\n",
      "values (encoder all hidden state): (batch_size, max_len, hidden size)  (1, 9, 1024)\n",
      "query_with_time_axis:(batch_size, 1, hidden size)  (1, 1, 1024)\n",
      "values_transposed:(batch_size, hidden size, max_len)  (1, 1024, 9)\n",
      "score: (batch_size, max_length, 1)  (1, 9, 1)\n",
      "attention_weights: (batch_size, max_length, 1)  (1, 9, 1)\n",
      "context_vector before reduce_sum: (batch_size, max_length, hidden_size)  (1, 9, 1024)\n",
      "context_vector after reduce_sum: (batch_size, hidden_size)  (1, 1024)\n",
      "\n",
      "******* Luong Attention ENDS******\n",
      "\n",
      "******* Luong Attention  STARTS******\n",
      "query (decoder hidden state): (batch_size, hidden size)  (1, 1024)\n",
      "values (encoder all hidden state): (batch_size, max_len, hidden size)  (1, 9, 1024)\n",
      "query_with_time_axis:(batch_size, 1, hidden size)  (1, 1, 1024)\n",
      "values_transposed:(batch_size, hidden size, max_len)  (1, 1024, 9)\n",
      "score: (batch_size, max_length, 1)  (1, 9, 1)\n",
      "attention_weights: (batch_size, max_length, 1)  (1, 9, 1)\n",
      "context_vector before reduce_sum: (batch_size, max_length, hidden_size)  (1, 9, 1024)\n",
      "context_vector after reduce_sum: (batch_size, hidden_size)  (1, 1024)\n",
      "\n",
      "******* Luong Attention ENDS******\n",
      "\n",
      "******* Luong Attention  STARTS******\n",
      "query (decoder hidden state): (batch_size, hidden size)  (1, 1024)\n",
      "values (encoder all hidden state): (batch_size, max_len, hidden size)  (1, 9, 1024)\n",
      "query_with_time_axis:(batch_size, 1, hidden size)  (1, 1, 1024)\n",
      "values_transposed:(batch_size, hidden size, max_len)  (1, 1024, 9)\n",
      "score: (batch_size, max_length, 1)  (1, 9, 1)\n",
      "attention_weights: (batch_size, max_length, 1)  (1, 9, 1)\n",
      "context_vector before reduce_sum: (batch_size, max_length, hidden_size)  (1, 9, 1024)\n",
      "context_vector after reduce_sum: (batch_size, hidden_size)  (1, 1024)\n",
      "\n",
      "******* Luong Attention ENDS******\n",
      "\n",
      "******* Luong Attention  STARTS******\n",
      "query (decoder hidden state): (batch_size, hidden size)  (1, 1024)\n",
      "values (encoder all hidden state): (batch_size, max_len, hidden size)  (1, 9, 1024)\n",
      "query_with_time_axis:(batch_size, 1, hidden size)  (1, 1, 1024)\n",
      "values_transposed:(batch_size, hidden size, max_len)  (1, 1024, 9)\n",
      "score: (batch_size, max_length, 1)  (1, 9, 1)\n",
      "attention_weights: (batch_size, max_length, 1)  (1, 9, 1)\n",
      "context_vector before reduce_sum: (batch_size, max_length, hidden_size)  (1, 9, 1024)\n",
      "context_vector after reduce_sum: (batch_size, hidden_size)  (1, 1024)\n",
      "\n",
      "******* Luong Attention ENDS******\n",
      "\n",
      "******* Luong Attention  STARTS******\n",
      "query (decoder hidden state): (batch_size, hidden size)  (1, 1024)\n",
      "values (encoder all hidden state): (batch_size, max_len, hidden size)  (1, 9, 1024)\n",
      "query_with_time_axis:(batch_size, 1, hidden size)  (1, 1, 1024)\n",
      "values_transposed:(batch_size, hidden size, max_len)  (1, 1024, 9)\n",
      "score: (batch_size, max_length, 1)  (1, 9, 1)\n",
      "attention_weights: (batch_size, max_length, 1)  (1, 9, 1)\n",
      "context_vector before reduce_sum: (batch_size, max_length, hidden_size)  (1, 9, 1024)\n",
      "context_vector after reduce_sum: (batch_size, hidden_size)  (1, 1024)\n",
      "\n",
      "******* Luong Attention ENDS******\n",
      "\n",
      "******* Luong Attention  STARTS******\n",
      "query (decoder hidden state): (batch_size, hidden size)  (1, 1024)\n",
      "values (encoder all hidden state): (batch_size, max_len, hidden size)  (1, 9, 1024)\n",
      "query_with_time_axis:(batch_size, 1, hidden size)  (1, 1, 1024)\n",
      "values_transposed:(batch_size, hidden size, max_len)  (1, 1024, 9)\n",
      "score: (batch_size, max_length, 1)  (1, 9, 1)\n",
      "attention_weights: (batch_size, max_length, 1)  (1, 9, 1)\n",
      "context_vector before reduce_sum: (batch_size, max_length, hidden_size)  (1, 9, 1024)\n",
      "context_vector after reduce_sum: (batch_size, hidden_size)  (1, 1024)\n",
      "\n",
      "******* Luong Attention ENDS******\n",
      "Input: start_ tomorrow together we go _end\n",
      "Predicted translation: we will go together tomorrow ? _end \n"
     ]
    },
    {
     "name": "stderr",
     "output_type": "stream",
     "text": [
      "<ipython-input-31-71f02795d875>:9: UserWarning: FixedFormatter should only be used together with FixedLocator\n",
      "  ax.set_xticklabels([''] + sentence, fontdict=fontdict, rotation=90)\n",
      "<ipython-input-31-71f02795d875>:10: UserWarning: FixedFormatter should only be used together with FixedLocator\n",
      "  ax.set_yticklabels([''] + predicted_sentence, fontdict=fontdict)\n"
     ]
    },
    {
     "data": {
      "image/png": "[encoded data removed]",
      "text/plain": [
       "<Figure size 720x720 with 1 Axes>"
      ]
     },
     "metadata": {
      "needs_background": "light"
     },
     "output_type": "display_data"
    }
   ],
   "source": [
    "translate(u'tomorrow together we go')"
   ]
  },
  {
   "cell_type": "code",
   "execution_count": 42,
   "metadata": {},
   "outputs": [
    {
     "name": "stdout",
     "output_type": "stream",
     "text": [
      "\n",
      "******* Luong Attention  STARTS******\n",
      "query (decoder hidden state): (batch_size, hidden size)  (1, 1024)\n",
      "values (encoder all hidden state): (batch_size, max_len, hidden size)  (1, 9, 1024)\n",
      "query_with_time_axis:(batch_size, 1, hidden size)  (1, 1, 1024)\n",
      "values_transposed:(batch_size, hidden size, max_len)  (1, 1024, 9)\n",
      "score: (batch_size, max_length, 1)  (1, 9, 1)\n",
      "attention_weights: (batch_size, max_length, 1)  (1, 9, 1)\n",
      "context_vector before reduce_sum: (batch_size, max_length, hidden_size)  (1, 9, 1024)\n",
      "context_vector after reduce_sum: (batch_size, hidden_size)  (1, 1024)\n",
      "\n",
      "******* Luong Attention ENDS******\n",
      "\n",
      "******* Luong Attention  STARTS******\n",
      "query (decoder hidden state): (batch_size, hidden size)  (1, 1024)\n",
      "values (encoder all hidden state): (batch_size, max_len, hidden size)  (1, 9, 1024)\n",
      "query_with_time_axis:(batch_size, 1, hidden size)  (1, 1, 1024)\n",
      "values_transposed:(batch_size, hidden size, max_len)  (1, 1024, 9)\n",
      "score: (batch_size, max_length, 1)  (1, 9, 1)\n",
      "attention_weights: (batch_size, max_length, 1)  (1, 9, 1)\n",
      "context_vector before reduce_sum: (batch_size, max_length, hidden_size)  (1, 9, 1024)\n",
      "context_vector after reduce_sum: (batch_size, hidden_size)  (1, 1024)\n",
      "\n",
      "******* Luong Attention ENDS******\n",
      "\n",
      "******* Luong Attention  STARTS******\n",
      "query (decoder hidden state): (batch_size, hidden size)  (1, 1024)\n",
      "values (encoder all hidden state): (batch_size, max_len, hidden size)  (1, 9, 1024)\n",
      "query_with_time_axis:(batch_size, 1, hidden size)  (1, 1, 1024)\n",
      "values_transposed:(batch_size, hidden size, max_len)  (1, 1024, 9)\n",
      "score: (batch_size, max_length, 1)  (1, 9, 1)\n",
      "attention_weights: (batch_size, max_length, 1)  (1, 9, 1)\n",
      "context_vector before reduce_sum: (batch_size, max_length, hidden_size)  (1, 9, 1024)\n",
      "context_vector after reduce_sum: (batch_size, hidden_size)  (1, 1024)\n",
      "\n",
      "******* Luong Attention ENDS******\n",
      "\n",
      "******* Luong Attention  STARTS******\n",
      "query (decoder hidden state): (batch_size, hidden size)  (1, 1024)\n",
      "values (encoder all hidden state): (batch_size, max_len, hidden size)  (1, 9, 1024)\n",
      "query_with_time_axis:(batch_size, 1, hidden size)  (1, 1, 1024)\n",
      "values_transposed:(batch_size, hidden size, max_len)  (1, 1024, 9)\n",
      "score: (batch_size, max_length, 1)  (1, 9, 1)\n",
      "attention_weights: (batch_size, max_length, 1)  (1, 9, 1)\n",
      "context_vector before reduce_sum: (batch_size, max_length, hidden_size)  (1, 9, 1024)\n",
      "context_vector after reduce_sum: (batch_size, hidden_size)  (1, 1024)\n",
      "\n",
      "******* Luong Attention ENDS******\n",
      "\n",
      "******* Luong Attention  STARTS******\n",
      "query (decoder hidden state): (batch_size, hidden size)  (1, 1024)\n",
      "values (encoder all hidden state): (batch_size, max_len, hidden size)  (1, 9, 1024)\n",
      "query_with_time_axis:(batch_size, 1, hidden size)  (1, 1, 1024)\n",
      "values_transposed:(batch_size, hidden size, max_len)  (1, 1024, 9)\n",
      "score: (batch_size, max_length, 1)  (1, 9, 1)\n",
      "attention_weights: (batch_size, max_length, 1)  (1, 9, 1)\n",
      "context_vector before reduce_sum: (batch_size, max_length, hidden_size)  (1, 9, 1024)\n",
      "context_vector after reduce_sum: (batch_size, hidden_size)  (1, 1024)\n",
      "\n",
      "******* Luong Attention ENDS******\n",
      "\n",
      "******* Luong Attention  STARTS******\n",
      "query (decoder hidden state): (batch_size, hidden size)  (1, 1024)\n",
      "values (encoder all hidden state): (batch_size, max_len, hidden size)  (1, 9, 1024)\n",
      "query_with_time_axis:(batch_size, 1, hidden size)  (1, 1, 1024)\n",
      "values_transposed:(batch_size, hidden size, max_len)  (1, 1024, 9)\n",
      "score: (batch_size, max_length, 1)  (1, 9, 1)\n",
      "attention_weights: (batch_size, max_length, 1)  (1, 9, 1)\n",
      "context_vector before reduce_sum: (batch_size, max_length, hidden_size)  (1, 9, 1024)\n",
      "context_vector after reduce_sum: (batch_size, hidden_size)  (1, 1024)\n",
      "\n",
      "******* Luong Attention ENDS******\n",
      "Input: start_ today date what _end\n",
      "Predicted translation: what is todays date ? _end \n"
     ]
    },
    {
     "name": "stderr",
     "output_type": "stream",
     "text": [
      "<ipython-input-31-71f02795d875>:9: UserWarning: FixedFormatter should only be used together with FixedLocator\n",
      "  ax.set_xticklabels([''] + sentence, fontdict=fontdict, rotation=90)\n",
      "<ipython-input-31-71f02795d875>:10: UserWarning: FixedFormatter should only be used together with FixedLocator\n",
      "  ax.set_yticklabels([''] + predicted_sentence, fontdict=fontdict)\n"
     ]
    },
    {
     "data": {
      "image/png": "[encoded data removed]",
      "text/plain": [
       "<Figure size 720x720 with 1 Axes>"
      ]
     },
     "metadata": {
      "needs_background": "light"
     },
     "output_type": "display_data"
    }
   ],
   "source": [
    "translate(u'today date what')"
   ]
  },
  {
   "cell_type": "code",
   "execution_count": 43,
   "metadata": {},
   "outputs": [
    {
     "name": "stdout",
     "output_type": "stream",
     "text": [
      "\n",
      "******* Luong Attention  STARTS******\n",
      "query (decoder hidden state): (batch_size, hidden size)  (1, 1024)\n",
      "values (encoder all hidden state): (batch_size, max_len, hidden size)  (1, 9, 1024)\n",
      "query_with_time_axis:(batch_size, 1, hidden size)  (1, 1, 1024)\n",
      "values_transposed:(batch_size, hidden size, max_len)  (1, 1024, 9)\n",
      "score: (batch_size, max_length, 1)  (1, 9, 1)\n",
      "attention_weights: (batch_size, max_length, 1)  (1, 9, 1)\n",
      "context_vector before reduce_sum: (batch_size, max_length, hidden_size)  (1, 9, 1024)\n",
      "context_vector after reduce_sum: (batch_size, hidden_size)  (1, 1024)\n",
      "\n",
      "******* Luong Attention ENDS******\n",
      "\n",
      "******* Luong Attention  STARTS******\n",
      "query (decoder hidden state): (batch_size, hidden size)  (1, 1024)\n",
      "values (encoder all hidden state): (batch_size, max_len, hidden size)  (1, 9, 1024)\n",
      "query_with_time_axis:(batch_size, 1, hidden size)  (1, 1, 1024)\n",
      "values_transposed:(batch_size, hidden size, max_len)  (1, 1024, 9)\n",
      "score: (batch_size, max_length, 1)  (1, 9, 1)\n",
      "attention_weights: (batch_size, max_length, 1)  (1, 9, 1)\n",
      "context_vector before reduce_sum: (batch_size, max_length, hidden_size)  (1, 9, 1024)\n",
      "context_vector after reduce_sum: (batch_size, hidden_size)  (1, 1024)\n",
      "\n",
      "******* Luong Attention ENDS******\n",
      "\n",
      "******* Luong Attention  STARTS******\n",
      "query (decoder hidden state): (batch_size, hidden size)  (1, 1024)\n",
      "values (encoder all hidden state): (batch_size, max_len, hidden size)  (1, 9, 1024)\n",
      "query_with_time_axis:(batch_size, 1, hidden size)  (1, 1, 1024)\n",
      "values_transposed:(batch_size, hidden size, max_len)  (1, 1024, 9)\n",
      "score: (batch_size, max_length, 1)  (1, 9, 1)\n",
      "attention_weights: (batch_size, max_length, 1)  (1, 9, 1)\n",
      "context_vector before reduce_sum: (batch_size, max_length, hidden_size)  (1, 9, 1024)\n",
      "context_vector after reduce_sum: (batch_size, hidden_size)  (1, 1024)\n",
      "\n",
      "******* Luong Attention ENDS******\n",
      "\n",
      "******* Luong Attention  STARTS******\n",
      "query (decoder hidden state): (batch_size, hidden size)  (1, 1024)\n",
      "values (encoder all hidden state): (batch_size, max_len, hidden size)  (1, 9, 1024)\n",
      "query_with_time_axis:(batch_size, 1, hidden size)  (1, 1, 1024)\n",
      "values_transposed:(batch_size, hidden size, max_len)  (1, 1024, 9)\n",
      "score: (batch_size, max_length, 1)  (1, 9, 1)\n",
      "attention_weights: (batch_size, max_length, 1)  (1, 9, 1)\n",
      "context_vector before reduce_sum: (batch_size, max_length, hidden_size)  (1, 9, 1024)\n",
      "context_vector after reduce_sum: (batch_size, hidden_size)  (1, 1024)\n",
      "\n",
      "******* Luong Attention ENDS******\n",
      "\n",
      "******* Luong Attention  STARTS******\n",
      "query (decoder hidden state): (batch_size, hidden size)  (1, 1024)\n",
      "values (encoder all hidden state): (batch_size, max_len, hidden size)  (1, 9, 1024)\n",
      "query_with_time_axis:(batch_size, 1, hidden size)  (1, 1, 1024)\n",
      "values_transposed:(batch_size, hidden size, max_len)  (1, 1024, 9)\n",
      "score: (batch_size, max_length, 1)  (1, 9, 1)\n",
      "attention_weights: (batch_size, max_length, 1)  (1, 9, 1)\n",
      "context_vector before reduce_sum: (batch_size, max_length, hidden_size)  (1, 9, 1024)\n",
      "context_vector after reduce_sum: (batch_size, hidden_size)  (1, 1024)\n",
      "\n",
      "******* Luong Attention ENDS******\n",
      "Input: start_ pink color i like _end\n",
      "Predicted translation: i have headache . _end \n"
     ]
    },
    {
     "name": "stderr",
     "output_type": "stream",
     "text": [
      "<ipython-input-31-71f02795d875>:9: UserWarning: FixedFormatter should only be used together with FixedLocator\n",
      "  ax.set_xticklabels([''] + sentence, fontdict=fontdict, rotation=90)\n",
      "<ipython-input-31-71f02795d875>:10: UserWarning: FixedFormatter should only be used together with FixedLocator\n",
      "  ax.set_yticklabels([''] + predicted_sentence, fontdict=fontdict)\n"
     ]
    },
    {
     "data": {
      "image/png": "[encoded data removed]",
      "text/plain": [
       "<Figure size 720x720 with 1 Axes>"
      ]
     },
     "metadata": {
      "needs_background": "light"
     },
     "output_type": "display_data"
    }
   ],
   "source": [
    "translate(u'pink color i like')"
   ]
  },
  {
   "cell_type": "code",
   "execution_count": 44,
   "metadata": {},
   "outputs": [
    {
     "name": "stdout",
     "output_type": "stream",
     "text": [
      "\n",
      "******* Luong Attention  STARTS******\n",
      "query (decoder hidden state): (batch_size, hidden size)  (1, 1024)\n",
      "values (encoder all hidden state): (batch_size, max_len, hidden size)  (1, 9, 1024)\n",
      "query_with_time_axis:(batch_size, 1, hidden size)  (1, 1, 1024)\n",
      "values_transposed:(batch_size, hidden size, max_len)  (1, 1024, 9)\n",
      "score: (batch_size, max_length, 1)  (1, 9, 1)\n",
      "attention_weights: (batch_size, max_length, 1)  (1, 9, 1)\n",
      "context_vector before reduce_sum: (batch_size, max_length, hidden_size)  (1, 9, 1024)\n",
      "context_vector after reduce_sum: (batch_size, hidden_size)  (1, 1024)\n",
      "\n",
      "******* Luong Attention ENDS******\n",
      "\n",
      "******* Luong Attention  STARTS******\n",
      "query (decoder hidden state): (batch_size, hidden size)  (1, 1024)\n",
      "values (encoder all hidden state): (batch_size, max_len, hidden size)  (1, 9, 1024)\n",
      "query_with_time_axis:(batch_size, 1, hidden size)  (1, 1, 1024)\n",
      "values_transposed:(batch_size, hidden size, max_len)  (1, 1024, 9)\n",
      "score: (batch_size, max_length, 1)  (1, 9, 1)\n",
      "attention_weights: (batch_size, max_length, 1)  (1, 9, 1)\n",
      "context_vector before reduce_sum: (batch_size, max_length, hidden_size)  (1, 9, 1024)\n",
      "context_vector after reduce_sum: (batch_size, hidden_size)  (1, 1024)\n",
      "\n",
      "******* Luong Attention ENDS******\n",
      "\n",
      "******* Luong Attention  STARTS******\n",
      "query (decoder hidden state): (batch_size, hidden size)  (1, 1024)\n",
      "values (encoder all hidden state): (batch_size, max_len, hidden size)  (1, 9, 1024)\n",
      "query_with_time_axis:(batch_size, 1, hidden size)  (1, 1, 1024)\n",
      "values_transposed:(batch_size, hidden size, max_len)  (1, 1024, 9)\n",
      "score: (batch_size, max_length, 1)  (1, 9, 1)\n",
      "attention_weights: (batch_size, max_length, 1)  (1, 9, 1)\n",
      "context_vector before reduce_sum: (batch_size, max_length, hidden_size)  (1, 9, 1024)\n",
      "context_vector after reduce_sum: (batch_size, hidden_size)  (1, 1024)\n",
      "\n",
      "******* Luong Attention ENDS******\n",
      "\n",
      "******* Luong Attention  STARTS******\n",
      "query (decoder hidden state): (batch_size, hidden size)  (1, 1024)\n",
      "values (encoder all hidden state): (batch_size, max_len, hidden size)  (1, 9, 1024)\n",
      "query_with_time_axis:(batch_size, 1, hidden size)  (1, 1, 1024)\n",
      "values_transposed:(batch_size, hidden size, max_len)  (1, 1024, 9)\n",
      "score: (batch_size, max_length, 1)  (1, 9, 1)\n",
      "attention_weights: (batch_size, max_length, 1)  (1, 9, 1)\n",
      "context_vector before reduce_sum: (batch_size, max_length, hidden_size)  (1, 9, 1024)\n",
      "context_vector after reduce_sum: (batch_size, hidden_size)  (1, 1024)\n",
      "\n",
      "******* Luong Attention ENDS******\n",
      "\n",
      "******* Luong Attention  STARTS******\n",
      "query (decoder hidden state): (batch_size, hidden size)  (1, 1024)\n",
      "values (encoder all hidden state): (batch_size, max_len, hidden size)  (1, 9, 1024)\n",
      "query_with_time_axis:(batch_size, 1, hidden size)  (1, 1, 1024)\n",
      "values_transposed:(batch_size, hidden size, max_len)  (1, 1024, 9)\n",
      "score: (batch_size, max_length, 1)  (1, 9, 1)\n",
      "attention_weights: (batch_size, max_length, 1)  (1, 9, 1)\n",
      "context_vector before reduce_sum: (batch_size, max_length, hidden_size)  (1, 9, 1024)\n",
      "context_vector after reduce_sum: (batch_size, hidden_size)  (1, 1024)\n",
      "\n",
      "******* Luong Attention ENDS******\n",
      "\n",
      "******* Luong Attention  STARTS******\n",
      "query (decoder hidden state): (batch_size, hidden size)  (1, 1024)\n",
      "values (encoder all hidden state): (batch_size, max_len, hidden size)  (1, 9, 1024)\n",
      "query_with_time_axis:(batch_size, 1, hidden size)  (1, 1, 1024)\n",
      "values_transposed:(batch_size, hidden size, max_len)  (1, 1024, 9)\n",
      "score: (batch_size, max_length, 1)  (1, 9, 1)\n",
      "attention_weights: (batch_size, max_length, 1)  (1, 9, 1)\n",
      "context_vector before reduce_sum: (batch_size, max_length, hidden_size)  (1, 9, 1024)\n",
      "context_vector after reduce_sum: (batch_size, hidden_size)  (1, 1024)\n",
      "\n",
      "******* Luong Attention ENDS******\n",
      "Input: start_ apple child eat _end\n",
      "Predicted translation: a child eats an apple _end \n"
     ]
    },
    {
     "name": "stderr",
     "output_type": "stream",
     "text": [
      "<ipython-input-31-71f02795d875>:9: UserWarning: FixedFormatter should only be used together with FixedLocator\n",
      "  ax.set_xticklabels([''] + sentence, fontdict=fontdict, rotation=90)\n",
      "<ipython-input-31-71f02795d875>:10: UserWarning: FixedFormatter should only be used together with FixedLocator\n",
      "  ax.set_yticklabels([''] + predicted_sentence, fontdict=fontdict)\n"
     ]
    },
    {
     "data": {
      "image/png": "[encoded data removed]",
      "text/plain": [
       "<Figure size 720x720 with 1 Axes>"
      ]
     },
     "metadata": {
      "needs_background": "light"
     },
     "output_type": "display_data"
    }
   ],
   "source": [
    "translate(u'apple child eat')"
   ]
  },
  {
   "cell_type": "code",
   "execution_count": 45,
   "metadata": {},
   "outputs": [
    {
     "name": "stdout",
     "output_type": "stream",
     "text": [
      "\n",
      "******* Luong Attention  STARTS******\n",
      "query (decoder hidden state): (batch_size, hidden size)  (1, 1024)\n",
      "values (encoder all hidden state): (batch_size, max_len, hidden size)  (1, 9, 1024)\n",
      "query_with_time_axis:(batch_size, 1, hidden size)  (1, 1, 1024)\n",
      "values_transposed:(batch_size, hidden size, max_len)  (1, 1024, 9)\n",
      "score: (batch_size, max_length, 1)  (1, 9, 1)\n",
      "attention_weights: (batch_size, max_length, 1)  (1, 9, 1)\n",
      "context_vector before reduce_sum: (batch_size, max_length, hidden_size)  (1, 9, 1024)\n",
      "context_vector after reduce_sum: (batch_size, hidden_size)  (1, 1024)\n",
      "\n",
      "******* Luong Attention ENDS******\n",
      "\n",
      "******* Luong Attention  STARTS******\n",
      "query (decoder hidden state): (batch_size, hidden size)  (1, 1024)\n",
      "values (encoder all hidden state): (batch_size, max_len, hidden size)  (1, 9, 1024)\n",
      "query_with_time_axis:(batch_size, 1, hidden size)  (1, 1, 1024)\n",
      "values_transposed:(batch_size, hidden size, max_len)  (1, 1024, 9)\n",
      "score: (batch_size, max_length, 1)  (1, 9, 1)\n",
      "attention_weights: (batch_size, max_length, 1)  (1, 9, 1)\n",
      "context_vector before reduce_sum: (batch_size, max_length, hidden_size)  (1, 9, 1024)\n",
      "context_vector after reduce_sum: (batch_size, hidden_size)  (1, 1024)\n",
      "\n",
      "******* Luong Attention ENDS******\n",
      "\n",
      "******* Luong Attention  STARTS******\n",
      "query (decoder hidden state): (batch_size, hidden size)  (1, 1024)\n",
      "values (encoder all hidden state): (batch_size, max_len, hidden size)  (1, 9, 1024)\n",
      "query_with_time_axis:(batch_size, 1, hidden size)  (1, 1, 1024)\n",
      "values_transposed:(batch_size, hidden size, max_len)  (1, 1024, 9)\n",
      "score: (batch_size, max_length, 1)  (1, 9, 1)\n",
      "attention_weights: (batch_size, max_length, 1)  (1, 9, 1)\n",
      "context_vector before reduce_sum: (batch_size, max_length, hidden_size)  (1, 9, 1024)\n",
      "context_vector after reduce_sum: (batch_size, hidden_size)  (1, 1024)\n",
      "\n",
      "******* Luong Attention ENDS******\n",
      "\n",
      "******* Luong Attention  STARTS******\n",
      "query (decoder hidden state): (batch_size, hidden size)  (1, 1024)\n",
      "values (encoder all hidden state): (batch_size, max_len, hidden size)  (1, 9, 1024)\n",
      "query_with_time_axis:(batch_size, 1, hidden size)  (1, 1, 1024)\n",
      "values_transposed:(batch_size, hidden size, max_len)  (1, 1024, 9)\n",
      "score: (batch_size, max_length, 1)  (1, 9, 1)\n",
      "attention_weights: (batch_size, max_length, 1)  (1, 9, 1)\n",
      "context_vector before reduce_sum: (batch_size, max_length, hidden_size)  (1, 9, 1024)\n",
      "context_vector after reduce_sum: (batch_size, hidden_size)  (1, 1024)\n",
      "\n",
      "******* Luong Attention ENDS******\n",
      "\n",
      "******* Luong Attention  STARTS******\n",
      "query (decoder hidden state): (batch_size, hidden size)  (1, 1024)\n",
      "values (encoder all hidden state): (batch_size, max_len, hidden size)  (1, 9, 1024)\n",
      "query_with_time_axis:(batch_size, 1, hidden size)  (1, 1, 1024)\n",
      "values_transposed:(batch_size, hidden size, max_len)  (1, 1024, 9)\n",
      "score: (batch_size, max_length, 1)  (1, 9, 1)\n",
      "attention_weights: (batch_size, max_length, 1)  (1, 9, 1)\n",
      "context_vector before reduce_sum: (batch_size, max_length, hidden_size)  (1, 9, 1024)\n",
      "context_vector after reduce_sum: (batch_size, hidden_size)  (1, 1024)\n",
      "\n",
      "******* Luong Attention ENDS******\n",
      "Input: start_ this flower _end\n",
      "Predicted translation: this is a flower _end \n"
     ]
    },
    {
     "name": "stderr",
     "output_type": "stream",
     "text": [
      "<ipython-input-31-71f02795d875>:9: UserWarning: FixedFormatter should only be used together with FixedLocator\n",
      "  ax.set_xticklabels([''] + sentence, fontdict=fontdict, rotation=90)\n",
      "<ipython-input-31-71f02795d875>:10: UserWarning: FixedFormatter should only be used together with FixedLocator\n",
      "  ax.set_yticklabels([''] + predicted_sentence, fontdict=fontdict)\n"
     ]
    },
    {
     "data": {
      "image/png": "[encoded data removed]",
      "text/plain": [
       "<Figure size 720x720 with 1 Axes>"
      ]
     },
     "metadata": {
      "needs_background": "light"
     },
     "output_type": "display_data"
    }
   ],
   "source": [
    "translate(u'this flower')"
   ]
  },
  {
   "cell_type": "code",
   "execution_count": 46,
   "metadata": {},
   "outputs": [
    {
     "name": "stdout",
     "output_type": "stream",
     "text": [
      "\n",
      "******* Luong Attention  STARTS******\n",
      "query (decoder hidden state): (batch_size, hidden size)  (1, 1024)\n",
      "values (encoder all hidden state): (batch_size, max_len, hidden size)  (1, 9, 1024)\n",
      "query_with_time_axis:(batch_size, 1, hidden size)  (1, 1, 1024)\n",
      "values_transposed:(batch_size, hidden size, max_len)  (1, 1024, 9)\n",
      "score: (batch_size, max_length, 1)  (1, 9, 1)\n",
      "attention_weights: (batch_size, max_length, 1)  (1, 9, 1)\n",
      "context_vector before reduce_sum: (batch_size, max_length, hidden_size)  (1, 9, 1024)\n",
      "context_vector after reduce_sum: (batch_size, hidden_size)  (1, 1024)\n",
      "\n",
      "******* Luong Attention ENDS******\n",
      "\n",
      "******* Luong Attention  STARTS******\n",
      "query (decoder hidden state): (batch_size, hidden size)  (1, 1024)\n",
      "values (encoder all hidden state): (batch_size, max_len, hidden size)  (1, 9, 1024)\n",
      "query_with_time_axis:(batch_size, 1, hidden size)  (1, 1, 1024)\n",
      "values_transposed:(batch_size, hidden size, max_len)  (1, 1024, 9)\n",
      "score: (batch_size, max_length, 1)  (1, 9, 1)\n",
      "attention_weights: (batch_size, max_length, 1)  (1, 9, 1)\n",
      "context_vector before reduce_sum: (batch_size, max_length, hidden_size)  (1, 9, 1024)\n",
      "context_vector after reduce_sum: (batch_size, hidden_size)  (1, 1024)\n",
      "\n",
      "******* Luong Attention ENDS******\n",
      "\n",
      "******* Luong Attention  STARTS******\n",
      "query (decoder hidden state): (batch_size, hidden size)  (1, 1024)\n",
      "values (encoder all hidden state): (batch_size, max_len, hidden size)  (1, 9, 1024)\n",
      "query_with_time_axis:(batch_size, 1, hidden size)  (1, 1, 1024)\n",
      "values_transposed:(batch_size, hidden size, max_len)  (1, 1024, 9)\n",
      "score: (batch_size, max_length, 1)  (1, 9, 1)\n",
      "attention_weights: (batch_size, max_length, 1)  (1, 9, 1)\n",
      "context_vector before reduce_sum: (batch_size, max_length, hidden_size)  (1, 9, 1024)\n",
      "context_vector after reduce_sum: (batch_size, hidden_size)  (1, 1024)\n",
      "\n",
      "******* Luong Attention ENDS******\n",
      "\n",
      "******* Luong Attention  STARTS******\n",
      "query (decoder hidden state): (batch_size, hidden size)  (1, 1024)\n",
      "values (encoder all hidden state): (batch_size, max_len, hidden size)  (1, 9, 1024)\n",
      "query_with_time_axis:(batch_size, 1, hidden size)  (1, 1, 1024)\n",
      "values_transposed:(batch_size, hidden size, max_len)  (1, 1024, 9)\n",
      "score: (batch_size, max_length, 1)  (1, 9, 1)\n",
      "attention_weights: (batch_size, max_length, 1)  (1, 9, 1)\n",
      "context_vector before reduce_sum: (batch_size, max_length, hidden_size)  (1, 9, 1024)\n",
      "context_vector after reduce_sum: (batch_size, hidden_size)  (1, 1024)\n",
      "\n",
      "******* Luong Attention ENDS******\n",
      "\n",
      "******* Luong Attention  STARTS******\n",
      "query (decoder hidden state): (batch_size, hidden size)  (1, 1024)\n",
      "values (encoder all hidden state): (batch_size, max_len, hidden size)  (1, 9, 1024)\n",
      "query_with_time_axis:(batch_size, 1, hidden size)  (1, 1, 1024)\n",
      "values_transposed:(batch_size, hidden size, max_len)  (1, 1024, 9)\n",
      "score: (batch_size, max_length, 1)  (1, 9, 1)\n",
      "attention_weights: (batch_size, max_length, 1)  (1, 9, 1)\n",
      "context_vector before reduce_sum: (batch_size, max_length, hidden_size)  (1, 9, 1024)\n",
      "context_vector after reduce_sum: (batch_size, hidden_size)  (1, 1024)\n",
      "\n",
      "******* Luong Attention ENDS******\n",
      "\n",
      "******* Luong Attention  STARTS******\n",
      "query (decoder hidden state): (batch_size, hidden size)  (1, 1024)\n",
      "values (encoder all hidden state): (batch_size, max_len, hidden size)  (1, 9, 1024)\n",
      "query_with_time_axis:(batch_size, 1, hidden size)  (1, 1, 1024)\n",
      "values_transposed:(batch_size, hidden size, max_len)  (1, 1024, 9)\n",
      "score: (batch_size, max_length, 1)  (1, 9, 1)\n",
      "attention_weights: (batch_size, max_length, 1)  (1, 9, 1)\n",
      "context_vector before reduce_sum: (batch_size, max_length, hidden_size)  (1, 9, 1024)\n",
      "context_vector after reduce_sum: (batch_size, hidden_size)  (1, 1024)\n",
      "\n",
      "******* Luong Attention ENDS******\n",
      "Input: start_ nine morning _end\n",
      "Predicted translation: it is in the morning _end \n"
     ]
    },
    {
     "name": "stderr",
     "output_type": "stream",
     "text": [
      "<ipython-input-31-71f02795d875>:9: UserWarning: FixedFormatter should only be used together with FixedLocator\n",
      "  ax.set_xticklabels([''] + sentence, fontdict=fontdict, rotation=90)\n",
      "<ipython-input-31-71f02795d875>:10: UserWarning: FixedFormatter should only be used together with FixedLocator\n",
      "  ax.set_yticklabels([''] + predicted_sentence, fontdict=fontdict)\n"
     ]
    },
    {
     "data": {
      "image/png": "[encoded data removed]",
      "text/plain": [
       "<Figure size 720x720 with 1 Axes>"
      ]
     },
     "metadata": {
      "needs_background": "light"
     },
     "output_type": "display_data"
    }
   ],
   "source": [
    "translate(u'nine morning')"
   ]
  },
  {
   "cell_type": "code",
   "execution_count": 47,
   "metadata": {},
   "outputs": [
    {
     "name": "stdout",
     "output_type": "stream",
     "text": [
      "\n",
      "******* Luong Attention  STARTS******\n",
      "query (decoder hidden state): (batch_size, hidden size)  (1, 1024)\n",
      "values (encoder all hidden state): (batch_size, max_len, hidden size)  (1, 9, 1024)\n",
      "query_with_time_axis:(batch_size, 1, hidden size)  (1, 1, 1024)\n",
      "values_transposed:(batch_size, hidden size, max_len)  (1, 1024, 9)\n",
      "score: (batch_size, max_length, 1)  (1, 9, 1)\n",
      "attention_weights: (batch_size, max_length, 1)  (1, 9, 1)\n",
      "context_vector before reduce_sum: (batch_size, max_length, hidden_size)  (1, 9, 1024)\n",
      "context_vector after reduce_sum: (batch_size, hidden_size)  (1, 1024)\n",
      "\n",
      "******* Luong Attention ENDS******\n",
      "\n",
      "******* Luong Attention  STARTS******\n",
      "query (decoder hidden state): (batch_size, hidden size)  (1, 1024)\n",
      "values (encoder all hidden state): (batch_size, max_len, hidden size)  (1, 9, 1024)\n",
      "query_with_time_axis:(batch_size, 1, hidden size)  (1, 1, 1024)\n",
      "values_transposed:(batch_size, hidden size, max_len)  (1, 1024, 9)\n",
      "score: (batch_size, max_length, 1)  (1, 9, 1)\n",
      "attention_weights: (batch_size, max_length, 1)  (1, 9, 1)\n",
      "context_vector before reduce_sum: (batch_size, max_length, hidden_size)  (1, 9, 1024)\n",
      "context_vector after reduce_sum: (batch_size, hidden_size)  (1, 1024)\n",
      "\n",
      "******* Luong Attention ENDS******\n",
      "\n",
      "******* Luong Attention  STARTS******\n",
      "query (decoder hidden state): (batch_size, hidden size)  (1, 1024)\n",
      "values (encoder all hidden state): (batch_size, max_len, hidden size)  (1, 9, 1024)\n",
      "query_with_time_axis:(batch_size, 1, hidden size)  (1, 1, 1024)\n",
      "values_transposed:(batch_size, hidden size, max_len)  (1, 1024, 9)\n",
      "score: (batch_size, max_length, 1)  (1, 9, 1)\n",
      "attention_weights: (batch_size, max_length, 1)  (1, 9, 1)\n",
      "context_vector before reduce_sum: (batch_size, max_length, hidden_size)  (1, 9, 1024)\n",
      "context_vector after reduce_sum: (batch_size, hidden_size)  (1, 1024)\n",
      "\n",
      "******* Luong Attention ENDS******\n",
      "\n",
      "******* Luong Attention  STARTS******\n",
      "query (decoder hidden state): (batch_size, hidden size)  (1, 1024)\n",
      "values (encoder all hidden state): (batch_size, max_len, hidden size)  (1, 9, 1024)\n",
      "query_with_time_axis:(batch_size, 1, hidden size)  (1, 1, 1024)\n",
      "values_transposed:(batch_size, hidden size, max_len)  (1, 1024, 9)\n",
      "score: (batch_size, max_length, 1)  (1, 9, 1)\n",
      "attention_weights: (batch_size, max_length, 1)  (1, 9, 1)\n",
      "context_vector before reduce_sum: (batch_size, max_length, hidden_size)  (1, 9, 1024)\n",
      "context_vector after reduce_sum: (batch_size, hidden_size)  (1, 1024)\n",
      "\n",
      "******* Luong Attention ENDS******\n",
      "\n",
      "******* Luong Attention  STARTS******\n",
      "query (decoder hidden state): (batch_size, hidden size)  (1, 1024)\n",
      "values (encoder all hidden state): (batch_size, max_len, hidden size)  (1, 9, 1024)\n",
      "query_with_time_axis:(batch_size, 1, hidden size)  (1, 1, 1024)\n",
      "values_transposed:(batch_size, hidden size, max_len)  (1, 1024, 9)\n",
      "score: (batch_size, max_length, 1)  (1, 9, 1)\n",
      "attention_weights: (batch_size, max_length, 1)  (1, 9, 1)\n",
      "context_vector before reduce_sum: (batch_size, max_length, hidden_size)  (1, 9, 1024)\n",
      "context_vector after reduce_sum: (batch_size, hidden_size)  (1, 1024)\n",
      "\n",
      "******* Luong Attention ENDS******\n",
      "\n",
      "******* Luong Attention  STARTS******\n",
      "query (decoder hidden state): (batch_size, hidden size)  (1, 1024)\n",
      "values (encoder all hidden state): (batch_size, max_len, hidden size)  (1, 9, 1024)\n",
      "query_with_time_axis:(batch_size, 1, hidden size)  (1, 1, 1024)\n",
      "values_transposed:(batch_size, hidden size, max_len)  (1, 1024, 9)\n",
      "score: (batch_size, max_length, 1)  (1, 9, 1)\n",
      "attention_weights: (batch_size, max_length, 1)  (1, 9, 1)\n",
      "context_vector before reduce_sum: (batch_size, max_length, hidden_size)  (1, 9, 1024)\n",
      "context_vector after reduce_sum: (batch_size, hidden_size)  (1, 1024)\n",
      "\n",
      "******* Luong Attention ENDS******\n",
      "\n",
      "******* Luong Attention  STARTS******\n",
      "query (decoder hidden state): (batch_size, hidden size)  (1, 1024)\n",
      "values (encoder all hidden state): (batch_size, max_len, hidden size)  (1, 9, 1024)\n",
      "query_with_time_axis:(batch_size, 1, hidden size)  (1, 1, 1024)\n",
      "values_transposed:(batch_size, hidden size, max_len)  (1, 1024, 9)\n",
      "score: (batch_size, max_length, 1)  (1, 9, 1)\n",
      "attention_weights: (batch_size, max_length, 1)  (1, 9, 1)\n",
      "context_vector before reduce_sum: (batch_size, max_length, hidden_size)  (1, 9, 1024)\n",
      "context_vector after reduce_sum: (batch_size, hidden_size)  (1, 1024)\n",
      "\n",
      "******* Luong Attention ENDS******\n",
      "Input: start_ do job what _end\n",
      "Predicted translation: what job do you work ? _end \n"
     ]
    },
    {
     "name": "stderr",
     "output_type": "stream",
     "text": [
      "<ipython-input-31-71f02795d875>:9: UserWarning: FixedFormatter should only be used together with FixedLocator\n",
      "  ax.set_xticklabels([''] + sentence, fontdict=fontdict, rotation=90)\n",
      "<ipython-input-31-71f02795d875>:10: UserWarning: FixedFormatter should only be used together with FixedLocator\n",
      "  ax.set_yticklabels([''] + predicted_sentence, fontdict=fontdict)\n"
     ]
    },
    {
     "data": {
      "image/png": "[encoded data removed]",
      "text/plain": [
       "<Figure size 720x720 with 1 Axes>"
      ]
     },
     "metadata": {
      "needs_background": "light"
     },
     "output_type": "display_data"
    }
   ],
   "source": [
    "translate(u'do job what')"
   ]
  },
  {
   "cell_type": "code",
   "execution_count": 48,
   "metadata": {},
   "outputs": [
    {
     "name": "stdout",
     "output_type": "stream",
     "text": [
      "\n",
      "******* Luong Attention  STARTS******\n",
      "query (decoder hidden state): (batch_size, hidden size)  (1, 1024)\n",
      "values (encoder all hidden state): (batch_size, max_len, hidden size)  (1, 9, 1024)\n",
      "query_with_time_axis:(batch_size, 1, hidden size)  (1, 1, 1024)\n",
      "values_transposed:(batch_size, hidden size, max_len)  (1, 1024, 9)\n",
      "score: (batch_size, max_length, 1)  (1, 9, 1)\n",
      "attention_weights: (batch_size, max_length, 1)  (1, 9, 1)\n",
      "context_vector before reduce_sum: (batch_size, max_length, hidden_size)  (1, 9, 1024)\n",
      "context_vector after reduce_sum: (batch_size, hidden_size)  (1, 1024)\n",
      "\n",
      "******* Luong Attention ENDS******\n",
      "\n",
      "******* Luong Attention  STARTS******\n",
      "query (decoder hidden state): (batch_size, hidden size)  (1, 1024)\n",
      "values (encoder all hidden state): (batch_size, max_len, hidden size)  (1, 9, 1024)\n",
      "query_with_time_axis:(batch_size, 1, hidden size)  (1, 1, 1024)\n",
      "values_transposed:(batch_size, hidden size, max_len)  (1, 1024, 9)\n",
      "score: (batch_size, max_length, 1)  (1, 9, 1)\n",
      "attention_weights: (batch_size, max_length, 1)  (1, 9, 1)\n",
      "context_vector before reduce_sum: (batch_size, max_length, hidden_size)  (1, 9, 1024)\n",
      "context_vector after reduce_sum: (batch_size, hidden_size)  (1, 1024)\n",
      "\n",
      "******* Luong Attention ENDS******\n",
      "\n",
      "******* Luong Attention  STARTS******\n",
      "query (decoder hidden state): (batch_size, hidden size)  (1, 1024)\n",
      "values (encoder all hidden state): (batch_size, max_len, hidden size)  (1, 9, 1024)\n",
      "query_with_time_axis:(batch_size, 1, hidden size)  (1, 1, 1024)\n",
      "values_transposed:(batch_size, hidden size, max_len)  (1, 1024, 9)\n",
      "score: (batch_size, max_length, 1)  (1, 9, 1)\n",
      "attention_weights: (batch_size, max_length, 1)  (1, 9, 1)\n",
      "context_vector before reduce_sum: (batch_size, max_length, hidden_size)  (1, 9, 1024)\n",
      "context_vector after reduce_sum: (batch_size, hidden_size)  (1, 1024)\n",
      "\n",
      "******* Luong Attention ENDS******\n",
      "\n",
      "******* Luong Attention  STARTS******\n",
      "query (decoder hidden state): (batch_size, hidden size)  (1, 1024)\n",
      "values (encoder all hidden state): (batch_size, max_len, hidden size)  (1, 9, 1024)\n",
      "query_with_time_axis:(batch_size, 1, hidden size)  (1, 1, 1024)\n",
      "values_transposed:(batch_size, hidden size, max_len)  (1, 1024, 9)\n",
      "score: (batch_size, max_length, 1)  (1, 9, 1)\n",
      "attention_weights: (batch_size, max_length, 1)  (1, 9, 1)\n",
      "context_vector before reduce_sum: (batch_size, max_length, hidden_size)  (1, 9, 1024)\n",
      "context_vector after reduce_sum: (batch_size, hidden_size)  (1, 1024)\n",
      "\n",
      "******* Luong Attention ENDS******\n",
      "\n",
      "******* Luong Attention  STARTS******\n",
      "query (decoder hidden state): (batch_size, hidden size)  (1, 1024)\n",
      "values (encoder all hidden state): (batch_size, max_len, hidden size)  (1, 9, 1024)\n",
      "query_with_time_axis:(batch_size, 1, hidden size)  (1, 1, 1024)\n",
      "values_transposed:(batch_size, hidden size, max_len)  (1, 1024, 9)\n",
      "score: (batch_size, max_length, 1)  (1, 9, 1)\n",
      "attention_weights: (batch_size, max_length, 1)  (1, 9, 1)\n",
      "context_vector before reduce_sum: (batch_size, max_length, hidden_size)  (1, 9, 1024)\n",
      "context_vector after reduce_sum: (batch_size, hidden_size)  (1, 1024)\n",
      "\n",
      "******* Luong Attention ENDS******\n",
      "\n",
      "******* Luong Attention  STARTS******\n",
      "query (decoder hidden state): (batch_size, hidden size)  (1, 1024)\n",
      "values (encoder all hidden state): (batch_size, max_len, hidden size)  (1, 9, 1024)\n",
      "query_with_time_axis:(batch_size, 1, hidden size)  (1, 1, 1024)\n",
      "values_transposed:(batch_size, hidden size, max_len)  (1, 1024, 9)\n",
      "score: (batch_size, max_length, 1)  (1, 9, 1)\n",
      "attention_weights: (batch_size, max_length, 1)  (1, 9, 1)\n",
      "context_vector before reduce_sum: (batch_size, max_length, hidden_size)  (1, 9, 1024)\n",
      "context_vector after reduce_sum: (batch_size, hidden_size)  (1, 1024)\n",
      "\n",
      "******* Luong Attention ENDS******\n",
      "\n",
      "******* Luong Attention  STARTS******\n",
      "query (decoder hidden state): (batch_size, hidden size)  (1, 1024)\n",
      "values (encoder all hidden state): (batch_size, max_len, hidden size)  (1, 9, 1024)\n",
      "query_with_time_axis:(batch_size, 1, hidden size)  (1, 1, 1024)\n",
      "values_transposed:(batch_size, hidden size, max_len)  (1, 1024, 9)\n",
      "score: (batch_size, max_length, 1)  (1, 9, 1)\n",
      "attention_weights: (batch_size, max_length, 1)  (1, 9, 1)\n",
      "context_vector before reduce_sum: (batch_size, max_length, hidden_size)  (1, 9, 1024)\n",
      "context_vector after reduce_sum: (batch_size, hidden_size)  (1, 1024)\n",
      "\n",
      "******* Luong Attention ENDS******\n",
      "Input: start_ school name what _end\n",
      "Predicted translation: what is your school name ? _end \n"
     ]
    },
    {
     "name": "stderr",
     "output_type": "stream",
     "text": [
      "<ipython-input-31-71f02795d875>:9: UserWarning: FixedFormatter should only be used together with FixedLocator\n",
      "  ax.set_xticklabels([''] + sentence, fontdict=fontdict, rotation=90)\n",
      "<ipython-input-31-71f02795d875>:10: UserWarning: FixedFormatter should only be used together with FixedLocator\n",
      "  ax.set_yticklabels([''] + predicted_sentence, fontdict=fontdict)\n"
     ]
    },
    {
     "data": {
      "image/png": "[encoded data removed]",
      "text/plain": [
       "<Figure size 720x720 with 1 Axes>"
      ]
     },
     "metadata": {
      "needs_background": "light"
     },
     "output_type": "display_data"
    }
   ],
   "source": [
    "translate(u'school name what')"
   ]
  },
  {
   "cell_type": "code",
   "execution_count": 49,
   "metadata": {},
   "outputs": [
    {
     "name": "stdout",
     "output_type": "stream",
     "text": [
      "\n",
      "******* Luong Attention  STARTS******\n",
      "query (decoder hidden state): (batch_size, hidden size)  (1, 1024)\n",
      "values (encoder all hidden state): (batch_size, max_len, hidden size)  (1, 9, 1024)\n",
      "query_with_time_axis:(batch_size, 1, hidden size)  (1, 1, 1024)\n",
      "values_transposed:(batch_size, hidden size, max_len)  (1, 1024, 9)\n",
      "score: (batch_size, max_length, 1)  (1, 9, 1)\n",
      "attention_weights: (batch_size, max_length, 1)  (1, 9, 1)\n",
      "context_vector before reduce_sum: (batch_size, max_length, hidden_size)  (1, 9, 1024)\n",
      "context_vector after reduce_sum: (batch_size, hidden_size)  (1, 1024)\n",
      "\n",
      "******* Luong Attention ENDS******\n",
      "\n",
      "******* Luong Attention  STARTS******\n",
      "query (decoder hidden state): (batch_size, hidden size)  (1, 1024)\n",
      "values (encoder all hidden state): (batch_size, max_len, hidden size)  (1, 9, 1024)\n",
      "query_with_time_axis:(batch_size, 1, hidden size)  (1, 1, 1024)\n",
      "values_transposed:(batch_size, hidden size, max_len)  (1, 1024, 9)\n",
      "score: (batch_size, max_length, 1)  (1, 9, 1)\n",
      "attention_weights: (batch_size, max_length, 1)  (1, 9, 1)\n",
      "context_vector before reduce_sum: (batch_size, max_length, hidden_size)  (1, 9, 1024)\n",
      "context_vector after reduce_sum: (batch_size, hidden_size)  (1, 1024)\n",
      "\n",
      "******* Luong Attention ENDS******\n",
      "\n",
      "******* Luong Attention  STARTS******\n",
      "query (decoder hidden state): (batch_size, hidden size)  (1, 1024)\n",
      "values (encoder all hidden state): (batch_size, max_len, hidden size)  (1, 9, 1024)\n",
      "query_with_time_axis:(batch_size, 1, hidden size)  (1, 1, 1024)\n",
      "values_transposed:(batch_size, hidden size, max_len)  (1, 1024, 9)\n",
      "score: (batch_size, max_length, 1)  (1, 9, 1)\n",
      "attention_weights: (batch_size, max_length, 1)  (1, 9, 1)\n",
      "context_vector before reduce_sum: (batch_size, max_length, hidden_size)  (1, 9, 1024)\n",
      "context_vector after reduce_sum: (batch_size, hidden_size)  (1, 1024)\n",
      "\n",
      "******* Luong Attention ENDS******\n",
      "\n",
      "******* Luong Attention  STARTS******\n",
      "query (decoder hidden state): (batch_size, hidden size)  (1, 1024)\n",
      "values (encoder all hidden state): (batch_size, max_len, hidden size)  (1, 9, 1024)\n",
      "query_with_time_axis:(batch_size, 1, hidden size)  (1, 1, 1024)\n",
      "values_transposed:(batch_size, hidden size, max_len)  (1, 1024, 9)\n",
      "score: (batch_size, max_length, 1)  (1, 9, 1)\n",
      "attention_weights: (batch_size, max_length, 1)  (1, 9, 1)\n",
      "context_vector before reduce_sum: (batch_size, max_length, hidden_size)  (1, 9, 1024)\n",
      "context_vector after reduce_sum: (batch_size, hidden_size)  (1, 1024)\n",
      "\n",
      "******* Luong Attention ENDS******\n",
      "\n",
      "******* Luong Attention  STARTS******\n",
      "query (decoder hidden state): (batch_size, hidden size)  (1, 1024)\n",
      "values (encoder all hidden state): (batch_size, max_len, hidden size)  (1, 9, 1024)\n",
      "query_with_time_axis:(batch_size, 1, hidden size)  (1, 1, 1024)\n",
      "values_transposed:(batch_size, hidden size, max_len)  (1, 1024, 9)\n",
      "score: (batch_size, max_length, 1)  (1, 9, 1)\n",
      "attention_weights: (batch_size, max_length, 1)  (1, 9, 1)\n",
      "context_vector before reduce_sum: (batch_size, max_length, hidden_size)  (1, 9, 1024)\n",
      "context_vector after reduce_sum: (batch_size, hidden_size)  (1, 1024)\n",
      "\n",
      "******* Luong Attention ENDS******\n",
      "\n",
      "******* Luong Attention  STARTS******\n",
      "query (decoder hidden state): (batch_size, hidden size)  (1, 1024)\n",
      "values (encoder all hidden state): (batch_size, max_len, hidden size)  (1, 9, 1024)\n",
      "query_with_time_axis:(batch_size, 1, hidden size)  (1, 1, 1024)\n",
      "values_transposed:(batch_size, hidden size, max_len)  (1, 1024, 9)\n",
      "score: (batch_size, max_length, 1)  (1, 9, 1)\n",
      "attention_weights: (batch_size, max_length, 1)  (1, 9, 1)\n",
      "context_vector before reduce_sum: (batch_size, max_length, hidden_size)  (1, 9, 1024)\n",
      "context_vector after reduce_sum: (batch_size, hidden_size)  (1, 1024)\n",
      "\n",
      "******* Luong Attention ENDS******\n",
      "Input: start_ she say what _end\n",
      "Predicted translation: what did she say ? _end \n"
     ]
    },
    {
     "name": "stderr",
     "output_type": "stream",
     "text": [
      "<ipython-input-31-71f02795d875>:9: UserWarning: FixedFormatter should only be used together with FixedLocator\n",
      "  ax.set_xticklabels([''] + sentence, fontdict=fontdict, rotation=90)\n",
      "<ipython-input-31-71f02795d875>:10: UserWarning: FixedFormatter should only be used together with FixedLocator\n",
      "  ax.set_yticklabels([''] + predicted_sentence, fontdict=fontdict)\n"
     ]
    },
    {
     "data": {
      "image/png": "[encoded data removed]",
      "text/plain": [
       "<Figure size 720x720 with 1 Axes>"
      ]
     },
     "metadata": {
      "needs_background": "light"
     },
     "output_type": "display_data"
    }
   ],
   "source": [
    "translate(u'she say what')"
   ]
  },
  {
   "cell_type": "code",
   "execution_count": 50,
   "metadata": {},
   "outputs": [
    {
     "name": "stdout",
     "output_type": "stream",
     "text": [
      "\n",
      "******* Luong Attention  STARTS******\n",
      "query (decoder hidden state): (batch_size, hidden size)  (1, 1024)\n",
      "values (encoder all hidden state): (batch_size, max_len, hidden size)  (1, 9, 1024)\n",
      "query_with_time_axis:(batch_size, 1, hidden size)  (1, 1, 1024)\n",
      "values_transposed:(batch_size, hidden size, max_len)  (1, 1024, 9)\n",
      "score: (batch_size, max_length, 1)  (1, 9, 1)\n",
      "attention_weights: (batch_size, max_length, 1)  (1, 9, 1)\n",
      "context_vector before reduce_sum: (batch_size, max_length, hidden_size)  (1, 9, 1024)\n",
      "context_vector after reduce_sum: (batch_size, hidden_size)  (1, 1024)\n",
      "\n",
      "******* Luong Attention ENDS******\n",
      "\n",
      "******* Luong Attention  STARTS******\n",
      "query (decoder hidden state): (batch_size, hidden size)  (1, 1024)\n",
      "values (encoder all hidden state): (batch_size, max_len, hidden size)  (1, 9, 1024)\n",
      "query_with_time_axis:(batch_size, 1, hidden size)  (1, 1, 1024)\n",
      "values_transposed:(batch_size, hidden size, max_len)  (1, 1024, 9)\n",
      "score: (batch_size, max_length, 1)  (1, 9, 1)\n",
      "attention_weights: (batch_size, max_length, 1)  (1, 9, 1)\n",
      "context_vector before reduce_sum: (batch_size, max_length, hidden_size)  (1, 9, 1024)\n",
      "context_vector after reduce_sum: (batch_size, hidden_size)  (1, 1024)\n",
      "\n",
      "******* Luong Attention ENDS******\n",
      "\n",
      "******* Luong Attention  STARTS******\n",
      "query (decoder hidden state): (batch_size, hidden size)  (1, 1024)\n",
      "values (encoder all hidden state): (batch_size, max_len, hidden size)  (1, 9, 1024)\n",
      "query_with_time_axis:(batch_size, 1, hidden size)  (1, 1, 1024)\n",
      "values_transposed:(batch_size, hidden size, max_len)  (1, 1024, 9)\n",
      "score: (batch_size, max_length, 1)  (1, 9, 1)\n",
      "attention_weights: (batch_size, max_length, 1)  (1, 9, 1)\n",
      "context_vector before reduce_sum: (batch_size, max_length, hidden_size)  (1, 9, 1024)\n",
      "context_vector after reduce_sum: (batch_size, hidden_size)  (1, 1024)\n",
      "\n",
      "******* Luong Attention ENDS******\n",
      "\n",
      "******* Luong Attention  STARTS******\n",
      "query (decoder hidden state): (batch_size, hidden size)  (1, 1024)\n",
      "values (encoder all hidden state): (batch_size, max_len, hidden size)  (1, 9, 1024)\n",
      "query_with_time_axis:(batch_size, 1, hidden size)  (1, 1, 1024)\n",
      "values_transposed:(batch_size, hidden size, max_len)  (1, 1024, 9)\n",
      "score: (batch_size, max_length, 1)  (1, 9, 1)\n",
      "attention_weights: (batch_size, max_length, 1)  (1, 9, 1)\n",
      "context_vector before reduce_sum: (batch_size, max_length, hidden_size)  (1, 9, 1024)\n",
      "context_vector after reduce_sum: (batch_size, hidden_size)  (1, 1024)\n",
      "\n",
      "******* Luong Attention ENDS******\n",
      "\n",
      "******* Luong Attention  STARTS******\n",
      "query (decoder hidden state): (batch_size, hidden size)  (1, 1024)\n",
      "values (encoder all hidden state): (batch_size, max_len, hidden size)  (1, 9, 1024)\n",
      "query_with_time_axis:(batch_size, 1, hidden size)  (1, 1, 1024)\n",
      "values_transposed:(batch_size, hidden size, max_len)  (1, 1024, 9)\n",
      "score: (batch_size, max_length, 1)  (1, 9, 1)\n",
      "attention_weights: (batch_size, max_length, 1)  (1, 9, 1)\n",
      "context_vector before reduce_sum: (batch_size, max_length, hidden_size)  (1, 9, 1024)\n",
      "context_vector after reduce_sum: (batch_size, hidden_size)  (1, 1024)\n",
      "\n",
      "******* Luong Attention ENDS******\n",
      "Input: start_ pain head _end\n",
      "Predicted translation: my head is paining _end \n"
     ]
    },
    {
     "name": "stderr",
     "output_type": "stream",
     "text": [
      "<ipython-input-31-71f02795d875>:9: UserWarning: FixedFormatter should only be used together with FixedLocator\n",
      "  ax.set_xticklabels([''] + sentence, fontdict=fontdict, rotation=90)\n",
      "<ipython-input-31-71f02795d875>:10: UserWarning: FixedFormatter should only be used together with FixedLocator\n",
      "  ax.set_yticklabels([''] + predicted_sentence, fontdict=fontdict)\n"
     ]
    },
    {
     "data": {
      "image/png": "[encoded data removed]",
      "text/plain": [
       "<Figure size 720x720 with 1 Axes>"
      ]
     },
     "metadata": {
      "needs_background": "light"
     },
     "output_type": "display_data"
    }
   ],
   "source": [
    "translate(u'pain head')"
   ]
  },
  {
   "cell_type": "code",
   "execution_count": null,
   "metadata": {},
   "outputs": [],
   "source": []
  }
 ],
 "metadata": {
  "kernelspec": {
   "display_name": "Python 3",
   "language": "python",
   "name": "python3"
  },
  "language_info": {
   "codemirror_mode": {
    "name": "ipython",
    "version": 3
   },
   "file_extension": ".py",
   "mimetype": "text/x-python",
   "name": "python",
   "nbconvert_exporter": "python",
   "pygments_lexer": "ipython3",
   "version": "3.8.5"
  }
 },
 "nbformat": 4,
 "nbformat_minor": 4
}
