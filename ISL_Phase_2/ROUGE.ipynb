{
 "cells": [
  {
   "cell_type": "code",
   "execution_count": 2,
   "metadata": {},
   "outputs": [],
   "source": [
    "hyp_path = \"predict.txt\"\n",
    "ref_path = \"ref.txt\""
   ]
  },
  {
   "cell_type": "code",
   "execution_count": 7,
   "metadata": {},
   "outputs": [],
   "source": [
    "from rouge import FilesRouge\n",
    "\n",
    "files_rouge = FilesRouge()\n",
    "scores = files_rouge.get_scores(hyp_path, ref_path)\n",
    "# or\n",
    "scores = files_rouge.get_scores(hyp_path, ref_path, avg=True)"
   ]
  },
  {
   "cell_type": "code",
   "execution_count": 8,
   "metadata": {},
   "outputs": [
    {
     "name": "stdout",
     "output_type": "stream",
     "text": [
      "{'rouge-1': {'r': 0.4045238095238096, 'p': 0.39369047619047615, 'f': 0.39809523485651305}, 'rouge-2': {'r': 0.29166666666666663, 'p': 0.2875, 'f': 0.2892857115408164}, 'rouge-l': {'r': 0.4045238095238096, 'p': 0.39369047619047615, 'f': 0.39809523485651305}}\n"
     ]
    }
   ],
   "source": [
    "print(scores)"
   ]
  },
  {
   "cell_type": "markdown",
   "metadata": {},
   "source": [
    "ROUGE-n recall=40% means that 40% of the n-grams in the reference summary are also present in the generated summary.\n",
    "\n",
    "\n",
    "ROUGE-n precision=40% means that 40% of the n-grams in the generated summary are also present in the reference summary.\n",
    "\n",
    "\n",
    "ROUGE-n F1-score=40% is more difficult to interpret, like any F1-score."
   ]
  },
  {
   "cell_type": "markdown",
   "metadata": {},
   "source": [
    "The following five evaluation metrics are available.\n",
    "\n",
    "ROUGE-N: Overlap of N-grams between the system and reference summaries.\n",
    "\n",
    "ROUGE-1 refers to the overlap of unigram (each word) between the system and reference summaries.\n",
    "\n",
    "ROUGE-2 refers to the overlap of bigrams between the system and reference summaries.\n",
    "\n",
    "ROUGE-L: Longest Common Subsequence (LCS) based statistics. Longest common subsequence problem takes into account sentence level structure similarity naturally and identifies longest co-occurring in sequence n-grams automatically."
   ]
  },
  {
   "cell_type": "code",
   "execution_count": null,
   "metadata": {},
   "outputs": [],
   "source": []
  }
 ],
 "metadata": {
  "kernelspec": {
   "display_name": "Python 3",
   "language": "python",
   "name": "python3"
  },
  "language_info": {
   "codemirror_mode": {
    "name": "ipython",
    "version": 3
   },
   "file_extension": ".py",
   "mimetype": "text/x-python",
   "name": "python",
   "nbconvert_exporter": "python",
   "pygments_lexer": "ipython3",
   "version": "3.8.5"
  }
 },
 "nbformat": 4,
 "nbformat_minor": 4
}
